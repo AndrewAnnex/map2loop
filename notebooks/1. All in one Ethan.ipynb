{
 "cells": [
  {
   "cell_type": "markdown",
   "metadata": {
    "toc": true
   },
   "source": [
    "<h1>Table of Contents<span class=\"tocSkip\"></span></h1>\n",
    "<div class=\"toc\"><ul class=\"toc-item\"><li><ul class=\"toc-item\"><li><span><a href=\"#map2loop:-From-Topology-fom-Local-file-or-Loop-WFS-Server-to-outputs-to-3D-mdoelling-program-Hamersley\" data-toc-modified-id=\"map2loop:-From-Topology-fom-Local-file-or-Loop-WFS-Server-to-outputs-to-3D-mdoelling-program-Hamersley-0.1\"><span class=\"toc-item-num\">0.1&nbsp;&nbsp;</span>map2loop: From Topology fom Local file or Loop WFS Server to outputs to 3D mdoelling program Hamersley</a></span></li><li><span><a href=\"#Create-bounding-box-based-on-inputs\" data-toc-modified-id=\"Create-bounding-box-based-on-inputs-0.2\"><span class=\"toc-item-num\">0.2&nbsp;&nbsp;</span>Create bounding box based on inputs</a></span></li><li><span><a href=\"#First-we-test-to-see-if-we-have-access-to-the-online-data-we-need\" data-toc-modified-id=\"First-we-test-to-see-if-we-have-access-to-the-online-data-we-need-0.3\"><span class=\"toc-item-num\">0.3&nbsp;&nbsp;</span>First we test to see if we have access to the online data we need</a></span></li><li><span><a href=\"#Optional-WFS-source\" data-toc-modified-id=\"Optional-WFS-source-0.4\"><span class=\"toc-item-num\">0.4&nbsp;&nbsp;</span>Optional WFS source</a></span></li><li><span><a href=\"#Plot-geology-polygons-and-bounding-box\" data-toc-modified-id=\"Plot-geology-polygons-and-bounding-box-0.5\"><span class=\"toc-item-num\">0.5&nbsp;&nbsp;</span>Plot geology polygons and bounding box</a></span></li><li><span><a href=\"#Save-to-file-as-WKT\" data-toc-modified-id=\"Save-to-file-as-WKT-0.6\"><span class=\"toc-item-num\">0.6&nbsp;&nbsp;</span>Save to file as WKT</a></span></li><li><span><a href=\"#Read-and-save-WAROX-point-data-as-WKT\" data-toc-modified-id=\"Read-and-save-WAROX-point-data-as-WKT-0.7\"><span class=\"toc-item-num\">0.7&nbsp;&nbsp;</span>Read and save WAROX point data as WKT</a></span></li><li><span><a href=\"#Plot-faults-and-bounding-box\" data-toc-modified-id=\"Plot-faults-and-bounding-box-0.8\"><span class=\"toc-item-num\">0.8&nbsp;&nbsp;</span>Plot faults and bounding box</a></span></li><li><span><a href=\"#Save-faults-to-file-as-WKT\" data-toc-modified-id=\"Save-faults-to-file-as-WKT-0.9\"><span class=\"toc-item-num\">0.9&nbsp;&nbsp;</span>Save faults to file as WKT</a></span></li><li><span><a href=\"#Create-map2model-input-file\" data-toc-modified-id=\"Create-map2model-input-file-0.10\"><span class=\"toc-item-num\">0.10&nbsp;&nbsp;</span>Create map2model input file</a></span></li><li><span><a href=\"#Calculate-topology\" data-toc-modified-id=\"Calculate-topology-0.11\"><span class=\"toc-item-num\">0.11&nbsp;&nbsp;</span>Calculate topology</a></span></li><li><span><a href=\"#Simple-network-graph-of-the-geology-with-legend\" data-toc-modified-id=\"Simple-network-graph-of-the-geology-with-legend-0.12\"><span class=\"toc-item-num\">0.12&nbsp;&nbsp;</span>Simple network graph of the geology with legend</a></span></li><li><span><a href=\"#Detailed-Topology-via-dot-or-gml-format-files\" data-toc-modified-id=\"Detailed-Topology-via-dot-or-gml-format-files-0.13\"><span class=\"toc-item-num\">0.13&nbsp;&nbsp;</span>Detailed Topology via dot or gml format files</a></span></li><li><span><a href=\"#Process-topography,-stratigraphy,-fold-axial-traces-and-faults\" data-toc-modified-id=\"Process-topography,-stratigraphy,-fold-axial-traces-and-faults-0.14\"><span class=\"toc-item-num\">0.14&nbsp;&nbsp;</span>Process topography, stratigraphy, fold axial traces and faults</a></span><ul class=\"toc-item\"><li><span><a href=\"#Takes-GML-file-produced-by-topology-code,-combines-with-geology-polygons,-structure-points-and-dtm-to-create-3D-model-in-gempy.\" data-toc-modified-id=\"Takes-GML-file-produced-by-topology-code,-combines-with-geology-polygons,-structure-points-and-dtm-to-create-3D-model-in-gempy.-0.14.1\"><span class=\"toc-item-num\">0.14.1&nbsp;&nbsp;</span>Takes GML file produced by topology code, combines with geology polygons, structure points and dtm to create 3D model in gempy.<br><br></a></span></li></ul></li><li><span><a href=\"#Next-we-define-an-area-of-interest-and-some-other-basic-stuff\" data-toc-modified-id=\"Next-we-define-an-area-of-interest-and-some-other-basic-stuff-0.15\"><span class=\"toc-item-num\">0.15&nbsp;&nbsp;</span>Next we define an area of interest and some other basic stuff</a></span></li><li><span><a href=\"#Download-and-reproject-the-appropriate-SRTM-data\" data-toc-modified-id=\"Download-and-reproject-the-appropriate-SRTM-data-0.16\"><span class=\"toc-item-num\">0.16&nbsp;&nbsp;</span>Download and reproject the appropriate SRTM data</a></span></li><li><span><a href=\"#Load-stratigraphy-graph-and-create-list-of-series-(aka-groups)\" data-toc-modified-id=\"Load-stratigraphy-graph-and-create-list-of-series-(aka-groups)-0.17\"><span class=\"toc-item-num\">0.17&nbsp;&nbsp;</span>Load stratigraphy graph and create list of series (aka groups)</a></span></li><li><span><a href=\"#Load-geology-&amp;-structure-data\" data-toc-modified-id=\"Load-geology-&amp;-structure-data-0.18\"><span class=\"toc-item-num\">0.18&nbsp;&nbsp;</span>Load geology &amp; structure data</a></span></li><li><span><a href=\"#Clip-geology,-faults,-structures-and-map-geology-to-structures\" data-toc-modified-id=\"Clip-geology,-faults,-structures-and-map-geology-to-structures-0.19\"><span class=\"toc-item-num\">0.19&nbsp;&nbsp;</span>Clip geology, faults, structures and map geology to structures</a></span></li><li><span><a href=\"#Create-possible-stratigraphy-sets-per-group\" data-toc-modified-id=\"Create-possible-stratigraphy-sets-per-group-0.20\"><span class=\"toc-item-num\">0.20&nbsp;&nbsp;</span>Create possible stratigraphy sets per group</a></span></li><li><span><a href=\"#Export-orientation-data-in-csv--format\" data-toc-modified-id=\"Export-orientation-data-in-csv--format-0.21\"><span class=\"toc-item-num\">0.21&nbsp;&nbsp;</span>Export orientation data in csv  format</a></span></li><li><span><a href=\"#Find-those-series-that-don't-have-any-orientation-or-contact-point-data--then-create-arbitrary-point-for-series-with-no-orientation-data\" data-toc-modified-id=\"Find-those-series-that-don't-have-any-orientation-or-contact-point-data--then-create-arbitrary-point-for-series-with-no-orientation-data-0.22\"><span class=\"toc-item-num\">0.22&nbsp;&nbsp;</span>Find those series that don't have any orientation or contact point data  then create arbitrary point for series with no orientation data</a></span></li><li><span><a href=\"#Export-contact-information-subset-of-each-polygon-to-gempy-format\" data-toc-modified-id=\"Export-contact-information-subset-of-each-polygon-to-gempy-format-0.23\"><span class=\"toc-item-num\">0.23&nbsp;&nbsp;</span>Export contact information subset of each polygon to gempy format</a></span></li><li><span><a href=\"#Remove-all-basal-contacts-that-are-defined-by-faults-and-save-to-shapefile-(no-decimation)\" data-toc-modified-id=\"Remove-all-basal-contacts-that-are-defined-by-faults-and-save-to-shapefile-(no-decimation)-0.24\"><span class=\"toc-item-num\">0.24&nbsp;&nbsp;</span>Remove all basal contacts that are defined by faults and save to shapefile (no decimation)</a></span></li><li><span><a href=\"#Remove-faults-from-decimated-basal-contacts-as-save-as-csv-file\" data-toc-modified-id=\"Remove-faults-from-decimated-basal-contacts-as-save-as-csv-file-0.25\"><span class=\"toc-item-num\">0.25&nbsp;&nbsp;</span>Remove faults from decimated basal contacts as save as csv file</a></span></li><li><span><a href=\"#Save-fault-as-contact-info-and-and-orientation-info-make-vertical-(for-the-moment)\" data-toc-modified-id=\"Save-fault-as-contact-info-and-and-orientation-info-make-vertical-(for-the-moment)-0.26\"><span class=\"toc-item-num\">0.26&nbsp;&nbsp;</span>Save fault as contact info and and orientation info make vertical (for the moment)</a></span></li><li><span><a href=\"#Create-basal-contact-points-with-orientation-from-orientations-and-basal-points\" data-toc-modified-id=\"Create-basal-contact-points-with-orientation-from-orientations-and-basal-points-0.27\"><span class=\"toc-item-num\">0.27&nbsp;&nbsp;</span>Create basal contact points with orientation from orientations and basal points</a></span></li><li><span><a href=\"#Creates-fold-axial-trace-points\" data-toc-modified-id=\"Creates-fold-axial-trace-points-0.28\"><span class=\"toc-item-num\">0.28&nbsp;&nbsp;</span>Creates fold axial trace points</a></span></li><li><span><a href=\"#Process-plutons\" data-toc-modified-id=\"Process-plutons-0.29\"><span class=\"toc-item-num\">0.29&nbsp;&nbsp;</span>Process plutons</a></span></li><li><span><a href=\"#Interpolates-a-regular-grid-of-orientations-from-an--shapefile-of-arbitrarily-located-points-and-saves-out-four-csv-files-of-l,m-&amp;-n-direction-cosines-and-dip-dip-direction-data\" data-toc-modified-id=\"Interpolates-a-regular-grid-of-orientations-from-an--shapefile-of-arbitrarily-located-points-and-saves-out-four-csv-files-of-l,m-&amp;-n-direction-cosines-and-dip-dip-direction-data-0.30\"><span class=\"toc-item-num\">0.30&nbsp;&nbsp;</span>Interpolates a regular grid of orientations from an  shapefile of arbitrarily-located points and saves out four csv files of l,m &amp; n direction cosines and dip dip direction data</a></span></li><li><span><a href=\"#Interpolates-a-regular-grid-from-a-shapefile-of-from-contacts-and-saves-out-three-csv-files-of-l-&amp;-m-direction-cosines-and-strike-data\" data-toc-modified-id=\"Interpolates-a-regular-grid-from-a-shapefile-of-from-contacts-and-saves-out-three-csv-files-of-l-&amp;-m-direction-cosines-and-strike-data-0.31\"><span class=\"toc-item-num\">0.31&nbsp;&nbsp;</span>Interpolates a regular grid from a shapefile of from contacts and saves out three csv files of l &amp; m direction cosines and strike data</a></span></li><li><span><a href=\"#Combines-rbf-of-contact-orientations-with-rbf-of-dip/dipdir-measurements\" data-toc-modified-id=\"Combines-rbf-of-contact-orientations-with-rbf-of-dip/dipdir-measurements-0.32\"><span class=\"toc-item-num\">0.32&nbsp;&nbsp;</span>Combines rbf of contact orientations with rbf of dip/dipdir measurements</a></span></li></ul></li><li><span><a href=\"#gempy-test\" data-toc-modified-id=\"gempy-test-1\"><span class=\"toc-item-num\">1&nbsp;&nbsp;</span>gempy test</a></span><ul class=\"toc-item\"><li><span><a href=\"#Convert-stratigraphy-GML-to-time-sorted-groups-and-units\" data-toc-modified-id=\"Convert-stratigraphy-GML-to-time-sorted-groups-and-units-1.1\"><span class=\"toc-item-num\">1.1&nbsp;&nbsp;</span>Convert stratigraphy GML to time-sorted groups and units</a></span></li><li><span><a href=\"#Preprocess-data-to-ensure-it-meets-gempy's-requirements\" data-toc-modified-id=\"Preprocess-data-to-ensure-it-meets-gempy's-requirements-1.2\"><span class=\"toc-item-num\">1.2&nbsp;&nbsp;</span>Preprocess data to ensure it meets gempy's requirements</a></span></li><li><span><a href=\"#Now-we-define-the-basic-model-and-load-the-orientation-and-lithological-information\" data-toc-modified-id=\"Now-we-define-the-basic-model-and-load-the-orientation-and-lithological-information-1.3\"><span class=\"toc-item-num\">1.3&nbsp;&nbsp;</span>Now we define the basic model and load the orientation and lithological information</a></span></li><li><span><a href=\"#Show-example-lithological-points\" data-toc-modified-id=\"Show-example-lithological-points-1.4\"><span class=\"toc-item-num\">1.4&nbsp;&nbsp;</span>Show example lithological points</a></span></li><li><span><a href=\"#Show-example-orientations\" data-toc-modified-id=\"Show-example-orientations-1.5\"><span class=\"toc-item-num\">1.5&nbsp;&nbsp;</span>Show example orientations</a></span></li><li><span><a href=\"#Plot-some-of-this-data\" data-toc-modified-id=\"Plot-some-of-this-data-1.6\"><span class=\"toc-item-num\">1.6&nbsp;&nbsp;</span>Plot some of this data</a></span></li><li><span><a href=\"#Load-reprojected-topgraphy-to-model\" data-toc-modified-id=\"Load-reprojected-topgraphy-to-model-1.7\"><span class=\"toc-item-num\">1.7&nbsp;&nbsp;</span>Load reprojected topgraphy to model</a></span></li><li><span><a href=\"#Load-surfaces-and-assign-to-series\" data-toc-modified-id=\"Load-surfaces-and-assign-to-series-1.8\"><span class=\"toc-item-num\">1.8&nbsp;&nbsp;</span>Load surfaces and assign to series</a></span></li><li><span><a href=\"#Set-Interpolation-Data\" data-toc-modified-id=\"Set-Interpolation-Data-1.9\"><span class=\"toc-item-num\">1.9&nbsp;&nbsp;</span>Set Interpolation Data</a></span></li><li><span><a href=\"#Provide-summary-data-on-model\" data-toc-modified-id=\"Provide-summary-data-on-model-1.10\"><span class=\"toc-item-num\">1.10&nbsp;&nbsp;</span>Provide summary data on model</a></span></li><li><span><a href=\"#Calculate-Model\" data-toc-modified-id=\"Calculate-Model-1.11\"><span class=\"toc-item-num\">1.11&nbsp;&nbsp;</span>Calculate Model</a></span></li><li><span><a href=\"#Extract-surfaces-to-visualize-in-3D-renderers\" data-toc-modified-id=\"Extract-surfaces-to-visualize-in-3D-renderers-1.12\"><span class=\"toc-item-num\">1.12&nbsp;&nbsp;</span>Extract surfaces to visualize in 3D renderers</a></span></li><li><span><a href=\"#Visualise-model\" data-toc-modified-id=\"Visualise-model-1.13\"><span class=\"toc-item-num\">1.13&nbsp;&nbsp;</span>Visualise model</a></span></li></ul></li></ul></div>"
   ]
  },
  {
   "cell_type": "markdown",
   "metadata": {},
   "source": [
    "## map2loop: From Topology fom Local file or Loop WFS Server to outputs to 3D mdoelling program Hamersley\n",
    "\n",
    "This notebook reads in three layers from  local or remote sources:  geology polygons, orientation data and fault polylines; and calculates the topological relationships between the different features. Requires compiled cpp code from Vitaliy Ogarko\n",
    "\n",
    "This all gets fed into successive tolopogical and geometric transfroms that end up feeding into gempy to make a 3D model "
   ]
  },
  {
   "cell_type": "code",
   "execution_count": 1,
   "metadata": {
    "ExecuteTime": {
     "end_time": "2019-10-22T04:34:20.204133Z",
     "start_time": "2019-10-22T04:34:17.653102Z"
    },
    "pycharm": {
     "is_executing": false
    },
    "scrolled": false
   },
   "outputs": [
    {
     "name": "stdout",
     "output_type": "stream",
     "text": [
      "Current Working Directory \n",
      "*** C:\\Program Files\\PostgreSQL\\11\\gdal-data\n",
      "is dir: True\n",
      "is file: True\n",
      "is readable: True\n",
      "C:\\\\Users\\\\00073294\\\\AppData\\\\Local\\\\Continuum\\\\anaconda3\\\\Lib\\\\site-packages\\\\pyproj\\\\proj_dir\\\\share\\\\proj\n",
      "C:\\Users\\00073294\\Dropbox\\1_Jupyter_notebooks\\map2loop\\notebooks\n"
     ]
    }
   ],
   "source": [
    "import geopandas as gpd\n",
    "import pandas as pd\n",
    "import numpy as np\n",
    "import os\n",
    "import sys\n",
    "import stat\n",
    "import functools \n",
    "import operator  \n",
    "import matplotlib\n",
    "import networkx as nx\n",
    "import rasterio\n",
    "from shapely.geometry import Polygon\n",
    "from map2loop import m2l_utils\n",
    "from map2loop import m2l_topology\n",
    "from map2loop import m2l_geometry\n",
    "from map2loop import m2l_interpolation\n",
    "%matplotlib inline\n",
    "\n",
    "#newwd=\"C:\\\\Users\\\\00073294\\Dropbox\\\\loop_minex\\\\map2model\\\\\"\n",
    "#os.chdir(newwd)\n",
    "print(\"Current Working Directory \" )\n",
    "\n",
    "gdal_data = os.environ['GDAL_DATA']\n",
    "print(\"***\",gdal_data)\n",
    "print('is dir: ' + str(os.path.isdir(gdal_data)))\n",
    "gcs_csv = os.path.join(gdal_data, 'gcs.csv')\n",
    "print('is file: ' + str(os.path.isfile(gcs_csv)))\n",
    "st = os.stat(gcs_csv)\n",
    "print('is readable: ' + str(bool(st.st_mode & stat.S_IRGRP)))\n",
    "os.environ['PROJ_LIB']=r\"C:\\\\Users\\\\00073294\\\\AppData\\\\Local\\\\Continuum\\\\anaconda3\\\\Lib\\\\site-packages\\\\pyproj\\\\proj_dir\\\\share\\\\proj\"\n",
    "print(os.getenv('PROJ_LIB'))\n",
    "print(os.getcwd())"
   ]
  },
  {
   "cell_type": "markdown",
   "metadata": {},
   "source": [
    "## Create bounding box based on inputs"
   ]
  },
  {
   "cell_type": "code",
   "execution_count": 2,
   "metadata": {
    "ExecuteTime": {
     "end_time": "2019-10-22T04:34:20.220090Z",
     "start_time": "2019-10-22T04:34:20.205130Z"
    }
   },
   "outputs": [
    {
     "name": "stdout",
     "output_type": "stream",
     "text": [
      "../ethan_3D/\n",
      "Default parameters loaded from ../ethan_3D/m2l_config.py:\n",
      "#ROI\n",
      "\n",
      "step_out=0.1   #padding arounf dtm to ensure reprojected dtm covers target area (in degrees)\n",
      "inset=0      #unused??\n",
      "\n",
      "minx=968404  #region of interest coordinates in metre-based system (or non-degree system)\n",
      "maxx=1066036\n",
      "miny=7517796\n",
      "maxy=7619000\n",
      "model_top=1200\n",
      "model_base=-8200\n",
      "\n",
      "#PATHS\n",
      "\n",
      "test_data_path='../ethan_3D/'\n",
      "geology_file='geol_gda.shp'   #input geology file (if local)\n",
      "fault_file='ethan_faults_gda.shp' #input fault file (if local)\n",
      "structure_file='warox_ethan_gda.shp' #input bedding orientation file (if local)\n",
      "m2m_cpp_path='../m2m_cpp/'\n",
      "\n",
      "\n",
      "#CRS\n",
      "\n",
      "src_crs = {'init': 'EPSG:4326'}  # coordinate reference system for imported dtms (geodetic lat/long WGS84)\n",
      "dst_crs = {'init': 'EPSG:28350'} # coordinate system for data\n",
      "\n",
      "#codes and labels these refer to specific fields (codes) in GIS layer or database that contain the info needed for these calcs and text substrings (labels) in the contents of these fields\n",
      "c_l= {\n",
      "#Orientations\n",
      "  \"d\": \"DIP\",                  #field that contains dip information\n",
      "  \"dd\": \"DIP_DIR\",             #field that contains dip direction information\n",
      "  \"sf\": 'FEATURE',             #field that contains information on type of structure\n",
      "  \"bedding\": 'Bed',            #text to search for in field defined by sfcode to show that this is a bedding measurement\n",
      "#Stratigraphy\n",
      "  \"g\": 'GROUP_',               #field that contains coarser stratigraphic coding\n",
      "  \"c\": 'CODE',                 #field that contains finer stratigraphic coding\n",
      "  \"ds\": 'DESCRIPTN',           #field that contains information about lithology\n",
      "  \"u\": 'UNITNAME',             #field that contains alternate stratigraphic coding (not used??)\n",
      "  \"r1\": 'ROCKTYPE1',           #field that contains  extra lithology information\n",
      "  \"r2\": 'ROCKTYPE2',           #field that contains even more lithology information\n",
      "  \"sill\": 'sill',              #text to search for in field defined by dscode to show that this is a sill\n",
      "  \"intrusive\": 'granitic',    #text to search for in field defined by dscode to show that this is an intrusion\n",
      "  \"volcanic\": 'volcanic',      #text to search for in field defined by dscode to show that this is an intrusion\n",
      "#Timing\n",
      "  \"min\": 'MIN_AGE_MA',         #field that contains minimum age of unit defined by ccode\n",
      "  \"max\": 'MAX_AGE_MA',         #field that contains maximum age of unit defined by ccode\n",
      "#faults and folds\n",
      "  \"f\": 'FEATURE',              #field that contains information on type of structure\n",
      "  \"fault\": 'Fault',            #text to search for in field defined by fcode to show that this is a fault\n",
      "  \"fold\": 'Fold axial trace',  #text to search for in field defined by fcode to show that this is a fold axial trace\n",
      "  \"n\": 'NAME',                 #field that contains information on name of fault (not used??)\n",
      "  \"t\": 'TYPE',                 #field that contains information on type of fold\n",
      "#ids\n",
      "  \"o\": 'OBJECTID',             #field that contains unique id of geometry object\n",
      "  \"gi\": 'GEOPNT_ID'            #field that contains unique id of structure point\n",
      "}\n",
      "\n",
      "#DECIMATION\n",
      "\n",
      "orientation_decimate=0  #store every nth orientation (in object order) 0 = save all\n",
      "contact_decimate=10     #store every nth contact point (in object order) 0 = save all\n",
      "fault_decimate=5        #store every nth fault point (in object order) 0 = save all\n",
      "fold_decimate=5         #store every nth fold axial trace point (in object order) 0 = save all\n",
      "\n",
      "\n",
      "#INTERPOLATION\n",
      "\n",
      "gridx=50                #x grid dimensions (no of points, not distance) for interpolations\n",
      "gridy=50                #x grid dimensions (no of points, not distance) for interpolations\n",
      "scheme='scipy_rbf'      #interpolation scheme\n",
      "dist_buffer=5           #buffer distance for clipping points by faults (in metres or same units as dst_crs)\n",
      "intrusion_mode=0        # 1 all intrusions exluded from basal contacts, 0 only sills\n",
      "use_interpolations=False    # flag to sue interpolated orientations or not.\n",
      "\n",
      "#ASSUMPTIONS\n",
      "\n",
      "pluton_dip=45           #surface dip of pluton contacts\n",
      "pluton_form='domes'     #saucers: \\__+_+__/  batholith: +/       \\+   domes: /  +  + \\  pendant: +\\_____/+\n",
      "fault_dip=90            #surface dip of faults\n",
      "\n",
      "#DERIVED PATHS\n",
      "\n",
      "local_paths=False       #flag to use local or WFS source for data inputs (True = local)\n",
      "\n",
      "graph_path=test_data_path+'graph/'\n",
      "tmp_path=test_data_path+'tmp/'\n",
      "data_path=test_data_path+'data/'\n",
      "dtm_path=test_data_path+'dtm/'\n",
      "output_path=test_data_path+'output/'\n",
      "vtk_path=test_data_path+'vtk/'\n",
      "\n",
      "fault_file=data_path+fault_file\n",
      "structure_file=data_path+structure_file\n",
      "geology_file=data_path+geology_file\n",
      "\n",
      "fault_file_csv=fault_file.replace(\".shp\",\".csv\").replace(\"/data/\",\"/tmp/\")\n",
      "structure_file_csv=structure_file.replace(\".shp\",\".csv\").replace(\"/data/\",\"/tmp/\")\n",
      "geology_file_csv=geology_file.replace(\".shp\",\".csv\").replace(\"/data/\",\"/tmp/\")\n",
      "\n",
      "strat_graph_file=test_data_path+'graph/graph_strat.gml'\n",
      "\n",
      "dtm_file=dtm_path+'dtm.tif'\n",
      "dtm_reproj_file=dtm_path+'dtm_rp.tif'\n",
      "\n",
      "if(not os.path.isdir(test_data_path)):\n",
      "   os.mkdir(test_data_path)\n",
      "if(not os.path.isdir(tmp_path)):\n",
      "   os.mkdir(tmp_path)\n",
      "if(not os.path.isdir(output_path)):\n",
      "   os.mkdir(output_path)\n",
      "if(not os.path.isdir(dtm_path)):\n",
      "   os.mkdir(dtm_path)\n",
      "if(not os.path.isdir(vtk_path)):\n",
      "   os.mkdir(vtk_path)\n",
      "if(not os.path.isdir(graph_path)):\n",
      "   os.mkdir(graph_path)\n",
      "\n",
      "print('Default parameters loaded from '+test_data_path+'m2l_config.py:')\n",
      "with open(test_data_path+'m2l_config.py', 'r') as myfile:\n",
      "  data = myfile.read()\n",
      "  print(data)\n",
      "  myfile.close()\n",
      "\n",
      "print('\\nModify these parameters in the cell below')\n",
      "\n",
      "Modify these parameters in the cell below\n",
      "C:\\Users\\00073294\\Dropbox\\1_Jupyter_notebooks\\map2loop\\ethan_3D\n"
     ]
    }
   ],
   "source": [
    "test_data_name='ethan_3D'\n",
    "\n",
    "test_data_path='../'+test_data_name+'/'\n",
    "print(test_data_path)\n",
    "os.chdir(test_data_path)\n",
    "%run -i \"m2l_config.py\"\n",
    "#%run -i \"../test_data3/m2l_config.py\"\n",
    "print(os.getcwd())\n",
    "\n",
    "bbox2=str(minx)+\",\"+str(miny)+\",\"+str(maxx)+\",\"+str(maxy)\n",
    "lat_point_list = [miny, miny, maxy, maxy, maxy]\n",
    "lon_point_list = [minx, maxx, maxx, minx, minx]\n",
    "bbox_geom = Polygon(zip(lon_point_list, lat_point_list))\n",
    "polygon = gpd.GeoDataFrame(index=[0], crs=dst_crs, geometry=[bbox_geom]) \n",
    "bbox=(minx,miny,maxx,maxy)"
   ]
  },
  {
   "cell_type": "code",
   "execution_count": 3,
   "metadata": {
    "ExecuteTime": {
     "end_time": "2019-10-22T04:34:20.226074Z",
     "start_time": "2019-10-22T04:34:20.222085Z"
    }
   },
   "outputs": [],
   "source": [
    "\n",
    "\n",
    "\n",
    "\n",
    "\n",
    "use_interpolations=True       #use interpolated dips/contacts as additional constraints\n",
    "\n",
    "local_paths=True              #use local copies of data\n",
    "\n",
    "scheme='scipy_rbf'\n",
    "\n",
    "pluton_form='domes'\n",
    "\n",
    "\n"
   ]
  },
  {
   "cell_type": "markdown",
   "metadata": {},
   "source": [
    "## First we test to see if we have access to the online data we need\n"
   ]
  },
  {
   "cell_type": "code",
   "execution_count": 4,
   "metadata": {
    "ExecuteTime": {
     "end_time": "2019-10-22T04:34:21.241391Z",
     "start_time": "2019-10-22T04:34:20.227071Z"
    }
   },
   "outputs": [
    {
     "name": "stdout",
     "output_type": "stream",
     "text": [
      "available: geo.loop-gis.org\n",
      "available: oos.soest.hawaii.edu\n"
     ]
    }
   ],
   "source": [
    "loopwfs=m2l_utils.have_access(\"geo.loop-gis.org\")\n",
    "hawaii=m2l_utils.have_access(\"oos.soest.hawaii.edu\")\n",
    "\n",
    "if(not (loopwfs & hawaii)):\n",
    "    local_paths=True\n",
    "    net=False\n",
    "    print('using local paths')\n",
    "else:\n",
    "    net=True"
   ]
  },
  {
   "cell_type": "markdown",
   "metadata": {},
   "source": [
    "## Optional WFS source\n",
    "  \n",
    "WFS brings in field names as lower case, so need to redefine codes too"
   ]
  },
  {
   "cell_type": "code",
   "execution_count": 5,
   "metadata": {
    "ExecuteTime": {
     "end_time": "2019-10-22T04:34:21.250910Z",
     "start_time": "2019-10-22T04:34:21.242896Z"
    }
   },
   "outputs": [],
   "source": [
    "if((not local_paths) and net):\n",
    "    structure_file='http://geo.loop-gis.org/geoserver/loop/wfs?service=WFS&version=1.1.0&request=GetFeature&typeName=warox_points_f5011&bbox='+bbox2+'&srs=EPSG:28350'\n",
    "    fault_file='http://geo.loop-gis.org/geoserver/loop/wfs?service=WFS&version=1.1.0&request=GetFeature&typeName=linear_500k&bbox='+bbox2+'&srs=EPSG:28350'\n",
    "    geology_file='http://geo.loop-gis.org/geoserver/loop/wfs?service=WFS&version=1.0.0&request=GetFeature&typeName=loop:geol_500k&bbox='+bbox2+'&srs=EPSG:28350'\n",
    "\n",
    "    c_l= {\n",
    "    #Orientations\n",
    "      \"d\": \"dip\",                  #field that contains dip information\n",
    "      \"dd\": \"dip_dir\",             #field that contains dip direction information\n",
    "      \"sf\": 'feature',             #field that contains information on type of structure\n",
    "      \"bedding\": 'Bed',            #text to search for in field defined by sfcode to show that this is a bedding measurement\n",
    "    #Stratigraphy\n",
    "      \"g\": 'group_',               #field that contains coarser stratigraphic coding\n",
    "      \"c\": 'code',                 #field that contains finer stratigraphic coding\n",
    "      \"ds\": 'descriptn',           #field that contains information about lithology\n",
    "      \"u\": 'unitname',             #field that contains alternate stratigraphic coding (not used??)\n",
    "      \"r1\": 'rocktype1',           #field that contains  extra lithology information\n",
    "      \"r2\": 'rocktype2',           #field that contains even more lithology information\n",
    "      \"sill\": 'sill',              #text to search for in field defined by dscode to show that this is a sill\n",
    "      \"intrusive\": 'intrusive',    #text to search for in field defined by dscode to show that this is an intrusion\n",
    "      \"volcanic\": 'volcanic',      #text to search for in field defined by dscode to show that this is an intrusion\n",
    "    #Timing\n",
    "      \"min\": 'min_age_ma',         #field that contains minimum age of unit defined by ccode\n",
    "      \"max\": 'max_age_ma',         #field that contains maximum age of unit defined by ccode\n",
    "    #faults and folds\n",
    "      \"f\": 'feature',              #field that contains information on type of structure\n",
    "      \"fault\": 'Fault',            #text to search for in field defined by fcode to show that this is a fault\n",
    "      \"fold\": 'Fold axial trace',  #text to search for in field defined by fcode to show that this is a fold axial trace\n",
    "      \"n\": 'name',                 #field that contains information on name of fault (not used??)\n",
    "      \"t\": 'type',                 #field that contains information on type of fold\n",
    "    #ids\n",
    "      \"o\": 'objectid',             #field that contains unique id of geometry object\n",
    "      \"gi\": 'geopnt_id'            #field that contains unique id of structure point\n",
    "    }"
   ]
  },
  {
   "cell_type": "markdown",
   "metadata": {},
   "source": [
    "## Plot geology polygons and bounding box"
   ]
  },
  {
   "cell_type": "code",
   "execution_count": 6,
   "metadata": {
    "ExecuteTime": {
     "end_time": "2019-10-22T04:34:21.972973Z",
     "start_time": "2019-10-22T04:34:21.252871Z"
    }
   },
   "outputs": [
    {
     "name": "stdout",
     "output_type": "stream",
     "text": [
      "../ethan_3D/data/geol_gda.shp\n"
     ]
    },
    {
     "data": {
      "text/plain": [
       "<matplotlib.axes._subplots.AxesSubplot at 0x27f6be556a0>"
      ]
     },
     "execution_count": 6,
     "metadata": {},
     "output_type": "execute_result"
    },
    {
     "data": {
      "image/png": "[encoded data removed]",
      "text/plain": [
       "<Figure size 720x720 with 1 Axes>"
      ]
     },
     "metadata": {
      "needs_background": "light"
     },
     "output_type": "display_data"
    }
   ],
   "source": [
    "print(geology_file)\n",
    "geology_ll = gpd.read_file(geology_file,bbox=bbox)\n",
    "\n",
    "base=geology_ll.plot(column=c_l['c'],figsize=(10,10),edgecolor='#000000',linewidth=0.2)\n",
    "polygon.plot(ax=base, color='none',edgecolor='black')\n"
   ]
  },
  {
   "cell_type": "markdown",
   "metadata": {},
   "source": [
    "## Save to file as WKT"
   ]
  },
  {
   "cell_type": "code",
   "execution_count": 7,
   "metadata": {
    "ExecuteTime": {
     "end_time": "2019-10-22T04:34:22.365923Z",
     "start_time": "2019-10-22T04:34:21.974940Z"
    }
   },
   "outputs": [
    {
     "name": "stdout",
     "output_type": "stream",
     "text": [
      "82  polygons\n"
     ]
    }
   ],
   "source": [
    "sub_geol = geology_ll[['geometry', c_l['o'],c_l['c'],c_l['g'],c_l['u'],c_l['min'],c_l['max'],c_l['ds'],c_l['r1'],c_l['r2']]]\n",
    "m2l_topology.save_geol_wkt(sub_geol,geology_file_csv, c_l)"
   ]
  },
  {
   "cell_type": "markdown",
   "metadata": {},
   "source": [
    "## Read and save WAROX point data as WKT"
   ]
  },
  {
   "cell_type": "code",
   "execution_count": 8,
   "metadata": {
    "ExecuteTime": {
     "end_time": "2019-10-22T04:34:23.983476Z",
     "start_time": "2019-10-22T04:34:22.368890Z"
    }
   },
   "outputs": [
    {
     "name": "stdout",
     "output_type": "stream",
     "text": [
      "755  points\n"
     ]
    },
    {
     "data": {
      "text/plain": [
       "<matplotlib.axes._subplots.AxesSubplot at 0x27f6bd33438>"
      ]
     },
     "execution_count": 8,
     "metadata": {},
     "output_type": "execute_result"
    },
    {
     "data": {
      "image/png": "[encoded data removed]",
      "text/plain": [
       "<Figure size 432x288 with 1 Axes>"
      ]
     },
     "metadata": {
      "needs_background": "light"
     },
     "output_type": "display_data"
    }
   ],
   "source": [
    "warox = gpd.read_file(structure_file,bbox=bbox)\n",
    "\n",
    "sub_pts = warox[['geometry', c_l['gi'],c_l['d'],c_l['dd']]]\n",
    "\n",
    "m2l_topology.save_structure_wkt(sub_pts,structure_file_csv,c_l)\n",
    "\n",
    "base=sub_pts.plot()\n",
    "polygon.plot(ax=base, color='none',edgecolor='black')\n"
   ]
  },
  {
   "cell_type": "markdown",
   "metadata": {},
   "source": [
    "## Plot faults and bounding box"
   ]
  },
  {
   "cell_type": "code",
   "execution_count": 9,
   "metadata": {
    "ExecuteTime": {
     "end_time": "2019-10-22T04:34:24.433295Z",
     "start_time": "2019-10-22T04:34:23.987465Z"
    }
   },
   "outputs": [
    {
     "data": {
      "text/plain": [
       "<matplotlib.axes._subplots.AxesSubplot at 0x27f6beee438>"
      ]
     },
     "execution_count": 9,
     "metadata": {},
     "output_type": "execute_result"
    },
    {
     "data": {
      "image/png": "[encoded data removed]",
      "text/plain": [
       "<Figure size 720x720 with 1 Axes>"
      ]
     },
     "metadata": {
      "needs_background": "light"
     },
     "output_type": "display_data"
    }
   ],
   "source": [
    "lines_ll=gpd.read_file(fault_file,bbox=bbox)\n",
    "\n",
    "base2=lines_ll.plot(cmap='rainbow',column=c_l['f'],figsize=(10,10),linewidth=0.4)\n",
    "polygon.plot(ax=base2, color='none',edgecolor='black')\n"
   ]
  },
  {
   "cell_type": "markdown",
   "metadata": {},
   "source": [
    "## Save faults to file as WKT"
   ]
  },
  {
   "cell_type": "code",
   "execution_count": 10,
   "metadata": {
    "ExecuteTime": {
     "end_time": "2019-10-22T04:34:24.548985Z",
     "start_time": "2019-10-22T04:34:24.435288Z"
    }
   },
   "outputs": [
    {
     "name": "stdout",
     "output_type": "stream",
     "text": [
      "125  polylines\n"
     ]
    }
   ],
   "source": [
    "sub_lines = lines_ll[['geometry', c_l['o'],c_l['f']]]\n",
    "m2l_topology.save_faults_wkt(sub_lines,fault_file_csv,c_l)"
   ]
  },
  {
   "cell_type": "markdown",
   "metadata": {},
   "source": [
    "## Create map2model input file"
   ]
  },
  {
   "cell_type": "code",
   "execution_count": 11,
   "metadata": {
    "ExecuteTime": {
     "end_time": "2019-10-22T04:34:24.557962Z",
     "start_time": "2019-10-22T04:34:24.551976Z"
    }
   },
   "outputs": [],
   "source": [
    "m2l_topology.save_Parfile(m2m_cpp_path,c_l,graph_path,geology_file_csv,fault_file_csv,structure_file_csv,minx,maxx,miny,maxy)\n"
   ]
  },
  {
   "cell_type": "markdown",
   "metadata": {},
   "source": [
    "## Calculate topology"
   ]
  },
  {
   "cell_type": "code",
   "execution_count": 12,
   "metadata": {
    "ExecuteTime": {
     "end_time": "2019-10-22T04:34:26.446741Z",
     "start_time": "2019-10-22T04:34:24.560953Z"
    },
    "scrolled": true
   },
   "outputs": [
    {
     "name": "stdout",
     "output_type": "stream",
     "text": [
      "C:\\Users\\00073294\\Dropbox\\1_Jupyter_notebooks\\map2loop\\m2m_cpp\n"
     ]
    },
    {
     "data": {
      "text/plain": [
       "['Reading data from the file: Parfile',\n",
       " '--- COLUMN NAMES IN CSV DATA FILES: -------------------------------------------------------------',\n",
       " 'OBJECT COORDINATES              =WKT',\n",
       " 'FAULT: ID                       =OBJECTID',\n",
       " 'FAULT: FEATURE                  =FEATURE',\n",
       " 'POINT: ID                       =GEOPNT_ID',\n",
       " 'POINT: DIP                      =DIP',\n",
       " 'POINT: DIP DIR                  =DIP_DIR',\n",
       " 'POLYGON: ID                     =OBJECTID',\n",
       " 'POLYGON: LEVEL1 NAME            =UNITNAME',\n",
       " 'POLYGON: LEVEL2 NAME            =GROUP_',\n",
       " 'POLYGON: MIN AGE                =MIN_AGE_MA',\n",
       " 'POLYGON: MAX AGE                =MAX_AGE_MA',\n",
       " 'POLYGON: CODE                   =CODE',\n",
       " 'POLYGON: DESCRIPTION            =DESCRIPTN',\n",
       " 'POLYGON: ROCKTYPE1              =ROCKTYPE1',\n",
       " 'POLYGON: ROCKTYPE2              =ROCKTYPE2',\n",
       " '--- SOME CONSTANTS: ----------------------------------------------------------------------------',\n",
       " 'FAULT AXIAL FEATURE NAME        =Fold axial trace',\n",
       " 'SILL UNIT DESCRIPTION CONTAINS  =sill',\n",
       " 'IGNEOUS ROCKTYPE CONTAINS                           =granitic',\n",
       " 'VOLCANIC ROCKTYPE CONTAINS                          =volcanic',\n",
       " 'Intersect Contact With Fault: angle epsilon (deg)   =1',\n",
       " 'Intersect Contact With Fault: distance epsilon (m)  =15',\n",
       " '------------------------------------------------------------------------------------------------',\n",
       " 'Path to the output data folder                      =../ethan_3D/graph/',\n",
       " 'Path to geology data file                           =../ethan_3D/tmp/geol_gda.csv',\n",
       " 'Path to faults data file                            =../ethan_3D/tmp/ethan_faults_gda.csv',\n",
       " 'Path to points data file                            =../ethan_3D/tmp/warox_ethan_gda.csv',\n",
       " '------------------------------------------------------------------------------------------------',\n",
       " 'Clipping window X1 Y1 X2 Y2 (zeros for infinite)    =968404 7.5178e+06 1.06604e+06 7.619e+06',\n",
       " 'Min length fraction for strat/fault graphs          =0',\n",
       " 'Graph edge width categories (three doubles)         =2000 20000 200000',\n",
       " 'Graph edge direction (0-min age, 1-max age, 2-avg)  =2',\n",
       " 'Partial graph polygon ID                            =32',\n",
       " 'Partial graph depth                                 =4',\n",
       " 'Map subregion size dx, dy [m] (zeros for full map)  =0 0',\n",
       " '------------------------------------------------------------------------------------------------',\n",
       " 'Reading data from the file ../ethan_3D/tmp/ethan_faults_gda.csv',\n",
       " 'Objects read: 70',\n",
       " 'Reading data from the file ../ethan_3D/tmp/warox_ethan_gda.csv',\n",
       " 'Objects read: 755',\n",
       " 'Reading data from the file ../ethan_3D/tmp/geol_gda.csv',\n",
       " 'Objects read: 82',\n",
       " 'Multipolygons left (after clipping): 82',\n",
       " 'Faults left (after clipping): 70',\n",
       " 'Window perimeter = 397672',\n",
       " 'Building lists of units and groups...',\n",
       " 'Number of units: 18',\n",
       " 'Total unit length = 4919482.4900713',\n",
       " '1 CP-_pa-sepg',\n",
       " '2 K-_ca-sp',\n",
       " '3 Lamil Group',\n",
       " '4 Tarcunyah Group',\n",
       " '5 Throssell Range Group',\n",
       " '6 P_-_cr-g',\n",
       " '7 P_-_is-kx',\n",
       " '8 P_-_ya-mls',\n",
       " '9 P_-md-PTRB',\n",
       " '10 P_-mgnu-PTRO',\n",
       " '11 P_-mu-PTRC',\n",
       " '12 P_-xg-mn-PTRT',\n",
       " 'Intersecting faults with polygons...',\n",
       " 'Wrote 14 items to unit-fault intersection list: ../ethan_3D/graph//unit-fault-intersection.txt',\n",
       " 'Intersecting faults with faults...',\n",
       " 'Wrote 23 items to fault-fault intersection list: ../ethan_3D/graph//fault-fault-intersection.txt',\n",
       " 'Finding contacts...',\n",
       " 'numCommonEdges = 6217',\n",
       " 'Total contact length = 2260905.2450357',\n",
       " 'Identifying contact types...',\n",
       " 'Total number of intersections: 357',\n",
       " 'Number of all contacts: 184',\n",
       " 'Number of fault-contacts: 16',\n",
       " 'Number of mixed-contacts: 10',\n",
       " 'Splitting mixed contacts...',\n",
       " 'Number of contacts after splitting: 268',\n",
       " 'PERIMETER LENGTHS: 4919482.4900714 4919482.4900713 2.7939677238464e-09',\n",
       " 'Finding unit-contacts...',\n",
       " 'Number of unit-contacts: 40',\n",
       " 'Number of unit-contacts = 40',\n",
       " 'Number of stratigraphic unit-contacts = 26',\n",
       " 'Number of fault unit-contacts = 4',\n",
       " 'Number of mixed unit-contacts = 10',\n",
       " 'Identifying igneous contacts...',\n",
       " 'Number of intrusive igneous unit contacts: 7',\n",
       " 'Number of igneous unit contacts: 4',\n",
       " 'Writing topology graph to a file: ../ethan_3D/graph//graph_all.gml',\n",
       " 'Number of units in the graph: 18',\n",
       " 'Number of groups in the graph: 12',\n",
       " 'Writing topology graph to a file: ../ethan_3D/graph//graph_strat.gml',\n",
       " 'Number of units in the graph: 18',\n",
       " 'Number of groups in the graph: 12',\n",
       " 'Writing topology graph to a file: ../ethan_3D/graph//graph_fault.gml',\n",
       " 'Number of units in the graph: 16',\n",
       " 'Number of groups in the graph: 10',\n",
       " 'Writing topology graph to a file: ../ethan_3D/graph//graph_ingeous.gml',\n",
       " 'Number of units in the graph: 18',\n",
       " 'Number of groups in the graph: 12',\n",
       " 'Finding unit-contacts...',\n",
       " 'Number of unit-contacts: 0',\n",
       " 'Number of unit-contacts = 0',\n",
       " 'Number of stratigraphic unit-contacts = 0',\n",
       " 'Number of fault unit-contacts = 0',\n",
       " 'Number of mixed unit-contacts = 0',\n",
       " 'Writing topology graph to a file: ../ethan_3D/graph//graph_partial.gml',\n",
       " 'Number of units in the graph: 0',\n",
       " 'Number of groups in the graph: 0',\n",
       " 'End.']"
      ]
     },
     "execution_count": 12,
     "metadata": {},
     "output_type": "execute_result"
    }
   ],
   "source": [
    "os.chdir(m2m_cpp_path)\n",
    "print(os.getcwd())\n",
    "%system map2model.exe Parfile"
   ]
  },
  {
   "cell_type": "markdown",
   "metadata": {},
   "source": [
    "## Simple network graph of the geology with legend"
   ]
  },
  {
   "cell_type": "code",
   "execution_count": 13,
   "metadata": {
    "ExecuteTime": {
     "end_time": "2019-10-22T04:34:27.645051Z",
     "start_time": "2019-10-22T04:34:26.448739Z"
    },
    "scrolled": true
   },
   "outputs": [
    {
     "name": "stderr",
     "output_type": "stream",
     "text": [
      "C:\\Users\\00073294\\AppData\\Local\\Continuum\\anaconda3\\lib\\site-packages\\networkx\\drawing\\nx_pylab.py:579: MatplotlibDeprecationWarning: \n",
      "The iterable function was deprecated in Matplotlib 3.1 and will be removed in 3.3. Use np.iterable instead.\n",
      "  if not cb.iterable(width):\n",
      "C:\\Users\\00073294\\AppData\\Local\\Continuum\\anaconda3\\lib\\site-packages\\networkx\\drawing\\nx_pylab.py:676: MatplotlibDeprecationWarning: \n",
      "The iterable function was deprecated in Matplotlib 3.1 and will be removed in 3.3. Use np.iterable instead.\n",
      "  if cb.iterable(node_size):  # many node sizes\n"
     ]
    },
    {
     "name": "stdout",
     "output_type": "stream",
     "text": [
      "0    'P_-LAm-stq'\n",
      "1    'K-_ca-sp'\n",
      "2    'P_-_cr-g'\n",
      "3    'P_-LAw-stq'\n",
      "4    'P_-LAp-kd'\n",
      "5    'P_-_ya-mls'\n",
      "6    'P_-mgnu-PTRO'\n",
      "7    'P_-THb-shh'\n",
      "8    'P_-THc-stq'\n",
      "9    'P_-md-PTRB'\n",
      "10    'P_-_is-kx'\n",
      "11    'CP-_pa-sepg'\n",
      "12    'P_-xg-mn-PTRT'\n",
      "13    'P_-TAc-sg'\n",
      "14    'P_-TA-sk'\n",
      "15    'P_-mu-PTRC'\n",
      "16    'P_-TAb-st'\n",
      "17    'P_-TAy-sk'\n"
     ]
    },
    {
     "data": {
      "image/png": "[encoded data removed]",
      "text/plain": [
       "<Figure size 432x288 with 1 Axes>"
      ]
     },
     "metadata": {},
     "output_type": "display_data"
    }
   ],
   "source": [
    "G=nx.read_gml(strat_graph_file,label='id')\n",
    "selected_nodes = [n for n,v in G.nodes(data=True) if n >=0]\n",
    "nx.draw_networkx(G, pos=nx.kamada_kawai_layout(G), arrows=True, nodelist=selected_nodes)\n",
    "\n",
    "nlist=list(G.nodes.data('LabelGraphics'))\n",
    "nlist.sort()\n",
    "for no in nlist:\n",
    "    if(no[0]>=0):\n",
    "        elem=str(no[1]).replace(\"{'text':\",\"\").replace(\", 'fontSize': 14}\",\"\")\n",
    "        #second=elem.split(\":\").replace(\"'\",\"\")\n",
    "        print(no[0],\" \",elem)"
   ]
  },
  {
   "cell_type": "markdown",
   "metadata": {},
   "source": [
    "## Detailed Topology via dot or gml format files\n",
    "For a more detailed look we can open up the online version of <b>yEd</b> <a href=\"https://www.yworks.com/yed-live/\" >https://www.yworks.com/yed-live/</a>  and load in the *.dot file that we will now create or dowload the <a href=\"https://www.yworks.com/products/yed/download\">yEd program</a> and look at the *.gml files in the <b>output</b> directory"
   ]
  },
  {
   "cell_type": "markdown",
   "metadata": {},
   "source": [
    "from networkx.drawing.nx_pydot import write_dot\n",
    "\n",
    "import filer,gfiler\n",
    "\n",
    "filepath=filer.gui_fname().decode('UTF-8')\n",
    "write_dot(G,filepath)"
   ]
  },
  {
   "cell_type": "markdown",
   "metadata": {},
   "source": [
    "http://localhost:8888/notebooks/Dropbox/1_Jupyter_notebooks/map2loop/notebooks/2.%20map2loop_after_topology.ipynb"
   ]
  },
  {
   "cell_type": "markdown",
   "metadata": {
    "scrolled": false
   },
   "source": [
    "## Process topography, stratigraphy, fold axial traces and faults\n",
    "\n",
    "### Takes GML file produced by topology code, combines with geology polygons, structure points and dtm to create 3D model in gempy.<br><br>\n",
    "\n",
    "Limitations:  no dykes, no sills. Sills require us to assign a unique surface to each instance of a sill (sill between units A and B needs to be different from sill of same age and strat codes as one found between E and F). Dykes via cokriging are really hard without just cookie cutting them in (but that is not our problem!). We are not checking for onlap relationships, which can perhaps been seen by having lots of units from one series adjacent to the youngest surface of the older series. Could also think about interpreting these as faults to introduce conceptual uncertainty. All mistakes belong to Mark Jessell, topology code that feeds this system by Vitaliy Ogarko.<br><br>\n",
    "\n",
    "Geology layer needs to have some unique strat code or text, some group code or text to function<br>\n",
    "Structure layer needs dip/dip direction<br>\n",
    "\n",
    "<font color='red'>Currently mostly hardwired to GSWA 500K map so needs work...</font>\n"
   ]
  },
  {
   "cell_type": "code",
   "execution_count": 14,
   "metadata": {
    "ExecuteTime": {
     "end_time": "2019-10-22T04:34:27.658017Z",
     "start_time": "2019-10-22T04:34:27.650038Z"
    }
   },
   "outputs": [
    {
     "name": "stdout",
     "output_type": "stream",
     "text": [
      "C:\\Users\\00073294\\Dropbox\\1_Jupyter_notebooks\\map2loop\\map2loop\n"
     ]
    }
   ],
   "source": [
    "os.chdir('../map2loop')\n",
    "\n",
    "print(os.getcwd())"
   ]
  },
  {
   "cell_type": "code",
   "execution_count": 15,
   "metadata": {
    "ExecuteTime": {
     "end_time": "2019-10-22T04:34:27.678473Z",
     "start_time": "2019-10-22T04:34:27.661532Z"
    }
   },
   "outputs": [
    {
     "name": "stdout",
     "output_type": "stream",
     "text": [
      "C:\\Users\\00073294\\Dropbox\\1_Jupyter_notebooks\\map2loop\\map2loop\n"
     ]
    }
   ],
   "source": [
    "#from IPython.core.display import display, HTML\n",
    "#display(HTML(\"<style>.container { width:80% !important; }</style>\"))\n",
    "\n",
    "sys.path.insert(0,\"../..\")\n",
    "print(os.getcwd())\n",
    "\n",
    "\n",
    "#print(os.getcwd())\n",
    "#os.environ[\"PROJ_LIB\"] = r\"C:\\Users\\00073294\\AppData\\Local\\Continuum\\anaconda3\\Lib\\site-packages\\pyproj\\proj_dir\\share\\proj\"\n"
   ]
  },
  {
   "cell_type": "markdown",
   "metadata": {},
   "source": [
    "## Next we define an area of interest and some other basic stuff"
   ]
  },
  {
   "cell_type": "code",
   "execution_count": 16,
   "metadata": {
    "ExecuteTime": {
     "end_time": "2019-10-22T04:34:27.707397Z",
     "start_time": "2019-10-22T04:34:27.682464Z"
    },
    "scrolled": false
   },
   "outputs": [
    {
     "name": "stdout",
     "output_type": "stream",
     "text": [
      "C:\\Users\\00073294\\Dropbox\\1_Jupyter_notebooks\\map2loop\\map2loop\n"
     ]
    }
   ],
   "source": [
    "print(os.getcwd())\n",
    "#test_data_path='../test_data3/'\n",
    "\n",
    "\n",
    "#%run -i \"../test_data3/m2l_config.py\"\n",
    "\n",
    "bbox2=str(minx)+\",\"+str(miny)+\",\"+str(maxx)+\",\"+str(maxy)\n",
    "lat_point_list = [miny, miny, maxy, maxy, maxy]\n",
    "lon_point_list = [minx, maxx, maxx, minx, minx]\n",
    "bbox_geom = Polygon(zip(lon_point_list, lat_point_list))\n",
    "polygon = gpd.GeoDataFrame(index=[0], crs=dst_crs, geometry=[bbox_geom]) \n",
    "bbox=(minx,miny,maxx,maxy)\n",
    "\n",
    "step_out=0.045 #add (in degrees) so edge pixel from dtm reprojection are not found\n",
    "\n",
    "\n",
    "contact_decimate=5"
   ]
  },
  {
   "cell_type": "markdown",
   "metadata": {
    "scrolled": false
   },
   "source": [
    "## Download and reproject the appropriate SRTM data\n",
    "mj: Getting this from GA, but could also get from Hawaii"
   ]
  },
  {
   "cell_type": "code",
   "execution_count": 17,
   "metadata": {
    "ExecuteTime": {
     "end_time": "2019-10-22T04:34:28.188116Z",
     "start_time": "2019-10-22T04:34:27.712384Z"
    }
   },
   "outputs": [
    {
     "name": "stdout",
     "output_type": "stream",
     "text": [
      "121.47283972111016 122.53641238148703 -22.42706204501891 -21.397540725836173\n"
     ]
    }
   ],
   "source": [
    "polygon_ll=polygon.to_crs(src_crs)\n",
    "\n",
    "minlong=polygon_ll.total_bounds[0]-step_out\n",
    "maxlong=polygon_ll.total_bounds[2]+step_out\n",
    "minlat=polygon_ll.total_bounds[1]-step_out\n",
    "maxlat=polygon_ll.total_bounds[3]+step_out\n",
    "\n",
    "print(minlong,maxlong,minlat,maxlat)\n",
    "if((not local_paths) and net):     \n",
    "    m2l_utils.get_dtm(dtm_file, minlong,maxlong,minlat,maxlat)\n",
    "    geom_rp=m2l_utils.reproject_dtm(dtm_file,dtm_reproj_file,src_crs,dst_crs)\n",
    "\n"
   ]
  },
  {
   "cell_type": "markdown",
   "metadata": {
    "scrolled": false
   },
   "source": [
    "## Load stratigraphy graph and create list of series (aka groups)\n",
    "mj: The choice of what constitutes basic unit and what a group of units is hard-wired at the moment, but could be altered to any pair. Not even sure we need two levels but it seemed like a good idea at the time. Note that this needs the arcgis plugin version of the topology code (for now) as it seperates the different sub graphs. Text outputs list alternate topologies for series and surfaces, which if confirmed by comapring max-min ages will be a nice source of uncertainty."
   ]
  },
  {
   "cell_type": "code",
   "execution_count": 18,
   "metadata": {
    "ExecuteTime": {
     "end_time": "2019-10-22T04:34:32.543605Z",
     "start_time": "2019-10-22T04:34:28.192106Z"
    },
    "scrolled": true
   },
   "outputs": [
    {
     "name": "stdout",
     "output_type": "stream",
     "text": [
      "\n",
      "-1 CP__pa_sepg ----------------------\n",
      "choices: 1\n",
      "11 CP__pa_sepg\n",
      "\n",
      "-2 K__ca_sp ----------------------\n",
      "choices: 1\n",
      "1 K__ca_sp\n",
      "\n",
      "-3 Lamil_Group ----------------------\n",
      "choices: 2\n",
      "3 P__LAw_stq\n",
      "0 P__LAm_stq\n",
      "4 P__LAp_kd\n",
      "....\n",
      "0 P__LAm_stq\n",
      "3 P__LAw_stq\n",
      "4 P__LAp_kd\n",
      "\n",
      "-12 P___cr_g ----------------------\n",
      "choices: 1\n",
      "2 P___cr_g\n",
      "\n",
      "-13 P___is_kx ----------------------\n",
      "choices: 1\n",
      "10 P___is_kx\n",
      "\n",
      "-14 P___ya_mls ----------------------\n",
      "choices: 1\n",
      "5 P___ya_mls\n",
      "\n",
      "-15 P__md_PTRB ----------------------\n",
      "choices: 1\n",
      "9 P__md_PTRB\n",
      "\n",
      "-16 P__mgnu_PTRO ----------------------\n",
      "choices: 1\n",
      "6 P__mgnu_PTRO\n",
      "\n",
      "-17 P__mu_PTRC ----------------------\n",
      "choices: 1\n",
      "15 P__mu_PTRC\n",
      "\n",
      "-18 P__xg_mn_PTRT ----------------------\n",
      "choices: 1\n",
      "12 P__xg_mn_PTRT\n",
      "\n",
      "-6 Tarcunyah_Group ----------------------\n",
      "choices: 1\n",
      "13 P__TAc_sg\n",
      "14 P__TA_sk\n",
      "16 P__TAb_st\n",
      "17 P__TAy_sk\n",
      "\n",
      "-10 Throssell_Range_Group ----------------------\n",
      "choices: 1\n",
      "7 P__THb_shh\n",
      "8 P__THc_stq\n"
     ]
    },
    {
     "data": {
      "image/png": "[encoded data removed]",
      "text/plain": [
       "<Figure size 432x288 with 1 Axes>"
      ]
     },
     "metadata": {},
     "output_type": "display_data"
    },
    {
     "data": {
      "image/png": "[encoded data removed]",
      "text/plain": [
       "<Figure size 432x288 with 1 Axes>"
      ]
     },
     "metadata": {},
     "output_type": "display_data"
    },
    {
     "data": {
      "image/png": "[encoded data removed]",
      "text/plain": [
       "<Figure size 432x288 with 1 Axes>"
      ]
     },
     "metadata": {},
     "output_type": "display_data"
    },
    {
     "data": {
      "image/png": "[encoded data removed]",
      "text/plain": [
       "<Figure size 432x288 with 1 Axes>"
      ]
     },
     "metadata": {},
     "output_type": "display_data"
    },
    {
     "data": {
      "image/png": "[encoded data removed]",
      "text/plain": [
       "<Figure size 432x288 with 1 Axes>"
      ]
     },
     "metadata": {},
     "output_type": "display_data"
    },
    {
     "data": {
      "image/png": "[encoded data removed]",
      "text/plain": [
       "<Figure size 432x288 with 1 Axes>"
      ]
     },
     "metadata": {},
     "output_type": "display_data"
    },
    {
     "data": {
      "image/png": "[encoded data removed]",
      "text/plain": [
       "<Figure size 432x288 with 1 Axes>"
      ]
     },
     "metadata": {},
     "output_type": "display_data"
    },
    {
     "data": {
      "image/png": "[encoded data removed]",
      "text/plain": [
       "<Figure size 432x288 with 1 Axes>"
      ]
     },
     "metadata": {},
     "output_type": "display_data"
    },
    {
     "data": {
      "image/png": "[encoded data removed]",
      "text/plain": [
       "<Figure size 432x288 with 1 Axes>"
      ]
     },
     "metadata": {},
     "output_type": "display_data"
    },
    {
     "data": {
      "image/png": "[encoded data removed]",
      "text/plain": [
       "<Figure size 432x288 with 1 Axes>"
      ]
     },
     "metadata": {},
     "output_type": "display_data"
    },
    {
     "data": {
      "image/png": "[encoded data removed]",
      "text/plain": [
       "<Figure size 432x288 with 1 Axes>"
      ]
     },
     "metadata": {},
     "output_type": "display_data"
    },
    {
     "data": {
      "image/png": "[encoded data removed]",
      "text/plain": [
       "<Figure size 432x288 with 1 Axes>"
      ]
     },
     "metadata": {},
     "output_type": "display_data"
    }
   ],
   "source": [
    "groups,glabels,G = m2l_topology.get_series(strat_graph_file,'id')\n",
    "m2l_topology.save_units(G,tmp_path,glabels)"
   ]
  },
  {
   "cell_type": "markdown",
   "metadata": {
    "scrolled": false
   },
   "source": [
    "## Load geology & structure data\n",
    "Currently loading from local files, but could load geology from WFS server at GSWA EXCEPT that the WFS online map has less fields that the zipped shapefiles. Go figure. We don't use fault layer at the moment (except for Vitaliy's topology code) but same logic applies in terms of where to get it from. Already have fault/strat relationships and once we have fault/fault relationships will start to include faults in models."
   ]
  },
  {
   "cell_type": "code",
   "execution_count": 19,
   "metadata": {
    "ExecuteTime": {
     "end_time": "2019-10-22T04:34:33.638166Z",
     "start_time": "2019-10-22T04:34:32.546599Z"
    }
   },
   "outputs": [
    {
     "name": "stdout",
     "output_type": "stream",
     "text": [
      "../ethan_3D/data/ethan_faults_gda.shp\n"
     ]
    },
    {
     "data": {
      "text/plain": [
       "<matplotlib.axes._subplots.AxesSubplot at 0x27f719a34a8>"
      ]
     },
     "execution_count": 19,
     "metadata": {},
     "output_type": "execute_result"
    },
    {
     "data": {
      "image/png": "[encoded data removed]",
      "text/plain": [
       "<Figure size 720x720 with 1 Axes>"
      ]
     },
     "metadata": {
      "needs_background": "light"
     },
     "output_type": "display_data"
    }
   ],
   "source": [
    "# Extract point data from structure & geology layers for modelling\n",
    "##First we readin the structure and map from shapefiles, or wherever...\n",
    "\n",
    "bbox=(minx,miny,maxx,maxy)\n",
    "geology = gpd.read_file(geology_file,bbox=bbox)\n",
    "\n",
    "\n",
    "structure = gpd.read_file(structure_file,bbox=bbox)\n",
    "structure.crs=dst_crs\n",
    "print(fault_file)\n",
    "faults = gpd.read_file(fault_file,bbox=bbox)\n",
    "faults.crs=dst_crs\n",
    "#display(faults)\n",
    "sub_pts = structure[['geometry',c_l['d'],c_l['dd'],c_l['sf']]] \n",
    "\n",
    "base=geology.plot(column=c_l['c'],figsize=(10,10),edgecolor='#000000',linewidth=0.2)\n",
    "sub_pts.plot(ax=base,edgecolor='black')\n",
    "faults.plot(ax=base, column=c_l['f'],edgecolor='black')"
   ]
  },
  {
   "cell_type": "markdown",
   "metadata": {
    "scrolled": false
   },
   "source": [
    "## Clip geology, faults, structures and map geology to structures"
   ]
  },
  {
   "cell_type": "code",
   "execution_count": 20,
   "metadata": {
    "ExecuteTime": {
     "end_time": "2019-10-22T04:34:39.872465Z",
     "start_time": "2019-10-22T04:34:33.641156Z"
    }
   },
   "outputs": [
    {
     "data": {
      "image/png": "[encoded data removed]",
      "text/plain": [
       "<Figure size 504x504 with 1 Axes>"
      ]
     },
     "metadata": {
      "needs_background": "light"
     },
     "output_type": "display_data"
    }
   ],
   "source": [
    "geology = m2l_utils.explode(geology)\n",
    "geology.crs = dst_crs\n",
    "pd.set_option('display.max_columns', None)\n",
    "pd.set_option('display.max_rows',None)\n",
    "structure_code = gpd.sjoin(sub_pts, geology, how=\"left\", op=\"within\")\n",
    "\n",
    "y_point_list = [miny, miny, maxy, maxy, miny]\n",
    "x_point_list = [minx, maxx, maxx, minx, minx]\n",
    "\n",
    "bbox_geom = Polygon(zip(x_point_list, y_point_list))\n",
    "\n",
    "polygo = gpd.GeoDataFrame(index=[0], crs=dst_crs, geometry=[bbox_geom]) \n",
    "#display(polygo.geometry)\n",
    "is_bed=structure_code[c_l['sf']].str.contains(c_l['bedding'], regex=False) \n",
    "    \n",
    "all_beds = structure_code[is_bed]\n",
    "#display(sfcode)\n",
    "\n",
    "all_faults=faults[faults[c_l['f']].str.contains(c_l['fault'])]\n",
    "\n",
    "\n",
    "\n",
    "#display(structure_code)\n",
    "geol_clip=m2l_utils.clip_shp(geology, polygo)\n",
    "faults_clip=m2l_utils.clip_shp(all_faults,polygo)\n",
    "#display(faults_clip)\n",
    "structure_clip = m2l_utils.clip_shp(all_beds, polygo)\n",
    "\n",
    "base = geol_clip.plot(column=c_l['c'],figsize=(7,7),edgecolor='#000000',linewidth=0.2)\n",
    "faults_clip.plot(ax=base, column=c_l['t'],edgecolor='black')\n",
    "structure_clip.plot(ax=base, column=c_l['c'],edgecolor='black')\n",
    "\n",
    "geol_clip.to_file(tmp_path+'geol_clip.shp')\n",
    "faults_clip.to_file(tmp_path+'faults_clip.shp')\n",
    "structure_clip.to_file(tmp_path+'structure_clip.shp')\n"
   ]
  },
  {
   "cell_type": "markdown",
   "metadata": {},
   "source": [
    "## Create possible stratigraphy sets per group\n",
    "mj: <font color='red'>Uses first of each possible set of toplogies per unit and per group, which is arbitrary. </font>On the other hand we are not checking relative ages again to see if this helps reduce ambiguity, which I think it would."
   ]
  },
  {
   "cell_type": "code",
   "execution_count": 21,
   "metadata": {
    "ExecuteTime": {
     "end_time": "2019-10-22T04:34:50.414820Z",
     "start_time": "2019-10-22T04:34:39.876454Z"
    },
    "scrolled": false
   },
   "outputs": [
    {
     "data": {
      "text/html": [
       "<div>\n",
       "<style scoped>\n",
       "    .dataframe tbody tr th:only-of-type {\n",
       "        vertical-align: middle;\n",
       "    }\n",
       "\n",
       "    .dataframe tbody tr th {\n",
       "        vertical-align: top;\n",
       "    }\n",
       "\n",
       "    .dataframe thead th {\n",
       "        text-align: right;\n",
       "    }\n",
       "</style>\n",
       "<table border=\"1\" class=\"dataframe\">\n",
       "  <thead>\n",
       "    <tr style=\"text-align: right;\">\n",
       "      <th></th>\n",
       "      <th>index</th>\n",
       "      <th>group_</th>\n",
       "      <th>min</th>\n",
       "      <th>max</th>\n",
       "      <th>ave</th>\n",
       "    </tr>\n",
       "  </thead>\n",
       "  <tbody>\n",
       "    <tr>\n",
       "      <th>0</th>\n",
       "      <td>0</td>\n",
       "      <td>K__ca_sp</td>\n",
       "      <td>113.0</td>\n",
       "      <td>145.0</td>\n",
       "      <td>129.00</td>\n",
       "    </tr>\n",
       "    <tr>\n",
       "      <th>1</th>\n",
       "      <td>1</td>\n",
       "      <td>CP__pa_sepg</td>\n",
       "      <td>290.1</td>\n",
       "      <td>323.2</td>\n",
       "      <td>306.65</td>\n",
       "    </tr>\n",
       "    <tr>\n",
       "      <th>2</th>\n",
       "      <td>2</td>\n",
       "      <td>P___cr_g</td>\n",
       "      <td>621.0</td>\n",
       "      <td>633.0</td>\n",
       "      <td>627.00</td>\n",
       "    </tr>\n",
       "    <tr>\n",
       "      <th>3</th>\n",
       "      <td>3</td>\n",
       "      <td>Throssell_Range_Group</td>\n",
       "      <td>650.0</td>\n",
       "      <td>911.0</td>\n",
       "      <td>780.50</td>\n",
       "    </tr>\n",
       "    <tr>\n",
       "      <th>4</th>\n",
       "      <td>4</td>\n",
       "      <td>Lamil_Group</td>\n",
       "      <td>630.0</td>\n",
       "      <td>950.0</td>\n",
       "      <td>790.00</td>\n",
       "    </tr>\n",
       "    <tr>\n",
       "      <th>5</th>\n",
       "      <td>5</td>\n",
       "      <td>Tarcunyah_Group</td>\n",
       "      <td>635.0</td>\n",
       "      <td>1000.0</td>\n",
       "      <td>817.50</td>\n",
       "    </tr>\n",
       "    <tr>\n",
       "      <th>6</th>\n",
       "      <td>6</td>\n",
       "      <td>P___is_kx</td>\n",
       "      <td>858.0</td>\n",
       "      <td>1000.0</td>\n",
       "      <td>929.00</td>\n",
       "    </tr>\n",
       "    <tr>\n",
       "      <th>7</th>\n",
       "      <td>7</td>\n",
       "      <td>P__xg_mn_PTRT</td>\n",
       "      <td>1310.0</td>\n",
       "      <td>1590.0</td>\n",
       "      <td>1450.00</td>\n",
       "    </tr>\n",
       "    <tr>\n",
       "      <th>8</th>\n",
       "      <td>8</td>\n",
       "      <td>P__mgnu_PTRO</td>\n",
       "      <td>1762.0</td>\n",
       "      <td>1801.0</td>\n",
       "      <td>1781.50</td>\n",
       "    </tr>\n",
       "    <tr>\n",
       "      <th>9</th>\n",
       "      <td>9</td>\n",
       "      <td>P__md_PTRB</td>\n",
       "      <td>1760.0</td>\n",
       "      <td>2500.0</td>\n",
       "      <td>2130.00</td>\n",
       "    </tr>\n",
       "    <tr>\n",
       "      <th>10</th>\n",
       "      <td>10</td>\n",
       "      <td>P__mu_PTRC</td>\n",
       "      <td>1760.0</td>\n",
       "      <td>2500.0</td>\n",
       "      <td>2130.00</td>\n",
       "    </tr>\n",
       "    <tr>\n",
       "      <th>11</th>\n",
       "      <td>11</td>\n",
       "      <td>P___ya_mls</td>\n",
       "      <td>1760.0</td>\n",
       "      <td>2500.0</td>\n",
       "      <td>2130.00</td>\n",
       "    </tr>\n",
       "  </tbody>\n",
       "</table>\n",
       "</div>"
      ],
      "text/plain": [
       "    index                 group_     min     max      ave\n",
       "0       0               K__ca_sp   113.0   145.0   129.00\n",
       "1       1            CP__pa_sepg   290.1   323.2   306.65\n",
       "2       2               P___cr_g   621.0   633.0   627.00\n",
       "3       3  Throssell_Range_Group   650.0   911.0   780.50\n",
       "4       4            Lamil_Group   630.0   950.0   790.00\n",
       "5       5        Tarcunyah_Group   635.0  1000.0   817.50\n",
       "6       6              P___is_kx   858.0  1000.0   929.00\n",
       "7       7          P__xg_mn_PTRT  1310.0  1590.0  1450.00\n",
       "8       8           P__mgnu_PTRO  1762.0  1801.0  1781.50\n",
       "9       9             P__md_PTRB  1760.0  2500.0  2130.00\n",
       "10     10             P__mu_PTRC  1760.0  2500.0  2130.00\n",
       "11     11             P___ya_mls  1760.0  2500.0  2130.00"
      ]
     },
     "metadata": {},
     "output_type": "display_data"
    },
    {
     "data": {
      "text/html": [
       "<div>\n",
       "<style scoped>\n",
       "    .dataframe tbody tr th:only-of-type {\n",
       "        vertical-align: middle;\n",
       "    }\n",
       "\n",
       "    .dataframe tbody tr th {\n",
       "        vertical-align: top;\n",
       "    }\n",
       "\n",
       "    .dataframe thead th {\n",
       "        text-align: right;\n",
       "    }\n",
       "</style>\n",
       "<table border=\"1\" class=\"dataframe\">\n",
       "  <thead>\n",
       "    <tr style=\"text-align: right;\">\n",
       "      <th></th>\n",
       "      <th>index</th>\n",
       "      <th>min</th>\n",
       "      <th>max</th>\n",
       "      <th>ave</th>\n",
       "    </tr>\n",
       "    <tr>\n",
       "      <th>group_</th>\n",
       "      <th></th>\n",
       "      <th></th>\n",
       "      <th></th>\n",
       "      <th></th>\n",
       "    </tr>\n",
       "  </thead>\n",
       "  <tbody>\n",
       "    <tr>\n",
       "      <th>K__ca_sp</th>\n",
       "      <td>0</td>\n",
       "      <td>113.0</td>\n",
       "      <td>145.0</td>\n",
       "      <td>129.00</td>\n",
       "    </tr>\n",
       "    <tr>\n",
       "      <th>CP__pa_sepg</th>\n",
       "      <td>1</td>\n",
       "      <td>290.1</td>\n",
       "      <td>323.2</td>\n",
       "      <td>306.65</td>\n",
       "    </tr>\n",
       "    <tr>\n",
       "      <th>P___cr_g</th>\n",
       "      <td>2</td>\n",
       "      <td>621.0</td>\n",
       "      <td>633.0</td>\n",
       "      <td>627.00</td>\n",
       "    </tr>\n",
       "    <tr>\n",
       "      <th>Throssell_Range_Group</th>\n",
       "      <td>3</td>\n",
       "      <td>650.0</td>\n",
       "      <td>911.0</td>\n",
       "      <td>780.50</td>\n",
       "    </tr>\n",
       "    <tr>\n",
       "      <th>Lamil_Group</th>\n",
       "      <td>4</td>\n",
       "      <td>630.0</td>\n",
       "      <td>950.0</td>\n",
       "      <td>790.00</td>\n",
       "    </tr>\n",
       "    <tr>\n",
       "      <th>Tarcunyah_Group</th>\n",
       "      <td>5</td>\n",
       "      <td>635.0</td>\n",
       "      <td>1000.0</td>\n",
       "      <td>817.50</td>\n",
       "    </tr>\n",
       "    <tr>\n",
       "      <th>P___is_kx</th>\n",
       "      <td>6</td>\n",
       "      <td>858.0</td>\n",
       "      <td>1000.0</td>\n",
       "      <td>929.00</td>\n",
       "    </tr>\n",
       "    <tr>\n",
       "      <th>P__xg_mn_PTRT</th>\n",
       "      <td>7</td>\n",
       "      <td>1310.0</td>\n",
       "      <td>1590.0</td>\n",
       "      <td>1450.00</td>\n",
       "    </tr>\n",
       "    <tr>\n",
       "      <th>P__mgnu_PTRO</th>\n",
       "      <td>8</td>\n",
       "      <td>1762.0</td>\n",
       "      <td>1801.0</td>\n",
       "      <td>1781.50</td>\n",
       "    </tr>\n",
       "    <tr>\n",
       "      <th>P__md_PTRB</th>\n",
       "      <td>9</td>\n",
       "      <td>1760.0</td>\n",
       "      <td>2500.0</td>\n",
       "      <td>2130.00</td>\n",
       "    </tr>\n",
       "    <tr>\n",
       "      <th>P__mu_PTRC</th>\n",
       "      <td>10</td>\n",
       "      <td>1760.0</td>\n",
       "      <td>2500.0</td>\n",
       "      <td>2130.00</td>\n",
       "    </tr>\n",
       "    <tr>\n",
       "      <th>P___ya_mls</th>\n",
       "      <td>11</td>\n",
       "      <td>1760.0</td>\n",
       "      <td>2500.0</td>\n",
       "      <td>2130.00</td>\n",
       "    </tr>\n",
       "  </tbody>\n",
       "</table>\n",
       "</div>"
      ],
      "text/plain": [
       "                       index     min     max      ave\n",
       "group_                                               \n",
       "K__ca_sp                   0   113.0   145.0   129.00\n",
       "CP__pa_sepg                1   290.1   323.2   306.65\n",
       "P___cr_g                   2   621.0   633.0   627.00\n",
       "Throssell_Range_Group      3   650.0   911.0   780.50\n",
       "Lamil_Group                4   630.0   950.0   790.00\n",
       "Tarcunyah_Group            5   635.0  1000.0   817.50\n",
       "P___is_kx                  6   858.0  1000.0   929.00\n",
       "P__xg_mn_PTRT              7  1310.0  1590.0  1450.00\n",
       "P__mgnu_PTRO               8  1762.0  1801.0  1781.50\n",
       "P__md_PTRB                 9  1760.0  2500.0  2130.00\n",
       "P__mu_PTRC                10  1760.0  2500.0  2130.00\n",
       "P___ya_mls                11  1760.0  2500.0  2130.00"
      ]
     },
     "metadata": {},
     "output_type": "display_data"
    },
    {
     "data": {
      "text/plain": [
       "[]"
      ]
     },
     "metadata": {},
     "output_type": "display_data"
    },
    {
     "name": "stdout",
     "output_type": "stream",
     "text": [
      "group choices: 80640\n"
     ]
    },
    {
     "data": {
      "image/png": "[encoded data removed]",
      "text/plain": [
       "<Figure size 432x288 with 1 Axes>"
      ]
     },
     "metadata": {},
     "output_type": "display_data"
    }
   ],
   "source": [
    "m2l_topology.save_group(G,tmp_path,glabels,geol_clip,c_l)"
   ]
  },
  {
   "cell_type": "markdown",
   "metadata": {
    "scrolled": false
   },
   "source": [
    "## Export orientation data in csv  format\n",
    "mj: Orientation data needs calculated height as file does not provide it, taken from SRTM data already downloaded. To calculate polarity <font color='red'>(WHICH WE DON'T DO YET)</font> we can calculate the dot product of the dip direction of a bedding plane and the vector to that points nearest basal contact node, if  abs(acos(dot product))>90  then right way up :\n",
    "\n",
    "<img src='../graphics/polarity.png'>\n",
    "\n",
    "Added code to not save intrusion orientation data as they won't have associated surfaces if sill..."
   ]
  },
  {
   "cell_type": "code",
   "execution_count": 22,
   "metadata": {
    "ExecuteTime": {
     "end_time": "2019-10-22T04:34:51.499920Z",
     "start_time": "2019-10-22T04:34:50.417811Z"
    }
   },
   "outputs": [
    {
     "name": "stdout",
     "output_type": "stream",
     "text": [
      "753 orientations saved to ../ethan_3D/output//orientations.csv\n"
     ]
    }
   ],
   "source": [
    "dtm = rasterio.open(dtm_reproj_file)\n",
    "m2l_geometry.save_orientations(structure_code,output_path,c_l,orientation_decimate,dtm)\n"
   ]
  },
  {
   "cell_type": "markdown",
   "metadata": {
    "scrolled": false
   },
   "source": [
    "## Find those series that don't have any orientation or contact point data  then create arbitrary point for series with no orientation data\n",
    "Not sure if gempy needs this but geomodeller does. Currently just gives a point dipping 45 degrees to North, but could use dip direction normal to basal surface)"
   ]
  },
  {
   "cell_type": "code",
   "execution_count": 23,
   "metadata": {
    "ExecuteTime": {
     "end_time": "2019-10-22T04:34:55.931330Z",
     "start_time": "2019-10-22T04:34:51.509406Z"
    },
    "scrolled": false
   },
   "outputs": [
    {
     "name": "stdout",
     "output_type": "stream",
     "text": [
      "13\n",
      "K__ca_sp\n",
      "CP__pa_sepg\n",
      "P___cr_g\n",
      "Lamil_Group\n",
      "Throssell_Range_Group\n",
      "P__xg_mn_PTRT\n",
      "P__mgnu_PTRO\n",
      "P__mu_PTRC\n",
      "P__md_PTRB\n",
      "P___ya_mls\n",
      "P___is_kx\n",
      "Tarcunyah_Group\n",
      "12 [('K__ca_sp', 0), ('CP__pa_sepg', 0), ('P___cr_g', 0), ('Lamil_Group', 0), ('Throssell_Range_Group', 0), ('P__xg_mn_PTRT', 0), ('P__mgnu_PTRO', 0), ('P__mu_PTRC', 0), ('P__md_PTRB', 0), ('P___ya_mls', 0), ('P___is_kx', 0), ('Tarcunyah_Group', 0)]\n",
      "Orientations----------\n",
      " 12 [('K__ca_sp', 0), ('CP__pa_sepg', 1), ('P___cr_g', 1), ('Lamil_Group', 1), ('Throssell_Range_Group', 1), ('P__xg_mn_PTRT', 0), ('P__mgnu_PTRO', 0), ('P__mu_PTRC', 0), ('P__md_PTRB', 1), ('P___ya_mls', 0), ('P___is_kx', 1), ('Tarcunyah_Group', 1)]\n",
      "Contacts----------\n",
      " 18 {'P_-mu-PTRC', 'P_-THb-shh', 'P_-LAm-stq', 'P_-LAw-stq', 'P_-mgnu-PTRO', 'P_-_ya-mls', 'P_-TAc-sg', 'P_-_is-kx', 'P_-TAb-st', 'P_-TAy-sk', 'K-_ca-sp', 'P_-LAp-kd', 'P_-md-PTRB', 'P_-THc-stq', 'P_-xg-mn-PTRT', 'P_-_cr-g', 'CP-_pa-sepg', 'P_-TA-sk'}\n",
      "extra orientations saved as ../ethan_3D/output//empty_series_orientations.csv\n"
     ]
    }
   ],
   "source": [
    "m2l_geometry.create_orientations( tmp_path, output_path, dtm,geol_clip,structure_clip,c_l)"
   ]
  },
  {
   "cell_type": "markdown",
   "metadata": {
    "scrolled": false
   },
   "source": [
    "## Export contact information subset of each polygon to gempy format\n",
    "mj: Orientation data needs calculated height as file does not provide it, taken from SRTM data already downloaded. Need to reduce number of points whilst retaining useful info (Ranee's job!)'\n",
    "To calculate which are the basal units contact for a polygon find the polygons which are older than the selected polygon, in the example below the central polygon has relative age 23 so its basal contact is with the polygons whose ages are 26 & 28. If there are no older units for a polygon it has no basal content. We keep every nth node based on the decimate term (simple count along polyline). gempy seems to need at least two points per surface, so we always take the first two points.\n",
    "\n",
    "<font color='red'>Needs also to account for case when missing surface in stratigraphy means that locally basal polyline can ALSO be anothe rthan youngest surface.</font>\n",
    "<img src='../graphics/base.png'>"
   ]
  },
  {
   "cell_type": "code",
   "execution_count": 24,
   "metadata": {
    "ExecuteTime": {
     "end_time": "2019-10-22T04:34:56.033057Z",
     "start_time": "2019-10-22T04:34:55.937313Z"
    }
   },
   "outputs": [],
   "source": [
    "from shapely.geometry import shape, Polygon, LineString, Point\n",
    "#Export contact information subset of each polygon to csv format\n",
    "def xxxsave_basal_contacts(path_in,dtm,geol_clip,contact_decimate,c_l,intrusion_mode):\n",
    "    print(\"decimation: 1 /\",contact_decimate)\n",
    "    plist=[]\n",
    "    i=0\n",
    "    all_geom=m2l_utils.explode(geol_clip)\n",
    "\n",
    "    #print(type(all_geom))\n",
    "\n",
    "    for ageol in all_geom.iterrows(): # central polygon\n",
    "        all_coords=m2l_geometry.extract_poly_coords(ageol[1].geometry,0)\n",
    "        plist+=(i,list(all_coords['exterior_coords']),ageol[1][c_l['c']],ageol[1][c_l['ds']],ageol[1][c_l['g']],ageol[1][c_l['r1']],ageol[1][c_l['o']])\n",
    "        i=i+1\n",
    "        for j in range(0,len(all_coords['interior_coords']),2):\n",
    "            plist+=(i,list(all_coords['interior_coords'][j+1]),ageol[1][c_l['c']],ageol[1][c_l['ds']],ageol[1][c_l['g']],ageol[1][c_l['r1']],ageol[1][c_l['o']])\n",
    "            i=i+1\n",
    "               \n",
    "    #dataset = rasterio.open(path_in+'/dtm_rp.tif')\n",
    "    ag=open(path_in+'/all_sorts.csv',\"r\")\n",
    "    contents =ag.readlines()\n",
    "    ag.close\n",
    "    print(\"surfaces:\",len(contents))\n",
    "    print(\"polygons:\",len(all_geom))\n",
    "    ulist=[]\n",
    "    for i in range(1,len(contents)):\n",
    "        #print(contents[i].replace(\"\\n\",\"\"))\n",
    "        cont_list=contents[i].split(\",\")\n",
    "        ulist.append([i, cont_list[4].replace(\"\\n\",\"\")])\n",
    "    print(ulist)\n",
    "\n",
    "    allc=open(path_in+'/all_contacts.csv',\"w\")\n",
    "    allc.write('GROUP_,id,x,y,z,code\\n')\n",
    "    ac=open(path_in+'/contacts.csv',\"w\")\n",
    "    ac.write(\"X,Y,Z,formation\\n\")\n",
    "    print(dtm.bounds)\n",
    "    j=0\n",
    "    allpts=0\n",
    "    deci_points=0\n",
    "    ls_dict={}\n",
    "    ls_dict_decimate={}\n",
    "    id=0\n",
    "    #print(len(plist))\n",
    "    for a_poly in range(0,len(plist),7):\n",
    "        if( not 'intrusive' in plist[a_poly+5]):\n",
    "            a_polygon=Polygon(plist[a_poly+1])\n",
    "            agp=str(plist[a_poly+4])\n",
    "            if(agp=='None'):\n",
    "                agp=plist[a_poly+2].replace(\" \",\"_\").replace(\"-\",\"_\")\n",
    "\n",
    "            neighbours=[]\n",
    "            j+=1\n",
    "            out=[item for item in ulist if plist[a_poly+2].replace(\" \",\"_\").replace(\"-\",\"_\") in item]\n",
    "            if(len(out)>0):\n",
    "                central=out[0][0]    #relative age of central polygon\n",
    "\n",
    "                for b_poly in range(0,len(plist),7):\n",
    "                    b_polygon=LineString(plist[b_poly+1])\n",
    "\n",
    "                    if(plist[a_poly] != plist[b_poly]): #do not compare with self\n",
    "\n",
    "                        if (a_polygon.intersects(b_polygon)) : # is a neighbour, but not a sill\n",
    "                           if(  (not c_l['sill'] in plist[b_poly+3] or not c_l['intrusive'] in plist[b_poly+5]) and intrusion_mode==0): #intrusion_mode=0 (sills only excluded)\n",
    "                                 neighbours.append((b_poly))                               \n",
    "                           elif((not c_l['intrusive'] in plist[b_poly+5])  and intrusion_mode==1): #intrusion_mode=1 (all intrusions  excluded)\n",
    "                                 neighbours.append((b_poly))                               \n",
    "\n",
    "\n",
    "                if(len(neighbours) >0):\n",
    "                    for i in range (0,len(neighbours)):\n",
    "                        b_polygon=LineString(plist[neighbours[i]+1])\n",
    "\n",
    "                        out=[item for item in ulist if plist[neighbours[i]+2].replace(\" \",\"_\").replace(\"-\",\"_\")  in item]\n",
    "\n",
    "                        if(len(out)>0):\n",
    "                            #if(out[0][0] > central and out[0][0] < youngest_older): # neighbour is older than central, and younger than previous candidate\n",
    "                            if(out[0][0] > central  ): # neighbour is older than central\n",
    "\n",
    "                                if(not a_polygon.is_valid ):\n",
    "                                    a_polygon = a_polygon.buffer(0)\n",
    "                                if(not b_polygon.is_valid):\n",
    "                                    b_polygon = b_polygon.buffer(0)                                    \n",
    "                                LineStringC = a_polygon.intersection(b_polygon)\n",
    "\n",
    "                                if(LineStringC.wkt.split(\" \")[0]=='GEOMETRYCOLLECTION' ): #ignore weird intersections for now, worry about them later!\n",
    "                                    #print(\"debug:GC\")\n",
    "                                    continue\n",
    "                                elif(LineStringC.wkt.split(\" \")[0]=='MULTIPOLYGON' or\n",
    "                                     LineStringC.wkt.split(\" \")[0]=='POLYGON'):\n",
    "                                         print(\"debug:MP,P\",ageol[1][c_l['c']])\n",
    "                                         #display(LineStringC)\n",
    "\n",
    "                                elif(LineStringC.wkt.split(\" \")[0]=='MULTILINESTRING'):\n",
    "                                    k=0\n",
    "\n",
    "                                    if(str(plist[a_poly+4])=='None'):\n",
    "                                        ls_dict[id] = {\"id\": id,c_l['c']:plist[a_poly+2].replace(\" \",\"_\").replace(\"-\",\"_\"),c_l['g']:plist[a_poly+2].replace(\" \",\"_\").replace(\"-\",\"_\"), \"geometry\": LineStringC}\n",
    "                                    else:\n",
    "                                        ls_dict[id] = {\"id\": id,c_l['c']:plist[a_poly+2].replace(\" \",\"_\").replace(\"-\",\"_\"),c_l['g']:plist[a_poly+4].replace(\" \",\"_\").replace(\"-\",\"_\"), \"geometry\": LineStringC}\n",
    "                                    id=id+1\n",
    "                                    for lineC in LineStringC: #process all linestrings\n",
    "                                        #print(ageol[1][c_l['c']],len(LineStringC))\n",
    "                                        if(m2l_utils.mod_safe(k,contact_decimate)==0 or k==int((len(LineStringC)-1)/2) or k==len(LineStringC)-1): #decimate to reduce number of points, but also take second and third point of a series to keep gempy happy\n",
    "                                            locations=[(lineC.coords[0][0],lineC.coords[0][1])] #doesn't like point right on edge?\n",
    "                                            #print(k,type(lineC))\n",
    "                                            if(lineC.coords[0][0] > dtm.bounds[0] and lineC.coords[0][0] < dtm.bounds[2] and  \n",
    "                                               lineC.coords[0][1] > dtm.bounds[1] and lineC.coords[0][1] < dtm.bounds[3]):       \n",
    "                                                    height=m2l_utils.value_from_raster(dtm,locations)\n",
    "                                                    ostr=str(lineC.coords[0][0])+\",\"+str(lineC.coords[0][1])+\",\"+height+\",\"+str(plist[a_poly+2].replace(\" \",\"_\").replace(\"-\",\"_\"))+\"\\n\"\n",
    "                                                    ac.write(ostr)\n",
    "                                                    allc.write(agp+\",\"+str(ageol[1][c_l['o']])+\",\"+ostr)\n",
    "                                                    if(str(plist[a_poly+4])=='None'):\n",
    "                                                        ls_dict_decimate[deci_points] = {\"id\": allpts,c_l['c']:plist[a_poly+2].replace(\" \",\"_\").replace(\"-\",\"_\"),c_l['g']:plist[a_poly+2].replace(\" \",\"_\").replace(\"-\",\"_\"), \"geometry\": Point(lineC.coords[0][0],lineC.coords[0][1])}\n",
    "                                                    else:\n",
    "                                                        #display(allpts,c_l['c'],plist[a_poly+2])\n",
    "                                                        #display(allpts,c_l['g'],plist[a_poly+4])\n",
    "                                                        ls_dict_decimate[deci_points] = {\"id\": allpts,c_l['c']:plist[a_poly+2].replace(\" \",\"_\").replace(\"-\",\"_\"),c_l['g']:plist[a_poly+4].replace(\" \",\"_\").replace(\"-\",\"_\"), \"geometry\": Point(lineC.coords[0][0],lineC.coords[0][1])}\n",
    "                                                    #ls_dict_decimate[allpts] = {\"id\": allpts,\"CODE\":ageol[1][c_l['c']].replace(\" \",\"_\").replace(\"-\",\"_\"),\"GROUP_\":ageol[1][c_l['g']].replace(\" \",\"_\").replace(\"-\",\"_\"), \"geometry\": Point(lineC.coords[0][0],lineC.coords[0][1])}\n",
    "                                                    allpts+=1 \n",
    "                                                    deci_points=deci_points+1\n",
    "                                            else:\n",
    "                                                continue\n",
    "                                                #print(\"debug:edge points\")\n",
    "                                        else:\n",
    "                                            locations=[(lineC.coords[0][0]+0.0000001,lineC.coords[0][1])] #doesn't like point right on edge?\n",
    "                                            if(lineC.coords[0][0] > dtm.bounds[0] and lineC.coords[0][0] < dtm.bounds[2] and  \n",
    "                                                lineC.coords[0][1] > dtm.bounds[1] and lineC.coords[0][1] < dtm.bounds[3]):       \n",
    "                                                height=m2l_utils.value_from_raster(dtm,locations)\n",
    "                                                ostr=str(lineC.coords[0][0])+\",\"+str(lineC.coords[0][1])+\",\"+height+\",\"+str(plist[a_poly+2].replace(\" \",\"_\").replace(\"-\",\"_\"))+\"\\n\"\n",
    "                                                #ls_dict_decimate[allpts] = {\"id\": id,c_l['c']:ageol[1][c_l['c']],c_l['g']:ageol[1][c_l['g']], \"geometry\": Point(lineC.coords[0][0],lineC.coords[0][1])}\n",
    "                                                allc.write(agp+\",\"+str(ageol[1][c_l['o']])+\",\"+ostr)\n",
    "                                                allpts+=1    \n",
    "                                        \"\"\"        \n",
    "                                        else:\n",
    "                                            locations=[(lineC.coords[0][0]+0.0000001,lineC.coords[0][1])] #doesn't like point right on edge?\n",
    "                                            if(lineC.coords[0][0] > dataset.bounds[0] and lineC.coords[0][0] < dataset.bounds[2] and  \n",
    "                                                lineC.coords[0][1] > dataset.bounds[1] and lineC.coords[0][1] < dataset.bounds[3]):       \n",
    "                                                for val in dataset.sample(locations):\n",
    "                                                    height=str(val).replace(\"[\",\"\").replace(\"]\",\"\")\n",
    "                                                ostr=str(lineC.coords[0][0])+\",\"+str(lineC.coords[0][1])+\",\"+height+\",\"+str(ageol[1][c_l['c']])+\"\\n\"\n",
    "                                                ac.write(ostr)\n",
    "                                                allc.write(agp+\",\"+str(ageol[1]['OBJECTID_1'])+\",\"+ostr)\n",
    "                                                ls_dict_decimate[allpts] = {\"id\": id,\"CODE\":ageol[1]['CODE'],\"GROUP_\":ageol[1]['GROUP_'], \"geometry\": Point(lineC.coords[0][0],lineC.coords[0][1])}\n",
    "                                                allpts+=1\n",
    "                                        \"\"\"\n",
    "                                        k+=1\n",
    "                                elif(LineStringC.wkt.split(\" \")[0]=='LINESTRING'): # apparently this is not needed\n",
    "                                    #print(\"debug:LINESTRING\",ageol[1][[c_l['o']]],ageol[1][c_l['c']],list(LineStringC.coords))\n",
    "                                    #display(LineStringC)\n",
    "                                    k=0\n",
    "                                    for pt in LineStringC.coords: #process one linestring\n",
    "                                        #if(i%contact_decimate==0): #decimate to reduce number of points\n",
    "                                        #print(\"ls\",pt)\n",
    "                                        \"\"\"\n",
    "                                        locations=[(float(pt[0]),float(pt[1]))]\n",
    "                                        for val in dataset.sample(locations):\n",
    "                                            height=str(val).replace(\"[\",\"\").replace(\"]\",\"\")\n",
    "                                        ostr=str(pt[0])+\",\"+str(pt[1])+\",\"+height+\",\"+str(ageol[1][c_l['c']])+\"\\n\"\n",
    "                                        ac.write(ostr)\n",
    "                                        \"\"\"\n",
    "                                        k+=1\n",
    "                                elif(LineStringC.wkt.split(\" \")[0]=='POINT'): # apparently this is not needed\n",
    "                                    #print(\"debug:POINT\")\n",
    "                                    k=0\n",
    "                                    #print(\"pt\",LineStringC.coords)\n",
    "                                    \"\"\"\n",
    "                                    locations=[(float(pt[0]),float(pt[1]))]\n",
    "                                    for val in dataset.sample(locations):\n",
    "                                        height=str(val).replace(\"[\",\"\").replace(\"]\",\"\")\n",
    "                                    ostr=str(pt[0])+\",\"+str(pt[1])+\",\"+height+\",\"+str(ageol[1][c_l['c']])+\"\\n\"\n",
    "                                    ac.write(ostr)\n",
    "                                    \"\"\"\n",
    "                                    k+=1\n",
    "                                else:\n",
    "                                    k=0\n",
    "                                    #print(LineStringC.wkt.split(\" \")[0]) # apparently this is not needed\n",
    "                                    k+=1\n",
    "\n",
    "\n",
    "    ac.close()\n",
    "    allc.close()\n",
    "    print(\"basal contacts saved allpts=\",allpts,\"deci_pts=\",deci_points)\n",
    "    print(\"saved as\",path_in+'all_contacts.csv',\"and\",path_in+'contacts.csv')\n",
    "    return(ls_dict,ls_dict_decimate)\n"
   ]
  },
  {
   "cell_type": "code",
   "execution_count": 25,
   "metadata": {
    "ExecuteTime": {
     "end_time": "2019-10-22T04:35:04.355206Z",
     "start_time": "2019-10-22T04:34:56.036049Z"
    }
   },
   "outputs": [
    {
     "name": "stdout",
     "output_type": "stream",
     "text": [
      "decimation: 1 / 5\n",
      "surfaces: 19\n",
      "polygons: 92\n",
      "[[1, 'K__ca_sp'], [2, 'CP__pa_sepg'], [3, 'P___cr_g'], [4, 'P__LAw_stq'], [5, 'P__LAm_stq'], [6, 'P__LAp_kd'], [7, 'P__THb_shh'], [8, 'P__THc_stq'], [9, 'P__xg_mn_PTRT'], [10, 'P__mgnu_PTRO'], [11, 'P__mu_PTRC'], [12, 'P__md_PTRB'], [13, 'P___ya_mls'], [14, 'P___is_kx'], [15, 'P__TAc_sg'], [16, 'P__TA_sk'], [17, 'P__TAb_st'], [18, 'P__TAy_sk']]\n",
      "BoundingBox(left=963464.8794880386, bottom=7510497.028139648, right=1071794.6525284476, top=7626884.38760455)\n",
      "basal contacts saved allpts= 5951 deci_pts= 1477\n",
      "saved as ../ethan_3D/tmp/all_contacts.csv and ../ethan_3D/tmp/contacts.csv\n"
     ]
    }
   ],
   "source": [
    "ls_dict,ls_dict_decimate=xxxsave_basal_contacts(tmp_path,dtm,geol_clip,contact_decimate,c_l,intrusion_mode)"
   ]
  },
  {
   "cell_type": "code",
   "execution_count": 26,
   "metadata": {
    "ExecuteTime": {
     "end_time": "2019-10-22T04:35:04.479363Z",
     "start_time": "2019-10-22T04:35:04.360193Z"
    }
   },
   "outputs": [],
   "source": [
    "#Export contact information subset of each polygon to csv format\n",
    "def xxxsave_basal_contacts(path_in,dtm,geol_clip,contact_decimate,c_l,intrusion_mode):\n",
    "    print(\"decimation: 1 /\",contact_decimate)\n",
    "    plist=[]\n",
    "    i=0\n",
    "    all_geom=m2l_utils.explode(geol_clip)\n",
    "\n",
    "    #print(type(all_geom))\n",
    "\n",
    "    for ageol in all_geom.iterrows(): # central polygon\n",
    "        all_coords=m2l_geometry.extract_poly_coords(ageol[1].geometry,0)\n",
    "        plist+=(i,list(all_coords['exterior_coords']),ageol[1][c_l['c']],ageol[1][c_l['ds']],ageol[1][c_l['g']],ageol[1][c_l['r1']],ageol[1][c_l['o']])\n",
    "        i=i+1\n",
    "        for j in range(0,len(all_coords['interior_coords']),2):\n",
    "            plist+=(i,list(all_coords['interior_coords'][j+1]),ageol[1][c_l['c']],ageol[1][c_l['ds']],ageol[1][c_l['g']],ageol[1][c_l['r1']],ageol[1][c_l['o']])\n",
    "            i=i+1\n",
    "               \n",
    "    #dataset = rasterio.open(path_in+'/dtm_rp.tif')\n",
    "    ag=open(path_in+'/all_sorts.csv',\"r\")\n",
    "    contents =ag.readlines()\n",
    "    ag.close\n",
    "    print(\"surfaces:\",len(contents))\n",
    "    print(\"polygons:\",len(all_geom))\n",
    "    ulist=[]\n",
    "    for i in range(1,len(contents)):\n",
    "        #print(contents[i].replace(\"\\n\",\"\"))\n",
    "        cont_list=contents[i].split(\",\")\n",
    "        ulist.append([i, cont_list[4].replace(\"\\n\",\"\")])\n",
    "    print(ulist)\n",
    "\n",
    "    allc=open(path_in+'/all_contacts.csv',\"w\")\n",
    "    allc.write('GROUP_,id,x,y,z,code\\n')\n",
    "    ac=open(path_in+'/contacts.csv',\"w\")\n",
    "    ac.write(\"X,Y,Z,formation\\n\")\n",
    "    print(dtm.bounds)\n",
    "    j=0\n",
    "    allpts=0\n",
    "    deci_points=0\n",
    "    ls_dict={}\n",
    "    ls_dict_decimate={}\n",
    "    id=0\n",
    "    #print(len(plist))\n",
    "    for a_poly in range(0,len(plist),7):\n",
    "        if( not 'intrusive' in plist[a_poly+5]):\n",
    "            a_polygon=Polygon(plist[a_poly+1])\n",
    "            agp=str(plist[a_poly+4])\n",
    "            if(agp=='None'):\n",
    "                agp=plist[a_poly+2].replace(\" \",\"_\").replace(\"-\",\"_\")\n",
    "\n",
    "            neighbours=[]\n",
    "            j+=1\n",
    "            out=[item for item in ulist if plist[a_poly+2].replace(\" \",\"_\").replace(\"-\",\"_\") in item]\n",
    "            if(len(out)>0):\n",
    "                central=out[0][0]    #relative age of central polygon\n",
    "\n",
    "                for b_poly in range(0,len(plist),7):\n",
    "                    b_polygon=LineString(plist[b_poly+1])\n",
    "\n",
    "                    if(plist[a_poly] != plist[b_poly]): #do not compare with self\n",
    "\n",
    "                        if (a_polygon.intersects(b_polygon)) : # is a neighbour, but not a sill\n",
    "                            if(  (not c_l['sill'] in plist[b_poly+3] or not c_l['intrusive'] in plist[b_poly+5]) and intrusion_mode==0): #intrusion_mode=0 (sills only excluded)\n",
    "                                 neighbours.append((b_poly))                               \n",
    "                            elif((not c_l['intrusive'] in plist[b_poly+5])  and intrusion_mode==1): #intrusion_mode=1 (all intrusions  excluded)\n",
    "                                 neighbours.append((b_poly))                               \n",
    "\n",
    "\n",
    "                if(len(neighbours) >0):\n",
    "                    for i in range (0,len(neighbours)):\n",
    "                        b_polygon=LineString(plist[neighbours[i]+1])\n",
    "\n",
    "                        out=[item for item in ulist if plist[neighbours[i]+2].replace(\" \",\"_\").replace(\"-\",\"_\")  in item]\n",
    "\n",
    "                        if(len(out)>0):\n",
    "                            #if(out[0][0] > central and out[0][0] < youngest_older): # neighbour is older than central, and younger than previous candidate\n",
    "                            if(out[0][0] > central  ): # neighbour is older than central\n",
    "\n",
    "                                if(not a_polygon.is_valid ):\n",
    "                                    a_polygon = a_polygon.buffer(0)\n",
    "                                if(not b_polygon.is_valid):\n",
    "                                    b_polygon = b_polygon.buffer(0)                                    \n",
    "                                LineStringC = a_polygon.intersection(b_polygon)\n",
    "\n",
    "                                if(LineStringC.wkt.split(\" \")[0]=='GEOMETRYCOLLECTION' ): #ignore weird intersections for now, worry about them later!\n",
    "                                    #print(\"debug:GC\")\n",
    "                                    continue\n",
    "                                elif(LineStringC.wkt.split(\" \")[0]=='MULTIPOLYGON' or\n",
    "                                     LineStringC.wkt.split(\" \")[0]=='POLYGON'):\n",
    "                                         print(\"debug:MP,P\",ageol[1][c_l['c']])\n",
    "                                         #display(LineStringC)\n",
    "\n",
    "                                elif(LineStringC.wkt.split(\" \")[0]=='MULTILINESTRING'):\n",
    "                                    k=0\n",
    "\n",
    "                                    if(str(plist[a_poly+4])=='None'):\n",
    "                                        ls_dict[id] = {\"id\": id,c_l['c']:plist[a_poly+2].replace(\" \",\"_\").replace(\"-\",\"_\"),c_l['g']:plist[a_poly+2].replace(\" \",\"_\").replace(\"-\",\"_\"), \"geometry\": LineStringC}\n",
    "                                    else:\n",
    "                                        ls_dict[id] = {\"id\": id,c_l['c']:plist[a_poly+2].replace(\" \",\"_\").replace(\"-\",\"_\"),c_l['g']:plist[a_poly+4].replace(\" \",\"_\").replace(\"-\",\"_\"), \"geometry\": LineStringC}\n",
    "                                    id=id+1\n",
    "                                    for lineC in LineStringC: #process all linestrings\n",
    "                                        #print(ageol[1][c_l['c']],len(LineStringC))\n",
    "                                        if(m2l_utils.mod_safe(k,contact_decimate)==0 or k==int((len(LineStringC)-1)/2) or k==len(LineStringC)-1): #decimate to reduce number of points, but also take second and third point of a series to keep gempy happy\n",
    "                                            locations=[(lineC.coords[0][0],lineC.coords[0][1])] #doesn't like point right on edge?\n",
    "                                            #print(k,type(lineC))\n",
    "                                            if(lineC.coords[0][0] > dtm.bounds[0] and lineC.coords[0][0] < dtm.bounds[2] and  \n",
    "                                               lineC.coords[0][1] > dtm.bounds[1] and lineC.coords[0][1] < dtm.bounds[3]):       \n",
    "                                                    height=m2l_utils.value_from_raster(dtm,locations)\n",
    "                                                    ostr=str(lineC.coords[0][0])+\",\"+str(lineC.coords[0][1])+\",\"+height+\",\"+str(plist[a_poly+2].replace(\" \",\"_\").replace(\"-\",\"_\"))+\"\\n\"\n",
    "                                                    ac.write(ostr)\n",
    "                                                    allc.write(agp+\",\"+str(ageol[1][c_l['o']])+\",\"+ostr)\n",
    "                                                    if(str(plist[a_poly+4])=='None'):\n",
    "                                                        ls_dict_decimate[deci_points] = {\"id\": allpts,c_l['c']:plist[a_poly+2].replace(\" \",\"_\").replace(\"-\",\"_\"),c_l['g']:plist[a_poly+2].replace(\" \",\"_\").replace(\"-\",\"_\"), \"geometry\": Point(lineC.coords[0][0],lineC.coords[0][1])}\n",
    "                                                    else:\n",
    "                                                        ls_dict_decimate[deci_points] = {\"id\": allpts,c_l['c']:plist[a_poly+2].replace(\" \",\"_\").replace(\"-\",\"_\"),c_l['g']:plist[a_poly+4].replace(\" \",\"_\").replace(\"-\",\"_\"), \"geometry\": Point(lineC.coords[0][0],lineC.coords[0][1])}\n",
    "                                                    #ls_dict_decimate[allpts] = {\"id\": allpts,\"CODE\":ageol[1][c_l['c']].replace(\" \",\"_\").replace(\"-\",\"_\"),\"GROUP_\":ageol[1][c_l['g']].replace(\" \",\"_\").replace(\"-\",\"_\"), \"geometry\": Point(lineC.coords[0][0],lineC.coords[0][1])}\n",
    "                                                    allpts+=1 \n",
    "                                                    deci_points=deci_points+1\n",
    "                                            else:\n",
    "                                                continue\n",
    "                                                #print(\"debug:edge points\")\n",
    "                                        else:\n",
    "                                            locations=[(lineC.coords[0][0]+0.0000001,lineC.coords[0][1])] #doesn't like point right on edge?\n",
    "                                            if(lineC.coords[0][0] > dtm.bounds[0] and lineC.coords[0][0] < dtm.bounds[2] and  \n",
    "                                                lineC.coords[0][1] > dtm.bounds[1] and lineC.coords[0][1] < dtm.bounds[3]):       \n",
    "                                                height=m2l_utils.value_from_raster(dtm,locations)\n",
    "                                                ostr=str(lineC.coords[0][0])+\",\"+str(lineC.coords[0][1])+\",\"+height+\",\"+str(plist[a_poly+2].replace(\" \",\"_\").replace(\"-\",\"_\"))+\"\\n\"\n",
    "                                                #ls_dict_decimate[allpts] = {\"id\": id,c_l['c']:ageol[1][c_l['c']],c_l['g']:ageol[1][c_l['g']], \"geometry\": Point(lineC.coords[0][0],lineC.coords[0][1])}\n",
    "                                                allc.write(agp+\",\"+str(ageol[1][c_l['o']])+\",\"+ostr)\n",
    "                                                allpts+=1    \n",
    "                                        \"\"\"        \n",
    "                                        else:\n",
    "                                            locations=[(lineC.coords[0][0]+0.0000001,lineC.coords[0][1])] #doesn't like point right on edge?\n",
    "                                            if(lineC.coords[0][0] > dataset.bounds[0] and lineC.coords[0][0] < dataset.bounds[2] and  \n",
    "                                                lineC.coords[0][1] > dataset.bounds[1] and lineC.coords[0][1] < dataset.bounds[3]):       \n",
    "                                                for val in dataset.sample(locations):\n",
    "                                                    height=str(val).replace(\"[\",\"\").replace(\"]\",\"\")\n",
    "                                                ostr=str(lineC.coords[0][0])+\",\"+str(lineC.coords[0][1])+\",\"+height+\",\"+str(ageol[1][c_l['c']])+\"\\n\"\n",
    "                                                ac.write(ostr)\n",
    "                                                allc.write(agp+\",\"+str(ageol[1]['OBJECTID_1'])+\",\"+ostr)\n",
    "                                                ls_dict_decimate[allpts] = {\"id\": id,\"CODE\":ageol[1]['CODE'],\"GROUP_\":ageol[1]['GROUP_'], \"geometry\": Point(lineC.coords[0][0],lineC.coords[0][1])}\n",
    "                                                allpts+=1\n",
    "                                        \"\"\"\n",
    "                                        k+=1\n",
    "                                elif(LineStringC.wkt.split(\" \")[0]=='LINESTRING'): # apparently this is not needed\n",
    "                                    #print(\"debug:LINESTRING\",ageol[1][[c_l['o']]],ageol[1][c_l['c']],list(LineStringC.coords))\n",
    "                                    #display(LineStringC)\n",
    "                                    k=0\n",
    "                                    for pt in LineStringC.coords: #process one linestring\n",
    "                                        #if(i%contact_decimate==0): #decimate to reduce number of points\n",
    "                                        #print(\"ls\",pt)\n",
    "                                        \"\"\"\n",
    "                                        locations=[(float(pt[0]),float(pt[1]))]\n",
    "                                        for val in dataset.sample(locations):\n",
    "                                            height=str(val).replace(\"[\",\"\").replace(\"]\",\"\")\n",
    "                                        ostr=str(pt[0])+\",\"+str(pt[1])+\",\"+height+\",\"+str(ageol[1][c_l['c']])+\"\\n\"\n",
    "                                        ac.write(ostr)\n",
    "                                        \"\"\"\n",
    "                                        k+=1\n",
    "                                elif(LineStringC.wkt.split(\" \")[0]=='POINT'): # apparently this is not needed\n",
    "                                    #print(\"debug:POINT\")\n",
    "                                    k=0\n",
    "                                    #print(\"pt\",LineStringC.coords)\n",
    "                                    \"\"\"\n",
    "                                    locations=[(float(pt[0]),float(pt[1]))]\n",
    "                                    for val in dataset.sample(locations):\n",
    "                                        height=str(val).replace(\"[\",\"\").replace(\"]\",\"\")\n",
    "                                    ostr=str(pt[0])+\",\"+str(pt[1])+\",\"+height+\",\"+str(ageol[1][c_l['c']])+\"\\n\"\n",
    "                                    ac.write(ostr)\n",
    "                                    \"\"\"\n",
    "                                    k+=1\n",
    "                                else:\n",
    "                                    k=0\n",
    "                                    #print(LineStringC.wkt.split(\" \")[0]) # apparently this is not needed\n",
    "                                    k+=1\n",
    "\n",
    "\n",
    "    ac.close()\n",
    "    allc.close()\n",
    "    print(\"basal contacts saved allpts=\",allpts,\"deci_pts=\",deci_points)\n",
    "    print(\"saved as\",path_in+'all_contacts.csv',\"and\",path_in+'contacts.csv')\n",
    "    return(ls_dict,ls_dict_decimate)\n"
   ]
  },
  {
   "cell_type": "code",
   "execution_count": 27,
   "metadata": {
    "ExecuteTime": {
     "end_time": "2019-10-22T04:35:12.047148Z",
     "start_time": "2019-10-22T04:35:04.483353Z"
    },
    "scrolled": true
   },
   "outputs": [
    {
     "name": "stdout",
     "output_type": "stream",
     "text": [
      "decimation: 1 / 5\n",
      "surfaces: 19\n",
      "polygons: 92\n",
      "[[1, 'K__ca_sp'], [2, 'CP__pa_sepg'], [3, 'P___cr_g'], [4, 'P__LAw_stq'], [5, 'P__LAm_stq'], [6, 'P__LAp_kd'], [7, 'P__THb_shh'], [8, 'P__THc_stq'], [9, 'P__xg_mn_PTRT'], [10, 'P__mgnu_PTRO'], [11, 'P__mu_PTRC'], [12, 'P__md_PTRB'], [13, 'P___ya_mls'], [14, 'P___is_kx'], [15, 'P__TAc_sg'], [16, 'P__TA_sk'], [17, 'P__TAb_st'], [18, 'P__TAy_sk']]\n",
      "BoundingBox(left=963464.8794880386, bottom=7510497.028139648, right=1071794.6525284476, top=7626884.38760455)\n",
      "basal contacts saved allpts= 5951 deci_pts= 1477\n",
      "saved as ../ethan_3D/tmp/all_contacts.csv and ../ethan_3D/tmp/contacts.csv\n"
     ]
    }
   ],
   "source": [
    "ls_dict,ls_dict_decimate=m2l_geometry.save_basal_contacts(tmp_path,dtm,geol_clip,contact_decimate,c_l,intrusion_mode)"
   ]
  },
  {
   "cell_type": "markdown",
   "metadata": {},
   "source": [
    "## Remove all basal contacts that are defined by faults and save to shapefile (no decimation)"
   ]
  },
  {
   "cell_type": "code",
   "execution_count": 28,
   "metadata": {
    "ExecuteTime": {
     "end_time": "2019-10-22T04:35:12.095018Z",
     "start_time": "2019-10-22T04:35:12.050139Z"
    }
   },
   "outputs": [
    {
     "data": {
      "text/plain": [
       "{0: {'id': 0,\n",
       "  'CODE': 'P__THc_stq',\n",
       "  'GROUP_': 'Throssell_Range_Group',\n",
       "  'geometry': <shapely.geometry.multilinestring.MultiLineString at 0x27f71a63a20>},\n",
       " 1: {'id': 1,\n",
       "  'CODE': 'P__THc_stq',\n",
       "  'GROUP_': 'Throssell_Range_Group',\n",
       "  'geometry': <shapely.geometry.multilinestring.MultiLineString at 0x27f71a96a20>},\n",
       " 2: {'id': 2,\n",
       "  'CODE': 'P__THc_stq',\n",
       "  'GROUP_': 'Throssell_Range_Group',\n",
       "  'geometry': <shapely.geometry.multilinestring.MultiLineString at 0x27f71a639b0>},\n",
       " 3: {'id': 3,\n",
       "  'CODE': 'P__THc_stq',\n",
       "  'GROUP_': 'Throssell_Range_Group',\n",
       "  'geometry': <shapely.geometry.multilinestring.MultiLineString at 0x27f71a96908>},\n",
       " 4: {'id': 4,\n",
       "  'CODE': 'P__THc_stq',\n",
       "  'GROUP_': 'Throssell_Range_Group',\n",
       "  'geometry': <shapely.geometry.multilinestring.MultiLineString at 0x27f71a96c18>},\n",
       " 5: {'id': 5,\n",
       "  'CODE': 'P__md_PTRB',\n",
       "  'GROUP_': 'P__md_PTRB',\n",
       "  'geometry': <shapely.geometry.multilinestring.MultiLineString at 0x27f71a96dd8>},\n",
       " 6: {'id': 6,\n",
       "  'CODE': 'CP__pa_sepg',\n",
       "  'GROUP_': 'CP__pa_sepg',\n",
       "  'geometry': <shapely.geometry.multilinestring.MultiLineString at 0x27f71a63e10>},\n",
       " 7: {'id': 7,\n",
       "  'CODE': 'CP__pa_sepg',\n",
       "  'GROUP_': 'CP__pa_sepg',\n",
       "  'geometry': <shapely.geometry.multilinestring.MultiLineString at 0x27f71a96898>},\n",
       " 8: {'id': 8,\n",
       "  'CODE': 'CP__pa_sepg',\n",
       "  'GROUP_': 'CP__pa_sepg',\n",
       "  'geometry': <shapely.geometry.multilinestring.MultiLineString at 0x27f719efb70>},\n",
       " 9: {'id': 9,\n",
       "  'CODE': 'CP__pa_sepg',\n",
       "  'GROUP_': 'CP__pa_sepg',\n",
       "  'geometry': <shapely.geometry.multilinestring.MultiLineString at 0x27f719ef0b8>},\n",
       " 10: {'id': 10,\n",
       "  'CODE': 'CP__pa_sepg',\n",
       "  'GROUP_': 'CP__pa_sepg',\n",
       "  'geometry': <shapely.geometry.multilinestring.MultiLineString at 0x27f719ef5f8>},\n",
       " 11: {'id': 11,\n",
       "  'CODE': 'P__THb_shh',\n",
       "  'GROUP_': 'Throssell_Range_Group',\n",
       "  'geometry': <shapely.geometry.multilinestring.MultiLineString at 0x27f719efbe0>},\n",
       " 12: {'id': 12,\n",
       "  'CODE': 'P__THb_shh',\n",
       "  'GROUP_': 'Throssell_Range_Group',\n",
       "  'geometry': <shapely.geometry.multilinestring.MultiLineString at 0x27f719ef860>},\n",
       " 13: {'id': 13,\n",
       "  'CODE': 'P__THb_shh',\n",
       "  'GROUP_': 'Throssell_Range_Group',\n",
       "  'geometry': <shapely.geometry.multilinestring.MultiLineString at 0x27f719ec898>},\n",
       " 14: {'id': 14,\n",
       "  'CODE': 'P__THb_shh',\n",
       "  'GROUP_': 'Throssell_Range_Group',\n",
       "  'geometry': <shapely.geometry.multilinestring.MultiLineString at 0x27f719ce208>},\n",
       " 15: {'id': 15,\n",
       "  'CODE': 'P__TAc_sg',\n",
       "  'GROUP_': 'Tarcunyah_Group',\n",
       "  'geometry': <shapely.geometry.multilinestring.MultiLineString at 0x27f719ce630>},\n",
       " 16: {'id': 16,\n",
       "  'CODE': 'P__TAc_sg',\n",
       "  'GROUP_': 'Tarcunyah_Group',\n",
       "  'geometry': <shapely.geometry.multilinestring.MultiLineString at 0x27f6bf4d048>},\n",
       " 17: {'id': 17,\n",
       "  'CODE': 'CP__pa_sepg',\n",
       "  'GROUP_': 'CP__pa_sepg',\n",
       "  'geometry': <shapely.geometry.multilinestring.MultiLineString at 0x27f719ce0f0>},\n",
       " 18: {'id': 18,\n",
       "  'CODE': 'CP__pa_sepg',\n",
       "  'GROUP_': 'CP__pa_sepg',\n",
       "  'geometry': <shapely.geometry.multilinestring.MultiLineString at 0x27f71a96be0>},\n",
       " 19: {'id': 19,\n",
       "  'CODE': 'P__THc_stq',\n",
       "  'GROUP_': 'Throssell_Range_Group',\n",
       "  'geometry': <shapely.geometry.multilinestring.MultiLineString at 0x27f719d9e10>},\n",
       " 20: {'id': 20,\n",
       "  'CODE': 'P__THc_stq',\n",
       "  'GROUP_': 'Throssell_Range_Group',\n",
       "  'geometry': <shapely.geometry.multilinestring.MultiLineString at 0x27f719d99e8>},\n",
       " 21: {'id': 21,\n",
       "  'CODE': 'P__THc_stq',\n",
       "  'GROUP_': 'Throssell_Range_Group',\n",
       "  'geometry': <shapely.geometry.multilinestring.MultiLineString at 0x27f719d9eb8>},\n",
       " 22: {'id': 22,\n",
       "  'CODE': 'P__THc_stq',\n",
       "  'GROUP_': 'Throssell_Range_Group',\n",
       "  'geometry': <shapely.geometry.multilinestring.MultiLineString at 0x27f719d9470>},\n",
       " 23: {'id': 23,\n",
       "  'CODE': 'P__THc_stq',\n",
       "  'GROUP_': 'Throssell_Range_Group',\n",
       "  'geometry': <shapely.geometry.multilinestring.MultiLineString at 0x27f719d9c50>},\n",
       " 24: {'id': 24,\n",
       "  'CODE': 'P__THc_stq',\n",
       "  'GROUP_': 'Throssell_Range_Group',\n",
       "  'geometry': <shapely.geometry.multilinestring.MultiLineString at 0x27f719d95c0>},\n",
       " 25: {'id': 25,\n",
       "  'CODE': 'P__TAc_sg',\n",
       "  'GROUP_': 'Tarcunyah_Group',\n",
       "  'geometry': <shapely.geometry.multilinestring.MultiLineString at 0x27f719d93c8>},\n",
       " 26: {'id': 26,\n",
       "  'CODE': 'CP__pa_sepg',\n",
       "  'GROUP_': 'CP__pa_sepg',\n",
       "  'geometry': <shapely.geometry.multilinestring.MultiLineString at 0x27f71a5b5f8>},\n",
       " 27: {'id': 27,\n",
       "  'CODE': 'CP__pa_sepg',\n",
       "  'GROUP_': 'CP__pa_sepg',\n",
       "  'geometry': <shapely.geometry.multilinestring.MultiLineString at 0x27f71a5b630>},\n",
       " 28: {'id': 28,\n",
       "  'CODE': 'CP__pa_sepg',\n",
       "  'GROUP_': 'CP__pa_sepg',\n",
       "  'geometry': <shapely.geometry.multilinestring.MultiLineString at 0x27f719d9c88>},\n",
       " 29: {'id': 29,\n",
       "  'CODE': 'CP__pa_sepg',\n",
       "  'GROUP_': 'CP__pa_sepg',\n",
       "  'geometry': <shapely.geometry.multilinestring.MultiLineString at 0x27f71a5bc88>},\n",
       " 30: {'id': 30,\n",
       "  'CODE': 'CP__pa_sepg',\n",
       "  'GROUP_': 'CP__pa_sepg',\n",
       "  'geometry': <shapely.geometry.multilinestring.MultiLineString at 0x27f71a5b588>},\n",
       " 31: {'id': 31,\n",
       "  'CODE': 'CP__pa_sepg',\n",
       "  'GROUP_': 'CP__pa_sepg',\n",
       "  'geometry': <shapely.geometry.multilinestring.MultiLineString at 0x27f71a640f0>},\n",
       " 32: {'id': 32,\n",
       "  'CODE': 'CP__pa_sepg',\n",
       "  'GROUP_': 'CP__pa_sepg',\n",
       "  'geometry': <shapely.geometry.multilinestring.MultiLineString at 0x27f71a64e10>},\n",
       " 33: {'id': 33,\n",
       "  'CODE': 'CP__pa_sepg',\n",
       "  'GROUP_': 'CP__pa_sepg',\n",
       "  'geometry': <shapely.geometry.multilinestring.MultiLineString at 0x27f71a64d30>},\n",
       " 34: {'id': 34,\n",
       "  'CODE': 'CP__pa_sepg',\n",
       "  'GROUP_': 'CP__pa_sepg',\n",
       "  'geometry': <shapely.geometry.multilinestring.MultiLineString at 0x27f71a64ac8>},\n",
       " 35: {'id': 35,\n",
       "  'CODE': 'CP__pa_sepg',\n",
       "  'GROUP_': 'CP__pa_sepg',\n",
       "  'geometry': <shapely.geometry.multilinestring.MultiLineString at 0x27f71aa73c8>},\n",
       " 36: {'id': 36,\n",
       "  'CODE': 'CP__pa_sepg',\n",
       "  'GROUP_': 'CP__pa_sepg',\n",
       "  'geometry': <shapely.geometry.multilinestring.MultiLineString at 0x27f71aa78d0>},\n",
       " 37: {'id': 37,\n",
       "  'CODE': 'CP__pa_sepg',\n",
       "  'GROUP_': 'CP__pa_sepg',\n",
       "  'geometry': <shapely.geometry.multilinestring.MultiLineString at 0x27f71aa7d30>},\n",
       " 38: {'id': 38,\n",
       "  'CODE': 'CP__pa_sepg',\n",
       "  'GROUP_': 'CP__pa_sepg',\n",
       "  'geometry': <shapely.geometry.multilinestring.MultiLineString at 0x27f71aa7cc0>},\n",
       " 39: {'id': 39,\n",
       "  'CODE': 'CP__pa_sepg',\n",
       "  'GROUP_': 'CP__pa_sepg',\n",
       "  'geometry': <shapely.geometry.multilinestring.MultiLineString at 0x27f71aa7198>},\n",
       " 40: {'id': 40,\n",
       "  'CODE': 'CP__pa_sepg',\n",
       "  'GROUP_': 'CP__pa_sepg',\n",
       "  'geometry': <shapely.geometry.multilinestring.MultiLineString at 0x27f71a5ed68>},\n",
       " 41: {'id': 41,\n",
       "  'CODE': 'CP__pa_sepg',\n",
       "  'GROUP_': 'CP__pa_sepg',\n",
       "  'geometry': <shapely.geometry.multilinestring.MultiLineString at 0x27f71a5ec50>},\n",
       " 42: {'id': 42,\n",
       "  'CODE': 'CP__pa_sepg',\n",
       "  'GROUP_': 'CP__pa_sepg',\n",
       "  'geometry': <shapely.geometry.multilinestring.MultiLineString at 0x27f71a5e6d8>},\n",
       " 43: {'id': 43,\n",
       "  'CODE': 'CP__pa_sepg',\n",
       "  'GROUP_': 'CP__pa_sepg',\n",
       "  'geometry': <shapely.geometry.multilinestring.MultiLineString at 0x27f71a5e978>},\n",
       " 44: {'id': 44,\n",
       "  'CODE': 'CP__pa_sepg',\n",
       "  'GROUP_': 'CP__pa_sepg',\n",
       "  'geometry': <shapely.geometry.multilinestring.MultiLineString at 0x27f71a5eeb8>},\n",
       " 45: {'id': 45,\n",
       "  'CODE': 'CP__pa_sepg',\n",
       "  'GROUP_': 'CP__pa_sepg',\n",
       "  'geometry': <shapely.geometry.multilinestring.MultiLineString at 0x27f71a5ec18>},\n",
       " 46: {'id': 46,\n",
       "  'CODE': 'CP__pa_sepg',\n",
       "  'GROUP_': 'CP__pa_sepg',\n",
       "  'geometry': <shapely.geometry.multilinestring.MultiLineString at 0x27f71a5e208>},\n",
       " 47: {'id': 47,\n",
       "  'CODE': 'CP__pa_sepg',\n",
       "  'GROUP_': 'CP__pa_sepg',\n",
       "  'geometry': <shapely.geometry.multilinestring.MultiLineString at 0x27f71a61ac8>},\n",
       " 48: {'id': 48,\n",
       "  'CODE': 'P__LAm_stq',\n",
       "  'GROUP_': 'Lamil_Group',\n",
       "  'geometry': <shapely.geometry.multilinestring.MultiLineString at 0x27f71a5b160>},\n",
       " 49: {'id': 49,\n",
       "  'CODE': 'P__LAm_stq',\n",
       "  'GROUP_': 'Lamil_Group',\n",
       "  'geometry': <shapely.geometry.multilinestring.MultiLineString at 0x27f71a61588>},\n",
       " 50: {'id': 50,\n",
       "  'CODE': 'P__LAm_stq',\n",
       "  'GROUP_': 'Lamil_Group',\n",
       "  'geometry': <shapely.geometry.multilinestring.MultiLineString at 0x27f71a61ba8>},\n",
       " 51: {'id': 51,\n",
       "  'CODE': 'P__LAp_kd',\n",
       "  'GROUP_': 'Lamil_Group',\n",
       "  'geometry': <shapely.geometry.multilinestring.MultiLineString at 0x27f71a61cc0>},\n",
       " 52: {'id': 52,\n",
       "  'CODE': 'P__TA_sk',\n",
       "  'GROUP_': 'Tarcunyah_Group',\n",
       "  'geometry': <shapely.geometry.multilinestring.MultiLineString at 0x27f71a61a90>},\n",
       " 53: {'id': 53,\n",
       "  'CODE': 'P__TAb_st',\n",
       "  'GROUP_': 'Tarcunyah_Group',\n",
       "  'geometry': <shapely.geometry.multilinestring.MultiLineString at 0x27f71a614a8>},\n",
       " 54: {'id': 54,\n",
       "  'CODE': 'CP__pa_sepg',\n",
       "  'GROUP_': 'CP__pa_sepg',\n",
       "  'geometry': <shapely.geometry.multilinestring.MultiLineString at 0x27f71a61208>},\n",
       " 55: {'id': 55,\n",
       "  'CODE': 'CP__pa_sepg',\n",
       "  'GROUP_': 'CP__pa_sepg',\n",
       "  'geometry': <shapely.geometry.multilinestring.MultiLineString at 0x27f71a614e0>},\n",
       " 56: {'id': 56,\n",
       "  'CODE': 'CP__pa_sepg',\n",
       "  'GROUP_': 'CP__pa_sepg',\n",
       "  'geometry': <shapely.geometry.multilinestring.MultiLineString at 0x27f71a61400>},\n",
       " 57: {'id': 57,\n",
       "  'CODE': 'CP__pa_sepg',\n",
       "  'GROUP_': 'CP__pa_sepg',\n",
       "  'geometry': <shapely.geometry.multilinestring.MultiLineString at 0x27f71a61198>},\n",
       " 58: {'id': 58,\n",
       "  'CODE': 'CP__pa_sepg',\n",
       "  'GROUP_': 'CP__pa_sepg',\n",
       "  'geometry': <shapely.geometry.multilinestring.MultiLineString at 0x27f71abb240>},\n",
       " 59: {'id': 59,\n",
       "  'CODE': 'CP__pa_sepg',\n",
       "  'GROUP_': 'CP__pa_sepg',\n",
       "  'geometry': <shapely.geometry.multilinestring.MultiLineString at 0x27f71abb2e8>},\n",
       " 60: {'id': 60,\n",
       "  'CODE': 'CP__pa_sepg',\n",
       "  'GROUP_': 'CP__pa_sepg',\n",
       "  'geometry': <shapely.geometry.multilinestring.MultiLineString at 0x27f71abb8d0>},\n",
       " 61: {'id': 61,\n",
       "  'CODE': 'P__LAp_kd',\n",
       "  'GROUP_': 'Lamil_Group',\n",
       "  'geometry': <shapely.geometry.multilinestring.MultiLineString at 0x27f71abb630>},\n",
       " 62: {'id': 62,\n",
       "  'CODE': 'P__LAm_stq',\n",
       "  'GROUP_': 'Lamil_Group',\n",
       "  'geometry': <shapely.geometry.multilinestring.MultiLineString at 0x27f71a618d0>},\n",
       " 63: {'id': 63,\n",
       "  'CODE': 'P__LAm_stq',\n",
       "  'GROUP_': 'Lamil_Group',\n",
       "  'geometry': <shapely.geometry.multilinestring.MultiLineString at 0x27f71abb048>},\n",
       " 64: {'id': 64,\n",
       "  'CODE': 'P__LAm_stq',\n",
       "  'GROUP_': 'Lamil_Group',\n",
       "  'geometry': <shapely.geometry.multilinestring.MultiLineString at 0x27f71abbeb8>},\n",
       " 65: {'id': 65,\n",
       "  'CODE': 'P__LAp_kd',\n",
       "  'GROUP_': 'Lamil_Group',\n",
       "  'geometry': <shapely.geometry.multilinestring.MultiLineString at 0x27f71a5d9b0>},\n",
       " 66: {'id': 66,\n",
       "  'CODE': 'P__LAm_stq',\n",
       "  'GROUP_': 'Lamil_Group',\n",
       "  'geometry': <shapely.geometry.multilinestring.MultiLineString at 0x27f71a5dba8>},\n",
       " 67: {'id': 67,\n",
       "  'CODE': 'P__LAm_stq',\n",
       "  'GROUP_': 'Lamil_Group',\n",
       "  'geometry': <shapely.geometry.multilinestring.MultiLineString at 0x27f71a5d048>},\n",
       " 68: {'id': 68,\n",
       "  'CODE': 'P__LAp_kd',\n",
       "  'GROUP_': 'Lamil_Group',\n",
       "  'geometry': <shapely.geometry.multilinestring.MultiLineString at 0x27f71a5dc50>},\n",
       " 69: {'id': 69,\n",
       "  'CODE': 'P__LAm_stq',\n",
       "  'GROUP_': 'Lamil_Group',\n",
       "  'geometry': <shapely.geometry.multilinestring.MultiLineString at 0x27f71a5d470>},\n",
       " 70: {'id': 70,\n",
       "  'CODE': 'P__LAm_stq',\n",
       "  'GROUP_': 'Lamil_Group',\n",
       "  'geometry': <shapely.geometry.multilinestring.MultiLineString at 0x27f71a5d1d0>},\n",
       " 71: {'id': 71,\n",
       "  'CODE': 'P__THc_stq',\n",
       "  'GROUP_': 'Throssell_Range_Group',\n",
       "  'geometry': <shapely.geometry.multilinestring.MultiLineString at 0x27f71a5d588>},\n",
       " 72: {'id': 72,\n",
       "  'CODE': 'P__LAm_stq',\n",
       "  'GROUP_': 'Lamil_Group',\n",
       "  'geometry': <shapely.geometry.multilinestring.MultiLineString at 0x27f71a66588>},\n",
       " 73: {'id': 73,\n",
       "  'CODE': 'P__LAw_stq',\n",
       "  'GROUP_': 'Lamil_Group',\n",
       "  'geometry': <shapely.geometry.multilinestring.MultiLineString at 0x27f71a66828>},\n",
       " 74: {'id': 74,\n",
       "  'CODE': 'P__THb_shh',\n",
       "  'GROUP_': 'Throssell_Range_Group',\n",
       "  'geometry': <shapely.geometry.multilinestring.MultiLineString at 0x27f71a66940>},\n",
       " 75: {'id': 75,\n",
       "  'CODE': 'P__THb_shh',\n",
       "  'GROUP_': 'Throssell_Range_Group',\n",
       "  'geometry': <shapely.geometry.multilinestring.MultiLineString at 0x27f71a66048>},\n",
       " 76: {'id': 76,\n",
       "  'CODE': 'P__THb_shh',\n",
       "  'GROUP_': 'Throssell_Range_Group',\n",
       "  'geometry': <shapely.geometry.multilinestring.MultiLineString at 0x27f71a58630>},\n",
       " 77: {'id': 77,\n",
       "  'CODE': 'P__THb_shh',\n",
       "  'GROUP_': 'Throssell_Range_Group',\n",
       "  'geometry': <shapely.geometry.multilinestring.MultiLineString at 0x27f71a58b70>},\n",
       " 78: {'id': 78,\n",
       "  'CODE': 'P__THb_shh',\n",
       "  'GROUP_': 'Throssell_Range_Group',\n",
       "  'geometry': <shapely.geometry.multilinestring.MultiLineString at 0x27f71a584e0>},\n",
       " 79: {'id': 79,\n",
       "  'CODE': 'P__THb_shh',\n",
       "  'GROUP_': 'Throssell_Range_Group',\n",
       "  'geometry': <shapely.geometry.multilinestring.MultiLineString at 0x27f71a66f60>},\n",
       " 80: {'id': 80,\n",
       "  'CODE': 'P__LAw_stq',\n",
       "  'GROUP_': 'Lamil_Group',\n",
       "  'geometry': <shapely.geometry.multilinestring.MultiLineString at 0x27f71a56390>},\n",
       " 81: {'id': 81,\n",
       "  'CODE': 'P__LAm_stq',\n",
       "  'GROUP_': 'Lamil_Group',\n",
       "  'geometry': <shapely.geometry.multilinestring.MultiLineString at 0x27f71a4f4a8>},\n",
       " 82: {'id': 82,\n",
       "  'CODE': 'P___cr_g',\n",
       "  'GROUP_': 'P___cr_g',\n",
       "  'geometry': <shapely.geometry.multilinestring.MultiLineString at 0x27f71a56470>},\n",
       " 83: {'id': 83,\n",
       "  'CODE': 'P___cr_g',\n",
       "  'GROUP_': 'P___cr_g',\n",
       "  'geometry': <shapely.geometry.multilinestring.MultiLineString at 0x27f71a4fac8>},\n",
       " 84: {'id': 84,\n",
       "  'CODE': 'CP__pa_sepg',\n",
       "  'GROUP_': 'CP__pa_sepg',\n",
       "  'geometry': <shapely.geometry.multilinestring.MultiLineString at 0x27f71a4fe48>},\n",
       " 85: {'id': 85,\n",
       "  'CODE': 'CP__pa_sepg',\n",
       "  'GROUP_': 'CP__pa_sepg',\n",
       "  'geometry': <shapely.geometry.multilinestring.MultiLineString at 0x27f71a4f748>},\n",
       " 86: {'id': 86,\n",
       "  'CODE': 'CP__pa_sepg',\n",
       "  'GROUP_': 'CP__pa_sepg',\n",
       "  'geometry': <shapely.geometry.multilinestring.MultiLineString at 0x27f71a4fef0>},\n",
       " 87: {'id': 87,\n",
       "  'CODE': 'CP__pa_sepg',\n",
       "  'GROUP_': 'CP__pa_sepg',\n",
       "  'geometry': <shapely.geometry.multilinestring.MultiLineString at 0x27f71a4f9e8>},\n",
       " 88: {'id': 88,\n",
       "  'CODE': 'P__LAw_stq',\n",
       "  'GROUP_': 'Lamil_Group',\n",
       "  'geometry': <shapely.geometry.multilinestring.MultiLineString at 0x27f71a51908>},\n",
       " 89: {'id': 89,\n",
       "  'CODE': 'P__LAw_stq',\n",
       "  'GROUP_': 'Lamil_Group',\n",
       "  'geometry': <shapely.geometry.multilinestring.MultiLineString at 0x27f71a515f8>},\n",
       " 90: {'id': 90,\n",
       "  'CODE': 'P___cr_g',\n",
       "  'GROUP_': 'P___cr_g',\n",
       "  'geometry': <shapely.geometry.multilinestring.MultiLineString at 0x27f71a51ba8>},\n",
       " 91: {'id': 91,\n",
       "  'CODE': 'P__TAb_st',\n",
       "  'GROUP_': 'Tarcunyah_Group',\n",
       "  'geometry': <shapely.geometry.multilinestring.MultiLineString at 0x27f71a51a20>},\n",
       " 92: {'id': 92,\n",
       "  'CODE': 'P___cr_g',\n",
       "  'GROUP_': 'P___cr_g',\n",
       "  'geometry': <shapely.geometry.multilinestring.MultiLineString at 0x27f71a4fc18>},\n",
       " 93: {'id': 93,\n",
       "  'CODE': 'P__LAw_stq',\n",
       "  'GROUP_': 'Lamil_Group',\n",
       "  'geometry': <shapely.geometry.multilinestring.MultiLineString at 0x27f71a51c88>},\n",
       " 94: {'id': 94,\n",
       "  'CODE': 'P__LAw_stq',\n",
       "  'GROUP_': 'Lamil_Group',\n",
       "  'geometry': <shapely.geometry.multilinestring.MultiLineString at 0x27f71a51c50>},\n",
       " 95: {'id': 95,\n",
       "  'CODE': 'P__LAm_stq',\n",
       "  'GROUP_': 'Lamil_Group',\n",
       "  'geometry': <shapely.geometry.multilinestring.MultiLineString at 0x27f719ff828>},\n",
       " 96: {'id': 96,\n",
       "  'CODE': 'P__LAm_stq',\n",
       "  'GROUP_': 'Lamil_Group',\n",
       "  'geometry': <shapely.geometry.multilinestring.MultiLineString at 0x27f6bf57b70>},\n",
       " 97: {'id': 97,\n",
       "  'CODE': 'P__LAm_stq',\n",
       "  'GROUP_': 'Lamil_Group',\n",
       "  'geometry': <shapely.geometry.multilinestring.MultiLineString at 0x27f6bf57f98>},\n",
       " 98: {'id': 98,\n",
       "  'CODE': 'P__LAm_stq',\n",
       "  'GROUP_': 'Lamil_Group',\n",
       "  'geometry': <shapely.geometry.multilinestring.MultiLineString at 0x27f719ff080>},\n",
       " 99: {'id': 99,\n",
       "  'CODE': 'P__LAm_stq',\n",
       "  'GROUP_': 'Lamil_Group',\n",
       "  'geometry': <shapely.geometry.multilinestring.MultiLineString at 0x27f6bf05630>},\n",
       " 100: {'id': 100,\n",
       "  'CODE': 'P__LAm_stq',\n",
       "  'GROUP_': 'Lamil_Group',\n",
       "  'geometry': <shapely.geometry.multilinestring.MultiLineString at 0x27f6bf05c88>},\n",
       " 101: {'id': 101,\n",
       "  'CODE': 'P__LAw_stq',\n",
       "  'GROUP_': 'Lamil_Group',\n",
       "  'geometry': <shapely.geometry.multilinestring.MultiLineString at 0x27f6bf579b0>},\n",
       " 102: {'id': 102,\n",
       "  'CODE': 'P___cr_g',\n",
       "  'GROUP_': 'P___cr_g',\n",
       "  'geometry': <shapely.geometry.multilinestring.MultiLineString at 0x27f71a672e8>},\n",
       " 103: {'id': 103,\n",
       "  'CODE': 'P__LAw_stq',\n",
       "  'GROUP_': 'Lamil_Group',\n",
       "  'geometry': <shapely.geometry.multilinestring.MultiLineString at 0x27f6bf05c18>},\n",
       " 104: {'id': 104,\n",
       "  'CODE': 'P___cr_g',\n",
       "  'GROUP_': 'P___cr_g',\n",
       "  'geometry': <shapely.geometry.multilinestring.MultiLineString at 0x27f71a67c88>},\n",
       " 105: {'id': 105,\n",
       "  'CODE': 'P___cr_g',\n",
       "  'GROUP_': 'P___cr_g',\n",
       "  'geometry': <shapely.geometry.multilinestring.MultiLineString at 0x27f71a67dd8>},\n",
       " 106: {'id': 106,\n",
       "  'CODE': 'P___cr_g',\n",
       "  'GROUP_': 'P___cr_g',\n",
       "  'geometry': <shapely.geometry.multilinestring.MultiLineString at 0x27f71a69278>},\n",
       " 107: {'id': 107,\n",
       "  'CODE': 'P___cr_g',\n",
       "  'GROUP_': 'P___cr_g',\n",
       "  'geometry': <shapely.geometry.multilinestring.MultiLineString at 0x27f71a69208>},\n",
       " 108: {'id': 108,\n",
       "  'CODE': 'P___cr_g',\n",
       "  'GROUP_': 'P___cr_g',\n",
       "  'geometry': <shapely.geometry.multilinestring.MultiLineString at 0x27f71a69048>},\n",
       " 109: {'id': 109,\n",
       "  'CODE': 'P___cr_g',\n",
       "  'GROUP_': 'P___cr_g',\n",
       "  'geometry': <shapely.geometry.multilinestring.MultiLineString at 0x27f71a697f0>},\n",
       " 110: {'id': 110,\n",
       "  'CODE': 'P___cr_g',\n",
       "  'GROUP_': 'P___cr_g',\n",
       "  'geometry': <shapely.geometry.multilinestring.MultiLineString at 0x27f71a67898>},\n",
       " 111: {'id': 111,\n",
       "  'CODE': 'P___cr_g',\n",
       "  'GROUP_': 'P___cr_g',\n",
       "  'geometry': <shapely.geometry.multilinestring.MultiLineString at 0x27f71a69d68>},\n",
       " 112: {'id': 112,\n",
       "  'CODE': 'P___cr_g',\n",
       "  'GROUP_': 'P___cr_g',\n",
       "  'geometry': <shapely.geometry.multilinestring.MultiLineString at 0x27f71a69f60>},\n",
       " 113: {'id': 113,\n",
       "  'CODE': 'P___cr_g',\n",
       "  'GROUP_': 'P___cr_g',\n",
       "  'geometry': <shapely.geometry.multilinestring.MultiLineString at 0x27f71a695c0>},\n",
       " 114: {'id': 114,\n",
       "  'CODE': 'P___cr_g',\n",
       "  'GROUP_': 'P___cr_g',\n",
       "  'geometry': <shapely.geometry.multilinestring.MultiLineString at 0x27f71a6b0b8>},\n",
       " 115: {'id': 115,\n",
       "  'CODE': 'P___cr_g',\n",
       "  'GROUP_': 'P___cr_g',\n",
       "  'geometry': <shapely.geometry.multilinestring.MultiLineString at 0x27f71a6b240>},\n",
       " 116: {'id': 116,\n",
       "  'CODE': 'P___cr_g',\n",
       "  'GROUP_': 'P___cr_g',\n",
       "  'geometry': <shapely.geometry.multilinestring.MultiLineString at 0x27f71a6b6d8>},\n",
       " 117: {'id': 117,\n",
       "  'CODE': 'P___cr_g',\n",
       "  'GROUP_': 'P___cr_g',\n",
       "  'geometry': <shapely.geometry.multilinestring.MultiLineString at 0x27f71a6b898>},\n",
       " 118: {'id': 118,\n",
       "  'CODE': 'P___cr_g',\n",
       "  'GROUP_': 'P___cr_g',\n",
       "  'geometry': <shapely.geometry.multilinestring.MultiLineString at 0x27f71a6b048>},\n",
       " 119: {'id': 119,\n",
       "  'CODE': 'P___cr_g',\n",
       "  'GROUP_': 'P___cr_g',\n",
       "  'geometry': <shapely.geometry.multilinestring.MultiLineString at 0x27f71a6e080>},\n",
       " 120: {'id': 120,\n",
       "  'CODE': 'P___cr_g',\n",
       "  'GROUP_': 'P___cr_g',\n",
       "  'geometry': <shapely.geometry.multilinestring.MultiLineString at 0x27f71a6e630>},\n",
       " 121: {'id': 121,\n",
       "  'CODE': 'P___cr_g',\n",
       "  'GROUP_': 'P___cr_g',\n",
       "  'geometry': <shapely.geometry.multilinestring.MultiLineString at 0x27f71a6e128>},\n",
       " 122: {'id': 122,\n",
       "  'CODE': 'P___cr_g',\n",
       "  'GROUP_': 'P___cr_g',\n",
       "  'geometry': <shapely.geometry.multilinestring.MultiLineString at 0x27f71a6e4a8>},\n",
       " 123: {'id': 123,\n",
       "  'CODE': 'P___cr_g',\n",
       "  'GROUP_': 'P___cr_g',\n",
       "  'geometry': <shapely.geometry.multilinestring.MultiLineString at 0x27f71a6ebe0>},\n",
       " 124: {'id': 124,\n",
       "  'CODE': 'P___cr_g',\n",
       "  'GROUP_': 'P___cr_g',\n",
       "  'geometry': <shapely.geometry.multilinestring.MultiLineString at 0x27f71a6ed30>},\n",
       " 125: {'id': 125,\n",
       "  'CODE': 'P__LAm_stq',\n",
       "  'GROUP_': 'Lamil_Group',\n",
       "  'geometry': <shapely.geometry.multilinestring.MultiLineString at 0x27f71a6e908>},\n",
       " 126: {'id': 126,\n",
       "  'CODE': 'P__LAm_stq',\n",
       "  'GROUP_': 'Lamil_Group',\n",
       "  'geometry': <shapely.geometry.multilinestring.MultiLineString at 0x27f71a6ee10>},\n",
       " 127: {'id': 127,\n",
       "  'CODE': 'P__LAm_stq',\n",
       "  'GROUP_': 'Lamil_Group',\n",
       "  'geometry': <shapely.geometry.multilinestring.MultiLineString at 0x27f71a694e0>},\n",
       " 128: {'id': 128,\n",
       "  'CODE': 'P__LAw_stq',\n",
       "  'GROUP_': 'Lamil_Group',\n",
       "  'geometry': <shapely.geometry.multilinestring.MultiLineString at 0x27f71a6f080>},\n",
       " 129: {'id': 129,\n",
       "  'CODE': 'P__LAw_stq',\n",
       "  'GROUP_': 'Lamil_Group',\n",
       "  'geometry': <shapely.geometry.multilinestring.MultiLineString at 0x27f71a6f208>},\n",
       " 130: {'id': 130,\n",
       "  'CODE': 'P__LAm_stq',\n",
       "  'GROUP_': 'Lamil_Group',\n",
       "  'geometry': <shapely.geometry.multilinestring.MultiLineString at 0x27f71a6fc18>},\n",
       " 131: {'id': 131,\n",
       "  'CODE': 'P__LAm_stq',\n",
       "  'GROUP_': 'Lamil_Group',\n",
       "  'geometry': <shapely.geometry.multilinestring.MultiLineString at 0x27f71a6f2b0>},\n",
       " 132: {'id': 132,\n",
       "  'CODE': 'P__LAm_stq',\n",
       "  'GROUP_': 'Lamil_Group',\n",
       "  'geometry': <shapely.geometry.multilinestring.MultiLineString at 0x27f71a6feb8>},\n",
       " 133: {'id': 133,\n",
       "  'CODE': 'P__LAw_stq',\n",
       "  'GROUP_': 'Lamil_Group',\n",
       "  'geometry': <shapely.geometry.multilinestring.MultiLineString at 0x27f71a6f7b8>},\n",
       " 134: {'id': 134,\n",
       "  'CODE': 'P__LAw_stq',\n",
       "  'GROUP_': 'Lamil_Group',\n",
       "  'geometry': <shapely.geometry.multilinestring.MultiLineString at 0x27f71a6fe10>},\n",
       " 135: {'id': 135,\n",
       "  'CODE': 'CP__pa_sepg',\n",
       "  'GROUP_': 'CP__pa_sepg',\n",
       "  'geometry': <shapely.geometry.multilinestring.MultiLineString at 0x27f71a6fcf8>},\n",
       " 136: {'id': 136,\n",
       "  'CODE': 'CP__pa_sepg',\n",
       "  'GROUP_': 'CP__pa_sepg',\n",
       "  'geometry': <shapely.geometry.multilinestring.MultiLineString at 0x27f71a6ff98>},\n",
       " 137: {'id': 137,\n",
       "  'CODE': 'CP__pa_sepg',\n",
       "  'GROUP_': 'CP__pa_sepg',\n",
       "  'geometry': <shapely.geometry.multilinestring.MultiLineString at 0x27f71a70048>},\n",
       " 138: {'id': 138,\n",
       "  'CODE': 'CP__pa_sepg',\n",
       "  'GROUP_': 'CP__pa_sepg',\n",
       "  'geometry': <shapely.geometry.multilinestring.MultiLineString at 0x27f71a700b8>},\n",
       " 139: {'id': 139,\n",
       "  'CODE': 'CP__pa_sepg',\n",
       "  'GROUP_': 'CP__pa_sepg',\n",
       "  'geometry': <shapely.geometry.multilinestring.MultiLineString at 0x27f71a70128>},\n",
       " 140: {'id': 140,\n",
       "  'CODE': 'K__ca_sp',\n",
       "  'GROUP_': 'K__ca_sp',\n",
       "  'geometry': <shapely.geometry.multilinestring.MultiLineString at 0x27f71a707f0>}}"
      ]
     },
     "metadata": {},
     "output_type": "display_data"
    }
   ],
   "source": [
    "display(ls_dict)"
   ]
  },
  {
   "cell_type": "code",
   "execution_count": 29,
   "metadata": {
    "ExecuteTime": {
     "end_time": "2019-10-22T04:35:13.568102Z",
     "start_time": "2019-10-22T04:35:12.098011Z"
    }
   },
   "outputs": [
    {
     "name": "stdout",
     "output_type": "stream",
     "text": [
      "(141,)\n",
      "basal contacts without faults saved as ../ethan_3D/tmp/basal_contacts.shp\n"
     ]
    }
   ],
   "source": [
    "m2l_geometry.save_basal_no_faults(tmp_path+'basal_contacts.shp',tmp_path+'faults_clip.shp',ls_dict,10,c_l,dst_crs)"
   ]
  },
  {
   "cell_type": "markdown",
   "metadata": {},
   "source": [
    "## Remove faults from decimated basal contacts as save as csv file"
   ]
  },
  {
   "cell_type": "code",
   "execution_count": 30,
   "metadata": {
    "ExecuteTime": {
     "end_time": "2019-10-22T04:35:17.507292Z",
     "start_time": "2019-10-22T04:35:13.571093Z"
    }
   },
   "outputs": [
    {
     "name": "stdout",
     "output_type": "stream",
     "text": [
      "undecimated points: 1477\n",
      "1353 decimated contact points saved as ../ethan_3D/output//contacts4.csv\n"
     ]
    }
   ],
   "source": [
    "m2l_geometry.save_contacts_with_faults_removed(tmp_path+'faults_clip.shp',output_path,10,ls_dict,ls_dict_decimate,c_l,dst_crs,dtm)"
   ]
  },
  {
   "cell_type": "markdown",
   "metadata": {},
   "source": [
    "## Save fault as contact info and and orientation info make vertical (for the moment)"
   ]
  },
  {
   "cell_type": "code",
   "execution_count": 31,
   "metadata": {
    "ExecuteTime": {
     "end_time": "2019-10-22T04:35:20.292147Z",
     "start_time": "2019-10-22T04:35:17.509151Z"
    }
   },
   "outputs": [
    {
     "name": "stdout",
     "output_type": "stream",
     "text": [
      "fault orientations saved as ../ethan_3D/output/fault_orientations.csv\n",
      "fault positions saved as ../ethan_3D/output/faults.csv\n",
      "fault dimensions saved as ../ethan_3D/output/fault_dimensions.csv\n",
      "fault-fault, fault-group and fault-unit relationship tables saved as:\n",
      "../ethan_3D/output/fault-fault-relationships.csv\n",
      "../ethan_3D/output/group-fault-relationships.csv\n",
      "../ethan_3D/output/unit-fault-relationships.csv\n"
     ]
    }
   ],
   "source": [
    "m2l_geometry.save_faults(tmp_path+'faults_clip.shp',output_path,dtm,c_l,fault_decimate)\n",
    "m2l_topology.parse_fault_relationships(graph_path,tmp_path,output_path)"
   ]
  },
  {
   "cell_type": "markdown",
   "metadata": {},
   "source": [
    "## Create basal contact points with orientation from orientations and basal points"
   ]
  },
  {
   "cell_type": "markdown",
   "metadata": {},
   "source": [
    "contacts = gpd.read_file(tmp_path+'basal_contacts2.shp') #load orientation data as geopandas dataframe \n",
    "structures = gpd.read_file(tmp_path+'structure_clip.shp') #load orientation data as geopandas dataframe \n",
    "\n",
    "m2l_geometry.create_basal_contact_orientations(contacts,structures,output_path,dtm,2500,ccode,gcode,dcode,ddcode)\n"
   ]
  },
  {
   "cell_type": "markdown",
   "metadata": {},
   "source": [
    "## Creates fold axial trace points"
   ]
  },
  {
   "cell_type": "code",
   "execution_count": 32,
   "metadata": {
    "ExecuteTime": {
     "end_time": "2019-10-22T04:35:20.452718Z",
     "start_time": "2019-10-22T04:35:20.295139Z"
    }
   },
   "outputs": [
    {
     "name": "stdout",
     "output_type": "stream",
     "text": [
      "fold axial traces saved as ../ethan_3D/output/fold_axial_traces.csv\n"
     ]
    }
   ],
   "source": [
    "m2l_geometry.save_fold_axial_traces(tmp_path+'faults_clip.shp',output_path,dtm,c_l,fold_decimate)"
   ]
  },
  {
   "cell_type": "markdown",
   "metadata": {},
   "source": [
    "## Process plutons\n",
    "\n",
    "For each instruve but not sill polygon, find older neighbours and store decimated contact points. Also store dipping contact orientations (user defined, just because) with four possible sub-surface configurations:\n",
    "\n",
    "<b>saucers: \\\\_+++_/ <br>\n",
    "batholiths: +++/__ __ _\\\\+++  <br> \n",
    "domes: /‾+++‾\\\\ <br>\n",
    "pendants: +++\\\\_  _/+++ <br>\n",
    "</b>\n",
    "  \n",
    "Saves out orientations and contact points, as well as updated group level stratigraphic column.<br>\n"
   ]
  },
  {
   "cell_type": "code",
   "execution_count": 33,
   "metadata": {
    "ExecuteTime": {
     "end_time": "2019-10-22T04:35:20.462693Z",
     "start_time": "2019-10-22T04:35:20.455710Z"
    }
   },
   "outputs": [
    {
     "name": "stdout",
     "output_type": "stream",
     "text": [
      "C:\\Users\\00073294\\Dropbox\\1_Jupyter_notebooks\\map2loop\\map2loop\n"
     ]
    }
   ],
   "source": [
    "\n",
    "print(os.getcwd())\n"
   ]
  },
  {
   "cell_type": "code",
   "execution_count": 34,
   "metadata": {
    "ExecuteTime": {
     "end_time": "2019-10-22T04:35:20.470670Z",
     "start_time": "2019-10-22T04:35:20.465684Z"
    }
   },
   "outputs": [],
   "source": [
    "#%run -i \"../test_data3/m2l_config.py\"\n",
    "bbox=(minx,miny,maxx,maxy)\n",
    "\n",
    "pluton_dip=str(pluton_dip)\n",
    "\n",
    "dist_buffer=10\n",
    "\n"
   ]
  },
  {
   "cell_type": "code",
   "execution_count": 35,
   "metadata": {
    "ExecuteTime": {
     "end_time": "2019-10-22T04:35:20.482639Z",
     "start_time": "2019-10-22T04:35:20.474660Z"
    }
   },
   "outputs": [],
   "source": [
    "\n",
    "\n",
    "dtm = rasterio.open(dtm_reproj_file)"
   ]
  },
  {
   "cell_type": "code",
   "execution_count": 36,
   "metadata": {
    "ExecuteTime": {
     "end_time": "2019-10-22T04:35:27.415541Z",
     "start_time": "2019-10-22T04:35:20.485632Z"
    }
   },
   "outputs": [
    {
     "name": "stdout",
     "output_type": "stream",
     "text": [
      "0 K__ca_sp\n",
      "1 CP__pa_sepg\n",
      "2 P___cr_g\n",
      "3 Lamil_Group\n",
      "4 Throssell_Range_Group\n",
      "5 P__xg_mn_PTRT\n",
      "6 P__mgnu_PTRO\n",
      "7 P__mu_PTRC\n",
      "8 P__md_PTRB\n",
      "9 P___ya_mls\n",
      "10 P___is_kx\n",
      "11 Tarcunyah_Group\n",
      "True\n",
      "../ethan_3D/output/ign_orientations_domes.csv\n",
      "P_-xg-mn-PTRT_7180\n",
      "P_-_cr-g_2088\n",
      "P_-_cr-g_3135\n",
      "P_-_cr-g_6588\n",
      "P_-_cr-g_5989\n",
      "P_-_cr-g_6590\n",
      "P_-_cr-g_5684\n"
     ]
    },
    {
     "ename": "AttributeError",
     "evalue": "'MultiPolygon' object has no attribute 'exterior'",
     "output_type": "error",
     "traceback": [
      "\u001b[1;31m---------------------------------------------------------------------------\u001b[0m",
      "\u001b[1;31mAttributeError\u001b[0m                            Traceback (most recent call last)",
      "\u001b[1;32m~\\Dropbox\\1_Jupyter_notebooks\\map2loop\\notebooks\\m2l_config.py\u001b[0m in \u001b[0;36m<module>\u001b[1;34m\u001b[0m\n\u001b[1;32m----> 1\u001b[1;33m \u001b[0mm2l_geometry\u001b[0m\u001b[1;33m.\u001b[0m\u001b[0mprocess_plutons\u001b[0m\u001b[1;33m(\u001b[0m\u001b[0mtmp_path\u001b[0m\u001b[1;33m,\u001b[0m\u001b[0moutput_path\u001b[0m\u001b[1;33m,\u001b[0m\u001b[0mgeol_clip\u001b[0m\u001b[1;33m,\u001b[0m\u001b[0mlocal_paths\u001b[0m\u001b[1;33m,\u001b[0m\u001b[0mdtm\u001b[0m\u001b[1;33m,\u001b[0m\u001b[0mpluton_form\u001b[0m\u001b[1;33m,\u001b[0m\u001b[0mpluton_dip\u001b[0m\u001b[1;33m,\u001b[0m\u001b[0mcontact_decimate\u001b[0m\u001b[1;33m,\u001b[0m\u001b[0mc_l\u001b[0m\u001b[1;33m)\u001b[0m\u001b[1;33m\u001b[0m\u001b[1;33m\u001b[0m\u001b[0m\n\u001b[0m",
      "\u001b[1;32m~\\AppData\\Roaming\\Python\\Python37\\site-packages\\map2loop-0.0.46-py3.7.egg\\map2loop\\m2l_geometry.py\u001b[0m in \u001b[0;36mprocess_plutons\u001b[1;34m(tmp_path, output_path, geol_clip, local_paths, dtm, pluton_form, pluton_dip, contact_decimate, c_l)\u001b[0m\n\u001b[0;32m    651\u001b[0m \u001b[1;33m\u001b[0m\u001b[0m\n\u001b[0;32m    652\u001b[0m                                     \u001b[1;32mfor\u001b[0m \u001b[0mcgeol\u001b[0m \u001b[1;32min\u001b[0m \u001b[0mgeol_clip\u001b[0m\u001b[1;33m.\u001b[0m\u001b[0miterrows\u001b[0m\u001b[1;33m(\u001b[0m\u001b[1;33m)\u001b[0m\u001b[1;33m:\u001b[0m \u001b[1;31m# check on direction to dip\u001b[0m\u001b[1;33m\u001b[0m\u001b[1;33m\u001b[0m\u001b[0m\n\u001b[1;32m--> 653\u001b[1;33m                                         \u001b[1;32mif\u001b[0m \u001b[0mLineString\u001b[0m\u001b[1;33m(\u001b[0m\u001b[0mcentral_poly\u001b[0m\u001b[1;33m.\u001b[0m\u001b[0mexterior\u001b[0m\u001b[1;33m.\u001b[0m\u001b[0mcoords\u001b[0m\u001b[1;33m)\u001b[0m\u001b[1;33m.\u001b[0m\u001b[0mcontains\u001b[0m\u001b[1;33m(\u001b[0m\u001b[0mPoint\u001b[0m\u001b[1;33m(\u001b[0m\u001b[0mtestpx\u001b[0m\u001b[1;33m,\u001b[0m \u001b[0mtestpy\u001b[0m\u001b[1;33m)\u001b[0m\u001b[1;33m)\u001b[0m\u001b[1;33m:\u001b[0m\u001b[1;33m\u001b[0m\u001b[1;33m\u001b[0m\u001b[0m\n\u001b[0m\u001b[0;32m    654\u001b[0m                                             \u001b[0mazimuth\u001b[0m\u001b[1;33m=\u001b[0m\u001b[1;33m(\u001b[0m\u001b[0mazimuth\u001b[0m\u001b[1;33m-\u001b[0m\u001b[1;36m180\u001b[0m\u001b[1;33m)\u001b[0m\u001b[1;33m%\u001b[0m\u001b[1;36m360\u001b[0m\u001b[1;33m\u001b[0m\u001b[1;33m\u001b[0m\u001b[0m\n\u001b[0;32m    655\u001b[0m                                             \u001b[1;32mbreak\u001b[0m\u001b[1;33m\u001b[0m\u001b[1;33m\u001b[0m\u001b[0m\n",
      "\u001b[1;31mAttributeError\u001b[0m: 'MultiPolygon' object has no attribute 'exterior'"
     ]
    }
   ],
   "source": [
    "m2l_geometry.process_plutons(tmp_path,output_path,geol_clip,local_paths,dtm,pluton_form,pluton_dip,contact_decimate,c_l)\n"
   ]
  },
  {
   "cell_type": "markdown",
   "metadata": {},
   "source": [
    "## Interpolates a regular grid of orientations from an  shapefile of arbitrarily-located points and saves out four csv files of l,m & n direction cosines and dip dip direction data\n",
    "\n",
    "Can choose between various RBF and IDW options   \n",
    "  \n",
    "The purpose of Notebooks 4,5,6 and associated code is to help in three cases:\n",
    "- Providing estimated dips and contacts in fault-bounded domains where no structural data are available\n",
    "- Needed to estimate true thickness of formations\n",
    "- Possibly useful for poulating parts of maps where little structural data is available"
   ]
  },
  {
   "cell_type": "code",
   "execution_count": null,
   "metadata": {
    "ExecuteTime": {
     "end_time": "2019-10-22T04:35:27.417535Z",
     "start_time": "2019-10-22T04:34:17.932Z"
    }
   },
   "outputs": [],
   "source": [
    "use_gcode=('Throssell Range Group' ,'Lamil_Group' ,'Tarcunyah_Group'  ) ################# MOVE UP   #########################\n",
    "structure_file=tmp_path+'structure_clip.shp'\n",
    "bbox=(minx+inset,miny+inset,maxx-inset,maxy-inset)"
   ]
  },
  {
   "cell_type": "code",
   "execution_count": null,
   "metadata": {
    "ExecuteTime": {
     "end_time": "2019-10-22T04:35:27.420527Z",
     "start_time": "2019-10-22T04:34:18.249Z"
    }
   },
   "outputs": [],
   "source": [
    "m2l_interpolation.interpolate_orientations(structure_file,tmp_path,bbox,c_l,use_gcode,scheme,gridx,gridy)"
   ]
  },
  {
   "cell_type": "markdown",
   "metadata": {},
   "source": [
    "## Interpolates a regular grid from a shapefile of from contacts and saves out three csv files of l & m direction cosines and strike data\n",
    "\n",
    "Can choose between various RBF and IDW options  \n",
    "\n",
    "<font face color='red'>Best with basal contacts only, using Notebook #1 as this avoids intrusive  and fault contacts being considered</font>"
   ]
  },
  {
   "cell_type": "code",
   "execution_count": null,
   "metadata": {
    "ExecuteTime": {
     "end_time": "2019-10-22T04:35:27.422522Z",
     "start_time": "2019-10-22T04:34:18.254Z"
    }
   },
   "outputs": [],
   "source": [
    "geology_file=tmp_path+'basal_contacts.shp'\n",
    "\n",
    "dtm = rasterio.open(dtm_reproj_file)\n",
    "use_gcode=('K__ca_sp' ,'CP__pa_sepg' ,'P___cr_g' ,'Throssell_Range_Group' ,'Lamil_Group' ,'Tarcunyah_Group' ,'P___is_kx' ,'P__xg_mn_PTRT' ,'P__mgnu_PTRO' ,'P__md_PTRB' ,'P__mu_PTRC' ,'P___ya_mls' ) ################# MOVE UP   #########################\n"
   ]
  },
  {
   "cell_type": "code",
   "execution_count": null,
   "metadata": {
    "ExecuteTime": {
     "end_time": "2019-10-22T04:35:27.424517Z",
     "start_time": "2019-10-22T04:34:18.258Z"
    },
    "scrolled": true
   },
   "outputs": [],
   "source": [
    "m2l_interpolation.interpolate_contacts(geology_file,tmp_path,dtm,bbox,c_l,use_gcode,scheme,gridx,gridy)\n"
   ]
  },
  {
   "cell_type": "markdown",
   "metadata": {},
   "source": [
    "## Combines rbf of contact orientations with rbf of dip/dipdir measurements\n",
    "\n",
    "Uses normalised direction cosines **(l,m,n)**:  \n",
    "- **l,m** from RBF of basal contact orientations  \n",
    "- **signs of l & m** from misorientation with RBF of orientation data and  \n",
    "- **n** from RBF of orientation data  \n",
    "  \n",
    "May be useful for adding data where no orientations are available (e.g. in fault bounded domains) and for calculating true thickness of layers. Assumes a 2D plane of data, but if 3D RBF was calulated and projected contact info was used it should apply with topography too. "
   ]
  },
  {
   "cell_type": "code",
   "execution_count": null,
   "metadata": {
    "ExecuteTime": {
     "end_time": "2019-10-22T04:35:27.426512Z",
     "start_time": "2019-10-22T04:34:18.264Z"
    }
   },
   "outputs": [],
   "source": [
    "geology_file=tmp_path+'geol_clip.shp'\n",
    "combo_file=tmp_path+'combo.csv'\n",
    "\n",
    "lc=np.loadtxt(tmp_path+'interpolation_contacts_l.csv',skiprows =1,delimiter =',',dtype=float)\n",
    "mc=np.loadtxt(tmp_path+'interpolation_contacts_m.csv',skiprows =1,delimiter =',',dtype=float)\n",
    "lo=np.loadtxt(tmp_path+'interpolation_l.csv',skiprows =1,delimiter =',',dtype=float)\n",
    "mo=np.loadtxt(tmp_path+'interpolation_m.csv',skiprows =1,delimiter =',',dtype=float)\n",
    "no=np.loadtxt(tmp_path+'interpolation_n.csv',skiprows =1,delimiter =',',dtype=float)\n",
    "xy=np.loadtxt(tmp_path+'interpolation_'+scheme+'.csv',skiprows =1,delimiter =',',dtype=float)"
   ]
  },
  {
   "cell_type": "code",
   "execution_count": null,
   "metadata": {
    "ExecuteTime": {
     "end_time": "2019-10-22T04:35:27.428506Z",
     "start_time": "2019-10-22T04:34:18.268Z"
    }
   },
   "outputs": [],
   "source": [
    "m2l_interpolation.join_contacts_and_orientations(combo_file,geology_file,tmp_path,dtm_reproj_file,c_l,lo,mo,no,lc,mc,xy,dst_crs,bbox)\n"
   ]
  },
  {
   "cell_type": "markdown",
   "metadata": {
    "scrolled": false
   },
   "source": [
    "# gempy test \n",
    "\n",
    "\n",
    "## Convert stratigraphy GML to time-sorted groups and units\n",
    "\n",
    "\n",
    "Takes GML file produced by topology code, geology polygons, structure points and dtm to create 3D model.<br><br>\n",
    "Limitations: no faults yet, no plutons yet, no dykes, no sills. Faults and plutons will come soon, sills require us to assign a unique surface to each instance of a sill (sill between units A and B needs to be different from sill of same age and strat codes as one found between E and F). Dykes via cokriging are really hard without just cookie cutting them in (but that is not our problem!). We are not checking for onlap relationships, which can perhaps been seen by having lots of units from one series adjacent to the youngest surface of the older series. Could also think about interpreting these as faults to introduce conceptual uncertainty.\n",
    "\n",
    "<font face color='red'>The way this loads data to gempy is not right, so all the units end up in one series... but it gives the basic idea </font>\n"
   ]
  },
  {
   "cell_type": "markdown",
   "metadata": {},
   "source": [
    "## Preprocess data to ensure it meets gempy's requirements"
   ]
  },
  {
   "cell_type": "code",
   "execution_count": null,
   "metadata": {
    "ExecuteTime": {
     "end_time": "2019-10-22T04:35:27.430501Z",
     "start_time": "2019-10-22T04:34:18.275Z"
    },
    "scrolled": false
   },
   "outputs": [],
   "source": [
    "if(local_paths): ###############FUDGE#############\n",
    "    use_gcode=('Throssell_Range_Group' ,'Lamil_Group' ,'Tarcunyah_Group' ,'P__mgnu_PTRO_5688','P__mgnu_PTRO_6395','P__mgnu_PTRO_8440','P__mgnu_PTRO_11991','P__mgnu_PTRO_7301','P__mgnu_PTRO_4033') ################# MOVE UP   #########################\n",
    "else:\n",
    "    use_gcode=('Throssell_Range_Group' ,'Lamil_Group' ,'Tarcunyah_Group' ) ################# MOVE UP   #########################\n",
    "\n",
    "\n",
    "print('only processing',use_gcode)\n",
    "m2l_geometry.tidy_data(output_path,tmp_path,use_gcode,use_interpolations,pluton_form)"
   ]
  },
  {
   "cell_type": "markdown",
   "metadata": {
    "scrolled": false
   },
   "source": [
    "## Now we define the basic model and load the orientation and lithological information\n",
    "mj: We inset the model dimensions as once reprojects the edge pixels of the topography are undefined. Probably doesn't need to be that extreme (unit is metres). Could use parameter <b>maxtopo</b> to "
   ]
  },
  {
   "cell_type": "code",
   "execution_count": null,
   "metadata": {
    "ExecuteTime": {
     "end_time": "2019-10-22T04:35:27.432496Z",
     "start_time": "2019-10-22T04:34:18.280Z"
    }
   },
   "outputs": [],
   "source": [
    "import gempy as gp\n",
    "\n",
    "geo_model = gp.create_model(test_data_name) \n",
    "\n",
    "gp.init_data(geo_model, extent=[minx, maxx, miny, maxy, model_base, model_top],\n",
    "    resolution = (50,50,50), \n",
    "      #path_o = './test_data/output/hams2_orientations.txt',\n",
    "      path_o = output_path+'orientations_clean.csv',\n",
    "      path_i = output_path+'contacts_clean.csv', default_values=True); #%%      \n",
    "      #path_o = './test_data3/output/ign_orientations_saucers.csv',\n",
    "      #path_i = './test_data3/output/ign_contacts.csv', default_values=True); #%%"
   ]
  },
  {
   "cell_type": "markdown",
   "metadata": {
    "scrolled": false
   },
   "source": [
    "## Show example lithological points"
   ]
  },
  {
   "cell_type": "code",
   "execution_count": null,
   "metadata": {
    "ExecuteTime": {
     "end_time": "2019-10-22T04:35:27.433493Z",
     "start_time": "2019-10-22T04:34:18.286Z"
    }
   },
   "outputs": [],
   "source": [
    "gp.get_data(geo_model, 'surface_points').head()"
   ]
  },
  {
   "cell_type": "markdown",
   "metadata": {
    "scrolled": false
   },
   "source": [
    "## Show example orientations"
   ]
  },
  {
   "cell_type": "code",
   "execution_count": null,
   "metadata": {
    "ExecuteTime": {
     "end_time": "2019-10-22T04:35:27.435488Z",
     "start_time": "2019-10-22T04:34:18.292Z"
    }
   },
   "outputs": [],
   "source": [
    "gp.get_data(geo_model, 'orientations').head()"
   ]
  },
  {
   "cell_type": "markdown",
   "metadata": {
    "scrolled": false
   },
   "source": [
    "## Plot some of this data"
   ]
  },
  {
   "cell_type": "code",
   "execution_count": null,
   "metadata": {
    "ExecuteTime": {
     "end_time": "2019-10-22T04:35:27.437483Z",
     "start_time": "2019-10-22T04:34:18.298Z"
    }
   },
   "outputs": [],
   "source": [
    "%matplotlib inline\n",
    "gp.plot.plot_data(geo_model, direction='z');"
   ]
  },
  {
   "cell_type": "markdown",
   "metadata": {
    "scrolled": false
   },
   "source": [
    "## Load reprojected topgraphy to model"
   ]
  },
  {
   "cell_type": "code",
   "execution_count": null,
   "metadata": {
    "ExecuteTime": {
     "end_time": "2019-10-22T04:35:27.440475Z",
     "start_time": "2019-10-22T04:34:18.303Z"
    }
   },
   "outputs": [],
   "source": [
    "fp = dtm_reproj_file\n",
    "print(fp)\n",
    "geo_model.set_topography(source='gdal',filepath=fp)\n",
    "\n",
    "## Load stratigraphic Series\n",
    "\n",
    "#f=open(tmp_path+'groups_clean.csv',\"r\")\n",
    "#contents =f.readlines()\n",
    "#f.close\n",
    "#ngroups=contents[0].split(\" \")\n",
    "#ngroups=int(ngroups[1])\n",
    "\n",
    "contents=np.genfromtxt(tmp_path+'groups_clean.csv',delimiter=',',dtype='U25')\n",
    "ngroups=len(contents)\n",
    "\n",
    "faults = gp.Faults()\n",
    "series = gp.Series(faults)\n",
    "series.df\n",
    "\n",
    "#display(ngroups,contents)\n",
    "groups=[]\n",
    "\n",
    "for i in range (0,ngroups):\n",
    "    groups.append(contents[i].replace(\"\\n\",\"\"))\n",
    "    series.add_series(contents[i].replace(\"\\n\",\"\"))\n",
    "    print(contents[i].replace(\"\\n\",\"\"))\n",
    "\n",
    "series.delete_series('Default series')\n",
    "\n",
    "series"
   ]
  },
  {
   "cell_type": "markdown",
   "metadata": {
    "scrolled": false
   },
   "source": [
    "## Load surfaces and assign to series"
   ]
  },
  {
   "cell_type": "code",
   "execution_count": null,
   "metadata": {
    "ExecuteTime": {
     "end_time": "2019-10-22T04:35:27.442470Z",
     "start_time": "2019-10-22T04:34:18.310Z"
    }
   },
   "outputs": [],
   "source": [
    "surfaces = gp.Surfaces(series)\n",
    "\n",
    "print(ngroups,groups)\n",
    "for i in range(0,ngroups):\n",
    "    contents=np.genfromtxt(tmp_path+groups[i]+'.csv',delimiter=',',dtype='U25')\n",
    "    nformations=len(contents.shape)\n",
    "\n",
    "    if(nformations==1):\n",
    "        for j in range (1,len(contents)):\n",
    "            surfaces.add_surface(str(contents[j]).replace(\"\\n\",\"\"))\n",
    "            d={groups[i]:str(contents[j]).replace(\"\\n\",\"\")}\n",
    "            surfaces.map_series({groups[i]:(str(contents[j]).replace(\"\\n\",\"\"))}) #working but no gps       \n",
    "    else:\n",
    "        #print('lc',len(contents[0]))\n",
    "        for j in range (1,len(contents[0])):\n",
    "            surfaces.add_surface(str(contents[0][j]).replace(\"\\n\",\"\"))\n",
    "            d={groups[i]:str(contents[0][j]).replace(\"\\n\",\"\")}\n",
    "            surfaces.map_series({groups[i]:(str(contents[0][j]).replace(\"\\n\",\"\"))}) #working but no gps\n",
    "\n",
    "\n",
    "surfaces"
   ]
  },
  {
   "cell_type": "markdown",
   "metadata": {
    "scrolled": false
   },
   "source": [
    "## Set Interpolation Data"
   ]
  },
  {
   "cell_type": "code",
   "execution_count": null,
   "metadata": {
    "ExecuteTime": {
     "end_time": "2019-10-22T04:35:27.445463Z",
     "start_time": "2019-10-22T04:34:18.316Z"
    }
   },
   "outputs": [],
   "source": [
    "\n",
    "id_only_one_bool = geo_model.surface_points.df['id'].value_counts() == 1\n",
    "id_only_one = id_only_one_bool.index[id_only_one_bool]\n",
    "single_vals = geo_model.surface_points.df[geo_model.surface_points.df['id'].isin(id_only_one)]\n",
    "for idx, vals in single_vals.iterrows():\n",
    "    geo_model.add_surface_points(vals['X'], vals['Y'], vals['Z'], vals['surface'])\n",
    "    \n",
    "geo_model.update_structure()\n"
   ]
  },
  {
   "cell_type": "code",
   "execution_count": null,
   "metadata": {
    "ExecuteTime": {
     "end_time": "2019-10-22T04:35:27.447455Z",
     "start_time": "2019-10-22T04:34:18.320Z"
    }
   },
   "outputs": [],
   "source": [
    "gp.set_interpolation_data(geo_model,\n",
    "                          compile_theano=True,\n",
    "                          theano_optimizer='fast_compile',\n",
    "                          verbose=[])"
   ]
  },
  {
   "cell_type": "markdown",
   "metadata": {
    "scrolled": false
   },
   "source": [
    "## Provide summary data on model"
   ]
  },
  {
   "cell_type": "code",
   "execution_count": null,
   "metadata": {
    "ExecuteTime": {
     "end_time": "2019-10-22T04:35:27.450449Z",
     "start_time": "2019-10-22T04:34:18.326Z"
    }
   },
   "outputs": [],
   "source": [
    "geo_model.additional_data.structure_data"
   ]
  },
  {
   "cell_type": "markdown",
   "metadata": {
    "scrolled": false
   },
   "source": [
    "## Calculate Model"
   ]
  },
  {
   "cell_type": "code",
   "execution_count": null,
   "metadata": {
    "ExecuteTime": {
     "end_time": "2019-10-22T04:35:27.453440Z",
     "start_time": "2019-10-22T04:34:18.332Z"
    },
    "scrolled": true
   },
   "outputs": [],
   "source": [
    "\n",
    "gp.compute_model(geo_model)"
   ]
  },
  {
   "cell_type": "markdown",
   "metadata": {
    "scrolled": false
   },
   "source": [
    "## Extract surfaces to visualize in 3D renderers"
   ]
  },
  {
   "cell_type": "code",
   "execution_count": null,
   "metadata": {
    "ExecuteTime": {
     "end_time": "2019-10-22T04:35:27.455435Z",
     "start_time": "2019-10-22T04:34:18.338Z"
    }
   },
   "outputs": [],
   "source": [
    "gp.plot.plot_section(geo_model, 49, direction='z', show_data=False)"
   ]
  },
  {
   "cell_type": "code",
   "execution_count": null,
   "metadata": {
    "ExecuteTime": {
     "end_time": "2019-10-22T04:35:27.457429Z",
     "start_time": "2019-10-22T04:34:18.342Z"
    }
   },
   "outputs": [],
   "source": [
    "ver , sim = gp.get_surfaces(geo_model)\n",
    "\n",
    "import winsound\n",
    "duration = 300  # milliseconds\n",
    "freq = 500  # Hz\n",
    "winsound.Beep(freq, duration)"
   ]
  },
  {
   "cell_type": "markdown",
   "metadata": {
    "scrolled": false
   },
   "source": [
    "## Visualise model"
   ]
  },
  {
   "cell_type": "code",
   "execution_count": null,
   "metadata": {
    "ExecuteTime": {
     "end_time": "2019-10-22T04:35:27.459425Z",
     "start_time": "2019-10-22T04:34:18.347Z"
    }
   },
   "outputs": [],
   "source": [
    "gp.plot.plot_3D(geo_model, render_data=False)"
   ]
  },
  {
   "cell_type": "code",
   "execution_count": null,
   "metadata": {
    "ExecuteTime": {
     "end_time": "2019-10-22T04:35:27.461418Z",
     "start_time": "2019-10-22T04:34:18.354Z"
    }
   },
   "outputs": [],
   "source": [
    "from gempy import plot\n",
    "#gp.plot.export_to_vtk(geo_model, path='./test_data3/vtk/', name='hams3.vtk', voxels=False, block=None, surfaces=True)"
   ]
  },
  {
   "cell_type": "code",
   "execution_count": null,
   "metadata": {},
   "outputs": [],
   "source": []
  }
 ],
 "metadata": {
  "kernelspec": {
   "display_name": "Python 3",
   "language": "python",
   "name": "python3"
  },
  "language_info": {
   "codemirror_mode": {
    "name": "ipython",
    "version": 3
   },
   "file_extension": ".py",
   "mimetype": "text/x-python",
   "name": "python",
   "nbconvert_exporter": "python",
   "pygments_lexer": "ipython3",
   "version": "3.7.3"
  },
  "toc": {
   "base_numbering": 1,
   "nav_menu": {},
   "number_sections": true,
   "sideBar": true,
   "skip_h1_title": false,
   "title_cell": "Table of Contents",
   "title_sidebar": "Contents",
   "toc_cell": true,
   "toc_position": {},
   "toc_section_display": true,
   "toc_window_display": false
  }
 },
 "nbformat": 4,
 "nbformat_minor": 2
}
