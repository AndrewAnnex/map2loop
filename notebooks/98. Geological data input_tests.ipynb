{
 "cells": [
  {
   "cell_type": "markdown",
   "metadata": {},
   "source": [
    "# map2loop: Fetching geospatial data using different protocols\n",
    "\n",
    "\n",
    "## Shapefile"
   ]
  },
  {
   "cell_type": "code",
   "execution_count": null,
   "metadata": {
    "pycharm": {
     "is_executing": false
    }
   },
   "outputs": [],
   "source": [
    "import os\n",
    "\n",
    "#Only for pycharm use, otherwise comment out the next 3 lines!   \n",
    "print(os.getcwd())\n",
    "#os.chdir('Dropbox/1_Jupyter_notebooks/map2loop')\n",
    "print(os.getcwd())\n"
   ]
  },
  {
   "cell_type": "code",
   "execution_count": null,
   "metadata": {
    "pycharm": {
     "is_executing": false
    },
    "scrolled": true
   },
   "outputs": [],
   "source": [
    "import geopandas\n",
    "import os\n",
    "%matplotlib inline\n",
    "\n",
    "text=False\n",
    "graphics=True\n",
    "\n",
    "#newwd=\"C:\\\\Users\\\\00073294\\Dropbox\\\\loop_minex\\\\map2model\\\\\"\n",
    "#os.chdir(newwd)\n",
    "\n",
    "shp_geology = geopandas.read_file(\"../test_data/data/hams2_geol.shp\")\n",
    "if(graphics): \n",
    "    shp_geology.plot(column='CODE',figsize=(10,5),edgecolor='#000000',linewidth=0.2 )\n",
    "if(text):\n",
    "    print(shp_geology.head())"
   ]
  },
  {
   "cell_type": "markdown",
   "metadata": {},
   "source": [
    "## GSWA's WFS server"
   ]
  },
  {
   "cell_type": "code",
   "execution_count": null,
   "metadata": {
    "pycharm": {
     "is_executing": false
    },
    "scrolled": true
   },
   "outputs": [],
   "source": [
    "import geopandas\n",
    "%matplotlib inline\n",
    "text=False\n",
    "graphics=True\n",
    "bbox='-23,117,-22,118'\n",
    "wfs_geology=geopandas.read_file(\"https://services.slip.wa.gov.au/public/services/SLIP_Public_Services/Geology_and_Soils_Map_WFS/MapServer/WFSServer/?service=WFS&version=1.0.0&request=GetFeature&typename=SLIP_Public_Services_Geology_and_Soils_Map_WFS:__2_500_000_State_interpreted_bedrock_geology__DMIRS-014_&BBOX=\"+bbox+\"&srs=EPSG:3857\")\n",
    "\n",
    "if(graphics): \n",
    "    wfs_geology.plot(column='code',figsize=(10,10),edgecolor='#000000',linewidth=0.2)\n",
    "if(text):\n",
    "    print(wfs_geology.head())"
   ]
  },
  {
   "cell_type": "markdown",
   "metadata": {},
   "source": [
    "## Loop WFS Server"
   ]
  },
  {
   "cell_type": "code",
   "execution_count": null,
   "metadata": {},
   "outputs": [],
   "source": [
    "import geopandas\n",
    "%matplotlib inline\n",
    "text=False\n",
    "graphics=True\n",
    "minx=500057\n",
    "maxx=603028\n",
    "miny=7455348\n",
    "maxy=7567953\n",
    "bbox='500057,7455348,603028,7567953'\n",
    "print(bbox,text,graphics)\n",
    "\n",
    "url='http://geo.loop-gis.org/geoserver/loop/wfs?service=WFS&version=1.1.0&request=GetFeature&typeName=warox_points_f5011&bbox='+bbox+'&width=768&height=547&srs=EPSG:28350'\n",
    "print(url)\n",
    "wfs_geology=geopandas.read_file(url)\n",
    "if(graphics): \n",
    "    wfs_geology.plot(column='feature',figsize=(10,10),linewidth=0.2)\n",
    "if(text):\n",
    "    print(wfs_geology.head())\n",
    "\n",
    "url='http://geo.loop-gis.org/geoserver/loop/wfs?service=WFS&version=1.1.0&request=GetFeature&typeName=linear_500k&bbox='+bbox+'&width=768&height=547&srs=EPSG:28350'\n",
    "print(url)\n",
    "wfs_geology=geopandas.read_file(url)\n",
    "if(graphics): \n",
    "    wfs_geology.plot(column='feature',figsize=(10,10),linewidth=0.2)\n",
    "if(text):\n",
    "    print(wfs_geology.head())\n",
    "\n",
    "url='http://geo.loop-gis.org/geoserver/loop/wfs?service=WFS&version=1.0.0&request=GetFeature&typeName=loop:geol_500k_download_join&bbox='+bbox+'&width=768&height=547&srs=EPSG:28350'\n",
    "print(url)\n",
    "wfs_geology=geopandas.read_file(url)\n",
    "\n",
    "if(graphics): \n",
    "    wfs_geology.plot(column='code',figsize=(10,10),linewidth=0.2)\n",
    "if(text):\n",
    "    print(wfs_geology.head())\n",
    "\n"
   ]
  },
  {
   "cell_type": "markdown",
   "metadata": {},
   "source": [
    "## OPeNDAP server (not using pyDAP)"
   ]
  },
  {
   "cell_type": "code",
   "execution_count": null,
   "metadata": {
    "pycharm": {
     "is_executing": false
    },
    "scrolled": true
   },
   "outputs": [],
   "source": [
    "from urllib.request import urlopen\n",
    "import numpy as np\n",
    "from matplotlib.pyplot import imshow\n",
    "from matplotlib import pyplot as plt\n",
    "%matplotlib inline\n",
    "text=False\n",
    "graphics=True\n",
    "\n",
    "minlong=117\n",
    "maxlong=118\n",
    "minlat=-23\n",
    "maxlat=-22\n",
    "\n",
    "minx=(minlong+180)*120\n",
    "maxx=(maxlong+180)*120\n",
    "miny=(minlat+90)*120\n",
    "maxy=(maxlat+90)*120\n",
    "\n",
    "sizex=maxx-minx+1\n",
    "sizey=maxy-miny+1\n",
    "print(sizex,sizey)\n",
    "minx=str(minx)\n",
    "maxx=str(maxx)\n",
    "miny=str(miny)\n",
    "maxy=str(maxy)\n",
    "bbox=\"[\"+miny+\":1:\"+maxy+\"][\"+minx+\":1:\"+maxx+\"]\"\n",
    "\n",
    "link = \"http://oos.soest.hawaii.edu/thredds/dodsC/srtm30plus_v11_land.ascii?elev\"+bbox\n",
    "\n",
    "#print (link)\n",
    "f = urlopen(link)\n",
    "myfile = f.read()\n",
    "myfile2=myfile.decode(\"utf-8\") \n",
    "data=myfile2.split(\"---------------------------------------------\")\n",
    "import re\n",
    "\n",
    "grid=re.sub('\\[.*\\]','',data[1]).replace(\",\",\"\").replace(\"elev.elev\",\"\").replace(\"\\n\",\" \").replace(\"  \",\" \")\n",
    "#print(grid)\n",
    "grid=grid.split(\" \")\n",
    "grid=grid[2:(sizex*sizey)+2]\n",
    "OPeNDAP = np.ones((sizey,sizex))\n",
    "k=0\n",
    "for j in range (0, sizey, 1):\n",
    "    for i in range (0, sizex, 1):\n",
    "        OPeNDAP[sizey-1-j][i]=grid[k]\n",
    "        k+=1\n",
    "\n",
    "if(graphics):\n",
    "    plt.imshow(OPeNDAP)\n",
    "if(text):\n",
    "    print(myfile)\n"
   ]
  },
  {
   "cell_type": "code",
   "execution_count": null,
   "metadata": {
    "pycharm": {
     "is_executing": false
    }
   },
   "outputs": [],
   "source": [
    "import rasterio\n",
    "from rasterio.transform import from_origin\n",
    "\n",
    "print(os.getcwd())\n",
    "\n",
    "transform = from_origin(minlong, maxlat,0.008333333,0.008333333)\n",
    "\n",
    "new_dataset = rasterio.open('./test_data/tmp/dtm.tif', 'w', driver='GTiff',\n",
    "                            height = OPeNDAP.shape[0], width = OPeNDAP.shape[1],\n",
    "                            count=1, dtype=str(OPeNDAP.dtype),\n",
    "                            crs='+proj=longlat',\n",
    "                            transform=transform)\n",
    "\n",
    "new_dataset.write(OPeNDAP, 1)\n",
    "new_dataset.close()"
   ]
  },
  {
   "cell_type": "markdown",
   "metadata": {},
   "source": [
    "## WCS of DTM at a point"
   ]
  },
  {
   "cell_type": "code",
   "execution_count": null,
   "metadata": {
    "pycharm": {
     "is_executing": false
    }
   },
   "outputs": [],
   "source": [
    "import requests\n",
    "\n",
    "lat=str(-22.674847)\n",
    "long=str(124.2773)\n",
    "coords=\"pt_lat=\"+lat+\"&pt_long=\"+long\n",
    "url=\"https://elvis2018-ga.fmecloud.com/fmedatastreaming/elvis_tools/ELVIS_GetElevationAtPoint.fmw?\"+coords\n",
    "print(url)\n",
    "response = requests.get(url)\n",
    "results=str(response.content, 'utf-8').replace(\"\\\"\",\"\").split(\",\")\n",
    "print(\"Location Lat :\",lat,\"Long :\",long,results[3])\n"
   ]
  },
  {
   "cell_type": "markdown",
   "metadata": {},
   "source": [
    "## SQL query"
   ]
  },
  {
   "cell_type": "code",
   "execution_count": null,
   "metadata": {
    "pycharm": {
     "is_executing": false
    },
    "scrolled": true
   },
   "outputs": [],
   "source": [
    "import geopandas\n",
    "import psycopg2  # (if it is postgres/postgis)\n",
    "%matplotlib inline\n",
    "\n",
    "con = psycopg2.connect(database=\"gswa_dh\", user=\"loop\", password=\"loopie123pgpw\", host=\"130.95.198.59\")\n",
    "\n",
    "sql = \"select a.* from gswa_500k_ibg as a join public.ham_roi2 as b on ST_INTERSECTS(a.geom, b.geom)\"\n",
    "\n",
    "SQLmap = geopandas.GeoDataFrame.from_postgis(sql, con, geom_col='geom' )\n",
    "if(graphics):\n",
    "    SQLmap.plot(column='code',figsize=(10,10))\n",
    "if(text):\n",
    "    print(SQLmap.head())"
   ]
  },
  {
   "cell_type": "markdown",
   "metadata": {},
   "source": [
    "# WCS query"
   ]
  },
  {
   "cell_type": "code",
   "execution_count": null,
   "metadata": {
    "pycharm": {
     "is_executing": false
    }
   },
   "outputs": [],
   "source": [
    "from owslib.wcs import WebCoverageService\n",
    "from osgeo import gdal\n",
    "import matplotlib.pyplot as plt\n",
    "print(os.getcwd())\n",
    "\n",
    "url=\"http://services.ga.gov.au/gis/services/DEM_SRTM_1Second_over_Bathymetry_Topography/MapServer/WCSServer?\"\n",
    "wcs = WebCoverageService(url,version='1.0.0')\n",
    "\n",
    "cvg=wcs.getCoverage(identifier='1',  bbox=(117.9,-23,118,-22.9), format='GeoTIFF', crs=4326, width=360, height=360)\n",
    "\n",
    "f = open('./test_data/tmp/test_dtm.tif', 'wb')\n",
    "bytes_written = f.write(cvg.read())\n",
    "f.close()\n",
    "\n",
    "ds = gdal.Open('./test_data/tmp/test_dtm.tif').ReadAsArray()\n",
    "\n",
    "im = plt.imshow(ds)"
   ]
  },
  {
   "cell_type": "code",
   "execution_count": null,
   "metadata": {
    "pycharm": {
     "is_executing": false
    }
   },
   "outputs": [],
   "source": []
  },
  {
   "cell_type": "code",
   "execution_count": null,
   "metadata": {
    "pycharm": {
     "is_executing": false,
     "name": "#%%\n"
    }
   },
   "outputs": [],
   "source": []
  },
  {
   "cell_type": "code",
   "execution_count": null,
   "metadata": {
    "pycharm": {
     "name": "#%%\n"
    }
   },
   "outputs": [],
   "source": [
    "\n"
   ]
  }
 ],
 "metadata": {
  "kernelspec": {
   "display_name": "Python 3",
   "language": "python",
   "name": "python3"
  },
  "language_info": {
   "codemirror_mode": {
    "name": "ipython",
    "version": 3
   },
   "file_extension": ".py",
   "mimetype": "text/x-python",
   "name": "python",
   "nbconvert_exporter": "python",
   "pygments_lexer": "ipython3",
   "version": "3.7.3"
  },
  "pycharm": {
   "stem_cell": {
    "cell_type": "raw",
    "metadata": {
     "collapsed": false
    },
    "source": []
   }
  }
 },
 "nbformat": 4,
 "nbformat_minor": 2
}
