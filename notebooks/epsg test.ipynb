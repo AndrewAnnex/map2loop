{
 "cells": [
  {
   "cell_type": "code",
   "execution_count": 13,
   "metadata": {
    "ExecuteTime": {
     "end_time": "2019-11-13T02:53:50.212099Z",
     "start_time": "2019-11-13T02:53:49.083107Z"
    }
   },
   "outputs": [
    {
     "name": "stdout",
     "output_type": "stream",
     "text": [
      "GDA94 / MGA50\n"
     ]
    }
   ],
   "source": [
    "import requests\n",
    "\n",
    "link = \"https://epsg.io/28350.prettywkt\"\n",
    "f = requests.get(link)\n",
    "lines=f.text.split(',')\n",
    "sections=lines[0].split('\"')\n",
    "print(sections[1].replace(' zone ',''))"
   ]
  },
  {
   "cell_type": "code",
   "execution_count": null,
   "metadata": {},
   "outputs": [],
   "source": []
  }
 ],
 "metadata": {
  "hide_input": false,
  "kernelspec": {
   "display_name": "Python 3",
   "language": "python",
   "name": "python3"
  },
  "language_info": {
   "codemirror_mode": {
    "name": "ipython",
    "version": 3
   },
   "file_extension": ".py",
   "mimetype": "text/x-python",
   "name": "python",
   "nbconvert_exporter": "python",
   "pygments_lexer": "ipython3",
   "version": "3.7.3"
  }
 },
 "nbformat": 4,
 "nbformat_minor": 2
}
