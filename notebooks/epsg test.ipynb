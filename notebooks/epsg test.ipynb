{
 "cells": [
  {
   "cell_type": "code",
   "execution_count": 13,
   "metadata": {
    "ExecuteTime": {
     "end_time": "2019-11-13T02:53:50.212099Z",
     "start_time": "2019-11-13T02:53:49.083107Z"
    }
   },
   "outputs": [
    {
     "name": "stdout",
     "output_type": "stream",
     "text": [
      "GDA94 / MGA50\n"
     ]
    }
   ],
   "source": [
    "import requests\n",
    " \n",
    "link = \"https://epsg.io/28350.prettywkt\"\n",
    "f = requests.get(link)\n",
    "lines=f.text.split(',')\n",
    "sections=lines[0].split('\"')\n",
    "print(sections[1].replace(' zone ',''))"
   ]
  },
  {
   "cell_type": "code",
   "execution_count": 25,
   "metadata": {
    "ExecuteTime": {
     "end_time": "2019-11-17T06:02:59.468081Z",
     "start_time": "2019-11-17T06:02:59.455112Z"
    }
   },
   "outputs": [
    {
     "name": "stdout",
     "output_type": "stream",
     "text": [
      "1.4142135623730951 1.4866068747318506 2.9 -4.199999999999999 4.204759208325728 3.094009550312804\n",
      "177.2736890060934\n"
     ]
    }
   ],
   "source": [
    "from math import sqrt, pow, acos, degrees\n",
    "###########################################\n",
    "# Apical angle between tree points, first point is at apex\n",
    "###########################################\n",
    "def tri_angle(p1x,p1y,p2x,p2y,p3x,p3y):\n",
    "    p12=sqrt(pow(p1x-p2x,2.0)+pow(p1y-p2y,2.0))\n",
    "    p13=sqrt(pow(p1x-p3x,2.0)+pow(p1y-p3y,2.0))\n",
    "    p23=sqrt(pow(p2x-p3x,2.0)+pow(p2y-p3y,2.0))\n",
    "    numerator=pow(p12,2.0)+pow(p13,2.0)-pow(p23,2.0)\n",
    "    divisor=2*p12*p13\n",
    "    angle=degrees(acos(numerator/divisor))\n",
    "    return(angle)\n",
    "\n",
    "\n",
    "print(tri_angle(1.0,1.0,0.0,0.0,2.1,2.0))"
   ]
  },
  {
   "cell_type": "code",
   "execution_count": null,
   "metadata": {},
   "outputs": [],
   "source": []
  }
 ],
 "metadata": {
  "hide_input": false,
  "kernelspec": {
   "display_name": "Python 3",
   "language": "python",
   "name": "python3"
  },
  "language_info": {
   "codemirror_mode": {
    "name": "ipython",
    "version": 3
   },
   "file_extension": ".py",
   "mimetype": "text/x-python",
   "name": "python",
   "nbconvert_exporter": "python",
   "pygments_lexer": "ipython3",
   "version": "3.7.3"
  }
 },
 "nbformat": 4,
 "nbformat_minor": 2
}
