{
 "cells": [
  {
   "cell_type": "markdown",
   "metadata": {},
   "source": [
    "## map2loop: Code mess to estimate unit thickness, nowhere near working\n",
    "\n",
    "#### Need to ignore points across faults, fold hinges. \n",
    "#### Now need to get points from neighbouring strat unit intersections, \n",
    "#### rotate around orig by dipdir, to get // to Y-axis then sort wrt Y and calc apparent_thickness = dist between points,\n",
    "#### then true thickness by apparent_thickness*sin(DIP)"
   ]
  },
  {
   "cell_type": "code",
   "execution_count": 3,
   "metadata": {
    "pycharm": {
     "is_executing": false
    }
   },
   "outputs": [
    {
     "name": "stdout",
     "text": [
      "C:\\Users\\00073294\\Dropbox\\1_Jupyter_notebooks\\map2loop\nC:\\Users\\00073294\\Dropbox\\1_Jupyter_notebooks\\map2loop\nC:\\Users\\00073294\\Dropbox\\1_Jupyter_notebooks\\map2loop\n"
     ],
     "output_type": "stream"
    },
    {
     "data": {
      "text/plain": "<IPython.core.display.HTML object>",
      "text/html": "<style>.container { width:80% !important; }</style>"
     },
     "metadata": {},
     "output_type": "display_data"
    }
   ],
   "source": [
    "import os\n",
    "\n",
    "#Only for pycharm use, otherwise comment out the next 3 lines!   \n",
    "print(os.getcwd())\n",
    "#os.chdir('Dropbox/1_Jupyter_notebooks/map2loop')\n",
    "print(os.getcwd())\n",
    "\n",
    "\n",
    "import os\n",
    "from IPython.core.display import display, HTML\n",
    "print(os.getcwd())\n",
    "display(HTML(\"<style>.container { width:80% !important; }</style>\"))"
   ]
  },
  {
   "cell_type": "code",
   "execution_count": 4,
   "metadata": {
    "pycharm": {
     "is_executing": false
    }
   },
   "outputs": [
    {
     "name": "stdout",
     "text": [
      "C:\\Users\\00073294\\Dropbox\\1_Jupyter_notebooks\\map2loop\nC:\\Users\\00073294\\Dropbox\\1_Jupyter_notebooks\\map2loop\n"
     ],
     "output_type": "stream"
    },
    {
     "traceback": [
      "\u001b[1;31m---------------------------------------------------------------------------\u001b[0m",
      "\u001b[1;31mModuleNotFoundError\u001b[0m                       Traceback (most recent call last)",
      "\u001b[1;32m<ipython-input-4-6d16162e0688>\u001b[0m in \u001b[0;36m<module>\u001b[1;34m\u001b[0m\n\u001b[0;32m     20\u001b[0m \u001b[1;32mfrom\u001b[0m \u001b[0mmap2loop\u001b[0m \u001b[1;32mimport\u001b[0m \u001b[0mm2l_utils\u001b[0m\u001b[1;33m\u001b[0m\u001b[1;33m\u001b[0m\u001b[0m\n\u001b[0;32m     21\u001b[0m \u001b[1;32mfrom\u001b[0m \u001b[0mmap2loop\u001b[0m \u001b[1;32mimport\u001b[0m \u001b[0mm2l_topology\u001b[0m\u001b[1;33m\u001b[0m\u001b[1;33m\u001b[0m\u001b[0m\n\u001b[1;32m---> 22\u001b[1;33m \u001b[1;32mfrom\u001b[0m \u001b[0mmap2loop\u001b[0m \u001b[1;32mimport\u001b[0m \u001b[0mm2l_geometry\u001b[0m\u001b[1;33m\u001b[0m\u001b[1;33m\u001b[0m\u001b[0m\n\u001b[0m\u001b[0;32m     23\u001b[0m \u001b[1;33m\u001b[0m\u001b[0m\n\u001b[0;32m     24\u001b[0m \u001b[0mm2l_utils\u001b[0m\u001b[1;33m.\u001b[0m\u001b[0mv\u001b[0m\u001b[1;33m(\u001b[0m\u001b[1;33m)\u001b[0m\u001b[1;33m\u001b[0m\u001b[1;33m\u001b[0m\u001b[0m\n",
      "\u001b[1;32m~\\Dropbox\\1_Jupyter_notebooks\\map2loop\\map2loop\\m2l_geometry.py\u001b[0m in \u001b[0;36m<module>\u001b[1;34m\u001b[0m\n\u001b[0;32m      8\u001b[0m \u001b[1;32mimport\u001b[0m \u001b[0mgeopandas\u001b[0m \u001b[1;32mas\u001b[0m \u001b[0mgpd\u001b[0m\u001b[1;33m\u001b[0m\u001b[1;33m\u001b[0m\u001b[0m\n\u001b[0;32m      9\u001b[0m \u001b[1;32mfrom\u001b[0m \u001b[0mmath\u001b[0m \u001b[1;32mimport\u001b[0m \u001b[0macos\u001b[0m\u001b[1;33m,\u001b[0m \u001b[0msqrt\u001b[0m\u001b[1;33m,\u001b[0m \u001b[0mcos\u001b[0m\u001b[1;33m,\u001b[0m \u001b[0msin\u001b[0m\u001b[1;33m,\u001b[0m \u001b[0mdegrees\u001b[0m\u001b[1;33m,\u001b[0m \u001b[0mradians\u001b[0m\u001b[1;33m,\u001b[0m \u001b[0mfabs\u001b[0m\u001b[1;33m,\u001b[0m \u001b[0matan2\u001b[0m\u001b[1;33m\u001b[0m\u001b[1;33m\u001b[0m\u001b[0m\n\u001b[1;32m---> 10\u001b[1;33m \u001b[1;32mimport\u001b[0m \u001b[0mm2l_utils\u001b[0m\u001b[1;33m\u001b[0m\u001b[1;33m\u001b[0m\u001b[0m\n\u001b[0m\u001b[0;32m     11\u001b[0m \u001b[1;33m\u001b[0m\u001b[0m\n\u001b[0;32m     12\u001b[0m \u001b[1;31m#Export orientation data in csv format with heights and strat code added\u001b[0m\u001b[1;33m\u001b[0m\u001b[1;33m\u001b[0m\u001b[1;33m\u001b[0m\u001b[0m\n",
      "\u001b[1;31mModuleNotFoundError\u001b[0m: No module named 'm2l_utils'"
     ],
     "ename": "ModuleNotFoundError",
     "evalue": "No module named 'm2l_utils'",
     "output_type": "error"
    }
   ],
   "source": [
    "import matplotlib\n",
    "import networkx as nx\n",
    "import numpy as np\n",
    "import matplotlib.pyplot as plt\n",
    "from urllib.request import urlopen\n",
    "import numpy as np\n",
    "from matplotlib.pyplot import imshow\n",
    "from matplotlib import pyplot as plt\n",
    "import os\n",
    "import rasterio\n",
    "from rasterio.transform import from_origin\n",
    "from rasterio import features\n",
    "%matplotlib inline\n",
    "import sys, os\n",
    "sys.path.insert(0,\"../..\")\n",
    "print(os.getcwd())\n",
    "#rootdir=r'C:\\Users\\00073294\\Dropbox\\1_Jupyter_notebooks\\map2model\\\\'\n",
    "os.chdir('../map2loop')\n",
    "print(os.getcwd())\n",
    "from map2loop import m2l_utils\n",
    "from map2loop import m2l_topology\n",
    "from map2loop import m2l_geometry\n",
    "\n",
    "m2l_utils.v()"
   ]
  },
  {
   "cell_type": "code",
   "execution_count": 4,
   "metadata": {},
   "outputs": [],
   "source": [
    "mname='hams2' #root name of model input data\n",
    "\n",
    "print(os.getcwd())\n",
    "newdir='../test_data2'\n",
    "print(newdir)\n",
    "os.chdir(newdir)\n",
    "\n",
    "\n",
    "text=False    #display debug text\n",
    "graphics=True #display debug images\n",
    "\n",
    "\n",
    "model_base=-8200 # top could be found using highest point in topo data\n",
    "\n",
    "minlong=117\n",
    "maxlong=118\n",
    "minlat=-23\n",
    "maxlat=-22\n",
    "\n",
    "minx=500057    #left hams\n",
    "maxx=603028    #right\n",
    "miny=7455348   #bottom\n",
    "maxy=7567953   #top\n",
    "    \n",
    "\n",
    "step_out=0.045 #add (in degrees) so edge pixel from dtm reprojection are not found\n",
    "\n",
    "src_crs = 'epsg:4326'  #input data coord ref system (assumed to be geodetic lat/long WGS84)\n",
    "dst_crs = 'epsg:28350' #model ref system (assumed to be something with metre coordinates)\n",
    "\n",
    "# 'epsg:28350'  =  GDA_1994_MGA_Zone_50 \n",
    "# 'epsg:4326'   =   wgs84 GEODETIC LAT/LONG \n",
    "\n",
    "orientation_decimate=0   # decimation of orientaiton data (0 = no decimation)\n",
    "contact_decimate=30   # decimation of contact data (0 = no decimation)\n",
    "\n",
    "gcode='GROUP_'\n",
    "dcode='DIP'\n",
    "ddcode='DIP_DIR'\n",
    "ccode='CODE'\n"
   ]
  },
  {
   "cell_type": "markdown",
   "metadata": {},
   "source": [
    "## Load geology map"
   ]
  },
  {
   "cell_type": "code",
   "execution_count": 5,
   "metadata": {},
   "outputs": [],
   "source": [
    "# Extract point data from WAROX & geology map for gempy\n",
    "##First we readin the WAROX and map from shapefiles, or wherever...\n",
    "\n",
    "import geopandas as gpd\n",
    "import os\n",
    "from shapely.geometry import Polygon\n",
    "from shapely.geometry import Point\n",
    "\n",
    "\n",
    "%matplotlib inline\n",
    "os.environ[\"PROJ_LIB\"] = r\"C:\\Users\\00073294\\AppData\\Local\\Continuum\\anaconda3\\Lib\\site-packages\\pyproj\\proj_dir\\share\\proj\"\n",
    "\n",
    "\n",
    "geology = gpd.read_file('./tmp/geol_clip.shp')\n",
    "print(geology.crs)\n"
   ]
  },
  {
   "cell_type": "markdown",
   "metadata": {},
   "source": [
    "## Basic explode code"
   ]
  },
  {
   "cell_type": "code",
   "execution_count": 6,
   "metadata": {},
   "outputs": [],
   "source": [
    "#https://gist.github.com/mhweber/cf36bb4e09df9deee5eb54dc6be74d26\n",
    "    \n",
    "import geopandas as gpd\n",
    "from shapely.geometry.polygon import Polygon\n",
    "from shapely.geometry.multipolygon import MultiPolygon\n",
    "\n",
    "def explode(indf):\n",
    "#    indf = gpd.GeoDataFrame.from_file(indata)\n",
    "    outdf = gpd.GeoDataFrame(columns=indf.columns)\n",
    "    for idx, row in indf.iterrows():\n",
    "        if type(row.geometry) == Polygon:\n",
    "            outdf = outdf.append(row,ignore_index=True)\n",
    "        if type(row.geometry) == MultiPolygon:\n",
    "            multdf = gpd.GeoDataFrame(columns=indf.columns)\n",
    "            recs = len(row.geometry)\n",
    "            multdf = multdf.append([row]*recs,ignore_index=True)\n",
    "            for geom in range(recs):\n",
    "                multdf.loc[geom,'geometry'] = row.geometry[geom]\n",
    "            outdf = outdf.append(multdf,ignore_index=True)\n",
    "    return outdf"
   ]
  },
  {
   "cell_type": "markdown",
   "metadata": {},
   "source": [
    "## Load topological sorted surfaces"
   ]
  },
  {
   "cell_type": "code",
   "execution_count": 7,
   "metadata": {},
   "outputs": [],
   "source": [
    "ag=open('./tmp/'+mname+'_all_sorts.csv',\"r\")\n",
    "contents =ag.readlines()\n",
    "ag.close\n",
    "\n",
    "ulist=[]\n",
    "for i in range(1,len(contents)):\n",
    "    cont_list=contents[i].split(\",\")\n",
    "    ulist.append([i, cont_list[4].replace(\"\\n\",\"\")])\n",
    "print(ulist)\n"
   ]
  },
  {
   "cell_type": "markdown",
   "metadata": {},
   "source": [
    "## Load all basal contact points"
   ]
  },
  {
   "cell_type": "code",
   "execution_count": 8,
   "metadata": {},
   "outputs": [],
   "source": [
    "import math\n",
    "def angle(pt1, pt2):\n",
    "    x1, y1 = pt1\n",
    "    x2, y2 = pt2\n",
    "    inner_product = x1*x2 + y1*y2\n",
    "    len1 = math.hypot(x1, y1)\n",
    "    len2 = math.hypot(x2, y2)\n",
    "    dot=math.degrees(math.acos(inner_product/(len1*len2)))\n",
    "    return 90-math.fabs(90-dot)\n",
    "\n",
    "def pairs(lst):\n",
    "    for i in range(1, len(lst)):\n",
    "        yield lst[i-1], lst[i]\n",
    "\n",
    "        #https://www.geeksforgeeks.org/program-check-three-points-collinear/\n",
    "\n",
    "# Python program to check \n",
    "# if three points are collinear \n",
    "# or not using area of triangle. \n",
    "  \n",
    "# function to check if  \n",
    "# point collinear or not \n",
    "def collinear(x1, y1, x2, y2, x3, y3): \n",
    "      \n",
    "    \"\"\" Calculation the area of   \n",
    "        triangle. We have skipped  \n",
    "        multiplication with 0.5 to \n",
    "        avoid floating point computations \"\"\"\n",
    "    a = x1 * (y2 - y3) + x2 * (y3 - y1) + x3 * (y1 - y2) \n",
    "    b=x1 * (y2 - y3)\n",
    "    c=x2 * (y3 - y1)\n",
    "    d=x3 * (y1 - y2) \n",
    "  \n",
    "    #if (a < 0.000001): \n",
    "    #    print (\"Yes\",a,b,c,d)\n",
    "    #else: \n",
    "    #    print (\"No\",a,b,c,d)\n",
    "    return(a< 0.000001)\n",
    "  \n",
    "# This code is contributed \n",
    "# by Sachin Bisht \n",
    "\n",
    "import rasterio\n",
    "\n",
    "dataset = rasterio.open('./dtm\\\\'+mname+'_dtm_rp.tif')\n",
    "\n",
    "def height_from_srtm(x,y):\n",
    "    locations=[(x,y)]\n",
    "    for val in dataset.sample(locations):\n",
    "        return(str(val).replace(\"[\",\"\").replace(\"]\",\"\"))\n"
   ]
  },
  {
   "cell_type": "markdown",
   "metadata": {},
   "source": [
    "## Create basal contact points with orientation from orientations and basal points"
   ]
  },
  {
   "cell_type": "code",
   "execution_count": 9,
   "metadata": {},
   "outputs": [],
   "source": [
    "import pandas as pd\n",
    "from geopandas import GeoDataFrame\n",
    "from shapely.geometry import MultiPoint,Point,LineString\n",
    "from shapely.ops import nearest_points\n",
    "import math\n",
    "\n",
    "contacts = gpd.read_file('./tmp/basal_contacts2.shp') #load orientation data as geopandas dataframe \n",
    "\n",
    "warox = gpd.read_file('./tmp/structure_clip.shp') #load orientation data as geopandas dataframe \n",
    "\n",
    "contacts.plot(figsize=(10,10),edgecolor='#000000',linewidth=0.2)"
   ]
  },
  {
   "cell_type": "code",
   "execution_count": 10,
   "metadata": {
    "scrolled": true
   },
   "outputs": [],
   "source": [
    "f=open('./output/'+mname+'_projected_dip_contacts2.csv',\"w\")\n",
    "f.write('id,x,y,z,DIP,DIP_DIR,polarity,CODE,GROUP_\\n')\n",
    "#print(\"len=\",len(contacts))\n",
    "i=0\n",
    "for acontact in contacts.iterrows():   #loop through distinct linestrings\n",
    "    #display(acontact[1].geometry)\n",
    "    thegroup=acontact[1]['GROUP_']\n",
    "    #print(\"thegroup=\",thegroup)\n",
    "    is_wrx=warox['GROUP_'] == thegroup # subset orientations to just those with this group\n",
    "    all_wrx = warox[is_wrx]\n",
    "\n",
    "    for awrx in all_wrx.iterrows(): # loop through valid orientations\n",
    "        #print(awrx[1].geometry,awrx[1]['GROUP_'])\n",
    "        orig = Point(awrx[1]['geometry'])\n",
    "        nearp = acontact[1].geometry.interpolate(acontact[1].geometry.project(orig))\n",
    "        if(nearp.distance(orig)<5000):\n",
    "            #print(acontact[1]['CODE'],awrx[1]['DIP'],orig,np)                  \n",
    "            for line in acontact[1].geometry: # loop through line segments\n",
    "                for pair in pairs(list(line.coords)): # loop through line segments\n",
    "                    segpair=LineString((pair[0],pair[1]))\n",
    "                    if segpair.distance(nearp)< 0.0001: # line segment closest to close point\n",
    "                        ddx=math.sin(math.radians(awrx[1]['DIP_DIR']))\n",
    "                        ddy=math.cos(math.radians(awrx[1]['DIP_DIR']))\n",
    "                        dlsx=pair[0][0]-pair[1][0]\n",
    "                        dlsy=pair[0][1]-pair[1][1]\n",
    "                        lsx=dlsx/math.sqrt((dlsx*dlsx)+(dlsy*dlsy))\n",
    "                        lsy=dlsy/math.sqrt((dlsx*dlsx)+(dlsy*dlsy))\n",
    "                        angle=math.degrees(math.acos((ddx*lsx)+(ddy*lsy)))\n",
    "                        #print(i,angle,ls_ddir,lsx,lsy,awrx[1]['DIP_DIR'])\n",
    "                        if(math.fabs(angle-90)<30.0): # dip_dir normal and contact are close enough to parallel\n",
    "                            height= height_from_srtm(nearp.x,nearp.y)\n",
    "                            ls_ddir=math.degrees(math.atan2(lsy,-lsx)) #normal to line segment\n",
    "                            #print(i,ddx,ddy,lsx,lsy,ls_ddir,awrx[1]['DIP_DIR'])\n",
    "                           \n",
    "                            if (ddx*lsy)+(-ddy*lsx)<0: #dot product tests right quadrant\n",
    "                                ls_ddir=(ls_ddir-180)%360\n",
    "                            ostr=str(i)+\",\"+str(nearp.x)+\",\"+str(nearp.y)+\",\"+height+\",\"+str(awrx[1]['DIP'])+\",\"+str(ls_ddir)+\",1,\"+acontact[1]['CODE']+\",\"+acontact[1]['GROUP_']+\"\\n\" \n",
    "                            f.write(ostr)\n",
    "                            i=i+1\n",
    "\n",
    "\n",
    "f.close()"
   ]
  },
  {
   "cell_type": "markdown",
   "metadata": {},
   "source": [
    "## Populate all contacts as orientations"
   ]
  },
  {
   "cell_type": "code",
   "execution_count": 20,
   "metadata": {
    "scrolled": true
   },
   "outputs": [],
   "source": [
    "dist_buffer=30000            \n",
    "structure = gpd.read_file('./tmp/structure_clip.shp') #load orientation data as geopandas dataframe \n",
    "contacts = gpd.read_file('./tmp/basal_contacts2.shp') #load orientation data as geopandas dataframe \n",
    "\n",
    "f=open('./tmp/'+mname+'_all_contact_dips.csv',\"w\")\n",
    "f.write('x,y,ave_dip\\n')\n",
    "\n",
    "\n",
    "all_sorts=pd.read_csv('./tmp/'+mname+'_all_sorts.csv')\n",
    "\n",
    "for a_contact in contacts.iterrows(): # loop through basal contacts\n",
    "    thegroup=a_contact[1]['GROUP_'].replace(\"_\",\" \")\n",
    "    is_structure=structure['GROUP_'] == thegroup # subset orientations to just those with this group\n",
    "    group_structure = structure[is_structure]\n",
    "    print(\"thegroup=\",thegroup,display(group_structure.shape))\n",
    "\n",
    "    if(a_contact[1].geometry.type=='LineString'): #loop through LineStrings\n",
    "        for pair in pairs(list(a_contact)):\n",
    "            n_dip=0\n",
    "            sum_dip=0\n",
    "            l_point= Point((pair[1].geometry.coords[0][0],pair[1].geometry.coords[0][1]))\n",
    "            l_buf=l_point.buffer(dist_buffer)\n",
    "\n",
    "            polygo = gpd.GeoDataFrame(index=[0], crs=dst_crs, geometry=[l_buf]) \n",
    "            \n",
    "            hits = m2l_utils.clip_shp(group_structure,polygo)\n",
    "            if(len(hits)>0):\n",
    "                for a_struct in hits.iterrows():\n",
    "                    #print(a_struct)\n",
    "                    sum_dip=sum_dip+a_struct[1][dcode]\n",
    "                    n_dip=n_dip+1\n",
    "                if(n_dip>0):\n",
    "                    ave_dip=sum_dip/n_dip\n",
    "                    #print(pair[1].geometry.coords[0][0],\",\",pair[1].geometry.coords[0][1],\",\",ave_dip)\n",
    "                    ostr=str(pair[1].geometry.coords[0][0])+\",\"+str(pair[1].geometry.coords[0][1])+\",\"+str(ave_dip)+\"\\n\"\n",
    "                    f.write(ostr)\n",
    "                    \n",
    "                    ###################### add height, polarity, dip direction, code, mostly ok but how to get correct quadrant???, \n",
    "                    \n",
    "                    ######################\n",
    "                    # No real need to clip orientations? No but still need to add codes/groups first\n",
    "                    #####################\n",
    "                else:\n",
    "                    #print(\"none_found\")\n",
    "                    continue\n",
    "              \n",
    "    else:  #loop through MultiLineStrings\n",
    "        for a_line in a_contact[1].geometry:\n",
    "            for pair in pairs(list(a_line.coords)):\n",
    "                n_dip=0\n",
    "                sum_dip=0\n",
    "            l_point= Point((pair[0][0],pair[0][1]))\n",
    "            l_buf=l_point.buffer(dist_buffer)\n",
    "\n",
    "            polygo = gpd.GeoDataFrame(index=[0], crs=dst_crs, geometry=[l_buf]) \n",
    "\n",
    "            hits = m2l_utils.clip_shp(structure,polygo )\n",
    "            if(len(hits)>0):\n",
    "                for a_struct in hits.iterrows():\n",
    "                    #display(a_struct)\n",
    "                    sum_dip=sum_dip+a_struct[1][dcode]\n",
    "                    n_dip=n_dip+1\n",
    "                if(n_dip>0):\n",
    "                    ave_dip=sum_dip/n_dip\n",
    "                    ostr=str(pair[0][0])+\",\"+str(pair[0][1])+\",\"+str(int(ave_dip))+\"\\n\"\n",
    "                    f.write(ostr)\n",
    "                else:\n",
    "                    #print(\"none_found\")\n",
    "                    continue\n",
    "f.close()"
   ]
  },
  {
   "cell_type": "code",
   "execution_count": 56,
   "metadata": {
    "scrolled": true
   },
   "outputs": [],
   "source": [
    "     \n",
    "        for a_line in a_contact[1].geometry:\n",
    "            for pair in pairs(list(a_line.coords)):\n",
    "                n_dip=0\n",
    "                sum_dip=0\n",
    "                for a_struct in structure.iterrows():\n",
    "                    #print(a_struct[1])\n",
    "                    l_point= Point((pair[0][0],pair[0][1]))\n",
    "                    s_point= Point((a_struct[1].geometry.coords[0][0],a_struct[1].geometry.coords[0][1]))\n",
    "                    #print(l_point,s_point)\n",
    "                    if(s_point.distance(l_point)<dist_buffer):\n",
    "                        sum_dip=sum_dip+a_struct[1][dcode]\n",
    "                        n_dip=n_dip+1\n",
    "                if(n_dip>0):\n",
    "                    ave_dip=sum_dip/n_dip\n",
    "                    #print(pair[0][0],pair[0][1],\",\",ave_dip)\n",
    "                    ostr=str(pair[0][0])+\",\"+str(pair[0][1])+\",\"+str(ave_dip)+\"\\n\"\n",
    "                    f.write(ostr)\n",
    "                else:\n",
    "                    #print(\"none_found\",pair[0][0],\",\",pair[0][1])\n",
    "                    continue\n",
    "f.close()"
   ]
  },
  {
   "cell_type": "markdown",
   "metadata": {},
   "source": [
    "## Estimate layer thicknesses"
   ]
  },
  {
   "cell_type": "code",
   "execution_count": 31,
   "metadata": {
    "scrolled": true
   },
   "outputs": [],
   "source": [
    "structure = gpd.read_file('./tmp/structure_clip.shp') #load orientation data as geopandas dataframe \n",
    "contacts = gpd.read_file('./tmp/basal_contacts2.shp') #load orientation data as geopandas dataframe \n",
    "\n",
    "f=open('./output/'+mname+'_estimated_layer_thicknesses.csv',\"w\")\n",
    "f.write('index,position,x,y\\n')\n",
    "\n",
    "all_sorts=pd.read_csv('./tmp/'+mname+'_all_sorts.csv')\n",
    "#display(all_sorts)\n",
    "#display(structure)\n",
    "#print(\"id,x,y,code,group\")\n",
    "for apair in all_sorts.iterrows():\n",
    "    for bpair in all_sorts.iterrows():\n",
    "        i=0\n",
    "        if(int(apair[1]['index'])==(int(bpair[1]['index'])+1) and apair[1]['group']==bpair[1]['group'] ):\n",
    "            #print(\"--------\",apair[1]['index'],bpair[1]['index'],apair[1]['group'],bpair[1]['group'])\n",
    "            #print(structure['GROUP_'].replace(\"-\",\"_\").replace(\" \",\"_\"),apair[1]['group'])\n",
    "            is_struct=structure['GROUP_'] == apair[1]['group'].replace(\"_\",\" \") # subset orientations to just those with this group\n",
    "            all_struct = structure[is_struct]      \n",
    "            is_contacta=contacts['CODE'] == apair[1]['code'].replace(\"__\",\"_-\") # subset contacts to just those with a code\n",
    "            acontacts = contacts[is_contacta]\n",
    "            \n",
    "            is_contactb=contacts['CODE'] == bpair[1]['code'].replace(\"__\",\"_-\") # subset contacts to just those with b code\n",
    "            bcontacts = contacts[is_contactb]\n",
    "            #print(all_struct.shape,acontacts.shape,bcontacts.shape)\n",
    "            \n",
    "            crossings=np.zeros((1000,5))\n",
    "            \n",
    "            for a_struct in all_struct.iterrows(): # loop through valid orientations\n",
    "                #print(a_struct[1]['geometry'].x,a_struct[1]['geometry'].y)\n",
    "                dx1=math.sin(math.radians(a_struct[1]['DIP_DIR']))*1e5\n",
    "                dy1=math.cos(math.radians(a_struct[1]['DIP_DIR']))*1e5\n",
    "                dx2=-dx1\n",
    "                dy2=-dy1\n",
    "                p1=Point((dx1+a_struct[1]['geometry'].x,dy1+a_struct[1]['geometry'].y))\n",
    "                p2=Point((dx2+a_struct[1]['geometry'].x,dy2+a_struct[1]['geometry'].y))\n",
    "                ddline=LineString((p1,p2))\n",
    "                orig = Point(a_struct[1]['geometry'])\n",
    "\n",
    "                for acontact in acontacts.iterrows():   #loop through distinct linestrings for upper contact\n",
    "                    #print(acontact[1]['CODE'],apair[1]['code'])\n",
    "                    #break\n",
    "                    if(ddline.intersects(acontact[1].geometry)): \n",
    "                        isects=ddline.intersection(acontact[1].geometry)\n",
    "                        #print(type(isects),isects)\n",
    "                        if(isects.geom_type==\"MultiPoint\"):\n",
    "                            for pt in isects: \n",
    "                                if(pt.distance(orig)<21000):\n",
    "                                    #print(i,\",\", pt.x, \",\",pt.y,\",\",apair[1]['code'],\",\",apair[1]['group'])\n",
    "                                    crossings[i,0]=i\n",
    "                                    crossings[i,1]=int(apair[1]['index'])\n",
    "                                    crossings[i,2]=0\n",
    "                                    crossings[i,3]=pt.x\n",
    "                                    crossings[i,4]=pt.y\n",
    "                                    i=i+1\n",
    "                        else:\n",
    "                            if(isects.distance(orig)<2000):\n",
    "                                #print(i,\",\", isects.x,\",\", isects.y,\",\",apair[1]['code'],\",\",apair[1]['group'])\n",
    "                                crossings[i,0]=i\n",
    "                                crossings[i,1]=int(apair[1]['index'])\n",
    "                                crossings[i,2]=0\n",
    "                                crossings[i,3]=pt.x\n",
    "                                crossings[i,4]=pt.y\n",
    "                                i=i+1\n",
    "                \n",
    "                for bcontact in bcontacts.iterrows():   #loop through distinct linestrings for lower contact\n",
    "                    #break\n",
    "                    if(ddline.intersects(bcontact[1].geometry)): \n",
    "                        isects=ddline.intersection(bcontact[1].geometry)\n",
    "                        if(isects.geom_type==\"MultiPoint\"):\n",
    "                            for pt in isects: \n",
    "                                if(pt.distance(orig)<15000):\n",
    "                                    #print(i,\",\", pt.x, \",\",pt.y,\",\",bpair[1]['code'],\",\",bpair[1]['group'])\n",
    "                                    crossings[i,0]=i\n",
    "                                    crossings[i,1]=int(apair[1]['index'])\n",
    "                                    crossings[i,2]=1\n",
    "                                    crossings[i,3]=pt.x\n",
    "                                    crossings[i,4]=pt.y\n",
    "                                    i=i+1\n",
    "                        else:\n",
    "                            if(isects.distance(orig)<15000):\n",
    "                                #print(i,\",\", isects.x,\",\", isects.y,\",\",bpair[1]['code'],\",\",bpair[1]['group'])\n",
    "                                crossings[i,0]=i\n",
    "                                crossings[i,1]=int(apair[1]['index'])\n",
    "                                crossings[i,2]=1\n",
    "                                crossings[i,3]=pt.x\n",
    "                                crossings[i,4]=pt.y\n",
    "                                i=i+1\n",
    "            #print('\\n',apair[1]['code'].replace(\"__\",\"_-\"),bpair[1]['code'].replace(\"__\",\"_-\"))\n",
    "            for j in range(0,i):\n",
    "                ostr=str(crossings[j,1])+\",\"+str(crossings[j,2])+\",\"+str(crossings[j,3])+\",\"+str(crossings[j,4])+\"\\n\"\n",
    "                f.write(ostr)\n",
    "                #print(crossings[j,0],crossings[j,1],crossings[j,2],crossings[j,3],crossings[j,4])\n",
    "            #if(i==0):\n",
    "              #  print(\"@@@@@@@@@@@@@@@@@@@@@@@@@@@ No contact pair for\",apair[1]['code'],bpair[1]['code'])\n",
    "            #else:\n",
    "                #print(\"@@@@@@@@@@@@@@@@@@@@@@@@@@@\",i+1,\" contact pairs for\",apair[1]['code'],bpair[1]['code'])\n",
    "f.close()"
   ]
  },
  {
   "cell_type": "code",
   "execution_count": 11,
   "metadata": {},
   "outputs": [],
   "source": [
    "# Need to ignore points across faults. \n",
    "# Now need to get points from neighbouring strat unit intersections, \n",
    "# rotate around orig by dipdir, to get // to Y-axis then sort wrt Y and calc apparent_thickness = dist between points,\n",
    "# then true thickness by apparent_thickness*sin(DIP)"
   ]
  },
  {
   "cell_type": "code",
   "execution_count": null,
   "metadata": {},
   "outputs": [],
   "source": []
  },
  {
   "cell_type": "code",
   "execution_count": null,
   "metadata": {},
   "outputs": [],
   "source": []
  }
 ],
 "metadata": {
  "kernelspec": {
   "display_name": "Python 3",
   "language": "python",
   "name": "python3"
  },
  "language_info": {
   "codemirror_mode": {
    "name": "ipython",
    "version": 3
   },
   "file_extension": ".py",
   "mimetype": "text/x-python",
   "name": "python",
   "nbconvert_exporter": "python",
   "pygments_lexer": "ipython3",
   "version": "3.7.3"
  },
  "pycharm": {
   "stem_cell": {
    "cell_type": "raw",
    "source": [],
    "metadata": {
     "collapsed": false
    }
   }
  }
 },
 "nbformat": 4,
 "nbformat_minor": 2
}