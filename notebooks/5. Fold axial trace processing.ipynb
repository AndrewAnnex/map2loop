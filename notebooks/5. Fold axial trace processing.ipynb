{
 "cells": [
  {
   "cell_type": "markdown",
   "metadata": {},
   "source": [
    "## Processing fold axial traces for geomtry and as orientation constraints\n",
    "Saves geometry of fold axial traces and creates orientation csv file either side of trace with appropriate dip directions and arbitrary dips  \n",
    "Only saves orientation data where interpolated contacts are roughly parallel to fold axial traces  \n"
   ]
  },
  {
   "cell_type": "code",
   "execution_count": null,
   "metadata": {
    "ExecuteTime": {
     "end_time": "2019-11-06T09:01:12.269114Z",
     "start_time": "2019-11-06T09:01:10.682670Z"
    }
   },
   "outputs": [],
   "source": [
    "import geopandas as gpd\n",
    "import pandas as pd\n",
    "import numpy as np\n",
    "import os\n",
    "import sys\n",
    "import stat\n",
    "import functools \n",
    "import operator  \n",
    "import matplotlib\n",
    "import networkx as nx\n",
    "import rasterio\n",
    "from shapely.geometry import Polygon\n",
    "from map2loop import m2l_utils\n",
    "from map2loop import m2l_topology\n",
    "from map2loop import m2l_geometry\n",
    "from map2loop import m2l_interpolation\n",
    "from shapely.geometry import shape, Polygon, LineString, Point\n",
    "from math import sin, cos, atan, atan2, asin, radians, degrees, sqrt, pow, fabs\n",
    "from geopandas import GeoDataFrame\n",
    "%matplotlib inline"
   ]
  },
  {
   "cell_type": "code",
   "execution_count": null,
   "metadata": {
    "ExecuteTime": {
     "end_time": "2019-11-06T09:01:12.290044Z",
     "start_time": "2019-11-06T09:01:12.270097Z"
    }
   },
   "outputs": [],
   "source": [
    "test_data_name='test_data3'\n",
    "\n",
    "test_data_path='../'+test_data_name+'/'\n",
    "\n",
    "os.chdir(test_data_path)\n",
    "\n",
    "%run -i \"m2l_config.py\"\n",
    "dtm = rasterio.open(dtm_reproj_file)"
   ]
  },
  {
   "cell_type": "code",
   "execution_count": null,
   "metadata": {
    "ExecuteTime": {
     "end_time": "2019-11-06T09:01:12.295063Z",
     "start_time": "2019-11-06T09:01:12.292038Z"
    }
   },
   "outputs": [],
   "source": [
    "local_paths=True\n",
    "fold_decimate=2        "
   ]
  },
  {
   "cell_type": "code",
   "execution_count": null,
   "metadata": {
    "ExecuteTime": {
     "end_time": "2019-11-06T09:01:16.353201Z",
     "start_time": "2019-11-06T09:01:12.297026Z"
    }
   },
   "outputs": [],
   "source": [
    "fat_step=750         # how much to step out normal to fold axial trace\n",
    "close_dip=20.0       #dip to assign to all new orientations\n",
    "\n",
    "#Save fold axial traces \n",
    "def save_fold_axial_traces_orientations(path_folds,path_fold_orientations,dataset,c_l,fold_decimate,fat_step,close_dip):\n",
    "    geology = gpd.read_file(tmp_path+'geol_clip.shp')\n",
    "    contacts=np.genfromtxt(tmp_path+'interpolation_contacts_scipy_rbf.csv',delimiter=',',dtype='float')\n",
    "    f=open(output_path+'fold_axial_trace_orientations2.csv','w')\n",
    "    f.write('X,Y,Z,azimuth,dip,polarity,formation\\n')\n",
    "    folds_clip=gpd.read_file(path_folds,)\n",
    "    fo=open(path_fold_orientations+'fold_axial_traces.csv',\"w\")\n",
    "    fo.write(\"X,Y,Z,code,type\\n\")\n",
    "    dummy=[]\n",
    "    dummy.append(1)\n",
    "    for indx,fold in folds_clip.iterrows():\n",
    "        fold_name=str(fold[c_l['o']])   \n",
    "        fold_ls=LineString(fold.geometry)\n",
    "        i=0\n",
    "        first=True\n",
    "        for afs in fold_ls.coords:\n",
    "            if(c_l['fold'] in fold[c_l['f']]):\n",
    "                if(m2l_utils.mod_safe(i,fold_decimate)==0 or i==int((len(fold_ls.coords)-1)/2) or i==len(fold_ls.coords)-1): #decimate to reduce number of points, but also take mid and end points of a series to keep some shape\n",
    "                    locations=[(afs[0],afs[1])]                  \n",
    "                    height=m2l_utils.value_from_raster(dataset,locations)\n",
    "                    ostr=str(afs[0])+','+str(afs[1])+','+str(height)+','+'FA_'+fold_name+','+fold[c_l['t']].replace(',','')+'\\n'\n",
    "                    fo.write(ostr)  \n",
    "                    if(not first):\n",
    "                        l,m=m2l_utils.pts2dircos(lastx,lasty,afs[0],afs[1])\n",
    "                        midx=lastx+((afs[0]-lastx)/2)\n",
    "                        midy=lasty+((afs[1]-lasty)/2)\n",
    "                        midxr=midx+(fat_step*-m)\n",
    "                        midyr=midy+(fat_step*l)\n",
    "                        midxl=midx-(fat_step*-m)\n",
    "                        midyl=midy-(fat_step*l)\n",
    "                        dip,dipdir=m2l_utils.dircos2ddd(-m,l,cos(radians(close_dip)))\n",
    "                        if(c_l['syn'] in fold[c_l['t']]):\n",
    "                            dipdir=dipdir+180\n",
    "                        mindist=1e9\n",
    "                        minind=-1\n",
    "                        for i in range(1,len(contacts)):\n",
    "                            dist=m2l_utils.ptsdist(contacts[i,0],contacts[i,1],midx,midy)\n",
    "                            if(dist<mindist):\n",
    "                                mindist=dist\n",
    "                                minind=i\n",
    "                        lc=sin(radians(contacts[minind,2]))\n",
    "                        mc=cos(radians(contacts[minind,2]))\n",
    "                        dotprod=fabs((l*lc)+(m*mc))\n",
    "                        #print(dotprod,midx,midy,minind,contacts[minind,2],l,m,lc,mc)   \n",
    "                        if(dotprod>0.85):\n",
    "                            geometry = [Point(midxr,midyr)]\n",
    "                            gdf = GeoDataFrame(dummy, crs=dst_crs, geometry=geometry)\n",
    "                            structure_code = gpd.sjoin(gdf, geology, how=\"left\", op=\"within\")\n",
    "                            if(not str(structure_code.iloc[0]['CODE'])=='nan'):\n",
    "                                locations=[(midxr,midyr)]                  \n",
    "                                height=m2l_utils.value_from_raster(dataset,locations)\n",
    "                                ostr=str(midxr)+','+str(midyr)+','+str(height)+','+str(dipdir)+','+str(int(dip))+',1,'+str(structure_code.iloc[0]['CODE']).replace(\" \",\"_\").replace(\"-\",\"_\")+'\\n'\n",
    "                                f.write(ostr)\n",
    "                            \n",
    "                            geometry = [Point(midxl,midyl)]\n",
    "                            gdf = GeoDataFrame(dummy, crs=dst_crs, geometry=geometry)\n",
    "                            structure_code = gpd.sjoin(gdf, geology, how=\"left\", op=\"within\")\n",
    "                            if(not str(structure_code.iloc[0]['CODE'])=='nan'):\n",
    "                                locations=[(midxl,midyl)]                  \n",
    "                                height=m2l_utils.value_from_raster(dataset,locations)\n",
    "                                ostr=str(midxl)+','+str(midyl)+','+str(height)+','+str(dipdir+180)+','+str(int(dip))+',1,'+str(structure_code.iloc[0]['CODE']).replace(\" \",\"_\").replace(\"-\",\"_\")+'\\n'\n",
    "                                f.write(ostr)\n",
    "                    first=False\n",
    "                    lastx=afs[0]\n",
    "                    lasty=afs[1]\n",
    "            i=i+1  \n",
    "\n",
    "    fo.close()\n",
    "    f.close()\n",
    "    print(\"fold axial traces saved as\",path_fold_orientations+'fold_axial_traces.csv')\n",
    "    print(\"fold axial trace orientations saved as\",path_fold_orientations+'fold_axial_trace_orientations.csv')\n",
    "    \n",
    "    \n",
    "save_fold_axial_traces_orientations(tmp_path+'folds_clip.shp',output_path,dtm,c_l,fold_decimate,fat_step,close_dip)"
   ]
  },
  {
   "cell_type": "code",
   "execution_count": null,
   "metadata": {},
   "outputs": [],
   "source": []
  }
 ],
 "metadata": {
  "hide_input": false,
  "kernelspec": {
   "display_name": "Python 3",
   "language": "python",
   "name": "python3"
  },
  "language_info": {
   "codemirror_mode": {
    "name": "ipython",
    "version": 3
   },
   "file_extension": ".py",
   "mimetype": "text/x-python",
   "name": "python",
   "nbconvert_exporter": "python",
   "pygments_lexer": "ipython3",
   "version": "3.7.3"
  }
 },
 "nbformat": 4,
 "nbformat_minor": 2
}
