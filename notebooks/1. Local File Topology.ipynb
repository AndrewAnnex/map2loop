{
 "cells": [
  {
   "cell_type": "markdown",
   "metadata": {},
   "source": [
    "## map2loop: Topology fom Local file\n",
    "This notebook reads in two layers from the local files:  geology polygons and fault polylines; and calculates the topological relationships between the different features. Requires compiled cpp code from Vitaliy Ogarko"
   ]
  },
  {
   "cell_type": "code",
   "execution_count": null,
   "metadata": {
    "pycharm": {
     "is_executing": false
    },
    "scrolled": false
   },
   "outputs": [],
   "source": [
    "import subprocess\n",
    "import geopandas as gpd\n",
    "import os\n",
    "import sys\n",
    "import stat\n",
    "import functools \n",
    "import operator  \n",
    "import matplotlib\n",
    "import networkx as nx\n",
    "from shapely.geometry import Polygon\n",
    "\n",
    "newwd=\"C:\\\\Users\\\\00073294\\Dropbox\\\\loop_minex\\\\map2model\\\\\"\n",
    "#os.chdir(newwd)\n",
    "print(\"Current Working Directory \" )\n",
    "\n",
    "gdal_data = os.environ['GDAL_DATA']\n",
    "print(\"***\",gdal_data)\n",
    "print('is dir: ' + str(os.path.isdir(gdal_data)))\n",
    "gcs_csv = os.path.join(gdal_data, 'gcs.csv')\n",
    "print('is file: ' + str(os.path.isfile(gcs_csv)))\n",
    "st = os.stat(gcs_csv)\n",
    "print('is readable: ' + str(bool(st.st_mode & stat.S_IRGRP)))\n",
    "os.environ['PROJ_LIB']=r\"C:\\\\Users\\\\00073294\\\\AppData\\\\Local\\\\Continuum\\\\anaconda3\\\\Lib\\\\site-packages\\\\pyproj\\\\proj_dir\\\\share\\\\proj\"\n",
    "print(os.getenv('PROJ_LIB'))\n",
    "print(os.getcwd())"
   ]
  },
  {
   "cell_type": "markdown",
   "metadata": {},
   "source": [
    "## Create bounding box based on inputs"
   ]
  },
  {
   "cell_type": "code",
   "execution_count": null,
   "metadata": {},
   "outputs": [],
   "source": [
    "latmin=-23\n",
    "latmax=-22\n",
    "longmin=117\n",
    "longmax=118\n",
    "\n",
    "step_out=0\n",
    "minx=500057+step_out    #left hams\n",
    "maxx=603028-step_out    #right\n",
    "miny=7455348+step_out   #bottom\n",
    "maxy=7567953-step_out   #top\n",
    "src_crs = 'epsg:4326'  #input data coord ref system (assumed to be geodetic lat/long WGS84)\n",
    "dst_crs = 'epsg:28350' #model ref system (assumed to be something with metre coordinates)\n",
    "\n",
    "bbox=str(miny)+\",\"+str(minx)+\",\"+str(maxy)+\",\"+str(maxx)\n",
    "lat_point_list = [miny, miny, maxy, maxy, maxy]\n",
    "lon_point_list = [minx, maxx, maxx, minx, minx]\n",
    "\n",
    "bbox_geom = Polygon(zip(lon_point_list, lat_point_list))\n",
    "polygon = gpd.GeoDataFrame(index=[0], crs=dst_crs, geometry=[bbox_geom]) \n",
    "\n",
    "print(bbox)\n",
    "bbox=(minx,miny,maxx,maxy)\n",
    "\n",
    "mname='hams3' #root name of model input data\n",
    "\n",
    "\n",
    "test_data_path='../test_data3/'\n",
    "graph_path=test_data_path+'graph/'\n",
    "strat_graph_file=test_data_path+'graph/output/'+mname+'_strat.gml'\n",
    "\n",
    "tmp_path=test_data_path+'tmp/'\n",
    "data_path=test_data_path+'data/'\n",
    "\n",
    "fault_file=data_path+'GEOS_GEOLOGY_LINEARSTRUCTURE_500K_GSD.shp'\n",
    "structure_file=data_path+'hams2_structure.shp'\n",
    "geology_file=data_path+'hams2_geol.shp'\n",
    "\n",
    "fault_file_csv=fault_file.replace('shp','csv').replace('/data/','/tmp/')\n",
    "structure_file_csv=structure_file.replace('shp','csv').replace('/data/','/tmp/')\n",
    "geology_file_csv=geology_file.replace('shp','csv').replace('/data/','/tmp/')\n",
    "\n",
    "if(not os.path.isdir(graph_path)):\n",
    "    os.mkdir(graph_path)\n",
    "if(not os.path.isdir(tmp_path)):\n",
    "    os.mkdir(tmp_path)\n"
   ]
  },
  {
   "cell_type": "markdown",
   "metadata": {},
   "source": [
    "## Plot geology polygons and bounding box"
   ]
  },
  {
   "cell_type": "code",
   "execution_count": null,
   "metadata": {},
   "outputs": [],
   "source": [
    "geology_ll = gpd.read_file(geology_file,bbox=bbox)\n",
    "\n",
    "base=geology_ll.plot(column='CODE',figsize=(10,10),edgecolor='#000000',linewidth=0.2)\n",
    "polygon.plot(ax=base, color='none',edgecolor='black')\n"
   ]
  },
  {
   "cell_type": "markdown",
   "metadata": {},
   "source": [
    "## Save to file as WKT"
   ]
  },
  {
   "cell_type": "code",
   "execution_count": null,
   "metadata": {
    "scrolled": true
   },
   "outputs": [],
   "source": [
    "sub_geol = geology_ll[['geometry', 'OBJECTID','CODE','GROUP_','UNITNAME','MIN_AGE_MA','MAX_AGE_MA','DESCRIPTN','ROCKTYPE1','ROCKTYPE2']]\n",
    "\n",
    "f= open(geology_file_csv,\"w+\")\n",
    "f.write(\"WKT\\tOBJECTID\\tUNITNAME\\tGROUP_\\tMIN_AGE_MA\\tMAX_AGE_MA\\tCODE\\tROCKTYPE1\\tROCKTYPE2\\tDESCRIPTN\\n\")\n",
    "        \n",
    "print(len(sub_geol),\" polygons\")\n",
    "#print(sub_geol)\n",
    "for i in range(0,len(sub_geol)):\n",
    "    f.write(\"\\\"\"+str(sub_geol.loc[i].geometry)+\"\\\"\\t\")\n",
    "    f.write(\"\\\"\"+str(sub_geol.loc[i].OBJECTID)+\"\\\"\\t\")\n",
    "    f.write(\"\\\"\"+str(sub_geol.loc[i].CODE)+\"\\\"\\t\")\n",
    "    f.write(\"\\\"\"+str(sub_geol.loc[i].GROUP_)+\"\\\"\\t\")\n",
    "    f.write(\"\\\"\"+str(sub_geol.loc[i].MIN_AGE_MA)+\"\\\"\\t\")\n",
    "    f.write(\"\\\"\"+str(sub_geol.loc[i].MAX_AGE_MA)+\"\\\"\\t\")\n",
    "    f.write(\"\\\"\"+str(sub_geol.loc[i].UNITNAME)+\"\\\"\\t\")\n",
    "    f.write(\"\\\"\"+str(sub_geol.loc[i].ROCKTYPE1)+\"\\\"\\t\")\n",
    "    f.write(\"\\\"\"+str(sub_geol.loc[i].ROCKTYPE2)+\"\\\"\\t\")\n",
    "    f.write(\"\\\"\"+str(sub_geol.loc[i].DESCRIPTN)+\"\\\"\\n\")\n",
    "    \n",
    "f.close()\n"
   ]
  },
  {
   "cell_type": "markdown",
   "metadata": {},
   "source": [
    "## Read and save WAROX point data as WKT"
   ]
  },
  {
   "cell_type": "code",
   "execution_count": null,
   "metadata": {},
   "outputs": [],
   "source": [
    "warox = gpd.read_file(structure_file,bbox=bbox)\n",
    "\n",
    "\n",
    "sub_pts = warox[['geometry', 'GEOPNT_ID','DIP','DIP_DIR']]\n",
    "\n",
    "f= open(structure_file_csv,\"w+\")\n",
    "f.write(\"WKT\\tGEOPNT_ID\\tDIP\\tDIP_DIR\\n\")\n",
    "\n",
    "print(len(sub_pts),\" points\")\n",
    "\n",
    "\n",
    "#for i in range(0,len(sub_pts)):\n",
    "#    for j in range(0,len(sub_geol)):\n",
    "#        if(sub_pts.loc[i].geometry.within(sub_geol.loc[j].geometry)):\n",
    "#            print(i,j)\n",
    "\n",
    "for i in range(0,len(sub_pts)):\n",
    "    line=\"\\\"\"+str(sub_pts.loc[i].geometry)+\"\\\"\\t\\\"\"+str(sub_pts.loc[i].GEOPNT_ID)+\"\\\"\\t\\\"\"+\\\n",
    "      str(sub_pts.loc[i].DIP)+\"\\\"\\t\\\"\"+str(sub_pts.loc[i].DIP_DIR)+\"\\\"\\n\"    \n",
    "    f.write(functools.reduce(operator.add, (line)))\n",
    "    \n",
    "f.close()\n",
    "\n",
    "base=sub_pts.plot()\n",
    "polygon.plot(ax=base, color='none',edgecolor='black')\n"
   ]
  },
  {
   "cell_type": "markdown",
   "metadata": {},
   "source": [
    "## Plot faults and bounding box"
   ]
  },
  {
   "cell_type": "code",
   "execution_count": null,
   "metadata": {},
   "outputs": [],
   "source": [
    "#bbox='-23,117,-22,118'\n",
    "#lines=gpd.read_file(\"https://services.slip.wa.gov.au/public/services/SLIP_Public_Services/Geology_and_Soils_Map_WFS/MapServer/WFSServer/?service=WFS&version=1.0.0&request=GetFeature&typename=SLIP_Public_Services_Geology_and_Soils_Map_WFS:__2_500_000_State_interpreted_bedrock_geology_structural_lines__DMIRS-013_&BBOX=\"+bbox+\"&srs=EPSG:3857\")\n",
    "#print(lines)\n",
    "#lines.plot(column='feature',figsize=(10,10),linewidth=0.2)\n",
    "lines_ll=gpd.read_file(fault_file,bbox=bbox)\n",
    "#lines_ll = lines.to_crs('epsg:4326')\n",
    "#print(geology.crs)\n",
    "base2=lines_ll.plot(cmap='rainbow',column='FEATURE',figsize=(10,10),linewidth=0.4)\n",
    "polygon.plot(ax=base2, color='none',edgecolor='black')\n"
   ]
  },
  {
   "cell_type": "markdown",
   "metadata": {},
   "source": [
    "## Save faults to file as WKT"
   ]
  },
  {
   "cell_type": "code",
   "execution_count": null,
   "metadata": {},
   "outputs": [],
   "source": [
    "sub_lines = lines_ll[['geometry', 'OBJECTID','FEATURE']]\n",
    "\n",
    "f= open(fault_file_csv,\"w+\")\n",
    "f.write(\"WKT\\tOBJECTID\\tFEATURE\\n\")\n",
    "\n",
    "print(len(sub_lines),\" polylines\")\n",
    "\n",
    "for i in range(0,len(sub_lines)):\n",
    "    if('Fault' in sub_lines.loc[i].FEATURE):\n",
    "        f.write(\"\\\"\"+str(sub_lines.loc[i].geometry)+\"\\\"\\t\")\n",
    "        f.write(\"\\\"\"+str(sub_lines.loc[i].OBJECTID)+\"\\\"\\t\")\n",
    "        f.write(\"\\\"\"+str(sub_lines.loc[i].FEATURE)+\"\\\"\\n\")\n",
    "    \n",
    "f.close()"
   ]
  },
  {
   "cell_type": "markdown",
   "metadata": {},
   "source": [
    "## Create map2model input file"
   ]
  },
  {
   "cell_type": "code",
   "execution_count": null,
   "metadata": {},
   "outputs": [],
   "source": [
    "f=open('../m2m_cpp/Parfile','w')\n",
    "f.write('--- COLUMN NAMES IN CSV DATA FILES: -------------------------------------------------------------\\n')\n",
    "f.write('OBJECT COORDINATES              =WKT\\n')\n",
    "f.write('FAULT: ID                       =OBJECTID\\n')\n",
    "f.write('FAULT: FEATURE                  =FEATURE\\n')\n",
    "f.write('POINT: ID                       =GEOPNT_ID\\n')\n",
    "f.write('POINT: DIP                      =DIP\\n')\n",
    "f.write('POINT: DIP DIR                  =DIP_DIR\\n')\n",
    "f.write('POLYGON: ID                     =OBJECTID\\n')\n",
    "f.write('POLYGON: LEVEL1 NAME            =UNITNAME\\n')\n",
    "f.write('POLYGON: LEVEL2 NAME            =GROUP_\\n')\n",
    "f.write('POLYGON: MIN AGE                =MIN_AGE_MA\\n')\n",
    "f.write('POLYGON: MAX AGE                =MAX_AGE_MA\\n')\n",
    "f.write('POLYGON: CODE                   =CODE\\n')\n",
    "f.write('POLYGON: DESCRIPTION            =DESCRIPTN\\n')\n",
    "f.write('POLYGON: ROCKTYPE1              =ROCKTYPE1\\n')\n",
    "f.write('POLYGON: ROCKTYPE2              =ROCKTYPE2\\n')\n",
    "f.write('--- SOME CONSTANTS: ----------------------------------------------------------------------------\\n')\n",
    "f.write('FAULT AXIAL FEATURE NAME        =Fold axial trace\\n')\n",
    "f.write('SILL UNIT DESCRIPTION CONTAINS  =sills\\n')\n",
    "f.write('------------------------------------------------------------------------------------------------\\n')\n",
    "f.write('Path to the output data folder                      =../test_data3/graph/\\n')\n",
    "f.write('Path to geology data file                           ='+geology_file_csv+'\\n')\n",
    "f.write('Path to faults data file                            ='+fault_file_csv+'\\n')\n",
    "f.write('Path to points data file                            ='+structure_file_csv+'\\n')\n",
    "f.write('------------------------------------------------------------------------------------------------\\n')\n",
    "f.write('Clipping window X1 Y1 X2 Y2 (zeros for infinite)    ='+str(minx)+' '+str(miny)+' '+str(maxx)+' '+str(maxy)+'\\n')\n",
    "f.write('Min length fraction for strat/fault graphs          =0.0\\n')\n",
    "f.write('Graph edge width categories (three doubles)         =2000. 20000. 200000.\\n')\n",
    "f.write('Graph edge direction (0-min age, 1-max age, 2-avg)  =0\\n')\n",
    "f.write('Partial graph polygon ID                            =32\\n')\n",
    "f.write('Partial graph depth                                 =4\\n')\n",
    "f.write('Map subregion size dx, dy [m] (zeros for full map)  =0. 0.\\n')\n",
    "f.write('------------------------------------------------------------------------------------------------\\n')\n",
    "f.close()\n",
    "\n"
   ]
  },
  {
   "cell_type": "markdown",
   "metadata": {},
   "source": [
    "## Calculate topology"
   ]
  },
  {
   "cell_type": "code",
   "execution_count": null,
   "metadata": {},
   "outputs": [],
   "source": [
    "os.chdir('../m2m_cpp')\n",
    "print(os.getcwd())\n",
    "subprocess.run([\"map2model.exe\", \"Parfile\"],shell = True)"
   ]
  },
  {
   "cell_type": "markdown",
   "metadata": {},
   "source": [
    "## Simple network graph of the geology with legend"
   ]
  },
  {
   "cell_type": "code",
   "execution_count": null,
   "metadata": {},
   "outputs": [],
   "source": [
    "G=nx.read_gml(\"../test_data3/graph/graph_strat.gml\",label='id')\n",
    "selected_nodes = [n for n,v in G.nodes(data=True) if n >=0]\n",
    "nx.draw_networkx(G, pos=nx.kamada_kawai_layout(G), arrows=True, nodelist=selected_nodes)\n",
    "\n",
    "nlist=list(G.nodes.data('LabelGraphics'))\n",
    "nlist.sort()\n",
    "for no in nlist:\n",
    "    if(no[0]>=0):\n",
    "        elem=str(no[1]).replace(\"{'text':\",\"\").replace(\", 'fontSize': 14}\",\"\")\n",
    "        #second=elem.split(\":\").replace(\"'\",\"\")\n",
    "        print(no[0],\" \",elem)"
   ]
  },
  {
   "cell_type": "markdown",
   "metadata": {},
   "source": [
    "## Detailed Topology via dot or gml format files\n",
    "For a more detailed look we can open up the online version of <b>yEd</b> <a href=\"https://www.yworks.com/yed-live/\" >https://www.yworks.com/yed-live/</a>  and load in the *.dot file that we will now create or dowload the <a href=\"https://www.yworks.com/products/yed/download\">yEd program</a> and look at the *.gml files in the <b>output</b> directory"
   ]
  },
  {
   "cell_type": "code",
   "execution_count": null,
   "metadata": {},
   "outputs": [],
   "source": [
    "from networkx.drawing.nx_pydot import write_dot\n",
    "\n",
    "import filer,gfiler\n",
    "\n",
    "filepath=filer.gui_fname().decode('UTF-8')\n",
    "write_dot(G,filepath)"
   ]
  },
  {
   "cell_type": "markdown",
   "metadata": {},
   "source": [
    "http://localhost:8888/notebooks/Dropbox/1_Jupyter_notebooks/map2loop/notebooks/2.%20map2loop_after_topology.ipynb"
   ]
  },
  {
   "cell_type": "code",
   "execution_count": null,
   "metadata": {},
   "outputs": [],
   "source": []
  }
 ],
 "metadata": {
  "kernelspec": {
   "display_name": "Python 3",
   "language": "python",
   "name": "python3"
  },
  "language_info": {
   "codemirror_mode": {
    "name": "ipython",
    "version": 3
   },
   "file_extension": ".py",
   "mimetype": "text/x-python",
   "name": "python",
   "nbconvert_exporter": "python",
   "pygments_lexer": "ipython3",
   "version": "3.7.3"
  }
 },
 "nbformat": 4,
 "nbformat_minor": 2
}
