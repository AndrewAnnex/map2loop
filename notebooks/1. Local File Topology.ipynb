{
 "cells": [
  {
   "cell_type": "markdown",
   "metadata": {},
   "source": [
    "## map2loop: Topology fom Local file or Loop WFS Server\n",
    "This notebook reads in two layers from the local files:  geology polygons and fault polylines; and calculates the topological relationships between the different features. Requires compiled cpp code from Vitaliy Ogarko"
   ]
  },
  {
   "cell_type": "code",
   "execution_count": 6,
   "metadata": {
    "pycharm": {
     "is_executing": false
    },
    "scrolled": false
   },
   "outputs": [
    {
     "name": "stdout",
     "output_type": "stream",
     "text": [
      "Current Working Directory \n",
      "*** C:\\Program Files\\PostgreSQL\\11\\gdal-data\n",
      "is dir: True\n",
      "is file: True\n",
      "is readable: True\n",
      "C:\\\\Users\\\\00073294\\\\AppData\\\\Local\\\\Continuum\\\\anaconda3\\\\Lib\\\\site-packages\\\\pyproj\\\\proj_dir\\\\share\\\\proj\n",
      "C:\\Users\\00073294\\Dropbox\\1_Jupyter_notebooks\\map2loop\\notebooks\n"
     ]
    }
   ],
   "source": [
    "import subprocess\n",
    "import geopandas as gpd\n",
    "import os\n",
    "import sys\n",
    "import stat\n",
    "import functools \n",
    "import operator  \n",
    "import matplotlib\n",
    "import networkx as nx\n",
    "from shapely.geometry import Polygon\n",
    "from map2loop import m2l_utils\n",
    "%matplotlib inline\n",
    "\n",
    "newwd=\"C:\\\\Users\\\\00073294\\Dropbox\\\\loop_minex\\\\map2model\\\\\"\n",
    "#os.chdir(newwd)\n",
    "print(\"Current Working Directory \" )\n",
    "\n",
    "gdal_data = os.environ['GDAL_DATA']\n",
    "print(\"***\",gdal_data)\n",
    "print('is dir: ' + str(os.path.isdir(gdal_data)))\n",
    "gcs_csv = os.path.join(gdal_data, 'gcs.csv')\n",
    "print('is file: ' + str(os.path.isfile(gcs_csv)))\n",
    "st = os.stat(gcs_csv)\n",
    "print('is readable: ' + str(bool(st.st_mode & stat.S_IRGRP)))\n",
    "os.environ['PROJ_LIB']=r\"C:\\\\Users\\\\00073294\\\\AppData\\\\Local\\\\Continuum\\\\anaconda3\\\\Lib\\\\site-packages\\\\pyproj\\\\proj_dir\\\\share\\\\proj\"\n",
    "print(os.getenv('PROJ_LIB'))\n",
    "print(os.getcwd())"
   ]
  },
  {
   "cell_type": "markdown",
   "metadata": {},
   "source": [
    "## Create bounding box based on inputs"
   ]
  },
  {
   "cell_type": "code",
   "execution_count": 11,
   "metadata": {},
   "outputs": [
    {
     "name": "stdout",
     "output_type": "stream",
     "text": [
      "Default parameters loaded from m2l_config.py:\n",
      "#ROI\n",
      "minlong=117 # should back calc from metre system\\n\",\n",
      "maxlong=118\n",
      "minlat=-23\n",
      "maxlat=-22\n",
      "\n",
      "step_out=0\n",
      "inset=0\n",
      "\n",
      "minx=500057\n",
      "maxx=603028\n",
      "miny=7455348\n",
      "maxy=7567953\n",
      "\n",
      "#CRS\n",
      "src_crs = {'init': 'EPSG:4326'}  \n",
      "dst_crs = {'init': 'EPSG:28350'} \n",
      "\n",
      "#PATH\n",
      "mname='hams3'\n",
      "geology_file='hams2_geol.shp'\n",
      "fault_file='GEOS_GEOLOGY_LINEARSTRUCTURE_500K_GSD.shp'\n",
      "structure_file='hams2_structure.shp'\n",
      "\n",
      "test_data_path='../test_data3/'\n",
      "\n",
      "\n",
      "#CODES\n",
      "gcode='GROUP_'\n",
      "dcode='DIP'\n",
      "ddcode='DIP_DIR'\n",
      "ccode='CODE'\n",
      "ncode='NAME'\n",
      "ocode='OBJECTID'\n",
      "gicode='GEOPNT_ID'\n",
      "r1code='ROCKTYPE1'\n",
      "r2code='ROCKTYPE2'\n",
      "tcode='TYPE'\n",
      "fcode='FEATURE'\n",
      "dscode='DESCRIPTN'\n",
      "ucode='UNITNAME'\n",
      "mincode='MIN_AGE_MA'\n",
      "maxcode='MAX_AGE_MA'\n",
      "sill_label='sill'\n",
      "intrusive_label='intrusive'\n",
      "fold_label='Fold axial trace'\n",
      "fault_label='Fault'\n",
      "bedding_label='Bed'\n",
      "\n",
      "#MODEL_EXTENTS\n",
      "model_base=-8200\n",
      "\n",
      "\n",
      "#DECIMATION\n",
      "orientation_decimate=0\n",
      "contact_decimate=25\n",
      "fault_decimate=5\n",
      "fold_decimate=5\n",
      "\n",
      "\n",
      "#INTERPOLATION\n",
      "gridx=100\n",
      "gridy=100\n",
      "scheme='scipy_rbf'\n",
      "dist_buffer=5\n",
      "intrusion_mode=0 # 1 all instrusions exluded from basal contacts, 0 only sills\n",
      "\n",
      "#ASSUMPTIONS\n",
      "pluton_dip=45\n",
      "pluton_form='saucers' #pluton_form='dontknow'  #saucers \\_____/  pancakes /_____\\   domes /â€¾â€¾â€¾â€¾â€¾\\  dontknow ???\n",
      "fault_dip=90\n",
      "\n",
      "#PATHS\n",
      "\n",
      "local_paths=False\n",
      "test_data_path='../test_data3/'\n",
      "graph_path=test_data_path+'graph/'\n",
      "tmp_path=test_data_path+'tmp/'\n",
      "data_path=test_data_path+'data/'\n",
      "dtm_path=test_data_path+'dtm/'\n",
      "output_path=test_data_path+'output/'\n",
      "vtk_path=test_data_path+'vtk/'\n",
      "m2m_cpp_path='../m2m_cpp/'\n",
      "\n",
      "fault_file=data_path+'GEOS_GEOLOGY_LINEARSTRUCTURE_500K_GSD.shp'\n",
      "structure_file=data_path+'hams2_structure.shp'\n",
      "geology_file=data_path+'hams2_geol.shp'\n",
      "\n",
      "fault_file_csv=fault_file.replace(\".shp\",\".csv\").replace(\"/data/\",\"/tmp/\")\n",
      "structure_file_csv=structure_file.replace(\".shp\",\".csv\").replace(\"/data/\",\"/tmp/\")\n",
      "geology_file_csv=geology_file.replace(\".shp\",\".csv\").replace(\"/data/\",\"/tmp/\")\n",
      "\n",
      "strat_graph_file=test_data_path+'graph/graph_strat.gml'\n",
      "\n",
      "dtm_file=dtm_path+mname+'_dtm.tif'\n",
      "dtm_reproj_file=dtm_path+mname+'_dtm_rp.tif'\n",
      "\n",
      "if(not os.path.isdir(tmp_path)):\n",
      "   os.mkdir(tmp_path)\n",
      "if(not os.path.isdir(output_path)):\n",
      "   os.mkdir(output_path)\n",
      "if(not os.path.isdir(dtm_path)):\n",
      "   os.mkdir(dtm_path)\n",
      "if(not os.path.isdir(dtm_path)):\n",
      "   os.mkdir(dtm_path)\n",
      "if(not os.path.isdir(vtk_path)):\n",
      "   os.mkdir(vtk_path)\n",
      "\n",
      "print('Default parameters loaded from m2l_config.py:')\n",
      "with open('../notebooks/m2l_config.py', 'r') as myfile:\n",
      "  data = myfile.read()\n",
      "  print(data)\n",
      "  myfile.close()\n",
      "print('\\nModify these parameters in the cell below')\n",
      "\n",
      "Modify these parameters in the cell below\n"
     ]
    }
   ],
   "source": [
    "test_data_path='../test_data3/'\n",
    "\n",
    "\n",
    "%run -i \"../test_data3/m2l_config.py\"\n",
    "\n",
    "bbox2=str(minx)+\",\"+str(miny)+\",\"+str(maxx)+\",\"+str(maxy)\n",
    "lat_point_list = [miny, miny, maxy, maxy, maxy]\n",
    "lon_point_list = [minx, maxx, maxx, minx, minx]\n",
    "bbox_geom = Polygon(zip(lon_point_list, lat_point_list))\n",
    "polygon = gpd.GeoDataFrame(index=[0], crs=dst_crs, geometry=[bbox_geom]) \n",
    "bbox=(minx,miny,maxx,maxy)\n"
   ]
  },
  {
   "cell_type": "markdown",
   "metadata": {},
   "source": [
    "## First we test to see if we have access to the online data we need\n"
   ]
  },
  {
   "cell_type": "code",
   "execution_count": null,
   "metadata": {},
   "outputs": [],
   "source": [
    "net=m2l_utils.have_access(\"geo.loop-gis.org\")\n"
   ]
  },
  {
   "cell_type": "markdown",
   "metadata": {},
   "source": [
    "## Optional WFS source\n",
    "  \n",
    "WFS brings in field names as lower case, so need to redefine codes too"
   ]
  },
  {
   "cell_type": "code",
   "execution_count": null,
   "metadata": {},
   "outputs": [],
   "source": [
    "#local_paths=True\n",
    "if(not local_paths and net):\n",
    "    structure_file='http://geo.loop-gis.org/geoserver/loop/wfs?service=WFS&version=1.1.0&request=GetFeature&typeName=warox_points_f5011&bbox='+bbox2+'&srs=EPSG:28350'\n",
    "    fault_file='http://geo.loop-gis.org/geoserver/loop/wfs?service=WFS&version=1.1.0&request=GetFeature&typeName=linear_500k&bbox='+bbox2+'&srs=EPSG:28350'\n",
    "    geology_file='http://geo.loop-gis.org/geoserver/loop/wfs?service=WFS&version=1.0.0&request=GetFeature&typeName=loop:geol_500k&bbox='+bbox2+'&srs=EPSG:28350'\n",
    "\n",
    "    gcode='group_'\n",
    "    dcode='dip'\n",
    "    ddcode='dip_dir'\n",
    "    ccode='code'\n",
    "    ncode='fname'\n",
    "    ocode='objectid'\n",
    "    gicode='geopnt_id'\n",
    "    r1code='rocktype1'\n",
    "    r2code='rocktype2'\n",
    "    tcode='type'\n",
    "    fcode='feature'\n",
    "    dscode='descriptn'\n",
    "    ucode='unitname'\n",
    "    mincode='min_age_ma'\n",
    "    maxcode='max_age_ma'"
   ]
  },
  {
   "cell_type": "markdown",
   "metadata": {},
   "source": [
    "## Plot geology polygons and bounding box"
   ]
  },
  {
   "cell_type": "code",
   "execution_count": null,
   "metadata": {},
   "outputs": [],
   "source": [
    "geology_ll = gpd.read_file(geology_file,bbox=bbox)\n",
    "\n",
    "base=geology_ll.plot(column=ccode,figsize=(10,10),edgecolor='#000000',linewidth=0.2)\n",
    "polygon.plot(ax=base, color='none',edgecolor='black')\n"
   ]
  },
  {
   "cell_type": "markdown",
   "metadata": {},
   "source": [
    "## Save to file as WKT"
   ]
  },
  {
   "cell_type": "code",
   "execution_count": null,
   "metadata": {},
   "outputs": [],
   "source": [
    "sub_geol = geology_ll[['geometry', ocode,ccode,gcode,ucode,mincode,maxcode,dscode,r1code,r2code]]"
   ]
  },
  {
   "cell_type": "code",
   "execution_count": null,
   "metadata": {
    "scrolled": true
   },
   "outputs": [],
   "source": [
    "f= open(geology_file_csv,\"w+\")\n",
    "f.write(\"WKT\\tobjectid\\tunitname\\tgroup_\\tmin_age_ma\\tmax_age_ma\\tcode\\trocktype1\\trocktype2\\tdescriptn\\n\")\n",
    "#display(sub_geol)        \n",
    "print(len(sub_geol),\" polygons\")\n",
    "#print(sub_geol)\n",
    "for i in range(0,len(sub_geol)):\n",
    "    f.write(\"\\\"\"+str(sub_geol.loc[i].geometry)+\"\\\"\\t\")\n",
    "    f.write(\"\\\"\"+str(sub_geol.loc[i][ocode])+\"\\\"\\t\")\n",
    "    f.write(\"\\\"\"+str(sub_geol.loc[i][ccode])+\"\\\"\\t\")\n",
    "    f.write(\"\\\"\"+str(sub_geol.loc[i][gcode]).replace(\"None\",\"\")+\"\\\"\\t\") #since map2model is lookig for \"\" not \"None\"\n",
    "    f.write(\"\\\"\"+str(sub_geol.loc[i][mincode])+\"\\\"\\t\")\n",
    "    f.write(\"\\\"\"+str(sub_geol.loc[i][maxcode])+\"\\\"\\t\")\n",
    "    f.write(\"\\\"\"+str(sub_geol.loc[i][ucode])+\"\\\"\\t\")\n",
    "    f.write(\"\\\"\"+str(sub_geol.loc[i][r1code])+\"\\\"\\t\")\n",
    "    f.write(\"\\\"\"+str(sub_geol.loc[i][r2code])+\"\\\"\\t\")\n",
    "    f.write(\"\\\"\"+str(sub_geol.loc[i][dscode])+\"\\\"\\n\")\n",
    "    \n",
    "f.close()"
   ]
  },
  {
   "cell_type": "markdown",
   "metadata": {},
   "source": [
    "## Read and save WAROX point data as WKT"
   ]
  },
  {
   "cell_type": "code",
   "execution_count": null,
   "metadata": {},
   "outputs": [],
   "source": [
    "warox = gpd.read_file(structure_file,bbox=bbox)\n",
    "\n",
    "\n",
    "sub_pts = warox[['geometry', gicode,dcode,ddcode]]\n",
    "\n",
    "f= open(structure_file_csv,\"w+\")\n",
    "f.write(\"WKT\\tgeopnt_id\\tdip\\tdip_dir\\n\")\n",
    "\n",
    "print(len(sub_pts),\" points\")\n",
    "\n",
    "\n",
    "#for i in range(0,len(sub_pts)):\n",
    "#    for j in range(0,len(sub_geol)):\n",
    "#        if(sub_pts.loc[i].geometry.within(sub_geol.loc[j].geometry)):\n",
    "#            print(i,j)\n",
    "\n",
    "for i in range(0,len(sub_pts)):\n",
    "    line=\"\\\"\"+str(sub_pts.loc[i].geometry)+\"\\\"\\t\\\"\"+str(sub_pts.loc[i][gicode])+\"\\\"\\t\\\"\"+\\\n",
    "      str(sub_pts.loc[i][dcode])+\"\\\"\\t\\\"\"+str(sub_pts.loc[i][ddcode])+\"\\\"\\n\"    \n",
    "    f.write(functools.reduce(operator.add, (line)))\n",
    "    \n",
    "f.close()\n",
    "\n",
    "base=sub_pts.plot()\n",
    "polygon.plot(ax=base, color='none',edgecolor='black')\n"
   ]
  },
  {
   "cell_type": "markdown",
   "metadata": {},
   "source": [
    "## Plot faults and bounding box"
   ]
  },
  {
   "cell_type": "code",
   "execution_count": null,
   "metadata": {},
   "outputs": [],
   "source": [
    "#bbox='-23,117,-22,118'\n",
    "#lines=gpd.read_file(\"https://services.slip.wa.gov.au/public/services/SLIP_Public_Services/Geology_and_Soils_Map_WFS/MapServer/WFSServer/?service=WFS&version=1.0.0&request=GetFeature&typename=SLIP_Public_Services_Geology_and_Soils_Map_WFS:__2_500_000_State_interpreted_bedrock_geology_structural_lines__DMIRS-013_&BBOX=\"+bbox+\"&srs=EPSG:3857\")\n",
    "#print(lines)\n",
    "#lines.plot(column='feature',figsize=(10,10),linewidth=0.2)\n",
    "lines_ll=gpd.read_file(fault_file,bbox=bbox)\n",
    "#lines_ll = lines.to_crs('epsg:4326')\n",
    "#print(geology.crs)\n",
    "base2=lines_ll.plot(cmap='rainbow',column=fcode,figsize=(10,10),linewidth=0.4)\n",
    "polygon.plot(ax=base2, color='none',edgecolor='black')\n"
   ]
  },
  {
   "cell_type": "markdown",
   "metadata": {},
   "source": [
    "## Save faults to file as WKT"
   ]
  },
  {
   "cell_type": "code",
   "execution_count": null,
   "metadata": {},
   "outputs": [],
   "source": [
    "sub_lines = lines_ll[['geometry', ocode,fcode]]\n",
    "\n",
    "f= open(fault_file_csv,\"w+\")\n",
    "f.write(\"WKT\\tobjectid\\tfeature\\n\")\n",
    "\n",
    "print(len(sub_lines),\" polylines\")\n",
    "\n",
    "for i in range(0,len(sub_lines)):\n",
    "    if('Fault' in sub_lines.loc[i][fcode]):\n",
    "        f.write(\"\\\"\"+str(sub_lines.loc[i].geometry)+\"\\\"\\t\")\n",
    "        f.write(\"\\\"\"+str(sub_lines.loc[i][ocode])+\"\\\"\\t\")\n",
    "        f.write(\"\\\"\"+str(sub_lines.loc[i][fcode])+\"\\\"\\n\")\n",
    "    \n",
    "f.close()"
   ]
  },
  {
   "cell_type": "markdown",
   "metadata": {},
   "source": [
    "## Create map2model input file"
   ]
  },
  {
   "cell_type": "code",
   "execution_count": null,
   "metadata": {},
   "outputs": [],
   "source": [
    "f=open(m2m_cpp_path+'Parfile','w')\n",
    "f.write('--- COLUMN NAMES IN CSV DATA FILES: -------------------------------------------------------------\\n')\n",
    "f.write('OBJECT COORDINATES              =WKT\\n')\n",
    "f.write('FAULT: ID                       ='+ocode+'\\n')\n",
    "f.write('FAULT: FEATURE                  ='+fcode+'\\n')\n",
    "f.write('POINT: ID                       ='+gicode+'\\n')\n",
    "f.write('POINT: DIP                      ='+dcode+'\\n')\n",
    "f.write('POINT: DIP DIR                  ='+ddcode+'\\n')\n",
    "f.write('POLYGON: ID                     ='+ocode+'\\n')\n",
    "f.write('POLYGON: LEVEL1 NAME            ='+ucode+'\\n')\n",
    "f.write('POLYGON: LEVEL2 NAME            ='+gcode+'\\n')\n",
    "f.write('POLYGON: MIN AGE                ='+mincode+'\\n')\n",
    "f.write('POLYGON: MAX AGE                ='+maxcode+'\\n')\n",
    "f.write('POLYGON: CODE                   ='+ccode+'\\n')\n",
    "f.write('POLYGON: DESCRIPTION            ='+dscode+'\\n')\n",
    "f.write('POLYGON: ROCKTYPE1              ='+r1code+'\\n')\n",
    "f.write('POLYGON: ROCKTYPE2              ='+r2code+'\\n')\n",
    "f.write('--- SOME CONSTANTS: ----------------------------------------------------------------------------\\n')\n",
    "f.write('FAULT AXIAL FEATURE NAME        ='+fold_label+'\\n')\n",
    "f.write('SILL UNIT DESCRIPTION CONTAINS  ='+sill_label+'\\n')\n",
    "f.write('------------------------------------------------------------------------------------------------\\n')\n",
    "f.write('Path to the output data folder                      ='+graph_path+'\\n')\n",
    "f.write('Path to geology data file                           ='+geology_file_csv+'\\n')\n",
    "f.write('Path to faults data file                            ='+fault_file_csv+'\\n')\n",
    "f.write('Path to points data file                            ='+structure_file_csv+'\\n')\n",
    "f.write('------------------------------------------------------------------------------------------------\\n')\n",
    "f.write('Clipping window X1 Y1 X2 Y2 (zeros for infinite)    ='+str(minx)+' '+str(miny)+' '+str(maxx)+' '+str(maxy)+'\\n')\n",
    "f.write('Min length fraction for strat/fault graphs          =0.0\\n')\n",
    "f.write('Graph edge width categories (three doubles)         =2000. 20000. 200000.\\n')\n",
    "f.write('Graph edge direction (0-min age, 1-max age, 2-avg)  =2\\n')\n",
    "f.write('Partial graph polygon ID                            =32\\n')\n",
    "f.write('Partial graph depth                                 =4\\n')\n",
    "f.write('Map subregion size dx, dy [m] (zeros for full map)  =0. 0.\\n')\n",
    "f.write('------------------------------------------------------------------------------------------------\\n')\n",
    "f.close()\n",
    "\n"
   ]
  },
  {
   "cell_type": "markdown",
   "metadata": {},
   "source": [
    "## Calculate topology"
   ]
  },
  {
   "cell_type": "code",
   "execution_count": null,
   "metadata": {},
   "outputs": [],
   "source": [
    "os.chdir(m2m_cpp_path)\n",
    "print(os.getcwd())\n",
    "subprocess.run([\"map2model.exe\", \"Parfile\"],shell = True)"
   ]
  },
  {
   "cell_type": "markdown",
   "metadata": {},
   "source": [
    "## Simple network graph of the geology with legend"
   ]
  },
  {
   "cell_type": "code",
   "execution_count": null,
   "metadata": {},
   "outputs": [],
   "source": [
    "G=nx.read_gml(strat_graph_file,label='id')\n",
    "selected_nodes = [n for n,v in G.nodes(data=True) if n >=0]\n",
    "nx.draw_networkx(G, pos=nx.kamada_kawai_layout(G), arrows=True, nodelist=selected_nodes)\n",
    "\n",
    "nlist=list(G.nodes.data('LabelGraphics'))\n",
    "nlist.sort()\n",
    "for no in nlist:\n",
    "    if(no[0]>=0):\n",
    "        elem=str(no[1]).replace(\"{'text':\",\"\").replace(\", 'fontSize': 14}\",\"\")\n",
    "        #second=elem.split(\":\").replace(\"'\",\"\")\n",
    "        print(no[0],\" \",elem)"
   ]
  },
  {
   "cell_type": "markdown",
   "metadata": {},
   "source": [
    "## Detailed Topology via dot or gml format files\n",
    "For a more detailed look we can open up the online version of <b>yEd</b> <a href=\"https://www.yworks.com/yed-live/\" >https://www.yworks.com/yed-live/</a>  and load in the *.dot file that we will now create or dowload the <a href=\"https://www.yworks.com/products/yed/download\">yEd program</a> and look at the *.gml files in the <b>output</b> directory"
   ]
  },
  {
   "cell_type": "code",
   "execution_count": null,
   "metadata": {},
   "outputs": [],
   "source": [
    "from networkx.drawing.nx_pydot import write_dot\n",
    "\n",
    "import filer,gfiler\n",
    "\n",
    "filepath=filer.gui_fname().decode('UTF-8')\n",
    "write_dot(G,filepath)"
   ]
  },
  {
   "cell_type": "markdown",
   "metadata": {},
   "source": [
    "http://localhost:8888/notebooks/Dropbox/1_Jupyter_notebooks/map2loop/notebooks/2.%20map2loop_after_topology.ipynb"
   ]
  },
  {
   "cell_type": "code",
   "execution_count": null,
   "metadata": {},
   "outputs": [],
   "source": []
  },
  {
   "cell_type": "code",
   "execution_count": null,
   "metadata": {},
   "outputs": [],
   "source": []
  }
 ],
 "metadata": {
  "kernelspec": {
   "display_name": "Python 3",
   "language": "python",
   "name": "python3"
  },
  "language_info": {
   "codemirror_mode": {
    "name": "ipython",
    "version": 3
   },
   "file_extension": ".py",
   "mimetype": "text/x-python",
   "name": "python",
   "nbconvert_exporter": "python",
   "pygments_lexer": "ipython3",
   "version": "3.7.3"
  }
 },
 "nbformat": 4,
 "nbformat_minor": 2
}
