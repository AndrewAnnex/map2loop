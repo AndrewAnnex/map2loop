{
 "cells": [
  {
   "cell_type": "markdown",
   "metadata": {},
   "source": [
    "## map2loop: Topology fom Local file or Loop WFS Server\n",
    "This notebook reads in two layers from the local files:  geology polygons and fault polylines; and calculates the topological relationships between the different features. Requires compiled cpp code from Vitaliy Ogarko"
   ]
  },
  {
   "cell_type": "code",
   "execution_count": null,
   "metadata": {
    "pycharm": {
     "is_executing": false
    },
    "scrolled": false
   },
   "outputs": [],
   "source": [
    "import subprocess\n",
    "import geopandas as gpd\n",
    "import os\n",
    "import sys\n",
    "import stat\n",
    "import functools \n",
    "import operator  \n",
    "import matplotlib\n",
    "import networkx as nx\n",
    "from shapely.geometry import Polygon\n",
    "from map2loop import m2l_utils\n",
    "%matplotlib inline\n",
    "\n",
    "newwd=\"C:\\\\Users\\\\00073294\\Dropbox\\\\loop_minex\\\\map2model\\\\\"\n",
    "#os.chdir(newwd)\n",
    "print(\"Current Working Directory \" )\n",
    "\n",
    "gdal_data = os.environ['GDAL_DATA']\n",
    "print(\"***\",gdal_data)\n",
    "print('is dir: ' + str(os.path.isdir(gdal_data)))\n",
    "gcs_csv = os.path.join(gdal_data, 'gcs.csv')\n",
    "print('is file: ' + str(os.path.isfile(gcs_csv)))\n",
    "st = os.stat(gcs_csv)\n",
    "print('is readable: ' + str(bool(st.st_mode & stat.S_IRGRP)))\n",
    "os.environ['PROJ_LIB']=r\"C:\\\\Users\\\\00073294\\\\AppData\\\\Local\\\\Continuum\\\\anaconda3\\\\Lib\\\\site-packages\\\\pyproj\\\\proj_dir\\\\share\\\\proj\"\n",
    "print(os.getenv('PROJ_LIB'))\n",
    "print(os.getcwd())"
   ]
  },
  {
   "cell_type": "markdown",
   "metadata": {},
   "source": [
    "## Create bounding box based on inputs"
   ]
  },
  {
   "cell_type": "code",
   "execution_count": null,
   "metadata": {},
   "outputs": [],
   "source": [
    "%run -i \"m2l_config.py\"\n",
    "\n",
    "bbox2=str(minx)+\",\"+str(miny)+\",\"+str(maxx)+\",\"+str(maxy)\n",
    "lat_point_list = [miny, miny, maxy, maxy, maxy]\n",
    "lon_point_list = [minx, maxx, maxx, minx, minx]\n",
    "bbox_geom = Polygon(zip(lon_point_list, lat_point_list))\n",
    "polygon = gpd.GeoDataFrame(index=[0], crs=dst_crs, geometry=[bbox_geom]) \n",
    "bbox=(minx,miny,maxx,maxy)\n"
   ]
  },
  {
   "cell_type": "markdown",
   "metadata": {},
   "source": [
    "## First we test to see if we have access to the online data we need\n"
   ]
  },
  {
   "cell_type": "code",
   "execution_count": null,
   "metadata": {},
   "outputs": [],
   "source": [
    "net=m2l_utils.have_access(\"geo.loop-gis.org\")\n"
   ]
  },
  {
   "cell_type": "markdown",
   "metadata": {},
   "source": [
    "## Optional WFS source\n",
    "  \n",
    "WFS brings in field names as lower case, so need to redefine codes too"
   ]
  },
  {
   "cell_type": "code",
   "execution_count": null,
   "metadata": {},
   "outputs": [],
   "source": [
    "#local_paths=True\n",
    "if(not local_paths and net):\n",
    "    structure_file='http://geo.loop-gis.org/geoserver/loop/wfs?service=WFS&version=1.1.0&request=GetFeature&typeName=warox_points_f5011&bbox='+bbox2+'&srs=EPSG:28350'\n",
    "    fault_file='http://geo.loop-gis.org/geoserver/loop/wfs?service=WFS&version=1.1.0&request=GetFeature&typeName=linear_500k&bbox='+bbox2+'&srs=EPSG:28350'\n",
    "    geology_file='http://geo.loop-gis.org/geoserver/loop/wfs?service=WFS&version=1.0.0&request=GetFeature&typeName=loop:geol_500k_download_join&bbox='+bbox2+'&srs=EPSG:28350'\n",
    "\n",
    "    gcode='group_'\n",
    "    dcode='dip'\n",
    "    ddcode='dip_dir'\n",
    "    ccode='code'\n",
    "    ncode='fname'\n",
    "    ocode='objectid'\n",
    "    gicode='geopnt_id'\n",
    "    r1code='rocktype1'\n",
    "    r2code='rocktype2'\n",
    "    tcode='type'\n",
    "    fcode='feature'\n",
    "    dscode='descriptn'\n",
    "    ucode='unitname'\n",
    "    mincode='min_age_ma'\n",
    "    maxcode='max_age_ma'"
   ]
  },
  {
   "cell_type": "markdown",
   "metadata": {},
   "source": [
    "## Plot geology polygons and bounding box"
   ]
  },
  {
   "cell_type": "code",
   "execution_count": null,
   "metadata": {},
   "outputs": [],
   "source": [
    "geology_ll = gpd.read_file(geology_file,bbox=bbox)\n",
    "\n",
    "base=geology_ll.plot(column=ccode,figsize=(10,10),edgecolor='#000000',linewidth=0.2)\n",
    "polygon.plot(ax=base, color='none',edgecolor='black')\n"
   ]
  },
  {
   "cell_type": "markdown",
   "metadata": {},
   "source": [
    "## Save to file as WKT"
   ]
  },
  {
   "cell_type": "code",
   "execution_count": null,
   "metadata": {},
   "outputs": [],
   "source": [
    "sub_geol = geology_ll[['geometry', ocode,ccode,gcode,ucode,mincode,maxcode,dscode,r1code,r2code]]"
   ]
  },
  {
   "cell_type": "code",
   "execution_count": null,
   "metadata": {
    "scrolled": true
   },
   "outputs": [],
   "source": [
    "f= open(geology_file_csv,\"w+\")\n",
    "f.write(\"WKT\\tobjectid\\tunitname\\tgroup_\\tmin_age_ma\\tmax_age_ma\\tcode\\trocktype1\\trocktype2\\tdescriptn\\n\")\n",
    "#display(sub_geol)        \n",
    "print(len(sub_geol),\" polygons\")\n",
    "#print(sub_geol)\n",
    "for i in range(0,len(sub_geol)):\n",
    "    f.write(\"\\\"\"+str(sub_geol.loc[i].geometry)+\"\\\"\\t\")\n",
    "    f.write(\"\\\"\"+str(sub_geol.loc[i][ocode])+\"\\\"\\t\")\n",
    "    f.write(\"\\\"\"+str(sub_geol.loc[i][ccode])+\"\\\"\\t\")\n",
    "    f.write(\"\\\"\"+str(sub_geol.loc[i][gcode]).replace(\"None\",\"\")+\"\\\"\\t\") #since map2model is lookig for \"\" not \"None\"\n",
    "    f.write(\"\\\"\"+str(sub_geol.loc[i][mincode])+\"\\\"\\t\")\n",
    "    f.write(\"\\\"\"+str(sub_geol.loc[i][maxcode])+\"\\\"\\t\")\n",
    "    f.write(\"\\\"\"+str(sub_geol.loc[i][ucode])+\"\\\"\\t\")\n",
    "    f.write(\"\\\"\"+str(sub_geol.loc[i][r1code])+\"\\\"\\t\")\n",
    "    f.write(\"\\\"\"+str(sub_geol.loc[i][r2code])+\"\\\"\\t\")\n",
    "    f.write(\"\\\"\"+str(sub_geol.loc[i][dscode])+\"\\\"\\n\")\n",
    "    \n",
    "f.close()"
   ]
  },
  {
   "cell_type": "markdown",
   "metadata": {},
   "source": [
    "## Read and save WAROX point data as WKT"
   ]
  },
  {
   "cell_type": "code",
   "execution_count": null,
   "metadata": {},
   "outputs": [],
   "source": [
    "warox = gpd.read_file(structure_file,bbox=bbox)\n",
    "\n",
    "\n",
    "sub_pts = warox[['geometry', gicode,dcode,ddcode]]\n",
    "\n",
    "f= open(structure_file_csv,\"w+\")\n",
    "f.write(\"WKT\\tgeopnt_id\\tdip\\tdip_dir\\n\")\n",
    "\n",
    "print(len(sub_pts),\" points\")\n",
    "\n",
    "\n",
    "#for i in range(0,len(sub_pts)):\n",
    "#    for j in range(0,len(sub_geol)):\n",
    "#        if(sub_pts.loc[i].geometry.within(sub_geol.loc[j].geometry)):\n",
    "#            print(i,j)\n",
    "\n",
    "for i in range(0,len(sub_pts)):\n",
    "    line=\"\\\"\"+str(sub_pts.loc[i].geometry)+\"\\\"\\t\\\"\"+str(sub_pts.loc[i][gicode])+\"\\\"\\t\\\"\"+\\\n",
    "      str(sub_pts.loc[i][dcode])+\"\\\"\\t\\\"\"+str(sub_pts.loc[i][ddcode])+\"\\\"\\n\"    \n",
    "    f.write(functools.reduce(operator.add, (line)))\n",
    "    \n",
    "f.close()\n",
    "\n",
    "base=sub_pts.plot()\n",
    "polygon.plot(ax=base, color='none',edgecolor='black')\n"
   ]
  },
  {
   "cell_type": "markdown",
   "metadata": {},
   "source": [
    "## Plot faults and bounding box"
   ]
  },
  {
   "cell_type": "code",
   "execution_count": null,
   "metadata": {},
   "outputs": [],
   "source": [
    "#bbox='-23,117,-22,118'\n",
    "#lines=gpd.read_file(\"https://services.slip.wa.gov.au/public/services/SLIP_Public_Services/Geology_and_Soils_Map_WFS/MapServer/WFSServer/?service=WFS&version=1.0.0&request=GetFeature&typename=SLIP_Public_Services_Geology_and_Soils_Map_WFS:__2_500_000_State_interpreted_bedrock_geology_structural_lines__DMIRS-013_&BBOX=\"+bbox+\"&srs=EPSG:3857\")\n",
    "#print(lines)\n",
    "#lines.plot(column='feature',figsize=(10,10),linewidth=0.2)\n",
    "lines_ll=gpd.read_file(fault_file,bbox=bbox)\n",
    "#lines_ll = lines.to_crs('epsg:4326')\n",
    "#print(geology.crs)\n",
    "base2=lines_ll.plot(cmap='rainbow',column=fcode,figsize=(10,10),linewidth=0.4)\n",
    "polygon.plot(ax=base2, color='none',edgecolor='black')\n"
   ]
  },
  {
   "cell_type": "markdown",
   "metadata": {},
   "source": [
    "## Save faults to file as WKT"
   ]
  },
  {
   "cell_type": "code",
   "execution_count": null,
   "metadata": {},
   "outputs": [],
   "source": [
    "sub_lines = lines_ll[['geometry', ocode,fcode]]\n",
    "\n",
    "f= open(fault_file_csv,\"w+\")\n",
    "f.write(\"WKT\\tobjectid\\tfeature\\n\")\n",
    "\n",
    "print(len(sub_lines),\" polylines\")\n",
    "\n",
    "for i in range(0,len(sub_lines)):\n",
    "    if('Fault' in sub_lines.loc[i][fcode]):\n",
    "        f.write(\"\\\"\"+str(sub_lines.loc[i].geometry)+\"\\\"\\t\")\n",
    "        f.write(\"\\\"\"+str(sub_lines.loc[i][ocode])+\"\\\"\\t\")\n",
    "        f.write(\"\\\"\"+str(sub_lines.loc[i][fcode])+\"\\\"\\n\")\n",
    "    \n",
    "f.close()"
   ]
  },
  {
   "cell_type": "markdown",
   "metadata": {},
   "source": [
    "## Create map2model input file"
   ]
  },
  {
   "cell_type": "code",
   "execution_count": null,
   "metadata": {},
   "outputs": [],
   "source": [
    "f=open(m2m_cpp_path+'Parfile','w')\n",
    "f.write('--- COLUMN NAMES IN CSV DATA FILES: -------------------------------------------------------------\\n')\n",
    "f.write('OBJECT COORDINATES              =WKT\\n')\n",
    "f.write('FAULT: ID                       ='+ocode+'\\n')\n",
    "f.write('FAULT: FEATURE                  ='+fcode+'\\n')\n",
    "f.write('POINT: ID                       ='+gicode+'\\n')\n",
    "f.write('POINT: DIP                      ='+dcode+'\\n')\n",
    "f.write('POINT: DIP DIR                  ='+ddcode+'\\n')\n",
    "f.write('POLYGON: ID                     ='+ocode+'\\n')\n",
    "f.write('POLYGON: LEVEL1 NAME            ='+ucode+'\\n')\n",
    "f.write('POLYGON: LEVEL2 NAME            ='+gcode+'\\n')\n",
    "f.write('POLYGON: MIN AGE                ='+mincode+'\\n')\n",
    "f.write('POLYGON: MAX AGE                ='+maxcode+'\\n')\n",
    "f.write('POLYGON: CODE                   ='+ccode+'\\n')\n",
    "f.write('POLYGON: DESCRIPTION            ='+dscode+'\\n')\n",
    "f.write('POLYGON: ROCKTYPE1              ='+r1code+'\\n')\n",
    "f.write('POLYGON: ROCKTYPE2              ='+r2code+'\\n')\n",
    "f.write('--- SOME CONSTANTS: ----------------------------------------------------------------------------\\n')\n",
    "f.write('FAULT AXIAL FEATURE NAME        ='+fold_label+'\\n')\n",
    "f.write('SILL UNIT DESCRIPTION CONTAINS  ='+sill_label+'\\n')\n",
    "f.write('------------------------------------------------------------------------------------------------\\n')\n",
    "f.write('Path to the output data folder                      ='+graph_path+'\\n')\n",
    "f.write('Path to geology data file                           ='+geology_file_csv+'\\n')\n",
    "f.write('Path to faults data file                            ='+fault_file_csv+'\\n')\n",
    "f.write('Path to points data file                            ='+structure_file_csv+'\\n')\n",
    "f.write('------------------------------------------------------------------------------------------------\\n')\n",
    "f.write('Clipping window X1 Y1 X2 Y2 (zeros for infinite)    ='+str(minx)+' '+str(miny)+' '+str(maxx)+' '+str(maxy)+'\\n')\n",
    "f.write('Min length fraction for strat/fault graphs          =0.0\\n')\n",
    "f.write('Graph edge width categories (three doubles)         =2000. 20000. 200000.\\n')\n",
    "f.write('Graph edge direction (0-min age, 1-max age, 2-avg)  =2\\n')\n",
    "f.write('Partial graph polygon ID                            =32\\n')\n",
    "f.write('Partial graph depth                                 =4\\n')\n",
    "f.write('Map subregion size dx, dy [m] (zeros for full map)  =0. 0.\\n')\n",
    "f.write('------------------------------------------------------------------------------------------------\\n')\n",
    "f.close()\n",
    "\n"
   ]
  },
  {
   "cell_type": "markdown",
   "metadata": {},
   "source": [
    "## Calculate topology"
   ]
  },
  {
   "cell_type": "code",
   "execution_count": null,
   "metadata": {},
   "outputs": [],
   "source": [
    "os.chdir(m2m_cpp_path)\n",
    "print(os.getcwd())\n",
    "subprocess.run([\"map2model.exe\", \"Parfile\"],shell = True)"
   ]
  },
  {
   "cell_type": "markdown",
   "metadata": {},
   "source": [
    "## Simple network graph of the geology with legend"
   ]
  },
  {
   "cell_type": "code",
   "execution_count": null,
   "metadata": {},
   "outputs": [],
   "source": [
    "G=nx.read_gml(strat_graph_file,label='id')\n",
    "selected_nodes = [n for n,v in G.nodes(data=True) if n >=0]\n",
    "nx.draw_networkx(G, pos=nx.kamada_kawai_layout(G), arrows=True, nodelist=selected_nodes)\n",
    "\n",
    "nlist=list(G.nodes.data('LabelGraphics'))\n",
    "nlist.sort()\n",
    "for no in nlist:\n",
    "    if(no[0]>=0):\n",
    "        elem=str(no[1]).replace(\"{'text':\",\"\").replace(\", 'fontSize': 14}\",\"\")\n",
    "        #second=elem.split(\":\").replace(\"'\",\"\")\n",
    "        print(no[0],\" \",elem)"
   ]
  },
  {
   "cell_type": "markdown",
   "metadata": {},
   "source": [
    "## Detailed Topology via dot or gml format files\n",
    "For a more detailed look we can open up the online version of <b>yEd</b> <a href=\"https://www.yworks.com/yed-live/\" >https://www.yworks.com/yed-live/</a>  and load in the *.dot file that we will now create or dowload the <a href=\"https://www.yworks.com/products/yed/download\">yEd program</a> and look at the *.gml files in the <b>output</b> directory"
   ]
  },
  {
   "cell_type": "code",
   "execution_count": null,
   "metadata": {},
   "outputs": [],
   "source": [
    "from networkx.drawing.nx_pydot import write_dot\n",
    "\n",
    "import filer,gfiler\n",
    "\n",
    "filepath=filer.gui_fname().decode('UTF-8')\n",
    "write_dot(G,filepath)"
   ]
  },
  {
   "cell_type": "markdown",
   "metadata": {},
   "source": [
    "http://localhost:8888/notebooks/Dropbox/1_Jupyter_notebooks/map2loop/notebooks/2.%20map2loop_after_topology.ipynb"
   ]
  },
  {
   "cell_type": "code",
   "execution_count": null,
   "metadata": {},
   "outputs": [],
   "source": []
  },
  {
   "cell_type": "code",
   "execution_count": null,
   "metadata": {},
   "outputs": [],
   "source": []
  }
 ],
 "metadata": {
  "kernelspec": {
   "display_name": "Python 3",
   "language": "python",
   "name": "python3"
  },
  "language_info": {
   "codemirror_mode": {
    "name": "ipython",
    "version": 3
   },
   "file_extension": ".py",
   "mimetype": "text/x-python",
   "name": "python",
   "nbconvert_exporter": "python",
   "pygments_lexer": "ipython3",
   "version": "3.7.3"
  }
 },
 "nbformat": 4,
 "nbformat_minor": 2
}
