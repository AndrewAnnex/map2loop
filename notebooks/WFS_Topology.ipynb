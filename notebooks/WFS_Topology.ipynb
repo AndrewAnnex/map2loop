{
 "cells": [
  {
   "cell_type": "markdown",
   "metadata": {},
   "source": [
    "## map2loop: Topology fom WFS\n",
    "This notebook reads in two layers from the GSWA server:  geology polygons and fault polylines; and calculates the topological relationships between the different features. Requires compiled cpp code from Vitaliy Ogarko"
   ]
  },
  {
   "cell_type": "code",
   "execution_count": null,
   "metadata": {
    "scrolled": false
   },
   "outputs": [],
   "source": [
    "import subprocess\n",
    "import geopandas as gpd\n",
    "import fiona \n",
    "import geoplot\n",
    "import os\n",
    "import osgeo \n",
    "from osgeo import ogr\n",
    "import sys\n",
    "import stat\n",
    "import functools \n",
    "import operator  \n",
    "import matplotlib\n",
    "import networkx as nx\n",
    "from shapely.geometry import Polygon\n",
    "\n",
    "newwd=\"C:\\\\Users\\\\00073294\\Dropbox\\\\loop_minex\\\\map2model\\\\\"\n",
    "os.chdir(newwd)\n",
    "print(\"Current Working Directory \" )\n",
    "\n",
    "gdal_data = os.environ['GDAL_DATA']\n",
    "print(\"***\",gdal_data)\n",
    "print('is dir: ' + str(os.path.isdir(gdal_data)))\n",
    "gcs_csv = os.path.join(gdal_data, 'gcs.csv')\n",
    "print('is file: ' + str(os.path.isfile(gcs_csv)))\n",
    "st = os.stat(gcs_csv)\n",
    "print('is readable: ' + str(bool(st.st_mode & stat.S_IRGRP)))\n",
    "os.environ['PROJ_LIB']=r\"C:\\\\Users\\\\00073294\\\\AppData\\\\Local\\\\Continuum\\\\anaconda3\\\\Lib\\\\site-packages\\\\pyproj\\\\proj_dir\\\\share\\\\proj\"\n",
    "print(os.getenv('PROJ_LIB'))"
   ]
  },
  {
   "cell_type": "markdown",
   "metadata": {},
   "source": [
    "## Create bounding box based on inputs"
   ]
  },
  {
   "cell_type": "code",
   "execution_count": null,
   "metadata": {},
   "outputs": [],
   "source": [
    "latmin=-23\n",
    "latmax=-22\n",
    "longmin=117\n",
    "longmax=118\n",
    "\n",
    "bbox=str(latmin)+\",\"+str(longmin)+\",\"+str(latmax)+\",\"+str(longmax)\n",
    "lat_point_list = [latmin, latmin, latmax, latmax, latmin]\n",
    "lon_point_list = [longmin, longmax, longmax, longmin, longmin]\n",
    "\n",
    "bbox_geom = Polygon(zip(lon_point_list, lat_point_list))\n",
    "crs = {'init': 'epsg:3857'}\n",
    "polygon = gpd.GeoDataFrame(index=[0], crs=crs, geometry=[bbox_geom]) \n",
    "\n",
    "print(bbox)"
   ]
  },
  {
   "cell_type": "markdown",
   "metadata": {},
   "source": [
    "## Plot geology polygons and bounding box"
   ]
  },
  {
   "cell_type": "code",
   "execution_count": null,
   "metadata": {
    "scrolled": true
   },
   "outputs": [],
   "source": [
    "#os.environ"
   ]
  },
  {
   "cell_type": "code",
   "execution_count": null,
   "metadata": {},
   "outputs": [],
   "source": [
    "geology=gpd.read_file(\"https://services.slip.wa.gov.au/public/services/SLIP_Public_Services/Geology_and_Soils_Map_WFS/MapServer/WFSServer/?service=WFS&version=1.0.0&request=GetFeature&typename=SLIP_Public_Services_Geology_and_Soils_Map_WFS:__2_500_000_State_interpreted_bedrock_geology__DMIRS-014_&BBOX=\"+bbox+\"&srs=EPSG:3857\")\n",
    "#geology=geology['geometry'].intersection(polygon)\n",
    "geology_ll = geology.to_crs('epsg:4326')\n",
    "#print(geology.crs)\n",
    "base=geology_ll.plot(column='code',figsize=(10,10),edgecolor='#000000',linewidth=0.2)\n",
    "polygon.plot(ax=base, color='none',edgecolor='black')\n",
    "#print(wfs_geology.head())"
   ]
  },
  {
   "cell_type": "markdown",
   "metadata": {},
   "source": [
    "## Save to file as WKT"
   ]
  },
  {
   "cell_type": "code",
   "execution_count": null,
   "metadata": {
    "scrolled": true
   },
   "outputs": [],
   "source": [
    "sub_geol = geology_ll[['geometry', 'oid','code','unitname','descriptn']]\n",
    "\n",
    "f= open('data\\\\out_geology\\\\T1_500k_geolx.csv',\"w+\")\n",
    "f.write(\"WKT\\tOBJECTID\\tUNITNAME\\tGROUP_\\tMIN_AGE_MA\\tMAX_AGE_MA\\tCODE\\tDESCRIPTN\\n\")\n",
    "        \n",
    "print(len(sub_geol),\" polygons\")\n",
    "#print(sub_geol)\n",
    "for i in range(0,len(sub_geol)):\n",
    "    f.write(\"\\\"\"+str(sub_geol.loc[i].geometry)+\"\\\"\\t\")\n",
    "    f.write(\"\\\"\"+str(sub_geol.loc[i].oid)+\"\\\"\\t\")\n",
    "    f.write(\"\\\"\"+str(sub_geol.loc[i].unitname)+\"\\\"\\t\")\n",
    "    f.write(\"\\\"\"+\"SAME\"+\"\\\"\\t\")\n",
    "    f.write(\"\\\"\"+\"0\"+\"\\\"\\t\")\n",
    "    f.write(\"\\\"\"+\"0\"+\"\\\"\\t\")\n",
    "    f.write(\"\\\"\"+str(sub_geol.loc[i].code)+\"\\\"\\t\")\n",
    "    f.write(\"\\\"\"+str(sub_geol.loc[i].descriptn)+\"\\\"\\n\")\n",
    "    \n",
    "f.close()\n"
   ]
  },
  {
   "cell_type": "markdown",
   "metadata": {},
   "source": [
    "## Read and save WAROX point data as WKT"
   ]
  },
  {
   "cell_type": "code",
   "execution_count": null,
   "metadata": {},
   "outputs": [],
   "source": [
    "warox = gpd.read_file(\"data\\\\test_wa_wgs84\\\\warox_wgs84.shp\")\n",
    "\n",
    "\n",
    "sub_pts = warox[['geometry', 'GEOPNT_ID','DIP','DIP_DIR']]\n",
    "\n",
    "f= open('data\\\\out_points\\warox_wgs84x.csv',\"w+\")\n",
    "f.write(\"WKT\\tGEOPNT_ID\\tDIP\\tDIP_DIR\\n\")\n",
    "\n",
    "print(len(sub_pts),\" points\")\n",
    "\n",
    "\n",
    "#for i in range(0,len(sub_pts)):\n",
    "#    for j in range(0,len(sub_geol)):\n",
    "#        if(sub_pts.loc[i].geometry.within(sub_geol.loc[j].geometry)):\n",
    "#            print(i,j)\n",
    "\n",
    "for i in range(0,len(sub_pts)):\n",
    "    line=\"\\\"\"+str(sub_pts.loc[i].geometry)+\"\\\"\\t\\\"\"+str(sub_pts.loc[i].GEOPNT_ID)+\"\\\"\\t\\\"\"+\\\n",
    "      str(sub_pts.loc[i].DIP)+\"\\\"\\t\\\"\"+str(sub_pts.loc[i].DIP_DIR)+\"\\\"\\n\"    \n",
    "    f.write(functools.reduce(operator.add, (line)))\n",
    "    \n",
    "f.close()\n",
    "\n",
    "base=sub_pts.plot()\n",
    "polygon.plot(ax=base, color='none',edgecolor='black')\n"
   ]
  },
  {
   "cell_type": "markdown",
   "metadata": {},
   "source": [
    "## Plot faults and bounding box"
   ]
  },
  {
   "cell_type": "code",
   "execution_count": null,
   "metadata": {},
   "outputs": [],
   "source": [
    "#bbox='-23,117,-22,118'\n",
    "lines=gpd.read_file(\"https://services.slip.wa.gov.au/public/services/SLIP_Public_Services/Geology_and_Soils_Map_WFS/MapServer/WFSServer/?service=WFS&version=1.0.0&request=GetFeature&typename=SLIP_Public_Services_Geology_and_Soils_Map_WFS:__2_500_000_State_interpreted_bedrock_geology_structural_lines__DMIRS-013_&BBOX=\"+bbox+\"&srs=EPSG:3857\")\n",
    "#print(lines)\n",
    "#lines.plot(column='feature',figsize=(10,10),linewidth=0.2)\n",
    "\n",
    "lines_ll = lines.to_crs('epsg:4326')\n",
    "#print(geology.crs)\n",
    "base2=lines_ll.plot(cmap='rainbow',column='feature',figsize=(10,10),linewidth=0.4)\n",
    "polygon.plot(ax=base2, color='none',edgecolor='black')\n"
   ]
  },
  {
   "cell_type": "markdown",
   "metadata": {},
   "source": [
    "## Save faults to file as WKT"
   ]
  },
  {
   "cell_type": "code",
   "execution_count": null,
   "metadata": {},
   "outputs": [],
   "source": [
    "sub_lines = lines[['geometry', 'oid','feature']]\n",
    "\n",
    "f= open('data\\\\out_faults\\\\T1_500k_linearx.csv',\"w+\")\n",
    "f.write(\"WKT\\tOBJECTID\\tFEATURE\\n\")\n",
    "\n",
    "print(len(sub_lines),\" polylines\")\n",
    "\n",
    "for i in range(0,len(sub_lines)):\n",
    "    f.write(\"\\\"\"+str(sub_lines.loc[i].geometry)+\"\\\"\\t\")\n",
    "    f.write(\"\\\"\"+str(sub_lines.loc[i].oid)+\"\\\"\\t\")\n",
    "    f.write(\"\\\"\"+str(sub_lines.loc[i].feature)+\"\\\"\\n\")\n",
    "    \n",
    "f.close()"
   ]
  },
  {
   "cell_type": "markdown",
   "metadata": {},
   "source": [
    "## Calculate topology"
   ]
  },
  {
   "cell_type": "code",
   "execution_count": null,
   "metadata": {},
   "outputs": [],
   "source": [
    "subprocess.run(['map2model.exe', 'Parfilex'])"
   ]
  },
  {
   "cell_type": "markdown",
   "metadata": {},
   "source": [
    "## Simple network graph of the geology with legend"
   ]
  },
  {
   "cell_type": "code",
   "execution_count": null,
   "metadata": {},
   "outputs": [],
   "source": [
    "G=nx.read_gml(\"output\\\\graph.gml\",label='id')\n",
    "selected_nodes = [n for n,v in G.nodes(data=True) if n >=0]\n",
    "nx.draw_networkx(G, pos=nx.kamada_kawai_layout(G), arrows=True, nodelist=selected_nodes)\n",
    "\n",
    "nlist=list(G.nodes.data('LabelGraphics'))\n",
    "nlist.sort()\n",
    "for no in nlist:\n",
    "    if(no[0]>=0):\n",
    "        elem=str(no[1]).replace(\"{'text':\",\"\").replace(\", 'fontSize': 14}\",\"\")\n",
    "        #second=elem.split(\":\").replace(\"'\",\"\")\n",
    "        print(no[0],\" \",elem)"
   ]
  },
  {
   "cell_type": "markdown",
   "metadata": {},
   "source": [
    "## Detailed Tology via dot or gml format files\n",
    "For a more detailed look we can open up the online version of <b>yEd</b> <a href=\"https://www.yworks.com/yed-live/\" >https://www.yworks.com/yed-live/</a>  and load in the *.dot file that we will now create or dowload the <a href=\"https://www.yworks.com/products/yed/download\">yEd program</a> and look at the *.gml files in the <b>output</b> directory"
   ]
  },
  {
   "cell_type": "code",
   "execution_count": null,
   "metadata": {},
   "outputs": [],
   "source": [
    "from networkx.drawing.nx_pydot import write_dot\n",
    "\n",
    "import filer,gfiler\n",
    "\n",
    "filepath=filer.gui_fname().decode('UTF-8')\n",
    "write_dot(G,filepath)"
   ]
  },
  {
   "cell_type": "markdown",
   "metadata": {},
   "source": [
    "http://localhost:8888/notebooks/Dropbox/1_Jupyter_notebooks/Input_tests/map2strat_for_gempy.ipynb"
   ]
  },
  {
   "cell_type": "code",
   "execution_count": null,
   "metadata": {},
   "outputs": [],
   "source": []
  }
 ],
 "metadata": {
  "kernelspec": {
   "display_name": "Python 3",
   "language": "python",
   "name": "python3"
  },
  "language_info": {
   "codemirror_mode": {
    "name": "ipython",
    "version": 3
   },
   "file_extension": ".py",
   "mimetype": "text/x-python",
   "name": "python",
   "nbconvert_exporter": "python",
   "pygments_lexer": "ipython3",
   "version": "3.7.3"
  }
 },
 "nbformat": 4,
 "nbformat_minor": 2
}
