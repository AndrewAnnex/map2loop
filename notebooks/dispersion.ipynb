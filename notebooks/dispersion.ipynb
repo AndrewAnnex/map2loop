{
 "cells": [
  {
   "cell_type": "code",
   "execution_count": null,
   "metadata": {},
   "outputs": [],
   "source": [
    "import geopandas as gpd\n",
    "import numpy as np\n",
    "import os\n",
    "from shapely.geometry import Polygon\n",
    "from math import sin, cos, asin, atan, sqrt, pow, radians, degrees\n",
    "print(os.getcwd())\n"
   ]
  },
  {
   "cell_type": "code",
   "execution_count": null,
   "metadata": {},
   "outputs": [],
   "source": [
    "def distance_matrix(x0, y0, x1, y1):\n",
    "    obs = np.vstack((x0, y0)).T\n",
    "    interp = np.vstack((x1, y1)).T\n",
    "\n",
    "    # Make a distance matrix between pairwise observations\n",
    "    # Note: from <http://stackoverflow.com/questions/1871536>\n",
    "    # (Yay for ufuncs!)\n",
    "    d0 = np.subtract.outer(obs[:,0], interp[:,0])\n",
    "    d1 = np.subtract.outer(obs[:,1], interp[:,1])\n",
    "\n",
    "    return np.hypot(d0, d1)\n",
    "\n",
    "def ddd2dircos(dip,dipdir):\n",
    "    l = sin(radians(dipdir))*cos(radians(90-dip))\n",
    "    m = cos(radians(dipdir))*cos(radians(90-dip))\n",
    "    n = sin(radians(90-dip))\n",
    "    return(l,m,n)\n",
    "\n",
    "def dircos2ddd(l,m,n):\n",
    "    if(m>0):\n",
    "        dipdir=(360+degrees(atan(l/m)))%360\n",
    "    else:\n",
    "        dipdir=(540+degrees(atan(l/m)))%360\n",
    "    dip =90-degrees(asin(n))\n",
    "    return(dip,dipdir)"
   ]
  },
  {
   "cell_type": "code",
   "execution_count": null,
   "metadata": {},
   "outputs": [],
   "source": [
    "geology_file='./DataForVariance/Lithos_2019.shp'\n",
    "structure_file='./DataForVariance/AllStructures_Fall2019_Merged_Corrected.shp'"
   ]
  },
  {
   "cell_type": "code",
   "execution_count": null,
   "metadata": {},
   "outputs": [],
   "source": [
    "minx=518000    #left hams\n",
    "maxx=553000    #right\n",
    "miny=5474000   #bottom\n",
    "maxy=5494000   #top\n",
    "src_crs = 'epsg:4326'  #input data coord ref system (assumed to be geodetic lat/long WGS84)\n",
    "dst_crs = 'epsg:32615' #model ref system (assumed to be something with metre coordinates)\n",
    "\n",
    "buffer=2000\n",
    "\n",
    "bbox=str(miny)+\",\"+str(minx)+\",\"+str(maxy)+\",\"+str(maxx)\n",
    "lat_point_list = [miny, miny, maxy, maxy, maxy]\n",
    "lon_point_list = [minx, maxx, maxx, minx, minx]\n",
    "\n",
    "bbox_geom = Polygon(zip(lon_point_list, lat_point_list))\n",
    "polygon = gpd.GeoDataFrame(index=[0], crs=dst_crs, geometry=[bbox_geom]) \n"
   ]
  },
  {
   "cell_type": "code",
   "execution_count": null,
   "metadata": {},
   "outputs": [],
   "source": [
    "geology = gpd.read_file(geology_file)\n",
    "structure = gpd.read_file(structure_file)\n",
    "\n"
   ]
  },
  {
   "cell_type": "code",
   "execution_count": null,
   "metadata": {},
   "outputs": [],
   "source": [
    "base=geology.plot(column='LABELID',figsize=(10,10),edgecolor='#000000',linewidth=0.1)\n",
    "polygon.plot(ax=base, color='none',edgecolor='black')\n",
    "structure.plot(ax=base, color='none',edgecolor='black')"
   ]
  },
  {
   "cell_type": "code",
   "execution_count": null,
   "metadata": {},
   "outputs": [],
   "source": [
    "xi = np.linspace(minx,maxx,35)\n",
    "yi = np.linspace(miny,maxy,20)\n",
    "\n",
    "xi, yi = np.meshgrid(xi, yi)\n",
    "xi, yi = xi.flatten(), yi.flatten()\n"
   ]
  },
  {
   "cell_type": "code",
   "execution_count": null,
   "metadata": {},
   "outputs": [],
   "source": [
    "display(len(structure))\n",
    "x = np.zeros(len(structure))\n",
    "y = np.zeros(len(structure))\n",
    "dip = np.zeros(len(structure))\n",
    "azimuth = np.zeros(len(structure))\n",
    "\n",
    "\n",
    "\n",
    "\n"
   ]
  },
  {
   "cell_type": "code",
   "execution_count": null,
   "metadata": {},
   "outputs": [],
   "source": [
    "npt=0\n",
    "for a_pt in structure.iterrows():\n",
    "    if('BED' in a_pt[1]['OGS_symbol']  ):\n",
    "        x[npt]=float(a_pt[1].geometry.x)\n",
    "        y[npt]=float(a_pt[1].geometry.y)\n",
    "        dip[npt]=float(a_pt[1]['dip'])\n",
    "        azimuth[npt]=float(a_pt[1]['azimuth'])\n",
    "        npt=npt+1\n",
    "    "
   ]
  },
  {
   "cell_type": "code",
   "execution_count": null,
   "metadata": {},
   "outputs": [],
   "source": [
    "display(npt)"
   ]
  },
  {
   "cell_type": "code",
   "execution_count": null,
   "metadata": {},
   "outputs": [],
   "source": [
    "dist= distance_matrix(x[0:npt],y[0:npt], xi,yi)"
   ]
  },
  {
   "cell_type": "code",
   "execution_count": null,
   "metadata": {},
   "outputs": [],
   "source": [
    "display(dist)\n",
    "display(dist.shape)"
   ]
  },
  {
   "cell_type": "code",
   "execution_count": null,
   "metadata": {},
   "outputs": [],
   "source": [
    "display(xi[0],yi[0])"
   ]
  },
  {
   "cell_type": "code",
   "execution_count": null,
   "metadata": {},
   "outputs": [],
   "source": [
    "f=open('output/pt_density.csv','w')\n",
    "f.write('x,y,npts\\n')\n",
    "for i in range(0,len(xi)):\n",
    "    a_col=dist[:,i:i+1]\n",
    "    is_close=a_col<buffer \n",
    "    close=a_col[is_close]\n",
    "    ostr=str(xi[i])+','+str(yi[i])+','+str(len(close))+'\\n'\n",
    "    f.write(ostr)\n",
    "f.close()        "
   ]
  },
  {
   "cell_type": "code",
   "execution_count": null,
   "metadata": {},
   "outputs": [],
   "source": [
    "#dips=structure['dip']\n",
    "#azimuths=structure['azimuth']"
   ]
  },
  {
   "cell_type": "code",
   "execution_count": null,
   "metadata": {},
   "outputs": [],
   "source": [
    "display(dip[0:npt],dip[0:npt].shape)\n",
    "\n",
    "l = np.zeros(npt)\n",
    "m = np.zeros(npt)\n",
    "n = np.zeros(npt)"
   ]
  },
  {
   "cell_type": "code",
   "execution_count": null,
   "metadata": {},
   "outputs": [],
   "source": [
    "dip=dip[0:npt].reshape(npt,1)\n",
    "azimuth=azimuth[0:npt].reshape(npt,1)"
   ]
  },
  {
   "cell_type": "code",
   "execution_count": null,
   "metadata": {},
   "outputs": [],
   "source": [
    "f=open('output/pt_mean_orientation.csv','w')\n",
    "f.write('x,y,dip,azimuth\\n')\n",
    "for i in range(0,len(xi)):\n",
    "    a_dist=dist[:,i:i+1]\n",
    "    is_close=a_dist<buffer \n",
    "    close_dip=dip[is_close]\n",
    "    close_azimuth=azimuth[is_close]\n",
    "    n_good=0\n",
    "    for j in range(0,len(close_dip)):\n",
    "        if(close_dip[j]>=0.0 and close_dip[j]<=90.0 \n",
    "           and close_azimuth[j] >= 0.0 and close_azimuth[j] <= 360.0):\n",
    "            l[n_good],m[n_good],n[n_good]=ddd2dircos(float(close_dip[j]),float(close_azimuth[j])+90.0)\n",
    "            n_good=n_good+1\n",
    "    if(n_good>0):\n",
    "        lm=np.mean(l[:n_good])\n",
    "        mm=np.mean(m[:n_good])\n",
    "        nm=np.mean(n[:n_good])\n",
    "        #print(lm,mm,nm)\n",
    "        dip_mean,dipdirection_mean=dircos2ddd(lm,mm,nm)\n",
    "        ostr=str(xi[i])+','+str(yi[i])+','+str(dip_mean)+','+str(dipdirection_mean-90)+'\\n'\n",
    "        f.write(ostr)\n",
    "f.close()        "
   ]
  },
  {
   "cell_type": "code",
   "execution_count": null,
   "metadata": {},
   "outputs": [],
   "source": []
  }
 ],
 "metadata": {
  "kernelspec": {
   "display_name": "Python 3",
   "language": "python",
   "name": "python3"
  },
  "language_info": {
   "codemirror_mode": {
    "name": "ipython",
    "version": 3
   },
   "file_extension": ".py",
   "mimetype": "text/x-python",
   "name": "python",
   "nbconvert_exporter": "python",
   "pygments_lexer": "ipython3",
   "version": "3.7.3"
  }
 },
 "nbformat": 4,
 "nbformat_minor": 2
}
