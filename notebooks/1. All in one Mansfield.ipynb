{
 "cells": [
  {
   "cell_type": "markdown",
   "metadata": {},
   "source": [
    "## map2loop: From Topology fom Local file or Loop WFS Server to outputs to 3D mdoelling program Mansfield\n",
    "\n",
    "This notebook reads in three layers from  local or remote sources:  geology polygons, orientation data and fault polylines; and calculates the topological relationships between the different features. Requires compiled cpp code from Vitaliy Ogarko\n",
    "\n",
    "This all gets fed into successive tolopogical and geometric transfroms that end up feeding into gempy to make a 3D model "
   ]
  },
  {
   "cell_type": "code",
   "execution_count": null,
   "metadata": {
    "pycharm": {
     "is_executing": false
    },
    "scrolled": false
   },
   "outputs": [],
   "source": [
    "import geopandas as gpd\n",
    "import pandas as pd\n",
    "import numpy as np\n",
    "import os\n",
    "import sys\n",
    "import stat\n",
    "import functools \n",
    "import operator  \n",
    "import matplotlib\n",
    "import networkx as nx\n",
    "import rasterio\n",
    "from shapely.geometry import Polygon\n",
    "from map2loop import m2l_utils\n",
    "from map2loop import m2l_topology\n",
    "from map2loop import m2l_geometry\n",
    "from map2loop import m2l_interpolation\n",
    "%matplotlib inline\n",
    "\n",
    "#newwd=\"C:\\\\Users\\\\00073294\\Dropbox\\\\loop_minex\\\\map2model\\\\\"\n",
    "#os.chdir(newwd)\n",
    "print(\"Current Working Directory \" )\n",
    "\n",
    "gdal_data = os.environ['GDAL_DATA']\n",
    "print(\"***\",gdal_data)\n",
    "print('is dir: ' + str(os.path.isdir(gdal_data)))\n",
    "gcs_csv = os.path.join(gdal_data, 'gcs.csv')\n",
    "print('is file: ' + str(os.path.isfile(gcs_csv)))\n",
    "st = os.stat(gcs_csv)\n",
    "print('is readable: ' + str(bool(st.st_mode & stat.S_IRGRP)))\n",
    "os.environ['PROJ_LIB']=r\"C:\\\\Users\\\\00073294\\\\AppData\\\\Local\\\\Continuum\\\\anaconda3\\\\Lib\\\\site-packages\\\\pyproj\\\\proj_dir\\\\share\\\\proj\"\n",
    "print(os.getenv('PROJ_LIB'))\n",
    "print(os.getcwd())"
   ]
  },
  {
   "cell_type": "markdown",
   "metadata": {},
   "source": [
    "## Create bounding box based on inputs"
   ]
  },
  {
   "cell_type": "code",
   "execution_count": null,
   "metadata": {
    "scrolled": true
   },
   "outputs": [],
   "source": [
    "test_data_name='mansfield'\n",
    "\n",
    "test_data_path='../'+test_data_name+'/'\n",
    "\n",
    "os.chdir(test_data_path)\n",
    "%run -i \"m2l_config.py\"\n",
    "#%run -i \"../test_data3/m2l_config.py\"\n",
    "print(os.getcwd())\n",
    "\n",
    "bbox2=str(minx)+\",\"+str(miny)+\",\"+str(maxx)+\",\"+str(maxy)\n",
    "lat_point_list = [miny, miny, maxy, maxy, maxy]\n",
    "lon_point_list = [minx, maxx, maxx, minx, minx]\n",
    "bbox_geom = Polygon(zip(lon_point_list, lat_point_list))\n",
    "polygon = gpd.GeoDataFrame(index=[0], crs=dst_crs, geometry=[bbox_geom]) \n",
    "bbox=(minx,miny,maxx,maxy)\n"
   ]
  },
  {
   "cell_type": "markdown",
   "metadata": {},
   "source": [
    "## First we test to see if we have access to the online data we need\n"
   ]
  },
  {
   "cell_type": "code",
   "execution_count": null,
   "metadata": {},
   "outputs": [],
   "source": [
    "loopwfs=m2l_utils.have_access(\"geo.loop-gis.org\")\n",
    "hawaii=m2l_utils.have_access(\"pae-paha.pacioos.hawaii.edu\")\n",
    "\n",
    "if(not (loopwfs & hawaii)):\n",
    "    local_paths=True\n",
    "    net=False\n",
    "    print('using local paths')\n",
    "else:\n",
    "    net=True"
   ]
  },
  {
   "cell_type": "markdown",
   "metadata": {},
   "source": [
    "## Optional WFS source\n",
    "  \n",
    "WFS brings in field names as lower case, so need to redefine codes too"
   ]
  },
  {
   "cell_type": "code",
   "execution_count": null,
   "metadata": {},
   "outputs": [],
   "source": [
    "local_paths=True\n",
    "\n",
    "\n",
    "if(not local_paths and net):\n",
    "    structure_file='http://geo.loop-gis.org/geoserver/loop/wfs?service=WFS&version=1.1.0&request=GetFeature&typeName=warox_points_f5011&bbox='+bbox2+'&srs=EPSG:28350'\n",
    "    fault_file='http://geo.loop-gis.org/geoserver/loop/wfs?service=WFS&version=1.1.0&request=GetFeature&typeName=linear_500k&bbox='+bbox2+'&srs=EPSG:28350'\n",
    "    geology_file='http://geo.loop-gis.org/geoserver/loop/wfs?service=WFS&version=1.0.0&request=GetFeature&typeName=loop:geol_500k&bbox='+bbox2+'&srs=EPSG:28350'\n",
    "\n",
    "    gcode='group_'\n",
    "    dcode='dip'\n",
    "    ddcode='dip_dir'\n",
    "    ccode='code'\n",
    "    ncode='fname'\n",
    "    ocode='objectid'\n",
    "    gicode='geopnt_id'\n",
    "    r1code='rocktype1'\n",
    "    r2code='rocktype2'\n",
    "    tcode='type'\n",
    "    fcode='feature'\n",
    "    dscode='descriptn'\n",
    "    ucode='unitname'\n",
    "    mincode='min_age_ma'\n",
    "    maxcode='max_age_ma'"
   ]
  },
  {
   "cell_type": "markdown",
   "metadata": {},
   "source": [
    "## Plot geology polygons and bounding box"
   ]
  },
  {
   "cell_type": "code",
   "execution_count": null,
   "metadata": {},
   "outputs": [],
   "source": [
    "print(geology_file)\n",
    "geology_ll = gpd.read_file(geology_file,bbox=bbox)\n",
    "\n",
    "base=geology_ll.plot(column=ccode,figsize=(10,10),edgecolor='#000000',linewidth=0.2)\n",
    "polygon.plot(ax=base, color='none',edgecolor='black')\n"
   ]
  },
  {
   "cell_type": "markdown",
   "metadata": {},
   "source": [
    "## Save to file as WKT"
   ]
  },
  {
   "cell_type": "code",
   "execution_count": null,
   "metadata": {},
   "outputs": [],
   "source": [
    "sub_geol = geology_ll[['geometry', ocode,ccode,gcode,ucode,mincode,maxcode,dscode,r1code,r2code]]\n",
    "m2l_topology.save_geol_wkt(sub_geol,geology_file_csv,ocode,gcode,mincode,maxcode,ccode,r1code,r2code,dscode,ucode)"
   ]
  },
  {
   "cell_type": "markdown",
   "metadata": {},
   "source": [
    "## Read and save WAROX point data as WKT"
   ]
  },
  {
   "cell_type": "code",
   "execution_count": null,
   "metadata": {},
   "outputs": [],
   "source": [
    "warox = gpd.read_file(structure_file,bbox=bbox)\n",
    "\n",
    "sub_pts = warox[['geometry', gicode,dcode,ddcode]]\n",
    "\n",
    "m2l_topology.save_structure_wkt(sub_pts,structure_file_csv,gcode,dcode,ddcode,gicode)\n",
    "\n",
    "base=sub_pts.plot()\n",
    "polygon.plot(ax=base, color='none',edgecolor='black')\n"
   ]
  },
  {
   "cell_type": "markdown",
   "metadata": {},
   "source": [
    "## Plot faults and bounding box"
   ]
  },
  {
   "cell_type": "code",
   "execution_count": null,
   "metadata": {},
   "outputs": [],
   "source": [
    "lines_ll=gpd.read_file(fault_file,bbox=bbox)\n",
    "\n",
    "base2=lines_ll.plot(cmap='rainbow',column=fcode,figsize=(10,10),linewidth=0.4)\n",
    "polygon.plot(ax=base2, color='none',edgecolor='black')\n"
   ]
  },
  {
   "cell_type": "markdown",
   "metadata": {},
   "source": [
    "## Save faults to file as WKT"
   ]
  },
  {
   "cell_type": "code",
   "execution_count": null,
   "metadata": {},
   "outputs": [],
   "source": [
    "sub_lines = lines_ll[['geometry', ocode,fcode]]\n",
    "m2l_topology.save_faults_wkt(sub_lines,fault_file_csv,ocode,fcode,fault_label)"
   ]
  },
  {
   "cell_type": "markdown",
   "metadata": {},
   "source": [
    "## Create map2model input file"
   ]
  },
  {
   "cell_type": "code",
   "execution_count": null,
   "metadata": {},
   "outputs": [],
   "source": [
    "m2l_topology.save_Parfile(m2m_cpp_path,ocode,fcode,gicode,dcode,ddcode,ucode,gcode,mincode,maxcode,ccode,dscode,r1code,r2code,fold_label,sill_label,graph_path,geology_file_csv,fault_file_csv,structure_file_csv,minx,maxx,miny,maxy)\n"
   ]
  },
  {
   "cell_type": "markdown",
   "metadata": {},
   "source": [
    "## Calculate topology"
   ]
  },
  {
   "cell_type": "code",
   "execution_count": null,
   "metadata": {
    "scrolled": true
   },
   "outputs": [],
   "source": [
    "os.chdir(m2m_cpp_path)\n",
    "print(os.getcwd())\n",
    "%system map2model.exe Parfile"
   ]
  },
  {
   "cell_type": "markdown",
   "metadata": {},
   "source": [
    "## Simple network graph of the geology with legend"
   ]
  },
  {
   "cell_type": "code",
   "execution_count": null,
   "metadata": {
    "scrolled": true
   },
   "outputs": [],
   "source": [
    "G=nx.read_gml(strat_graph_file,label='id')\n",
    "selected_nodes = [n for n,v in G.nodes(data=True) if n >=0]\n",
    "nx.draw_networkx(G, pos=nx.kamada_kawai_layout(G), arrows=True, nodelist=selected_nodes)\n",
    "\n",
    "nlist=list(G.nodes.data('LabelGraphics'))\n",
    "nlist.sort()\n",
    "for no in nlist:\n",
    "    if(no[0]>=0):\n",
    "        elem=str(no[1]).replace(\"{'text':\",\"\").replace(\", 'fontSize': 14}\",\"\")\n",
    "        #second=elem.split(\":\").replace(\"'\",\"\")\n",
    "        print(no[0],\" \",elem)"
   ]
  },
  {
   "cell_type": "markdown",
   "metadata": {},
   "source": [
    "## Detailed Topology via dot or gml format files\n",
    "For a more detailed look we can open up the online version of <b>yEd</b> <a href=\"https://www.yworks.com/yed-live/\" >https://www.yworks.com/yed-live/</a>  and load in the *.dot file that we will now create or dowload the <a href=\"https://www.yworks.com/products/yed/download\">yEd program</a> and look at the *.gml files in the <b>output</b> directory"
   ]
  },
  {
   "cell_type": "markdown",
   "metadata": {},
   "source": [
    "from networkx.drawing.nx_pydot import write_dot\n",
    "\n",
    "import filer,gfiler\n",
    "\n",
    "filepath=filer.gui_fname().decode('UTF-8')\n",
    "write_dot(G,filepath)"
   ]
  },
  {
   "cell_type": "markdown",
   "metadata": {},
   "source": [
    "http://localhost:8888/notebooks/Dropbox/1_Jupyter_notebooks/map2loop/notebooks/2.%20map2loop_after_topology.ipynb"
   ]
  },
  {
   "cell_type": "markdown",
   "metadata": {
    "scrolled": false
   },
   "source": [
    "## Process topography, stratigraphy, fold axial traces and faults\n",
    "\n",
    "### Takes GML file produced by topology code, combines with geology polygons, structure points and dtm to create 3D model in gempy.<br><br>\n",
    "\n",
    "Limitations:  no dykes, no sills. Sills require us to assign a unique surface to each instance of a sill (sill between units A and B needs to be different from sill of same age and strat codes as one found between E and F). Dykes via cokriging are really hard without just cookie cutting them in (but that is not our problem!). We are not checking for onlap relationships, which can perhaps been seen by having lots of units from one series adjacent to the youngest surface of the older series. Could also think about interpreting these as faults to introduce conceptual uncertainty. All mistakes belong to Mark Jessell, topology code that feeds this system by Vitaliy Ogarko.<br><br>\n",
    "\n",
    "Geology layer needs to have some unique strat code or text, some group code or text to function<br>\n",
    "Structure layer needs dip/dip direction<br>\n",
    "\n",
    "<font color='red'>Currently mostly hardwired to GSWA 500K map so needs work...</font>\n"
   ]
  },
  {
   "cell_type": "code",
   "execution_count": null,
   "metadata": {},
   "outputs": [],
   "source": [
    "os.chdir('../map2loop')\n",
    "\n",
    "print(os.getcwd())"
   ]
  },
  {
   "cell_type": "code",
   "execution_count": null,
   "metadata": {},
   "outputs": [],
   "source": [
    "#from IPython.core.display import display, HTML\n",
    "#display(HTML(\"<style>.container { width:80% !important; }</style>\"))\n",
    "\n",
    "sys.path.insert(0,\"../..\")\n",
    "print(os.getcwd())\n",
    "\n",
    "\n",
    "#print(os.getcwd())\n",
    "#os.environ[\"PROJ_LIB\"] = r\"C:\\Users\\00073294\\AppData\\Local\\Continuum\\anaconda3\\Lib\\site-packages\\pyproj\\proj_dir\\share\\proj\"\n"
   ]
  },
  {
   "cell_type": "markdown",
   "metadata": {},
   "source": [
    "## Next we define an area of interest and some other basic stuff"
   ]
  },
  {
   "cell_type": "code",
   "execution_count": null,
   "metadata": {
    "scrolled": false
   },
   "outputs": [],
   "source": [
    "print(os.getcwd())\n",
    "#test_data_path='../test_data3/'\n",
    "\n",
    "\n",
    "#%run -i \"../test_data3/m2l_config.py\"\n",
    "\n",
    "bbox2=str(minx)+\",\"+str(miny)+\",\"+str(maxx)+\",\"+str(maxy)\n",
    "lat_point_list = [miny, miny, maxy, maxy, maxy]\n",
    "lon_point_list = [minx, maxx, maxx, minx, minx]\n",
    "bbox_geom = Polygon(zip(lon_point_list, lat_point_list))\n",
    "polygon = gpd.GeoDataFrame(index=[0], crs=dst_crs, geometry=[bbox_geom]) \n",
    "bbox=(minx,miny,maxx,maxy)\n",
    "\n",
    "step_out=0.045 #add (in degrees) so edge pixel from dtm reprojection are not found\n",
    "\n",
    "\n",
    "contact_decimate=5"
   ]
  },
  {
   "cell_type": "markdown",
   "metadata": {
    "scrolled": false
   },
   "source": [
    "## Download and reproject the appropriate SRTM data\n",
    "mj: Getting this from Hawaii, but could also get from Geoscience Australia (expect when I tried via WCS it blew up for more than 0.25 degree square areas, but I am pretty sure this is a OWS python plugin problem not GA since I can load the whole data with QGIS)"
   ]
  },
  {
   "cell_type": "code",
   "execution_count": null,
   "metadata": {},
   "outputs": [],
   "source": [
    "polygon_ll=polygon.to_crs(src_crs)\n",
    "\n",
    "minlong=polygon_ll.total_bounds[0]\n",
    "maxlong=polygon_ll.total_bounds[2]\n",
    "minlat=polygon_ll.total_bounds[1]\n",
    "maxlat=polygon_ll.total_bounds[3]\n",
    "\n",
    "print(minlong,maxlong,minlat,maxlat)\n",
    "if(not local_paths and net):     ###########FUDGE################\n",
    "    m2l_utils.get_dtm(dtm_file, minlong,maxlong,minlat,maxlat,step_out)\n",
    "    geom_rp=m2l_utils.reproject_dtm(dtm_file,dtm_reproj_file,src_crs,dst_crs)\n",
    "\n"
   ]
  },
  {
   "cell_type": "markdown",
   "metadata": {
    "scrolled": false
   },
   "source": [
    "## Load stratigraphy graph and create list of series (aka groups)\n",
    "mj: The choice of what constitutes basic unit and what a group of units is hard-wired at the moment, but could be altered to any pair. Not even sure we need two levels but it seemed like a good idea at the time. Note that this needs the arcgis plugin version of the topology code (for now) as it seperates the different sub graphs. Text outputs list alternate topologies for series and surfaces, which if confirmed by comapring max-min ages will be a nice source of uncertainty."
   ]
  },
  {
   "cell_type": "code",
   "execution_count": null,
   "metadata": {
    "scrolled": true
   },
   "outputs": [],
   "source": [
    "groups,glabels,G = m2l_topology.get_series(strat_graph_file,'id')\n",
    "m2l_topology.save_units(G,tmp_path,glabels)"
   ]
  },
  {
   "cell_type": "markdown",
   "metadata": {
    "scrolled": false
   },
   "source": [
    "## Load geology & structure data\n",
    "Currently loading from local files, but could load geology from WFS server at GSWA EXCEPT that the WFS online map has less fields that the zipped shapefiles. Go figure. We don't use fault layer at the moment (except for Vitaliy's topology code) but same logic applies in terms of where to get it from. Already have fault/strat relationships and once we have fault/fault relationships will start to include faults in models."
   ]
  },
  {
   "cell_type": "code",
   "execution_count": null,
   "metadata": {},
   "outputs": [],
   "source": [
    "# Extract point data from structure & geology layers for modelling\n",
    "##First we readin the structure and map from shapefiles, or wherever...\n",
    "\n",
    "bbox=(minx,miny,maxx,maxy)\n",
    "geology = gpd.read_file(geology_file,bbox=bbox)\n",
    "\n",
    "\n",
    "structure = gpd.read_file(structure_file,bbox=bbox)\n",
    "structure.crs=dst_crs\n",
    "print(fault_file)\n",
    "faults = gpd.read_file(fault_file,bbox=bbox)\n",
    "faults.crs=dst_crs\n",
    "display(faults)\n",
    "sub_pts = structure[['geometry',dcode,ddcode,sfcode]] \n",
    "\n",
    "base=geology.plot(column=ccode,figsize=(10,10),edgecolor='#000000',linewidth=0.2)\n",
    "sub_pts.plot(ax=base,edgecolor='black')\n",
    "faults.plot(ax=base, column=fcode,edgecolor='black')"
   ]
  },
  {
   "cell_type": "markdown",
   "metadata": {
    "scrolled": false
   },
   "source": [
    "## Clip geology, faults, structures and map geology to structures"
   ]
  },
  {
   "cell_type": "code",
   "execution_count": null,
   "metadata": {},
   "outputs": [],
   "source": [
    "geology = m2l_utils.explode(geology)\n",
    "geology.crs = dst_crs\n",
    "pd.set_option('display.max_columns', None)\n",
    "pd.set_option('display.max_rows',None)\n",
    "structure_code = gpd.sjoin(sub_pts, geology, how=\"left\", op=\"within\")\n",
    "\n",
    "y_point_list = [miny, miny, maxy, maxy, miny]\n",
    "x_point_list = [minx, maxx, maxx, minx, minx]\n",
    "\n",
    "bbox_geom = Polygon(zip(x_point_list, y_point_list))\n",
    "\n",
    "polygo = gpd.GeoDataFrame(index=[0], crs=dst_crs, geometry=[bbox_geom]) \n",
    "\n",
    "if(local_paths):\n",
    "     is_bed=structure_code[sfcode].str.contains(bedding_label, regex=False) #hardwires, needs if of local  \n",
    "        \n",
    "all_beds = structure_code[is_bed]\n",
    "\n",
    "all_faults=faults[faults[tcode].str.contains(fault_label)]\n",
    "\n",
    "\n",
    "\n",
    "#display(structure_code)\n",
    "geol_clip=m2l_utils.clip_shp(geology, polygo)\n",
    "faults_clip=m2l_utils.clip_shp(all_faults,polygo)\n",
    "structure_clip = m2l_utils.clip_shp(all_beds, polygo)\n",
    "\n",
    "base = geol_clip.plot(column=ccode,figsize=(7,7),edgecolor='#000000',linewidth=0.2)\n",
    "faults_clip.plot(ax=base, column=tcode,edgecolor='black')\n",
    "structure_clip.plot(ax=base, column=ccode,edgecolor='black')\n",
    "\n",
    "geol_clip.to_file(tmp_path+'geol_clip.shp')\n",
    "faults_clip.to_file(tmp_path+'faults_clip.shp')\n",
    "structure_clip.to_file(tmp_path+'structure_clip.shp')\n"
   ]
  },
  {
   "cell_type": "markdown",
   "metadata": {},
   "source": [
    "## Create possible stratigraphy sets per group\n",
    "mj: <font color='red'>Uses first of each possible set of toplogies per unit and per group, which is arbitrary. </font>On the other hand we are not checking relative ages again to see if this helps reduce ambiguity, which I think it would."
   ]
  },
  {
   "cell_type": "code",
   "execution_count": null,
   "metadata": {
    "scrolled": false
   },
   "outputs": [],
   "source": [
    "m2l_topology.save_group(G,tmp_path,glabels,geol_clip,ccode,gcode,mincode,maxcode)"
   ]
  },
  {
   "cell_type": "markdown",
   "metadata": {
    "scrolled": false
   },
   "source": [
    "## Export orientation data in csv  format\n",
    "mj: Orientation data needs calculated height as file does not provide it, taken from SRTM data already downloaded. To calculate polarity <font color='red'>(WHICH WE DON'T DO YET)</font> we can calculate the dot product of the dip direction of a bedding plane and the vector to that points nearest basal contact node, if  abs(acos(dot product))>90  then right way up :\n",
    "\n",
    "<img src='../graphics/polarity.png'>\n",
    "\n",
    "Added code to not save intrusion orientation data as they won't have associated surfaces if sill..."
   ]
  },
  {
   "cell_type": "code",
   "execution_count": null,
   "metadata": {},
   "outputs": [],
   "source": [
    "dtm = rasterio.open(dtm_reproj_file)\n",
    "m2l_geometry.save_orientations(structure_code,output_path,ddcode,dcode,ccode,r1code,intrusive_label,orientation_decimate,dtm)\n"
   ]
  },
  {
   "cell_type": "markdown",
   "metadata": {
    "scrolled": false
   },
   "source": [
    "## Find those series that don't have any orientation or contact point data  then create arbitrary point for series with no orientation data\n",
    "Not sure if gempy needs this but geomodeller does. Currently just gives a point dipping 45 degrees to North, but could use dip direction normal to basal surface)"
   ]
  },
  {
   "cell_type": "code",
   "execution_count": null,
   "metadata": {
    "scrolled": false
   },
   "outputs": [],
   "source": [
    "m2l_geometry.create_orientations( tmp_path, output_path, dtm,geol_clip,structure_clip,ccode,gcode,r1code,intrusive_label)"
   ]
  },
  {
   "cell_type": "markdown",
   "metadata": {
    "scrolled": false
   },
   "source": [
    "## Export contact information subset of each polygon to gempy format\n",
    "mj: Orientation data needs calculated height as file does not provide it, taken from SRTM data already downloaded. Need to reduce number of points whilst retaining useful info (Ranee's job!)'\n",
    "To calculate which are the basal units contact for a polygon find the polygons which are older than the selected polygon, in the example below the central polygon has relative age 23 so its basal contact is with the polygons whose ages are 26 & 28. If there are no older units for a polygon it has no basal content. We keep every nth node based on the decimate term (simple count along polyline). gempy seems to need at least two points per surface, so we always take the first two points.\n",
    "\n",
    "<font color='red'>Needs also to account for case when missing surface in stratigraphy means that locally basal polyline can ALSO be anothe rthan youngest surface.</font>\n",
    "<img src='../graphics/base.png'>"
   ]
  },
  {
   "cell_type": "code",
   "execution_count": null,
   "metadata": {
    "scrolled": true
   },
   "outputs": [],
   "source": [
    "ls_dict,ls_dict_decimate=m2l_geometry.save_basal_contacts(tmp_path,dtm,geol_clip,contact_decimate,ccode,gcode,ocode,dscode,r1code,intrusion_mode)"
   ]
  },
  {
   "cell_type": "markdown",
   "metadata": {},
   "source": [
    "## Remove all basal contacts that are defined by faults and save to shapefile (no decimation)"
   ]
  },
  {
   "cell_type": "code",
   "execution_count": null,
   "metadata": {},
   "outputs": [],
   "source": [
    "display(ls_dict)"
   ]
  },
  {
   "cell_type": "code",
   "execution_count": null,
   "metadata": {},
   "outputs": [],
   "source": [
    "m2l_geometry.save_basal_no_faults(tmp_path+'basal_contacts.shp',tmp_path+'faults_clip.shp',ls_dict,10,ccode,gcode,dst_crs)"
   ]
  },
  {
   "cell_type": "markdown",
   "metadata": {},
   "source": [
    "## Remove faults from decimated basal contacts as save as csv file"
   ]
  },
  {
   "cell_type": "code",
   "execution_count": null,
   "metadata": {},
   "outputs": [],
   "source": [
    "m2l_geometry.save_contacts_with_faults_removed(tmp_path+'faults_clip.shp',output_path,10,ls_dict,ls_dict_decimate,ccode,dst_crs,dtm)"
   ]
  },
  {
   "cell_type": "markdown",
   "metadata": {},
   "source": [
    "## Save fault as contact info and and orientation info make vertical (for the moment)"
   ]
  },
  {
   "cell_type": "code",
   "execution_count": null,
   "metadata": {},
   "outputs": [],
   "source": [
    "m2l_geometry.save_faults(tmp_path+'faults_clip.shp',output_path,dtm,ncode,ocode,fcode,fault_decimate,fault_label)\n",
    "m2l_topology.parse_fault_relationships(graph_path,tmp_path,output_path)"
   ]
  },
  {
   "cell_type": "markdown",
   "metadata": {},
   "source": [
    "## Create basal contact points with orientation from orientations and basal points"
   ]
  },
  {
   "cell_type": "markdown",
   "metadata": {},
   "source": [
    "contacts = gpd.read_file(tmp_path+'basal_contacts2.shp') #load orientation data as geopandas dataframe \n",
    "structures = gpd.read_file(tmp_path+'structure_clip.shp') #load orientation data as geopandas dataframe \n",
    "\n",
    "m2l_geometry.create_basal_contact_orientations(contacts,structures,output_path,dtm,2500,ccode,gcode,dcode,ddcode)\n"
   ]
  },
  {
   "cell_type": "markdown",
   "metadata": {},
   "source": [
    "## Creates fold axial trace points"
   ]
  },
  {
   "cell_type": "code",
   "execution_count": null,
   "metadata": {},
   "outputs": [],
   "source": [
    "m2l_geometry.save_fold_axial_traces(tmp_path+'faults_clip.shp',output_path,dtm,ocode,tcode,fcode,fold_decimate)"
   ]
  },
  {
   "cell_type": "markdown",
   "metadata": {},
   "source": [
    "## Process plutons\n",
    "\n",
    "For each instruve but not sill polygon, find older neighbours and store decimated contact points. Also store dipping contact orientations (user defined, just because) with three possible sub-surface configurations:\n",
    "\n",
    "<b>saucers: \\\\_____/ <br>\n",
    "pancakes: /_____\\\\   \n",
    "domes: /‾\\\\</b>\n",
    "\n",
    "Saves out orientations and contact points, as well as updated group level stratigraphic column.<br>\n",
    "Doesn't account for faults yet..."
   ]
  },
  {
   "cell_type": "code",
   "execution_count": null,
   "metadata": {},
   "outputs": [],
   "source": [
    "\n",
    "print(os.getcwd())\n"
   ]
  },
  {
   "cell_type": "code",
   "execution_count": null,
   "metadata": {},
   "outputs": [],
   "source": [
    "#%run -i \"../test_data3/m2l_config.py\"\n",
    "bbox=(minx,miny,maxx,maxy)\n",
    "\n",
    "pluton_dip=str(pluton_dip)\n",
    "\n",
    "dist_buffer=10\n",
    "\n"
   ]
  },
  {
   "cell_type": "code",
   "execution_count": null,
   "metadata": {},
   "outputs": [],
   "source": [
    "#test_data_path='../test_data3/'\n",
    "\n",
    "\n",
    "#%run -i \"../test_data3/m2l_config.py\"\n",
    "\n",
    "\n",
    "#geology = gpd.read_file(data_path+'hams2_geol.shp',bbox=bbox)\n",
    "#print(geology.crs)\n",
    "\n",
    "#geol_explode=m2l_utils.explode(geology)\n",
    "#print(geology.shape, geol_explode.shape)\n",
    "#roi = gpd.read_file(data_path+'hamms_roi.shp')\n",
    "\n",
    "#geol_clip=m2l_utils.clip_shp(geol_explode,roi)\n",
    "\n",
    "\n",
    "dtm_reproj_file=dtm_path+'mansfield_dtm_rp.tif'\n",
    "\n",
    "dtm = rasterio.open(dtm_reproj_file)"
   ]
  },
  {
   "cell_type": "code",
   "execution_count": null,
   "metadata": {},
   "outputs": [],
   "source": [
    "m2l_geometry.process_plutons(tmp_path,output_path,geol_clip,local_paths,dtm,sill_label,pluton_form,pluton_dip,intrusive_label,contact_decimate,mincode,maxcode,ccode,gcode,ocode,r1code,dscode)\n"
   ]
  },
  {
   "cell_type": "markdown",
   "metadata": {},
   "source": [
    "## Interpolates a regular grid of orientations from an  shapefile of arbitrarily-located points and saves out four csv files of l,m & n direction cosines and dip dip direction data\n",
    "\n",
    "Can choose between various RBF and IDW options   \n",
    "  \n",
    "The purpose of Notebooks 4,5,6 and associated code is to help in three cases:\n",
    "- Providing estimated dips and contacts in fault-bounded domains where no structural data are available\n",
    "- Needed to estimate true thickness of formations\n",
    "- Possibly useful for poulating parts of maps where little structural data is available"
   ]
  },
  {
   "cell_type": "code",
   "execution_count": null,
   "metadata": {},
   "outputs": [],
   "source": [
    "from map2loop import m2l_interpolation\n",
    "from map2loop import m2l_utils\n",
    "\n",
    "use_gcode=('MD','MB') ################# MOVE UP   #########################\n",
    "structure_file=tmp_path+'structure_clip.shp'\n",
    "bbox=(minx+inset,miny+inset,maxx-inset,maxy-inset)"
   ]
  },
  {
   "cell_type": "code",
   "execution_count": null,
   "metadata": {},
   "outputs": [],
   "source": [
    "print(gcode)\n",
    "print(use_gcode)"
   ]
  },
  {
   "cell_type": "code",
   "execution_count": null,
   "metadata": {},
   "outputs": [],
   "source": [
    "m2l_interpolation.interpolate_orientations(structure_file,tmp_path,bbox,dcode,ddcode,gcode,use_gcode,scheme,gridx,gridy)"
   ]
  },
  {
   "cell_type": "markdown",
   "metadata": {},
   "source": [
    "## Interpolates a regular grid from a shapefile of from contacts and saves out three csv files of l & m direction cosines and strike data\n",
    "\n",
    "Can choose between various RBF and IDW options  \n",
    "\n",
    "<font face color='red'>Best with basal contacts only, using Notebook #1 as this avoids intrusive  and fault contacts being considered</font>"
   ]
  },
  {
   "cell_type": "code",
   "execution_count": null,
   "metadata": {},
   "outputs": [],
   "source": [
    "geology_file=tmp_path+'basal_contacts.shp'\n",
    "\n",
    "dtm = rasterio.open(dtm_reproj_file)\n"
   ]
  },
  {
   "cell_type": "code",
   "execution_count": null,
   "metadata": {},
   "outputs": [],
   "source": [
    "m2l_interpolation.interpolate_contacts(geology_file,tmp_path,dtm,bbox,dcode,ddcode,gcode,use_gcode,ccode,scheme,gridx,gridy)\n"
   ]
  },
  {
   "cell_type": "markdown",
   "metadata": {},
   "source": [
    "## Combines rbf of contact orientations with rbf of dip/dipdir measurements\n",
    "\n",
    "Uses normalised direction cosines **(l,m,n)**:  \n",
    "- **l,m** from RBF of basal contact orientations  \n",
    "- **signs of l & m** from misorientation with RBF of orientation data and  \n",
    "- **n** from RBF of orientation data  \n",
    "  \n",
    "May be useful for adding data where no orientations are available (e.g. in fault bounded domains) and for calculating true thickness of layers. Assumes a 2D plane of data, but if 3D RBF was calulated and projected contact info was used it should apply with topography too. "
   ]
  },
  {
   "cell_type": "code",
   "execution_count": null,
   "metadata": {},
   "outputs": [],
   "source": [
    "geology_file=tmp_path+'geol_clip.shp'\n",
    "combo_file=tmp_path+'combo.csv'\n",
    "\n",
    "lc=np.loadtxt(tmp_path+'interpolation_contacts_l.csv',skiprows =1,delimiter =',',dtype=float)\n",
    "mc=np.loadtxt(tmp_path+'interpolation_contacts_m.csv',skiprows =1,delimiter =',',dtype=float)\n",
    "lo=np.loadtxt(tmp_path+'interpolation_l.csv',skiprows =1,delimiter =',',dtype=float)\n",
    "mo=np.loadtxt(tmp_path+'interpolation_m.csv',skiprows =1,delimiter =',',dtype=float)\n",
    "no=np.loadtxt(tmp_path+'interpolation_n.csv',skiprows =1,delimiter =',',dtype=float)\n",
    "xy=np.loadtxt(tmp_path+'interpolation_'+scheme+'.csv',skiprows =1,delimiter =',',dtype=float)"
   ]
  },
  {
   "cell_type": "code",
   "execution_count": null,
   "metadata": {},
   "outputs": [],
   "source": [
    "m2l_interpolation.join_contacts_and_orientations(combo_file,geology_file,tmp_path,dtm_reproj_file,ccode,lo,mo,no,lc,mc,xy,dst_crs,bbox)\n"
   ]
  },
  {
   "cell_type": "markdown",
   "metadata": {
    "scrolled": false
   },
   "source": [
    "# gempy test \n",
    "\n",
    "\n",
    "## Convert stratigraphy GML to time-sorted groups and units\n",
    "\n",
    "\n",
    "Takes GML file produced by topology code, geology polygons, structure points and dtm to create 3D model.<br><br>\n",
    "Limitations: no faults yet, no plutons yet, no dykes, no sills. Faults and plutons will come soon, sills require us to assign a unique surface to each instance of a sill (sill between units A and B needs to be different from sill of same age and strat codes as one found between E and F). Dykes via cokriging are really hard without just cookie cutting them in (but that is not our problem!). We are not checking for onlap relationships, which can perhaps been seen by having lots of units from one series adjacent to the youngest surface of the older series. Could also think about interpreting these as faults to introduce conceptual uncertainty.\n",
    "\n",
    "<font face color='red'>The way this loads data to gempy is not right, so all the units end up in one series... but it gives the basic idea </font>\n"
   ]
  },
  {
   "cell_type": "code",
   "execution_count": null,
   "metadata": {},
   "outputs": [],
   "source": [
    "print(os.getcwd())\n",
    "\n",
    "os.chdir('../map2loop')\n",
    "import m2l_utils\n",
    "print(os.getcwd())\n",
    "#os.chdir('../')\n"
   ]
  },
  {
   "cell_type": "markdown",
   "metadata": {},
   "source": [
    "## Preprocess data to ensure it meets gempy's requirements"
   ]
  },
  {
   "cell_type": "code",
   "execution_count": null,
   "metadata": {},
   "outputs": [],
   "source": [
    "m2l_geometry.tidy_data(output_path,tmp_path,use_gcode,use_interpolations)"
   ]
  },
  {
   "cell_type": "markdown",
   "metadata": {
    "scrolled": false
   },
   "source": [
    "## Now we define the basic model and load the orientation and lithological information\n",
    "mj: We inset the model dimensions as once reprojects the edge pixels of the topography are undefined. Probably doesn't need to be that extreme (unit is metres). Could use parameter <b>maxtopo</b> to "
   ]
  },
  {
   "cell_type": "code",
   "execution_count": null,
   "metadata": {},
   "outputs": [],
   "source": [
    "import gempy as gp\n",
    "import numpy as np\n",
    "import matplotlib.pyplot as plt\n",
    "import os\n",
    "geo_model = gp.create_model('gp_test') ############## FUDGE####################\n",
    "\n",
    "gp.init_data(geo_model, extent=[minx, maxx, miny, maxy, -4800, 1200],\n",
    "    resolution = (50,50,50), \n",
    "      #path_o = './test_data/output/hams2_orientations.txt',\n",
    "      path_o = output_path+'orientations_clean.csv',\n",
    "      path_i = output_path+'contacts_clean.csv', default_values=True); #%%      \n",
    "      #path_o = './test_data3/output/ign_orientations_saucers.csv',\n",
    "      #path_i = './test_data3/output/ign_contacts.csv', default_values=True); #%%"
   ]
  },
  {
   "cell_type": "markdown",
   "metadata": {
    "scrolled": false
   },
   "source": [
    "## Show example lithological points"
   ]
  },
  {
   "cell_type": "code",
   "execution_count": null,
   "metadata": {},
   "outputs": [],
   "source": [
    "gp.get_data(geo_model, 'surface_points').head()"
   ]
  },
  {
   "cell_type": "markdown",
   "metadata": {
    "scrolled": false
   },
   "source": [
    "## Show example orientations"
   ]
  },
  {
   "cell_type": "code",
   "execution_count": null,
   "metadata": {},
   "outputs": [],
   "source": [
    "gp.get_data(geo_model, 'orientations').head()"
   ]
  },
  {
   "cell_type": "markdown",
   "metadata": {
    "scrolled": false
   },
   "source": [
    "## Plot some of this data"
   ]
  },
  {
   "cell_type": "code",
   "execution_count": null,
   "metadata": {},
   "outputs": [],
   "source": [
    "%matplotlib inline\n",
    "gp.plot.plot_data(geo_model, direction='z');"
   ]
  },
  {
   "cell_type": "markdown",
   "metadata": {
    "scrolled": false
   },
   "source": [
    "## Load reprojected topgraphy to model"
   ]
  },
  {
   "cell_type": "code",
   "execution_count": null,
   "metadata": {},
   "outputs": [],
   "source": [
    "fp = dtm_reproj_file\n",
    "print(fp)\n",
    "geo_model.set_topography(source='gdal',filepath=fp)\n",
    "\n",
    "## Load stratigraphic Series\n",
    "\n",
    "f=open(tmp_path+'groups_clean.csv',\"r\")\n",
    "contents =f.readlines()\n",
    "f.close\n",
    "\n",
    "\n",
    "faults = gp.Faults()\n",
    "series = gp.Series(faults)\n",
    "series.df\n",
    "\n",
    "ngroups=contents[0].split(\" \")\n",
    "ngroups=int(ngroups[1])\n",
    "groups=[]\n",
    "\n",
    "for i in range (1,int(ngroups)+1):\n",
    "    groups.append(contents[i].replace(\"\\n\",\"\"))\n",
    "    series.add_series(contents[i].replace(\"\\n\",\"\"))\n",
    "    print(contents[i].replace(\"\\n\",\"\"))\n",
    "\n",
    "series.delete_series('Default series')\n",
    "\n",
    "series"
   ]
  },
  {
   "cell_type": "markdown",
   "metadata": {
    "scrolled": false
   },
   "source": [
    "## Load surfaces and assign to series"
   ]
  },
  {
   "cell_type": "code",
   "execution_count": null,
   "metadata": {},
   "outputs": [],
   "source": [
    "surfaces = gp.Surfaces(series)\n",
    "\n",
    "#ngroups=5\n",
    "for i in range(0,ngroups):\n",
    "    f=open(tmp_path+groups[i]+'.csv',\"r\")\n",
    "    contents =f.readlines()\n",
    "    nformations=str(contents[0])\n",
    "    nformations=nformations.split(\" \")\n",
    "    nformations=int(nformations[1].replace(\"\\n\",\"\"))\n",
    "\n",
    "    for j in range (1,int(nformations)+1):\n",
    "        surfaces.add_surface(contents[j].replace(\"\\n\",\"\"))\n",
    "        d={groups[i]:contents[j].replace(\"\\n\",\"\")}\n",
    "        surfaces.map_series({groups[i]:(contents[j].replace(\"\\n\",\"\"))}) #working but no gps\n",
    "        #gp.map_series_to_surfaces(geo_model, {groups[0]:(contents[j].replace(\"\\n\",\"\"))},#XXXXXXXXXXXXXXXXXXXXXXXXXXXXXXXXXX<<<<\n",
    "              #  set_series=True, remove_unused_series=True)\n",
    "    f.close\n",
    "\n",
    "surfaces"
   ]
  },
  {
   "cell_type": "markdown",
   "metadata": {
    "scrolled": false
   },
   "source": [
    "## Set Interpolation Data"
   ]
  },
  {
   "cell_type": "code",
   "execution_count": null,
   "metadata": {},
   "outputs": [],
   "source": [
    "\n",
    "id_only_one_bool = geo_model.surface_points.df['id'].value_counts() == 1\n",
    "id_only_one = id_only_one_bool.index[id_only_one_bool]\n",
    "single_vals = geo_model.surface_points.df[geo_model.surface_points.df['id'].isin(id_only_one)]\n",
    "for idx, vals in single_vals.iterrows():\n",
    "    geo_model.add_surface_points(vals['X'], vals['Y'], vals['Z'], vals['surface'])\n",
    "    \n",
    "geo_model.update_structure()\n"
   ]
  },
  {
   "cell_type": "code",
   "execution_count": null,
   "metadata": {},
   "outputs": [],
   "source": [
    "gp.set_interpolation_data(geo_model,\n",
    "                          compile_theano=True,\n",
    "                          theano_optimizer='fast_compile',\n",
    "                          verbose=[])"
   ]
  },
  {
   "cell_type": "markdown",
   "metadata": {
    "scrolled": false
   },
   "source": [
    "## Provide summary data on model"
   ]
  },
  {
   "cell_type": "code",
   "execution_count": null,
   "metadata": {},
   "outputs": [],
   "source": [
    "geo_model.additional_data.structure_data"
   ]
  },
  {
   "cell_type": "markdown",
   "metadata": {
    "scrolled": false
   },
   "source": [
    "## Calculate Model"
   ]
  },
  {
   "cell_type": "code",
   "execution_count": null,
   "metadata": {
    "scrolled": true
   },
   "outputs": [],
   "source": [
    "\n",
    "gp.compute_model(geo_model)"
   ]
  },
  {
   "cell_type": "markdown",
   "metadata": {
    "scrolled": false
   },
   "source": [
    "## Extract surfaces to visualize in 3D renderers"
   ]
  },
  {
   "cell_type": "code",
   "execution_count": null,
   "metadata": {},
   "outputs": [],
   "source": [
    "gp.plot.plot_section(geo_model, 49, direction='z', show_data=False)"
   ]
  },
  {
   "cell_type": "code",
   "execution_count": null,
   "metadata": {},
   "outputs": [],
   "source": [
    "ver , sim = gp.get_surfaces(geo_model)\n",
    "\n",
    "import winsound\n",
    "duration = 300  # milliseconds\n",
    "freq = 500  # Hz\n",
    "winsound.Beep(freq, duration)"
   ]
  },
  {
   "cell_type": "markdown",
   "metadata": {
    "scrolled": false
   },
   "source": [
    "## Visualise model"
   ]
  },
  {
   "cell_type": "code",
   "execution_count": null,
   "metadata": {},
   "outputs": [],
   "source": [
    "gp.plot.plot_3D(geo_model, render_data=False)"
   ]
  },
  {
   "cell_type": "code",
   "execution_count": null,
   "metadata": {},
   "outputs": [],
   "source": [
    "from gempy import plot\n",
    "#gp.plot.export_to_vtk(geo_model, path='./test_data3/vtk/', name='hams3.vtk', voxels=False, block=None, surfaces=True)"
   ]
  },
  {
   "cell_type": "code",
   "execution_count": null,
   "metadata": {},
   "outputs": [],
   "source": []
  }
 ],
 "metadata": {
  "hide_input": false,
  "kernelspec": {
   "display_name": "Python 3",
   "language": "python",
   "name": "python3"
  },
  "language_info": {
   "codemirror_mode": {
    "name": "ipython",
    "version": 3
   },
   "file_extension": ".py",
   "mimetype": "text/x-python",
   "name": "python",
   "nbconvert_exporter": "python",
   "pygments_lexer": "ipython3",
   "version": "3.7.3"
  }
 },
 "nbformat": 4,
 "nbformat_minor": 2
}
