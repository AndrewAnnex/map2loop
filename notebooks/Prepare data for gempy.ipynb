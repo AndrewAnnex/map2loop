{
 "cells": [
  {
   "cell_type": "code",
   "execution_count": 2,
   "metadata": {},
   "outputs": [],
   "source": [
    "import pandas as pd\n",
    "\n"
   ]
  },
  {
   "cell_type": "code",
   "execution_count": 4,
   "metadata": {},
   "outputs": [
    {
     "name": "stdout",
     "output_type": "stream",
     "text": [
      "no contacts for the group: A_mgn_PMI\n",
      "no contacts for the group: A_b_PRK\n",
      "no contacts for the group: A_s_PRK\n",
      "no contacts for the group: A_s_PMI\n",
      "no contacts for the group: A_mgn_PRK\n"
     ]
    },
    {
     "data": {
      "text/plain": [
       "['1 12\\n',\n",
       " 'A_mgn_PMI_520\\n',\n",
       " 'A_mgn_PRK_32\\n',\n",
       " 'Wyloo_Group\\n',\n",
       " 'Shingle_Creek_Group\\n',\n",
       " 'Turee_Creek_Group\\n',\n",
       " 'Hamersley_Group\\n',\n",
       " 'Fortescue_Group\\n',\n",
       " 'A_s_PMI\\n',\n",
       " 'A_mgn_PRK\\n',\n",
       " 'A_b_PRK\\n',\n",
       " 'A_s_PRK\\n',\n",
       " 'A_mgn_PMI\\n']"
      ]
     },
     "metadata": {},
     "output_type": "display_data"
    },
    {
     "name": "stdout",
     "output_type": "stream",
     "text": [
      "no contacts for the group: A_s_PMI\n",
      "no contacts for the group: A_mgn_PRK\n",
      "no contacts for the group: A_b_PRK\n",
      "no contacts for the group: A_s_PRK\n",
      "no contacts for the group: A_mgn_PMI\n",
      "no orientations for the group: A_mgn_PMI\n",
      "no orientations for the group: A_mgn_PRK\n",
      "['A_s_PMI', 'A_mgn_PRK', 'A_b_PRK', 'A_s_PRK', 'A_mgn_PMI', 'A_mgn_PMI', 'A_mgn_PRK']\n",
      "dud orientation: A_s_PRK\n",
      "dud orientation: A_s_PRK\n",
      "dud orientation: A_s_PRK\n",
      "dud orientation: A_s_PRK\n",
      "dud orientation: A_s_PRK\n",
      "dud orientation: A_b_PRK\n",
      "dud orientation: A_s_PMI\n",
      "dud orientation: A_s_PMI\n",
      "dud orientation: A_s_PMI\n",
      "dud orientation: A_s_PMI\n",
      "dud orientation: A_s_PRK\n",
      "dud orientation: A_s_PRK\n"
     ]
    }
   ],
   "source": [
    "mname='hams3' \n",
    "\n",
    "contacts=pd.read_csv('../test_data3/output/'+mname+'_contacts4.csv',\",\")\n",
    "orientations=pd.read_csv('../test_data3/output/'+mname+'_orientations.csv',\",\")\n",
    "invented_orientations=pd.read_csv('../test_data3/output/'+mname+'_empty_series_orientations.csv',\",\")\n",
    "interpolated_orientations=pd.read_csv('../test_data3/tmp/combo_full.csv',\",\")\n",
    "intrusive_orientations=pd.read_csv('../test_data3/output/ign_orientations_saucers.csv',\",\")\n",
    "intrusive_contacts=pd.read_csv('../test_data3/output/ign_contacts.csv',\",\")\n",
    "fault_contact=pd.read_csv('../test_data3/output/hams3_faults.csv',\",\")\n",
    "fault_orientations=pd.read_csv('../test_data3/output/hams3_fault_orientations.csv',\",\")\n",
    "all_sorts=pd.read_csv('../test_data3/tmp/hams3_all_sorts.csv',\",\")\n",
    "\n",
    "all_orientations=pd.concat([orientations,invented_orientations,intrusive_orientations])\n",
    "all_orientations.reset_index(inplace=True)\n",
    "\n",
    "all_sorts.set_index('code',  inplace = True)\n",
    "\n",
    "all_contacts=pd.concat([intrusive_contacts,contacts])\n",
    "all_contacts.reset_index(inplace=True)\n",
    "#display(all_contacts)\n",
    "all_groups=set(all_sorts['group'])\n",
    "#print(all_groups)\n",
    "#display(all_contacts.formation.unique())\n",
    "unique_contacts=set(all_contacts['formation'])\n",
    "\n",
    "# Remove groups that don't have any contact info\n",
    "no_contacts=[]\n",
    "groups=[]\n",
    "for agroup in all_groups:\n",
    "    found=False\n",
    "    #print('GROUP',agroup)\n",
    "    for acontact in all_contacts.iterrows():\n",
    "        if(all_sorts.loc[acontact[1]['formation']]['group'] in agroup):\n",
    "            found=True\n",
    "            break\n",
    "    if(not found):\n",
    "        no_contacts.append(agroup)\n",
    "        print('no contacts for the group:',agroup)\n",
    "    else:\n",
    "        groups.append(agroup)\n",
    "\n",
    "# Update list of all groups that have formations info\n",
    "\n",
    "f=open('../test_data3/tmp/hams3_groups2.csv',\"r\")\n",
    "contents =f.readlines()\n",
    "f.close\n",
    "\n",
    "ngroups=contents[0].split(\" \")\n",
    "ngroups=int(ngroups[1])       \n",
    "no_contacts=[]\n",
    "groups=[]\n",
    "\n",
    "for i in range(1,ngroups+1):\n",
    "    found=False\n",
    "    #print('GROUP',agroup)\n",
    "    for acontact in all_contacts.iterrows():\n",
    "        if(all_sorts.loc[acontact[1]['formation']]['group'] in contents[i]):\n",
    "            found=True\n",
    "            break\n",
    "    if(not found):\n",
    "        no_contacts.append(contents[i].replace(\"\\n\",\"\"))\n",
    "        print('no contacts for the group:',contents[i].replace(\"\\n\",\"\"))\n",
    "    else:\n",
    "        groups.append(contents[i].replace(\"\\n\",\"\"))\n",
    "\n",
    "# Make new list of groups\n",
    "\n",
    "fgp=open('../test_data3/tmp/hams3_groups_clean.csv',\"w\")\n",
    "fgp.write('1 '+str(len(groups))+'\\n')\n",
    "for i in range(0,len(groups)):\n",
    "    fgp.write(contents[i+1].replace(\"\\n\",\"\")+'\\n')\n",
    "fgp.close()        \n",
    "\n",
    "# Remove orientations with no equivalent formations info\n",
    "\n",
    "for agroup in all_groups:\n",
    "    found=False\n",
    "    #print('GROUP',agroup)\n",
    "    for ano in all_orientations.iterrows():\n",
    "        if(all_sorts.loc[ano[1]['formation']]['group'] in agroup):\n",
    "            found=True\n",
    "            break\n",
    "    if(not found):\n",
    "        no_contacts.append(agroup)\n",
    "        print('no orientations for the group:',agroup)\n",
    "\n",
    "print(no_contacts)\n",
    "\n",
    "# Update master list of  groups and formations info\n",
    "\n",
    "fas=open('../test_data3/tmp/hams3_all_sorts_clean.csv',\"w\")\n",
    "fas.write('index,group number,index in group,number in group,code,group\\n')\n",
    "for a_sort in all_sorts.iterrows():\n",
    "    #print(a_sort[0])\n",
    "    if(a_sort[1]['group'] not in no_contacts):\n",
    "        ostr=str(a_sort[1]['index'])+\",\"+str(a_sort[1]['group number'])+\",\"+str(a_sort[1]['index in group'])+\",\"+str(a_sort[1]['number in group'])+\",\"+a_sort[0]+\",\"+a_sort[1]['group']+\"\\n\"\n",
    "        fas.write(ostr)\n",
    "fas.close()\n",
    "\n",
    "# Update orientation info\n",
    "\n",
    "fao=open('../test_data3/output/'+mname+'_orientations_clean.csv',\"w\")\n",
    "fao.write('X,Y,Z,azimuth,dip,polarity,formation\\n')\n",
    "\n",
    "for ano in all_orientations.iterrows():\n",
    "    #if any(grp in all_sorts.loc[ano[1]['formation']]['group'] for grp in no_contacts):\n",
    "    if(all_sorts.loc[ano[1]['formation']]['group'] in no_contacts or not ano[1]['formation'] in unique_contacts):  #fix here################################\n",
    "        print('dud orientation:',ano[1]['formation'])\n",
    "    else:\n",
    "        ostr=str(ano[1]['X'])+\",\"+str(ano[1]['Y'])+\",\"+str(ano[1]['Z'])+\",\"+\\\n",
    "             str(ano[1]['azimuth'])+\",\"+str(ano[1]['dip'])+\",\"+str(ano[1]['polarity'])+\",\"+ano[1]['formation']+\"\\n\"\n",
    "        fao.write(ostr)\n",
    "\n",
    "fao.close()\n",
    "\n",
    "# Update formation info\n",
    "\n",
    "fac=open('../test_data3/output/'+mname+'_contacts_clean.csv',\"w\")\n",
    "fac.write('X,Y,Z,formation\\n')\n",
    "\n",
    "for acontact in all_contacts.iterrows():\n",
    "    if(all_sorts.loc[acontact[1]['formation']]['group'] in no_contacts):\n",
    "        print('dud contact:',acontact[1]['formation'])\n",
    "    else:\n",
    "        ostr=str(acontact[1]['X'])+\",\"+str(acontact[1]['Y'])+\",\"+str(acontact[1]['Z'])+\",\"+acontact[1]['formation']+\"\\n\"\n",
    "        fac.write(ostr)\n",
    "\n",
    "fac.close()\n",
    "\n"
   ]
  },
  {
   "cell_type": "code",
   "execution_count": null,
   "metadata": {},
   "outputs": [],
   "source": [
    "clean_all_sorts=pd.read_csv('../test_data3/tmp/'+mname+'_all_sorts_clean.csv',\",\")\n",
    " \n",
    "clean_orientations=pd.read_csv('../test_data3/output/'+mname+'_orientations_clean.csv',\",\")\n",
    "\n",
    "clean_contacts=pd.read_csv('../test_data3/output/'+mname+'_contacts_clean.csv',\",\")\n"
   ]
  },
  {
   "cell_type": "code",
   "execution_count": null,
   "metadata": {},
   "outputs": [],
   "source": [
    "display(clean_all_sorts)"
   ]
  },
  {
   "cell_type": "code",
   "execution_count": null,
   "metadata": {},
   "outputs": [],
   "source": [
    "display(clean_orientations)"
   ]
  },
  {
   "cell_type": "code",
   "execution_count": null,
   "metadata": {},
   "outputs": [],
   "source": [
    "display(clean_contacts)"
   ]
  },
  {
   "cell_type": "code",
   "execution_count": null,
   "metadata": {},
   "outputs": [],
   "source": []
  },
  {
   "cell_type": "code",
   "execution_count": null,
   "metadata": {},
   "outputs": [],
   "source": [
    "import geopandas as gpd\n",
    "\n",
    "minx=500057\n",
    "maxx=603028\n",
    "miny=7455348\n",
    "maxy=7567953\n",
    "\n",
    "bbox2=str(minx)+\",\"+str(miny)+\",\"+str(maxx)+\",\"+str(maxy)\n",
    "\n",
    "geology_file='http://geo.loop-gis.org/geoserver/loop/wfs?service=WFS&version=1.0.0&request=GetFeature&typeName=loop:geol_500k&bbox='+bbox2+'&srs=EPSG:28350'\n",
    "\n",
    "geol = gpd.read_file(geology_file)\n",
    "display(geol)"
   ]
  },
  {
   "cell_type": "code",
   "execution_count": null,
   "metadata": {},
   "outputs": [],
   "source": []
  }
 ],
 "metadata": {
  "kernelspec": {
   "display_name": "Python 3",
   "language": "python",
   "name": "python3"
  },
  "language_info": {
   "codemirror_mode": {
    "name": "ipython",
    "version": 3
   },
   "file_extension": ".py",
   "mimetype": "text/x-python",
   "name": "python",
   "nbconvert_exporter": "python",
   "pygments_lexer": "ipython3",
   "version": "3.7.3"
  }
 },
 "nbformat": 4,
 "nbformat_minor": 2
}
