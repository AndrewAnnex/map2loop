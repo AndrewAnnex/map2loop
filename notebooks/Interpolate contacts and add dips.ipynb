{
 "cells": [
  {
   "cell_type": "markdown",
   "metadata": {},
   "source": [
    "## Uses interpolated grid of lmn to add estimated dips to all contacts\n",
    "\n",
    "<font face color='red'>Best with basal contacts only, using Notebook #1 as this avoids intrusive  and fault contacts being considered</font>"
   ]
  },
  {
   "cell_type": "code",
   "execution_count": 4,
   "metadata": {},
   "outputs": [
    {
     "name": "stdout",
     "output_type": "stream",
     "text": [
      "C:\\Users\\00073294\\Dropbox\\1_Jupyter_notebooks\\map2loop\\map2loop\n"
     ]
    }
   ],
   "source": [
    "import os\n",
    "#print(os.getcwd())\n",
    "os.chdir('../map2loop')\n",
    "\n",
    "print(os.getcwd())\n",
    "from map2loop import m2l_interpolation\n",
    "import pandas as pd\n",
    "import rasterio\n",
    "import numpy as np"
   ]
  },
  {
   "cell_type": "code",
   "execution_count": 5,
   "metadata": {},
   "outputs": [],
   "source": [
    "mname='hams3' #root name of model input data\n",
    "minx=500057    #left hams\n",
    "maxx=603028    #right\n",
    "miny=7455348   #bottom\n",
    "maxy=7567953   #top\n",
    "src_crs = 'epsg:4326'  #input data coord ref system (assumed to be geodetic lat/long WGS84)\n",
    "dst_crs = 'epsg:28350' #model ref system (assumed to be something with metre coordinates)\n",
    "gcode='GROUP_'\n",
    "dcode='DIP'\n",
    "ddcode='DIP_DIR'\n",
    "ccode='CODE'\n",
    "scheme='scipy_rbf'\n",
    "gridx=gridy=25\n",
    "inset=0\n",
    "this_gcode=('Hamersley Group','Fortescue Group','Turee Group')\n",
    "\n",
    "\n",
    "test_data_path='../test_data3/'\n",
    "\n",
    "tmp_path=test_data_path+'tmp/'\n",
    "data_path=test_data_path+'data/'\n",
    "dtm_path=test_data_path+'dtm/'\n",
    "output_path=test_data_path+'output/'\n",
    "dtm_file = dtm_path+'hams3_dtm_rp.tif'\n",
    "\n",
    "\n",
    "geology_file=tmp_path+'basal_contacts2.shp'\n",
    "fault_file=tmp_path+'faults_clip.shp'\n",
    "\n",
    "bbox=(minx+inset,miny+inset,maxx-inset,maxy-inset)"
   ]
  },
  {
   "cell_type": "code",
   "execution_count": 7,
   "metadata": {},
   "outputs": [],
   "source": [
    "dtm=dataset = rasterio.open(dtm_path+'/'+mname+'_dtm_rp.tif')"
   ]
  },
  {
   "cell_type": "code",
   "execution_count": 8,
   "metadata": {
    "scrolled": true
   },
   "outputs": [
    {
     "ename": "NameError",
     "evalue": "name 'np' is not defined",
     "output_type": "error",
     "traceback": [
      "\u001b[1;31m---------------------------------------------------------------------------\u001b[0m",
      "\u001b[1;31mNameError\u001b[0m                                 Traceback (most recent call last)",
      "\u001b[1;32m<ipython-input-8-cb4a1d96753c>\u001b[0m in \u001b[0;36m<module>\u001b[1;34m\u001b[0m\n\u001b[1;32m----> 1\u001b[1;33m \u001b[0mlo\u001b[0m\u001b[1;33m=\u001b[0m\u001b[0mnp\u001b[0m\u001b[1;33m.\u001b[0m\u001b[0mloadtxt\u001b[0m\u001b[1;33m(\u001b[0m\u001b[0mtmp_path\u001b[0m\u001b[1;33m+\u001b[0m\u001b[1;34m'interpolation_l.csv'\u001b[0m\u001b[1;33m,\u001b[0m\u001b[0mskiprows\u001b[0m \u001b[1;33m=\u001b[0m\u001b[1;36m1\u001b[0m\u001b[1;33m,\u001b[0m\u001b[0mdelimiter\u001b[0m \u001b[1;33m=\u001b[0m\u001b[1;34m','\u001b[0m\u001b[1;33m,\u001b[0m\u001b[0mdtype\u001b[0m\u001b[1;33m=\u001b[0m\u001b[0mfloat\u001b[0m\u001b[1;33m)\u001b[0m\u001b[1;33m\u001b[0m\u001b[1;33m\u001b[0m\u001b[0m\n\u001b[0m\u001b[0;32m      2\u001b[0m \u001b[0mmo\u001b[0m\u001b[1;33m=\u001b[0m\u001b[0mnp\u001b[0m\u001b[1;33m.\u001b[0m\u001b[0mloadtxt\u001b[0m\u001b[1;33m(\u001b[0m\u001b[0mtmp_path\u001b[0m\u001b[1;33m+\u001b[0m\u001b[1;34m'interpolation_m.csv'\u001b[0m\u001b[1;33m,\u001b[0m\u001b[0mskiprows\u001b[0m \u001b[1;33m=\u001b[0m\u001b[1;36m1\u001b[0m\u001b[1;33m,\u001b[0m\u001b[0mdelimiter\u001b[0m \u001b[1;33m=\u001b[0m\u001b[1;34m','\u001b[0m\u001b[1;33m,\u001b[0m\u001b[0mdtype\u001b[0m\u001b[1;33m=\u001b[0m\u001b[0mfloat\u001b[0m\u001b[1;33m)\u001b[0m\u001b[1;33m\u001b[0m\u001b[1;33m\u001b[0m\u001b[0m\n\u001b[0;32m      3\u001b[0m \u001b[0mno\u001b[0m\u001b[1;33m=\u001b[0m\u001b[0mnp\u001b[0m\u001b[1;33m.\u001b[0m\u001b[0mloadtxt\u001b[0m\u001b[1;33m(\u001b[0m\u001b[0mtmp_path\u001b[0m\u001b[1;33m+\u001b[0m\u001b[1;34m'interpolation_n.csv'\u001b[0m\u001b[1;33m,\u001b[0m\u001b[0mskiprows\u001b[0m \u001b[1;33m=\u001b[0m\u001b[1;36m1\u001b[0m\u001b[1;33m,\u001b[0m\u001b[0mdelimiter\u001b[0m \u001b[1;33m=\u001b[0m\u001b[1;34m','\u001b[0m\u001b[1;33m,\u001b[0m\u001b[0mdtype\u001b[0m\u001b[1;33m=\u001b[0m\u001b[0mfloat\u001b[0m\u001b[1;33m)\u001b[0m\u001b[1;33m\u001b[0m\u001b[1;33m\u001b[0m\u001b[0m\n\u001b[0;32m      4\u001b[0m \u001b[0mxy\u001b[0m\u001b[1;33m=\u001b[0m\u001b[0mnp\u001b[0m\u001b[1;33m.\u001b[0m\u001b[0mloadtxt\u001b[0m\u001b[1;33m(\u001b[0m\u001b[0mtmp_path\u001b[0m\u001b[1;33m+\u001b[0m\u001b[1;34m'interpolation_'\u001b[0m\u001b[1;33m+\u001b[0m\u001b[0mscheme\u001b[0m\u001b[1;33m+\u001b[0m\u001b[1;34m'.csv'\u001b[0m\u001b[1;33m,\u001b[0m\u001b[0mskiprows\u001b[0m \u001b[1;33m=\u001b[0m\u001b[1;36m1\u001b[0m\u001b[1;33m,\u001b[0m\u001b[0mdelimiter\u001b[0m \u001b[1;33m=\u001b[0m\u001b[1;34m','\u001b[0m\u001b[1;33m,\u001b[0m\u001b[0mdtype\u001b[0m\u001b[1;33m=\u001b[0m\u001b[0mfloat\u001b[0m\u001b[1;33m)\u001b[0m\u001b[1;33m\u001b[0m\u001b[1;33m\u001b[0m\u001b[0m\n",
      "\u001b[1;31mNameError\u001b[0m: name 'np' is not defined"
     ]
    }
   ],
   "source": [
    "lo=np.loadtxt(tmp_path+'interpolation_l.csv',skiprows =1,delimiter =',',dtype=float)\n",
    "mo=np.loadtxt(tmp_path+'interpolation_m.csv',skiprows =1,delimiter =',',dtype=float)\n",
    "no=np.loadtxt(tmp_path+'interpolation_n.csv',skiprows =1,delimiter =',',dtype=float)\n",
    "xy=np.loadtxt(tmp_path+'interpolation_'+scheme+'.csv',skiprows =1,delimiter =',',dtype=float)"
   ]
  },
  {
   "cell_type": "code",
   "execution_count": null,
   "metadata": {},
   "outputs": [],
   "source": [
    "def add_dips_to_contacts(geology_file,output_path,bbox,dcode,ddcode,gcode,calc):\n",
    "    print(geology_file,output_path,bbox,dcode,ddcode,gcode,calc,gridx,gridy)\n",
    "    geol_file = gpd.read_file(geology_file,bbox=bbox)\n",
    "    print(len(geol_file))\n",
    "    geol_file.plot( color='black',edgecolor='black') \n",
    "    \n",
    "    # Setup: Generate data...\n",
    "    npts = 0\n",
    "    decimate=1\n",
    "    nx, ny = gridx,gridy\n",
    "\n",
    "    f=open(output_path+'contacts_with_dips.csv','w')\n",
    "    f.write(\"x,y,z,polarity,formation\\n\")\n",
    "    j=0\n",
    "    i=0\n",
    "    for acontact in geol_file.iterrows():   #loop through distinct linestrings in MultiLineString\n",
    "        if(acontact[1].geometry.type=='MultiLineString'):\n",
    "            #print(i)\n",
    "            for line in acontact[1].geometry: # loop through line segments\n",
    "                #print(i,len(acontact[1].geometry))\n",
    "                if(i%decimate ==0):\n",
    "                    #if(acontact[1]['id']==170): \n",
    "                        #display(npts,line.coords[0][0],line.coords[1][0]) \n",
    "                    dlsx=line.coords[0][0]-line.coords[1][0]\n",
    "                    dlsy=line.coords[0][1]-line.coords[1][1]\n",
    "                    if(not line.coords[0][0]==line.coords[1][0] or not line.coords[0][1]==line.coords[1][1]):               \n",
    "                        lsx=dlsx/sqrt((dlsx*dlsx)+(dlsy*dlsy))\n",
    "                        lsy=dlsy/sqrt((dlsx*dlsx)+(dlsy*dlsy))\n",
    "                        x[i]=line.coords[1][0]+(dlsx/2)\n",
    "                        y[i]=line.coords[1][1]+(dlsy/2)\n",
    "                        angle=degrees(atan2(lsx,lsy))\n",
    "                        l[i]=lsx\n",
    "                        m[i]=lsy\n",
    "                        ostr=str(x[i])+\",\"+str(y[i])+\",\"+str(angle%180)+\",\"+str(lsx)+\",\"+str(lsy)+\"\\n\"\n",
    "                        #print(ostr)\n",
    "                        f.write(ostr)\n",
    "                        npts=npts+1\n",
    "                i=i+1\n",
    "        else:\n",
    "            #display(acontact[1].geometry,acontact[1].geometry.coords)\n",
    "            #for line in acontact[1]: # loop through line segments in LineString\n",
    "            if(  i%decimate ==0):\n",
    "                dlsx=acontact[1].geometry.coords[0][0]-acontact[1].geometry.coords[1][0]\n",
    "                dlsy=acontact[1].geometry.coords[0][1]-acontact[1].geometry.coords[1][1]\n",
    "                if(not acontact[1].geometry.coords[0][0]==acontact[1].geometry.coords[1][0] \n",
    "                   or not acontact[1].geometry.coords[0][1]==acontact[1].geometry.coords[1][1]):\n",
    "                    lsx=dlsx/sqrt((dlsx*dlsx)+(dlsy*dlsy))\n",
    "                    lsy=dlsy/sqrt((dlsx*dlsx)+(dlsy*dlsy))\n",
    "                    x[i]=acontact[1].geometry.coords[1][0]+(dlsx/2)\n",
    "                    y[i]=acontact[1].geometry.coords[1][1]+(dlsy/2)\n",
    "                    angle=degrees(atan2(lsx,lsy))\n",
    "                    l[i]=lsx\n",
    "                    m[i]=lsy\n",
    "                    ostr=str(x[i])+\",\"+str(y[i])+\",\"+str(angle%180)+\",\"+str(lsx)+\",\"+str(lsy)+\"\\n\"\n",
    "                    #print(ostr)\n",
    "                    f.write(ostr)\n",
    "                    print(npts,dlsx,dlsy)\n",
    "                    npts=npts+1\n",
    "                i=i+1\n",
    "        j=j+1\n",
    "    f.close()\n",
    "    print(\"i\",i,\"npts\",npts)\n",
    "\n",
    "    for i in range(0,npts):\n",
    "        x[i]=x[i]+(np.random.ranf()*0.01)\n",
    "        y[i]=y[i]+(np.random.ranf()*0.01)\n",
    "\n",
    "    ZIl,ZIm,ZIn=call_interpolator(calc,x[:npts],y[:npts],l[:npts],m[:npts],0,xi,yi,nx,ny)    \n",
    "    \n",
    "    # Comparisons...\n",
    "    plot(x,y,l,ZIl)\n",
    "    plt.title('l')\n",
    "    plot(x,y,m,ZIm)\n",
    "    plt.title('m')\n",
    "\n",
    "    fi=open(output_path+'interpolation_contacts_'+calc+'.csv','w')\n",
    "    fl=open(output_path+'interpolation_contacts_l.csv','w')\n",
    "    fm=open(output_path+'interpolation_contacts_m.csv','w')\n",
    "    \n",
    "    fi.write(\"x,y,angle\\n\")\n",
    "    fl.write(\"x,y,l\\n\")\n",
    "    fm.write(\"x,y,m\\n\")\n",
    "    \n",
    "    for xx in range (0,gridx-1):\n",
    "        for yy in range (0,gridy-1):\n",
    "            yyy=xx\n",
    "            xxx=gridy-2-yy\n",
    "            L=ZIl[xxx,yyy]/(sqrt((pow(ZIl[xxx,yyy],2.0))+(pow(ZIm[xxx,yyy],2.0))))\n",
    "            M=ZIm[xxx,yyy]/(sqrt((pow(ZIl[xxx,yyy],2.0))+(pow(ZIm[xxx,yyy],2.0))))\n",
    "            S=degrees(atan2(L,M))\n",
    "    \n",
    "            ostr=str(bbox[0]+(xx*((bbox[2]-bbox[0])/100)))+\",\"+str(bbox[1]+((gridy-2-yy)*((bbox[3]-bbox[1])/100)))+\",\"+str(int(S))+'\\n'\n",
    "            fi.write(ostr)\n",
    "            \n",
    "            ostr=str(xx)+\",\"+str(yy)+\",\"+str(L)+'\\n'\n",
    "            fl.write(ostr)\n",
    "            ostr=str(xx)+\",\"+str(yy)+\",\"+str(M)+'\\n'\n",
    "            fm.write(ostr)\n",
    "    fi.close()\n",
    "    fl.close()\n",
    "    fm.close()\n",
    "    fig, ax = plt.subplots(figsize=(10, 10))\n",
    "    q = ax.quiver(xi, yi, ZIl, ZIm,headwidth=0)\n",
    "    plt.show()"
   ]
  },
  {
   "cell_type": "code",
   "execution_count": null,
   "metadata": {},
   "outputs": [],
   "source": []
  }
 ],
 "metadata": {
  "kernelspec": {
   "display_name": "Python 3",
   "language": "python",
   "name": "python3"
  },
  "language_info": {
   "codemirror_mode": {
    "name": "ipython",
    "version": 3
   },
   "file_extension": ".py",
   "mimetype": "text/x-python",
   "name": "python",
   "nbconvert_exporter": "python",
   "pygments_lexer": "ipython3",
   "version": "3.7.3"
  }
 },
 "nbformat": 4,
 "nbformat_minor": 2
}
