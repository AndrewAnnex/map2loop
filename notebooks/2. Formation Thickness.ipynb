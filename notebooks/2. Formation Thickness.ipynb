{
 "cells": [
  {
   "cell_type": "markdown",
   "metadata": {
    "toc": true
   },
   "source": [
    "<h1>Table of Contents<span class=\"tocSkip\"></span></h1>\n",
    "<div class=\"toc\"><ul class=\"toc-item\"><li><span><a href=\"#2-Estimates-true-thickness-of-units-based-on-distance-to-upper-contact-and-local-interolated-dip\" data-toc-modified-id=\"2-Estimates-true-thickness-of-units-based-on-distance-to-upper-contact-and-local-interolated-dip-1\"><span class=\"toc-item-num\">1&nbsp;&nbsp;</span>2 Estimates true thickness of units based on distance to upper contact and local interolated dip</a></span></li></ul></div>"
   ]
  },
  {
   "cell_type": "markdown",
   "metadata": {},
   "source": [
    "## 2 Estimates true thickness of units based on distance to upper contact and local interolated dip\n",
    "\n",
    "At the moment ignores sills and doesn't attempt a \"minimum thickness\" when there is an unconfirmity above the unit  \n",
    "  \n",
    "<font face color='red'>Best with basal contacts only, using Notebook #1 as this avoids intrusive and fault contacts being considered</font>"
   ]
  },
  {
   "cell_type": "code",
   "execution_count": null,
   "metadata": {
    "ExecuteTime": {
     "end_time": "2019-11-06T05:02:11.434168Z",
     "start_time": "2019-11-06T05:02:09.468040Z"
    }
   },
   "outputs": [],
   "source": [
    "import os\n",
    "import rasterio\n",
    "import pandas as pd\n",
    "import numpy as np\n",
    "import geopandas as gpd\n",
    "from shapely.geometry import Point, LineString\n",
    "from math import sqrt, sin, radians\n",
    "#print(os.getcwd())\n",
    "os.chdir('../map2loop')\n",
    "\n",
    "print(os.getcwd())\n",
    "from map2loop import m2l_interpolation\n",
    "from map2loop import m2l_utils\n",
    "from map2loop import m2l_geometry\n",
    "m2l_utils.v()"
   ]
  },
  {
   "cell_type": "code",
   "execution_count": null,
   "metadata": {
    "ExecuteTime": {
     "end_time": "2019-11-06T05:02:11.456108Z",
     "start_time": "2019-11-06T05:02:11.436161Z"
    }
   },
   "outputs": [],
   "source": [
    "%run -i \"../test_data3/m2l_config.py\"\n",
    "\n",
    "contact_decimate=2\n",
    "\n",
    "geology_file=tmp_path+'basal_contacts.shp'\n",
    "bbox=(minx,miny,maxx,maxy)\n",
    "dtm = rasterio.open(dtm_reproj_file)\n",
    "scheme='null'\n",
    "buffer =5000\n",
    "max_thickness_allowed=10000\n"
   ]
  },
  {
   "cell_type": "code",
   "execution_count": null,
   "metadata": {
    "ExecuteTime": {
     "end_time": "2019-11-06T05:02:14.452194Z",
     "start_time": "2019-11-06T05:02:11.458105Z"
    },
    "scrolled": true
   },
   "outputs": [],
   "source": [
    "m2l_interpolation.save_contact_vectors(geology_file,tmp_path,dtm,bbox,c_l,scheme,contact_decimate)\n"
   ]
  },
  {
   "cell_type": "code",
   "execution_count": null,
   "metadata": {
    "ExecuteTime": {
     "end_time": "2019-11-06T05:02:56.735767Z",
     "start_time": "2019-11-06T05:02:14.457181Z"
    }
   },
   "outputs": [],
   "source": [
    "m2l_geometry.calc_thickness(tmp_path,output_path,buffer,max_thickness_allowed)"
   ]
  },
  {
   "cell_type": "code",
   "execution_count": null,
   "metadata": {
    "ExecuteTime": {
     "end_time": "2019-11-06T05:02:56.821573Z",
     "start_time": "2019-11-06T05:02:56.737761Z"
    }
   },
   "outputs": [],
   "source": [
    "m2l_geometry.normalise_thickness(output_path)"
   ]
  },
  {
   "cell_type": "code",
   "execution_count": null,
   "metadata": {},
   "outputs": [],
   "source": []
  },
  {
   "cell_type": "code",
   "execution_count": null,
   "metadata": {},
   "outputs": [],
   "source": []
  }
 ],
 "metadata": {
  "hide_input": false,
  "kernelspec": {
   "display_name": "Python 3",
   "language": "python",
   "name": "python3"
  },
  "language_info": {
   "codemirror_mode": {
    "name": "ipython",
    "version": 3
   },
   "file_extension": ".py",
   "mimetype": "text/x-python",
   "name": "python",
   "nbconvert_exporter": "python",
   "pygments_lexer": "ipython3",
   "version": "3.7.3"
  },
  "toc": {
   "base_numbering": 1,
   "nav_menu": {},
   "number_sections": true,
   "sideBar": true,
   "skip_h1_title": false,
   "title_cell": "Table of Contents",
   "title_sidebar": "Contents",
   "toc_cell": true,
   "toc_position": {},
   "toc_section_display": true,
   "toc_window_display": false
  }
 },
 "nbformat": 4,
 "nbformat_minor": 2
}
