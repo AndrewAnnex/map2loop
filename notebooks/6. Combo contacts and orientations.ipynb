{
 "cells": [
  {
   "cell_type": "markdown",
   "metadata": {},
   "source": [
    "## map2loop: Combines rbf of contact orientations with rbf of dip/dipdir measurements\n",
    "\n",
    "Uses normalised direction cosines **(l,m,n)**:  \n",
    "- **l,m** from RBF of basal contact orientations  \n",
    "- **signs of l & m** from misorientation with RBF of orientation data and  \n",
    "- **n** from RBF of orientation data  \n",
    "  \n",
    "May be useful for adding data where no orientations are available (e.g. in fault bounded domains) and for calculating true thickness of layers. Assumes a 2D plane of data, but if 3D RBF was calulated and projected contact info was used it should apply with topography too. \n",
    "  \n",
    "RBFs calculated in interpolate contacts from Notebooks #4 and #5  "
   ]
  },
  {
   "cell_type": "code",
   "execution_count": 1,
   "metadata": {},
   "outputs": [
    {
     "name": "stdout",
     "output_type": "stream",
     "text": [
      "C:\\Users\\00073294\\Dropbox\\1_Jupyter_notebooks\\map2loop\\map2loop\n"
     ]
    }
   ],
   "source": [
    "import os\n",
    "#print(os.getcwd())\n",
    "os.chdir('../map2loop')\n",
    "\n",
    "print(os.getcwd())\n",
    "\n",
    "import numpy as np\n",
    "from map2loop import m2l_interpolation\n"
   ]
  },
  {
   "cell_type": "code",
   "execution_count": 2,
   "metadata": {},
   "outputs": [
    {
     "name": "stdout",
     "output_type": "stream",
     "text": [
      "Default parameters loaded from m2l_config.py:\n",
      "#ROI\n",
      "minlong=117 # should back calc from metre system\\n\",\n",
      "maxlong=118\n",
      "minlat=-23\n",
      "maxlat=-22\n",
      "\n",
      "step_out=0\n",
      "inset=0\n",
      "\n",
      "minx=500057\n",
      "maxx=603028\n",
      "miny=7455348\n",
      "maxy=7567953\n",
      "\n",
      "#CRS\n",
      "src_crs = {'init': 'EPSG:4326'}  \n",
      "dst_crs = {'init': 'EPSG:28350'} \n",
      "\n",
      "#PATH\n",
      "mname='hams3'\n",
      "geology_file='hams2_geol.shp'\n",
      "fault_file='GEOS_GEOLOGY_LINEARSTRUCTURE_500K_GSD.shp'\n",
      "structure_file='hams2_structure.shp'\n",
      "\n",
      "test_data_path='../test_data3/'\n",
      "\n",
      "\n",
      "#CODES\n",
      "gcode='GROUP_'\n",
      "dcode='DIP'\n",
      "ddcode='DIP_DIR'\n",
      "ccode='CODE'\n",
      "ncode='NAME'\n",
      "ocode='OBJECTID'\n",
      "gicode='GEOPNT_ID'\n",
      "r1code='ROCKTYPE1'\n",
      "r2code='ROCKTYPE2'\n",
      "tcode='TYPE'\n",
      "fcode='FEATURE'\n",
      "dscode='DESCRIPTN'\n",
      "ucode='UNITNAME'\n",
      "mincode='MIN_AGE_MA'\n",
      "maxcode='MAX_AGE_MA'\n",
      "sill_label='sill'\n",
      "intrusive_label='intrusive'\n",
      "fold_label='Fold axial trace'\n",
      "\n",
      "#MODEL_EXTENTS\n",
      "model_base=-8200\n",
      "\n",
      "\n",
      "#DECIMATION\n",
      "orientation_decimate=0\n",
      "contact_decimate=25\n",
      "fault_decimate=5\n",
      "fold_decimate=5\n",
      "\n",
      "\n",
      "#INTERPOLATION\n",
      "gridx=100\n",
      "gridy=100\n",
      "scheme='scipy_rbf'\n",
      "dist_buffer=5\n",
      "\n",
      "#ASSUMPTIONS\n",
      "\n",
      "pluton_dip=45\n",
      "\n",
      "pluton_form='saucers' #pluton_form='dontknow'  #saucers \\_____/  pancakes /_____\\   domes /â€¾â€¾â€¾â€¾â€¾\\  dontknow ???\n",
      "fault_dip=90\n",
      "\n",
      "#PATHS\n",
      "\n",
      "test_data_path='../test_data3/'\n",
      "graph_path=test_data_path+'graph/'\n",
      "tmp_path=test_data_path+'tmp/'\n",
      "data_path=test_data_path+'data/'\n",
      "dtm_path=test_data_path+'dtm/'\n",
      "output_path=test_data_path+'output/'\n",
      "vtk_path=test_data_path+'vtk/'\n",
      "m2m_cpp_path='../m2m_cpp/'\n",
      "\n",
      "fault_file=data_path+'GEOS_GEOLOGY_LINEARSTRUCTURE_500K_GSD.shp'\n",
      "structure_file=data_path+'hams2_structure.shp'\n",
      "geology_file=data_path+'hams2_geol.shp'\n",
      "\n",
      "fault_file_csv=fault_file.replace(\".shp\",\".csv\").replace(\"/data/\",\"/tmp/\")\n",
      "structure_file_csv=structure_file.replace(\".shp\",\".csv\").replace(\"/data/\",\"/tmp/\")\n",
      "geology_file_csv=geology_file.replace(\".shp\",\".csv\").replace(\"/data/\",\"/tmp/\")\n",
      "\n",
      "strat_graph_file=test_data_path+'graph/graph_strat.gml'\n",
      "\n",
      "dtm_file=dtm_path+mname+'_dtm.tif'\n",
      "dtm_reproj_file=dtm_path+mname+'_dtm_rp.tif'\n",
      "\n",
      "if(not os.path.isdir(tmp_path)):\n",
      "   os.mkdir(tmp_path)\n",
      "if(not os.path.isdir(output_path)):\n",
      "   os.mkdir(output_path)\n",
      "if(not os.path.isdir(dtm_path)):\n",
      "   os.mkdir(dtm_path)\n",
      "if(not os.path.isdir(dtm_path)):\n",
      "   os.mkdir(dtm_path)\n",
      "if(not os.path.isdir(vtk_path)):\n",
      "   os.mkdir(vtk_path)\n",
      "\n",
      "print('Default parameters loaded from m2l_config.py:')\n",
      "with open('../notebooks/m2l_config.py', 'r') as myfile:\n",
      "  data = myfile.read()\n",
      "  print(data)\n",
      "  myfile.close()\n",
      "print('\\nModify these parameters in the cell below')\n",
      "\n",
      "Modify these parameters in the cell below\n"
     ]
    }
   ],
   "source": [
    "%run -i \"../notebooks/m2l_config.py\"\n",
    "geology_file=tmp_path+'geol_clip.shp'\n",
    "combo_file=tmp_path+'combo.csv'\n",
    "bbox=(minx+inset,miny+inset,maxx-inset,maxy-inset)\n"
   ]
  },
  {
   "cell_type": "code",
   "execution_count": 3,
   "metadata": {},
   "outputs": [],
   "source": [
    "lc=np.loadtxt(tmp_path+'interpolation_contacts_l.csv',skiprows =1,delimiter =',',dtype=float)\n",
    "mc=np.loadtxt(tmp_path+'interpolation_contacts_m.csv',skiprows =1,delimiter =',',dtype=float)\n",
    "lo=np.loadtxt(tmp_path+'interpolation_l.csv',skiprows =1,delimiter =',',dtype=float)\n",
    "mo=np.loadtxt(tmp_path+'interpolation_m.csv',skiprows =1,delimiter =',',dtype=float)\n",
    "no=np.loadtxt(tmp_path+'interpolation_n.csv',skiprows =1,delimiter =',',dtype=float)\n",
    "xy=np.loadtxt(tmp_path+'interpolation_'+scheme+'.csv',skiprows =1,delimiter =',',dtype=float)"
   ]
  },
  {
   "cell_type": "code",
   "execution_count": 4,
   "metadata": {
    "scrolled": false
   },
   "outputs": [
    {
     "name": "stdout",
     "output_type": "stream",
     "text": [
      "{'init': 'EPSG:28350'} None\n"
     ]
    },
    {
     "name": "stderr",
     "output_type": "stream",
     "text": [
      "C:\\Users\\00073294\\AppData\\Local\\Continuum\\anaconda3\\lib\\site-packages\\geopandas\\tools\\sjoin.py:44: UserWarning: CRS of frames being joined does not match!\n",
      "  warn('CRS of frames being joined does not match!')\n"
     ]
    },
    {
     "name": "stdout",
     "output_type": "stream",
     "text": [
      "contacts and orientations interpolated as dip dip direction ../test_data3/tmp/combo_full.csv\n"
     ]
    }
   ],
   "source": [
    "m2l_interpolation.join_contacts_and_orientations(combo_file,geology_file,tmp_path,dtm_reproj_file,ccode,lo,mo,no,lc,mc,xy,dst_crs,bbox)\n"
   ]
  },
  {
   "cell_type": "code",
   "execution_count": null,
   "metadata": {},
   "outputs": [],
   "source": []
  },
  {
   "cell_type": "code",
   "execution_count": null,
   "metadata": {},
   "outputs": [],
   "source": []
  }
 ],
 "metadata": {
  "kernelspec": {
   "display_name": "Python 3",
   "language": "python",
   "name": "python3"
  },
  "language_info": {
   "codemirror_mode": {
    "name": "ipython",
    "version": 3
   },
   "file_extension": ".py",
   "mimetype": "text/x-python",
   "name": "python",
   "nbconvert_exporter": "python",
   "pygments_lexer": "ipython3",
   "version": "3.7.3"
  }
 },
 "nbformat": 4,
 "nbformat_minor": 2
}
