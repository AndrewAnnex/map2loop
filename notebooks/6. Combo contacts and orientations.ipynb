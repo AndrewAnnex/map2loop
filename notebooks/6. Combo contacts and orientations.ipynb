{
 "cells": [
  {
   "cell_type": "markdown",
   "metadata": {},
   "source": [
    "## Combines rbf of contact orientations with rbf of dip/dipdir measurements\n",
    "\n",
    "Uses normalised direction cosines **(l,m,n)**:  \n",
    "- **l,m** from RBF of basal contact orientations  \n",
    "- **signs of l & m** from misorientation with RBF of orientation data and  \n",
    "- **n** from RBF of orientation data  \n",
    "  \n",
    "May be useful for adding data where no orientations are available (e.g. in fault bounded domains) and for calculating true thickness of layers. Assumes a 2D plane of data, but if 3D RBF was calulated and projected contact info was used it should apply with topography too. \n",
    "  \n",
    "RBFs calculated in interpolate contacts from **shapefile_working.ipynb** and **interpolate contacts from shapefile.ipynb**  "
   ]
  },
  {
   "cell_type": "code",
   "execution_count": 1,
   "metadata": {},
   "outputs": [
    {
     "name": "stdout",
     "output_type": "stream",
     "text": [
      "C:\\Users\\00073294\\Dropbox\\1_Jupyter_notebooks\\map2loop\\map2loop\n"
     ]
    }
   ],
   "source": [
    "import os\n",
    "#print(os.getcwd())\n",
    "os.chdir('../map2loop')\n",
    "\n",
    "print(os.getcwd())\n",
    "\n",
    "import numpy as np\n",
    "from map2loop import m2l_interpolation\n"
   ]
  },
  {
   "cell_type": "code",
   "execution_count": 2,
   "metadata": {},
   "outputs": [],
   "source": [
    "minx=500057    #left hams\n",
    "maxx=603028    #right\n",
    "miny=7455348   #bottom\n",
    "maxy=7567953   #top\n",
    "inset=0\n",
    "\n",
    "bbox=(minx+inset,miny+inset,maxx-inset,maxy-inset)\n",
    "ccode='CODE'"
   ]
  },
  {
   "cell_type": "code",
   "execution_count": 3,
   "metadata": {},
   "outputs": [],
   "source": [
    "test_data_path='../test_data2/'\n",
    "\n",
    "tmp_path=test_data_path+'tmp/'\n",
    "data_path=test_data_path+'data/'\n",
    "dtm_path=test_data_path+'dtm/'\n",
    "output_path=test_data_path+'output/'\n",
    "scheme='scipy_rbf'\n",
    "\n",
    "geology_file=tmp_path+'geol_clip.shp'\n",
    "combo_file=tmp_path+'combo.csv'\n",
    "dtm_reproj_file=dtm_path+'hams2_dtm_rp.tif'\n",
    "\n",
    "dst_crs = {'init': 'epsg:28350'}\n",
    "ccode='CODE'"
   ]
  },
  {
   "cell_type": "code",
   "execution_count": 4,
   "metadata": {},
   "outputs": [],
   "source": [
    "lc=np.loadtxt(tmp_path+'interpolation_contacts_l.csv',skiprows =1,delimiter =',',dtype=float)\n",
    "mc=np.loadtxt(tmp_path+'interpolation_contacts_m.csv',skiprows =1,delimiter =',',dtype=float)\n",
    "lo=np.loadtxt(tmp_path+'interpolation_l.csv',skiprows =1,delimiter =',',dtype=float)\n",
    "mo=np.loadtxt(tmp_path+'interpolation_m.csv',skiprows =1,delimiter =',',dtype=float)\n",
    "no=np.loadtxt(tmp_path+'interpolation_n.csv',skiprows =1,delimiter =',',dtype=float)\n",
    "xy=np.loadtxt(tmp_path+'interpolation_'+scheme+'.csv',skiprows =1,delimiter =',',dtype=float)"
   ]
  },
  {
   "cell_type": "code",
   "execution_count": 5,
   "metadata": {
    "scrolled": false
   },
   "outputs": [
    {
     "name": "stdout",
     "output_type": "stream",
     "text": [
      "{'init': 'epsg:28350'} None\n"
     ]
    },
    {
     "name": "stderr",
     "output_type": "stream",
     "text": [
      "C:\\Users\\00073294\\AppData\\Local\\Continuum\\anaconda3\\lib\\site-packages\\geopandas\\tools\\sjoin.py:44: UserWarning: CRS of frames being joined does not match!\n",
      "  warn('CRS of frames being joined does not match!')\n"
     ]
    }
   ],
   "source": [
    "m2l_interpolation.join_contacts_and_orientations(combo_file,geology_file,tmp_path,dtm_reproj_file,ccode,lo,mo,no,lc,mc,xy,dst_crs,bbox)\n"
   ]
  },
  {
   "cell_type": "code",
   "execution_count": null,
   "metadata": {},
   "outputs": [],
   "source": []
  }
 ],
 "metadata": {
  "kernelspec": {
   "display_name": "Python 3",
   "language": "python",
   "name": "python3"
  },
  "language_info": {
   "codemirror_mode": {
    "name": "ipython",
    "version": 3
   },
   "file_extension": ".py",
   "mimetype": "text/x-python",
   "name": "python",
   "nbconvert_exporter": "python",
   "pygments_lexer": "ipython3",
   "version": "3.7.3"
  }
 },
 "nbformat": 4,
 "nbformat_minor": 2
}
