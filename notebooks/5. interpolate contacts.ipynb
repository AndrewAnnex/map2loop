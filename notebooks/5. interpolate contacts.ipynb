{
 "cells": [
  {
   "cell_type": "markdown",
   "metadata": {},
   "source": [
    "## Interpolates a regular grid from a shapefile of from contacts and saves out three csv files of l & m direction cosines and strike data\n",
    "\n",
    "Can choose between various RBF and IDW options  \n",
    "\n",
    "<font face color='red'>Best with basal contacts only from Notebook #1 as this avoids intrusive  and fault contacts being considered</font>"
   ]
  },
  {
   "cell_type": "code",
   "execution_count": 1,
   "metadata": {},
   "outputs": [
    {
     "name": "stdout",
     "output_type": "stream",
     "text": [
      "C:\\Users\\00073294\\Dropbox\\1_Jupyter_notebooks\\map2loop\\map2loop\n"
     ]
    }
   ],
   "source": [
    "import os\n",
    "#print(os.getcwd())\n",
    "os.chdir('../map2loop')\n",
    "\n",
    "print(os.getcwd())\n",
    "from map2loop import m2l_interpolation\n"
   ]
  },
  {
   "cell_type": "code",
   "execution_count": 2,
   "metadata": {},
   "outputs": [],
   "source": [
    "mname='hams2' #root name of model input data\n",
    "minx=500057    #left hams\n",
    "maxx=603028    #right\n",
    "miny=7455348   #bottom\n",
    "maxy=7567953   #top\n",
    "src_crs = 'epsg:4326'  #input data coord ref system (assumed to be geodetic lat/long WGS84)\n",
    "dst_crs = 'epsg:28350' #model ref system (assumed to be something with metre coordinates)\n",
    "gcode='GROUP_'\n",
    "dcode='DIP'\n",
    "ddcode='DIP_DIR'\n",
    "ccode='CODE'\n",
    "scheme='scipy_rbf'\n",
    "gridx=gridy=25\n",
    "inset=0\n",
    "\n",
    "\n",
    "test_data_path='../test_data2/'\n",
    "\n",
    "tmp_path=test_data_path+'tmp/'\n",
    "data_path=test_data_path+'data/'\n",
    "dtm_path=test_data_path+'dtm/'\n",
    "output_path=test_data_path+'output/'\n",
    "\n",
    "\n",
    "geology_file=tmp_path+'basal_contacts2.shp'\n",
    "fault_file=tmp_path+'faults_clip.shp'\n",
    "\n",
    "bbox=(minx+inset,miny+inset,maxx-inset,maxy-inset)"
   ]
  },
  {
   "cell_type": "code",
   "execution_count": null,
   "metadata": {
    "scrolled": true
   },
   "outputs": [
    {
     "name": "stdout",
     "output_type": "stream",
     "text": [
      "../test_data2/tmp/basal_contacts2.shp ../test_data2/tmp/ (500057, 7455348, 603028, 7567953) DIP DIP_DIR GROUP_ scipy_rbf 25 25\n",
      "166\n",
      "218 682.2053793587256 500.33412426616997\n",
      "219 682.2053793587256 500.33412426616997\n",
      "2098 1328.7966976318276 525.2522770864889\n",
      "i 9955 npts 9955\n"
     ]
    }
   ],
   "source": [
    "m2l_interpolation.interpolate_contacts(geology_file,tmp_path,bbox,dcode,ddcode,gcode,scheme,gridx,gridy)\n"
   ]
  },
  {
   "cell_type": "code",
   "execution_count": null,
   "metadata": {},
   "outputs": [],
   "source": []
  },
  {
   "cell_type": "code",
   "execution_count": null,
   "metadata": {},
   "outputs": [],
   "source": []
  }
 ],
 "metadata": {
  "kernelspec": {
   "display_name": "Python 3",
   "language": "python",
   "name": "python3"
  },
  "language_info": {
   "codemirror_mode": {
    "name": "ipython",
    "version": 3
   },
   "file_extension": ".py",
   "mimetype": "text/x-python",
   "name": "python",
   "nbconvert_exporter": "python",
   "pygments_lexer": "ipython3",
   "version": "3.7.3"
  }
 },
 "nbformat": 4,
 "nbformat_minor": 2
}
