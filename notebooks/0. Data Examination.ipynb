{
 "cells": [
  {
   "cell_type": "markdown",
   "metadata": {},
   "source": [
    "## 0. Pre-processing of inut data to allow correct selection of field names etc."
   ]
  },
  {
   "cell_type": "code",
   "execution_count": null,
   "metadata": {
    "ExecuteTime": {
     "end_time": "2020-03-25T07:00:26.240514Z",
     "start_time": "2020-03-25T07:00:22.808668Z"
    }
   },
   "outputs": [],
   "source": [
    "import os\n",
    "import pandas as pd\n",
    "import geopandas as gpd\n",
    "import matplotlib\n",
    "from shapely.geometry import Polygon\n",
    "%matplotlib inline\n",
    "\n",
    "pd.set_option(\"display.max_columns\", 101)"
   ]
  },
  {
   "cell_type": "code",
   "execution_count": null,
   "metadata": {
    "ExecuteTime": {
     "end_time": "2020-03-25T07:00:27.245874Z",
     "start_time": "2020-03-25T07:00:27.211961Z"
    }
   },
   "outputs": [],
   "source": [
    "test_data_name='test_data3'\n",
    "\n",
    "test_data_path='../'+test_data_name+'/'\n",
    "\n",
    "os.chdir(test_data_path)\n",
    "%run -i \"m2l_config.py\"\n"
   ]
  },
  {
   "cell_type": "code",
   "execution_count": null,
   "metadata": {
    "ExecuteTime": {
     "end_time": "2020-03-25T07:00:35.011129Z",
     "start_time": "2020-03-25T07:00:32.283927Z"
    }
   },
   "outputs": [],
   "source": [
    "bbox=(minx,miny,maxx,maxy)\n",
    "bbox2=str(minx)+\",\"+str(miny)+\",\"+str(maxx)+\",\"+str(maxy)\n",
    "lat_point_list = [miny, miny, maxy, maxy, maxy]\n",
    "lon_point_list = [minx, maxx, maxx, minx, minx]\n",
    "bbox_geom = Polygon(zip(lon_point_list, lat_point_list))\n",
    "polygon = gpd.GeoDataFrame(index=[0], crs=dst_crs, geometry=[bbox_geom]) \n",
    "\n",
    "geology = gpd.read_file(geology_file,bbox=bbox)\n",
    "lines=gpd.read_file(fault_file,bbox=bbox)\n",
    "structures = gpd.read_file(structure_file,bbox=bbox)\n",
    "\n",
    "base=geology.plot(column=c_l['c'],figsize=(10,10),edgecolor='#000000',linewidth=0.2)\n",
    "structures.plot(ax=base, color='none',edgecolor='black')\n",
    "lines.plot(ax=base,cmap='rainbow',column=c_l['f'],figsize=(10,10),linewidth=0.4)\n",
    "polygon.plot(ax=base, color='none',edgecolor='black')\n",
    "\n",
    "\n",
    "\n"
   ]
  },
  {
   "cell_type": "code",
   "execution_count": null,
   "metadata": {
    "ExecuteTime": {
     "end_time": "2020-03-25T07:00:35.423031Z",
     "start_time": "2020-03-25T07:00:35.017110Z"
    }
   },
   "outputs": [],
   "source": [
    "display(geology.head(10))"
   ]
  },
  {
   "cell_type": "code",
   "execution_count": null,
   "metadata": {
    "ExecuteTime": {
     "end_time": "2020-03-25T07:00:36.778019Z",
     "start_time": "2020-03-25T07:00:36.732146Z"
    }
   },
   "outputs": [],
   "source": [
    "display(lines.head(10))"
   ]
  },
  {
   "cell_type": "code",
   "execution_count": null,
   "metadata": {
    "ExecuteTime": {
     "end_time": "2020-03-25T07:00:38.047270Z",
     "start_time": "2020-03-25T07:00:38.005340Z"
    }
   },
   "outputs": [],
   "source": [
    "display(structures.head(10))"
   ]
  },
  {
   "cell_type": "code",
   "execution_count": null,
   "metadata": {
    "ExecuteTime": {
     "end_time": "2020-03-25T07:00:45.978970Z",
     "start_time": "2020-03-25T07:00:44.158823Z"
    }
   },
   "outputs": [],
   "source": [
    "import geopandas as gpd\n",
    "import os\n",
    "from shapely.geometry import LineString, Point\n",
    "from math import fabs\n",
    "from map2loop import m2l_utils\n",
    "import numpy as np\n",
    "from shapely import geometry, ops\n",
    "\n",
    "\n",
    "path_faults='../test_data3/tmp/faults_clip.shp'\n",
    "def merge_faults(path_faults,c_l):\n",
    "    eps=0.1\n",
    "    faults_clip=gpd.read_file(path_faults)\n",
    "    linelist=[]\n",
    "    pairlist=[]\n",
    "    fulllist=[]\n",
    "    for indx,aline in faults_clip.iterrows():\n",
    "        if(c_l['fault'] in aline[c_l['f']]):\n",
    "            flt_ls=LineString(aline.geometry)\n",
    "            linelist+=(flt_ls.coords[0][0],flt_ls.coords[0][1],flt_ls.coords[1][0],flt_ls.coords[1][1],flt_ls.coords[len(flt_ls.coords)-2][0],flt_ls.coords[len(flt_ls.coords)-2][1],flt_ls.coords[len(flt_ls.coords)-1][0],flt_ls.coords[len(flt_ls.coords)-1][1],aline[c_l['o']])    #display(linelist)\n",
    "            fulllist+=(aline[c_l['o']],flt_ls)\n",
    "            \n",
    "    step=2\n",
    "    fl2 = [fulllist[i:i+step] for i in range(0, len(fulllist), step)]\n",
    "\n",
    "    step=9\n",
    "    ll2 = [linelist[i:i+step] for i in range(0, len(linelist), step)]\n",
    "    \n",
    "    for a in range(0,len(faults_clip)):\n",
    "        for b in range(a,len(faults_clip)):\n",
    "            if(fabs(ll2[a][0]-ll2[b][0])<eps and fabs(ll2[a][1]-ll2[b][1])<eps and not ll2[a][8] == ll2[b][8]): \n",
    "                if(m2l_utils.tri_angle(ll2[a][0],ll2[a][1],ll2[a][2],ll2[a][3],ll2[b][2],ll2[b][3])>170):\n",
    "                    pairlist+=(ll2[a][8],ll2[b][8],0)\n",
    "\n",
    "            if(fabs(ll2[a][0]-ll2[b][6])<eps and fabs(ll2[a][1]-ll2[b][7])<eps and not ll2[a][8] == ll2[b][8]): \n",
    "                if(m2l_utils.tri_angle(ll2[a][0],ll2[a][1],ll2[a][2],ll2[a][3],ll2[b][4],ll2[b][5])>170):\n",
    "                    pairlist+=(ll2[a][8],ll2[b][8],1)\n",
    "            if(fabs(ll2[a][6]-ll2[b][6])<eps and fabs(ll2[a][7]-ll2[b][7])<eps and not ll2[a][8] == ll2[b][8]):\n",
    "                if(m2l_utils.tri_angle(ll2[a][6],ll2[a][7],ll2[a][4],ll2[a][5],ll2[b][4],ll2[b][5])>170):\n",
    "                    pairlist+=(ll2[a][8],ll2[b][8],0)\n",
    "    step=3        \n",
    "    pl2 = [pairlist[i:i+step] for i in range(0, len(pairlist), step)]\n",
    "      \n",
    "    display(fl2)\n",
    "    \n",
    "merge_faults(path_faults,c_l)    "
   ]
  },
  {
   "cell_type": "code",
   "execution_count": null,
   "metadata": {
    "ExecuteTime": {
     "end_time": "2020-03-25T07:00:50.697904Z",
     "start_time": "2020-03-25T07:00:49.555947Z"
    },
    "scrolled": true
   },
   "outputs": [],
   "source": [
    "    #for pts in range (0,len(fl2[0][1].coords)):\n",
    "    #    print(fl2[0][0],fl2[0][1].coords[pts])\n",
    "\n",
    "    step=9\n",
    "    ll2 = [linelist[i:i+step] for i in range(0, len(linelist), step)]\n",
    "    \n",
    "    for a in range(0,len(faults_clip)):\n",
    "        for b in range(0,len(faults_clip)):\n",
    "            if(fabs(ll2[a][0]-ll2[b][0])<eps and fabs(ll2[a][1]-ll2[b][1])<eps and not ll2[a][8] == ll2[b][8]): \n",
    "                if(m2l_utils.tri_angle(ll2[a][0],ll2[a][1],ll2[a][2],ll2[a][3],ll2[b][2],ll2[b][3])>170):\n",
    "                    pairlist+=(ll2[a][8],ll2[b][8],0)\n",
    "\n",
    "            if(fabs(ll2[a][0]-ll2[b][6])<eps and fabs(ll2[a][1]-ll2[b][7])<eps and not ll2[a][8] == ll2[b][8]): \n",
    "                if(m2l_utils.tri_angle(ll2[a][0],ll2[a][1],ll2[a][2],ll2[a][3],ll2[b][4],ll2[b][5])>170):\n",
    "                    pairlist+=(ll2[a][8],ll2[b][8],1)\n",
    "            if(fabs(ll2[a][6]-ll2[b][6])<eps and fabs(ll2[a][7]-ll2[b][7])<eps and not ll2[a][8] == ll2[b][8]):\n",
    "                if(m2l_utils.tri_angle(ll2[a][6],ll2[a][7],ll2[a][4],ll2[a][5],ll2[b][4],ll2[b][5])>170):\n",
    "                    pairlist+=(ll2[a][8],ll2[b][8],0)\n",
    "    step=3        \n",
    "    pl2 = [pairlist[i:i+step] for i in range(0, len(pairlist), step)]\n",
    "      \n",
    "    display(pl2)\n",
    "    marray=np.zeros((len(pl2)))\n",
    "    nmult=0\n",
    "    \n",
    "    for apair in range (0,len(pl2)-1):\n",
    "        for bpair in range (apair+1,len(pl2)):\n",
    "            if(pl2[bpair][0] == pl2[apair][0] or pl2[bpair][0] == pl2[apair][1]):\n",
    "                print('***',pl2[bpair][0])\n",
    "                marray[nmult]=pl2[bpair][0]\n",
    "                nmult=nmult+1\n",
    "            if(pl2[bpair][1] == pl2[apair][0] or pl2[bpair][1] == pl2[apair][1]):\n",
    "                print('***',bpair,pl2[bpair][1])\n",
    "                marray[nmult]=pl2[bpair][1]\n",
    "                nmult=nmult+1\n",
    "    display(nmult,marray)            \n",
    "    return(0)\n",
    "\n",
    "\n",
    "# combine them into a multi-linestring\n",
    "#multi_line = geometry.MultiLineString([line_a, line_b, line_c])\n",
    "#print(multi_line)  # prints MULTILINESTRING ((0 0, 1 1), (1 1, 2 2), (2 2, 3 3))\n",
    "\n",
    "# you can now merge the lines\n",
    "#merged_line = ops.linemerge(multi_line)\n",
    "#print(merged_line)  # prints LINESTRING (0 0, 1 1, 2 2, 3 3)\n",
    "\n",
    "    for pairs in range (0,len(pl2)):\n",
    "        print(pl2[pairs][0],pl2[pairs][1],pl2[pairs][2])\n",
    "        rowa=faults_clip.loc[faults_clip[c_l['o']] == pl2[pairs][0]]\n",
    "        rowb=faults_clip.loc[faults_clip[c_l['o']] == pl2[pairs][1]]\n",
    "        for pts in rowb.geometry:\n",
    "            flt_lsb=LineString(pts)\n",
    "            for pts in range (0,len(flt_lsb.coords)):\n",
    "                print(flt_lsb.coords[pts])\n",
    "        for pts in rowa.geometry:\n",
    "            flt_lsa=LineString(pts)\n",
    "            for pts in range (1,len(flt_lsa.coords)):\n",
    "                print(flt_lsa.coords[pts])\n",
    "\n",
    "\n",
    "\n",
    "merge_faults(path_faults,c_l)"
   ]
  },
  {
   "cell_type": "code",
   "execution_count": null,
   "metadata": {
    "ExecuteTime": {
     "end_time": "2020-02-16T09:57:30.727086Z",
     "start_time": "2020-02-16T09:57:30.719129Z"
    }
   },
   "outputs": [],
   "source": [
    "from shapely.geometry import LineString\n",
    "line = LineString([(0, 0), (0, 1), (1, 1), (1, 1)])\n",
    "line.area\n",
    "\n",
    "line.length"
   ]
  },
  {
   "cell_type": "code",
   "execution_count": null,
   "metadata": {},
   "outputs": [],
   "source": [
    "#merge faults\n",
    "\n",
    "#load faults \n",
    "#if not matching endpoints:\n",
    "    #copy faults to new clean geodataframe \n",
    "#else:\n",
    "    #copy faults to new dirty database and add column to geodataframe\n",
    "#loop unit no more dirty\n",
    "    #if ends match:\n",
    "        #append merged faults copy name if available and flag two sources as used\n",
    "#combine clean geodataframe and newly cleaned geodataframe       \n",
    "#save out new faults as shapefile \n",
    "\n",
    "\n",
    "#save array of pairs ids and processed flag\n",
    "\n",
    "#"
   ]
  }
 ],
 "metadata": {
  "hide_input": false,
  "kernelspec": {
   "display_name": "Python 3",
   "language": "python",
   "name": "python3"
  },
  "language_info": {
   "codemirror_mode": {
    "name": "ipython",
    "version": 3
   },
   "file_extension": ".py",
   "mimetype": "text/x-python",
   "name": "python",
   "nbconvert_exporter": "python",
   "pygments_lexer": "ipython3",
   "version": "3.7.3"
  },
  "toc": {
   "base_numbering": 1,
   "nav_menu": {},
   "number_sections": true,
   "sideBar": true,
   "skip_h1_title": false,
   "title_cell": "Table of Contents",
   "title_sidebar": "Contents",
   "toc_cell": true,
   "toc_position": {},
   "toc_section_display": true,
   "toc_window_display": false
  }
 },
 "nbformat": 4,
 "nbformat_minor": 2
}
