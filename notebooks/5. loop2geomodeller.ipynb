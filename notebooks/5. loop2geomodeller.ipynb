{
 "cells": [
  {
   "cell_type": "markdown",
   "metadata": {},
   "source": [
    "## 5. loop2geomodeller Convert map2loop files to geomodeller files"
   ]
  },
  {
   "cell_type": "markdown",
   "metadata": {},
   "source": [
    "### Define Minimum Fault Length"
   ]
  },
  {
   "cell_type": "code",
   "execution_count": 1,
   "metadata": {
    "ExecuteTime": {
     "end_time": "2019-10-31T05:37:03.528615Z",
     "start_time": "2019-10-31T05:37:00.555503Z"
    }
   },
   "outputs": [],
   "source": [
    "from map2loop import m2l_topology\n",
    "\n"
   ]
  },
  {
   "cell_type": "markdown",
   "metadata": {},
   "source": [
    "### Create Project Header"
   ]
  },
  {
   "cell_type": "code",
   "execution_count": 2,
   "metadata": {
    "ExecuteTime": {
     "end_time": "2019-10-31T05:37:03.571501Z",
     "start_time": "2019-10-31T05:37:03.531608Z"
    }
   },
   "outputs": [
    {
     "data": {
      "text/plain": [
       "2"
      ]
     },
     "execution_count": 2,
     "metadata": {},
     "output_type": "execute_result"
    }
   ],
   "source": [
    "f=open('../test_data3/m2l.taskfile','w')\n",
    "f.write('#---------------------------------------------------------------\\n')\n",
    "f.write('#-----------------------Project Header-----------------------\\n')\n",
    "f.write('#---------------------------------------------------------------\\n')\n",
    "f.write('name: \"UWA_Intrepid\"\\n')\n",
    "f.write('description: \"Automate_batch_Model\"\\n')\n",
    "f.write('    GeomodellerTask {\\n')\n",
    "f.write('    CreateProject {\\n')\n",
    "f.write('        name: \"Hamersley\"\\n')\n",
    "f.write('        author: \"Des/Mark\"\\n')\n",
    "f.write('        date: \"23/10/2019  0: 0: 0\"\\n')\n",
    "f.write('        projection { map_projection: \"GDA94 / MGA50\"}\\n')\n",
    "f.write('        version: \"2.0\"\\n')\n",
    "f.write('        units: meters\\n')\n",
    "f.write('        precision: 1.0\\n')\n",
    "f.write('        Extents {\\n')\n",
    "f.write('            xmin: 500000\\n')\n",
    "f.write('            ymin: 7455500\\n')\n",
    "f.write('            zmin: -3000\\n')\n",
    "f.write('            xmax: 603000\\n')\n",
    "f.write('            ymax: 7568000\\n')\n",
    "f.write('            zmax: 1000\\n')\n",
    "f.write('        }\\n')\n",
    "f.write('        deflection2d: 0.001\\n')\n",
    "f.write('        deflection3d: 0.001\\n')\n",
    "f.write('        discretisation: 10.0\\n')\n",
    "f.write('        referenceTop: false\\n')\n",
    "f.write('        CustomDTM {\\n')\n",
    "f.write('            Extents {\\n')\n",
    "f.write('                xmin: 500000\\n')\n",
    "f.write('                ymin: 7455500\\n')\n",
    "f.write('                xmax: 603000\\n')\n",
    "f.write('                ymax: 7568000\\n')\n",
    "f.write('            }\\n')\n",
    "f.write('            name: \"Topography\"\\n')\n",
    "f.write('            filename {\\n')\n",
    "f.write('                Grid_Name: \"./dtm/hammersley_sheet_dtm.ers\"\\n')\n",
    "f.write('            }\\n')\n",
    "f.write('            nx: 10\\n')\n",
    "f.write('            ny: 10\\n')\n",
    "f.write('        }\\n')\n",
    "f.write('    }\\n')\n",
    "f.write('}\\n')"
   ]
  },
  {
   "cell_type": "markdown",
   "metadata": {},
   "source": [
    "### Create Formations"
   ]
  },
  {
   "cell_type": "code",
   "execution_count": 3,
   "metadata": {
    "ExecuteTime": {
     "end_time": "2019-10-31T05:37:03.598431Z",
     "start_time": "2019-10-31T05:37:03.577486Z"
    }
   },
   "outputs": [],
   "source": [
    "#redo only using formations that belong to valid tmp/goups_clean.csv ???????????????\n",
    "\n",
    "\n",
    "import random\n",
    "import numpy as np\n",
    "import pandas as pd\n",
    "tmp_path='../test_data3/tmp/'\n",
    "\n",
    "all_sorts=np.genfromtxt(tmp_path+'all_sorts_clean.csv',delimiter=',',dtype='U25')\n",
    "nformations=len(all_sorts)\n",
    "\n",
    "f.write('#---------------------------------------------------------------\\n')\n",
    "f.write('#-----------------------Create Formations-----------------------\\n')\n",
    "f.write('#---------------------------------------------------------------\\n')\n",
    "\n",
    "for i in range (1,nformations):\n",
    "    f.write('GeomodellerTask {\\n')\n",
    "    f.write('CreateFormation {\\n')\n",
    "    \n",
    "    ostr='    name: \"'+all_sorts[i,4].replace(\"\\n\",\"\")+'\"\\n'\n",
    "    f.write(ostr)\n",
    "    \n",
    "    ostr='    red: '+str(random.randint(1,256)-1)+'\\n'\n",
    "    f.write(ostr)\n",
    "    \n",
    "    ostr='    green: '+str(random.randint(1,256)-1)+'\\n'\n",
    "    f.write(ostr)\n",
    "    \n",
    "    ostr='    blue: '+str(random.randint(1,256)-1)+'\\n'\n",
    "    f.write(ostr)\n",
    "\n",
    "    f.write('    }\\n')\n",
    "    f.write('}\\n')\n"
   ]
  },
  {
   "cell_type": "markdown",
   "metadata": {
    "ExecuteTime": {
     "end_time": "2019-10-24T11:03:00.652634Z",
     "start_time": "2019-10-24T11:03:00.646594Z"
    }
   },
   "source": [
    "### Create Groups/series and assign Formations"
   ]
  },
  {
   "cell_type": "code",
   "execution_count": 4,
   "metadata": {
    "ExecuteTime": {
     "end_time": "2019-10-31T05:37:03.623403Z",
     "start_time": "2019-10-31T05:37:03.602421Z"
    }
   },
   "outputs": [],
   "source": [
    "f.write('#---------------------------------------------------------------\\n')\n",
    "f.write('#-----------------------Set Stratigraphic Pile------------------\\n')\n",
    "f.write('#---------------------------------------------------------------\\n')\n",
    "\n",
    "\n",
    "#redo only using valid tmp/goups_clean.csv ???????????????\n",
    "\n",
    "\n",
    "for i in range (1,nformations):\n",
    "    if(all_sorts[i,2]==str(1)):\n",
    "        f.write('GeomodellerTask {\\n')\n",
    "        f.write('SetSeries {\\n')\n",
    "\n",
    "        ostr='    name: \"'+all_sorts[i][5].replace(\"\\n\",\"\")+'\"\\n'\n",
    "        f.write(ostr)\n",
    "\n",
    "        ostr='    position: 1\\n'\n",
    "        f.write(ostr)\n",
    "\n",
    "        ostr='    relation: \"erode\"\\n'\n",
    "        f.write(ostr)\n",
    "\n",
    "        f.write('    }\\n')\n",
    "        f.write('}\\n')\n",
    "\n",
    "        for j in range(1,nformations):\n",
    "            if(all_sorts[j,1]==all_sorts[i,1]):\n",
    "                f.write('GeomodellerTask {\\n')\n",
    "                f.write('AddFormationToSeries {\\n')\n",
    "\n",
    "                ostr='    series: \"'+all_sorts[j][5]+'\"\\n'\n",
    "                f.write(ostr)\n",
    "\n",
    "                ostr='    formation: \"'+all_sorts[j][4]+'\"\\n'\n",
    "                f.write(ostr)\n",
    "\n",
    "                f.write('    }\\n')\n",
    "                f.write('}\\n')\n",
    "            "
   ]
  },
  {
   "cell_type": "markdown",
   "metadata": {},
   "source": [
    "### Create Faults"
   ]
  },
  {
   "cell_type": "code",
   "execution_count": 5,
   "metadata": {
    "ExecuteTime": {
     "end_time": "2019-10-31T05:37:04.036281Z",
     "start_time": "2019-10-31T05:37:03.627355Z"
    }
   },
   "outputs": [
    {
     "name": "stdout",
     "output_type": "stream",
     "text": [
      "7 groups ['Wyloo_Group' 'Shingle_Creek_Group' 'Turee_Creek_Group' 'Hamersley_Group'\n",
      " 'Fortescue_Group' 'A_mgn_PMI' 'A_mgn_PRK'] Wyloo_Group\n"
     ]
    }
   ],
   "source": [
    "  \n",
    "m2l_topology.parse_fault_relationships('../test_data3/graph/','../test_data3/tmp/','../test_data3/output/')\n"
   ]
  },
  {
   "cell_type": "code",
   "execution_count": null,
   "metadata": {},
   "outputs": [],
   "source": []
  },
  {
   "cell_type": "code",
   "execution_count": 6,
   "metadata": {
    "ExecuteTime": {
     "end_time": "2019-10-31T05:37:04.065191Z",
     "start_time": "2019-10-31T05:37:04.040259Z"
    },
    "scrolled": false
   },
   "outputs": [
    {
     "name": "stdout",
     "output_type": "stream",
     "text": [
      "15 of 15 faults greater than 10000\n"
     ]
    }
   ],
   "source": [
    "#Need to decide where fault dimensions/offset threshold is enacted. \n",
    "#Probably better in main code as otherwise we have fault foliations and contacts left over\n",
    "\n",
    "output_path='../test_data3/output/'\n",
    "\n",
    "faults_len=pd.read_csv(output_path+'fault_dimensions.csv')\n",
    "\n",
    "n_allfaults=len(faults_len)\n",
    "\n",
    "fcount=0\n",
    "for i in range(0,n_allfaults):\n",
    "    f.write('GeomodellerTask {\\n')\n",
    "    f.write('CreateFault {\\n')\n",
    "    ostr='    name: \"'+faults_len.iloc[i][\"Fault\"]+'\"\\n'\n",
    "    f.write(ostr)\n",
    "\n",
    "    ostr='    red: '+str(random.randint(1,256)-1)+'\\n'\n",
    "    f.write(ostr)\n",
    "\n",
    "    ostr='    green: '+str(random.randint(1,256)-1)+'\\n'\n",
    "    f.write(ostr)\n",
    "\n",
    "    ostr='    blue: '+str(random.randint(1,256)-1)+'\\n'\n",
    "    f.write(ostr)\n",
    "\n",
    "    f.write('    }\\n')\n",
    "    f.write('}\\n')\n",
    "    fcount=fcount+1\n",
    "            \n",
    "print(fcount,'of',n_allfaults)"
   ]
  },
  {
   "cell_type": "markdown",
   "metadata": {},
   "source": [
    "### Create Orientations and contacts"
   ]
  },
  {
   "cell_type": "code",
   "execution_count": 7,
   "metadata": {
    "ExecuteTime": {
     "end_time": "2019-10-31T05:37:04.083146Z",
     "start_time": "2019-10-31T05:37:04.068186Z"
    }
   },
   "outputs": [
    {
     "data": {
      "text/plain": [
       "2"
      ]
     },
     "execution_count": 7,
     "metadata": {},
     "output_type": "execute_result"
    }
   ],
   "source": [
    "f.write('#---------------------------------------------------------------\\n')\n",
    "f.write('#-----------------------Import 3D data ---Base Model------------\\n')\n",
    "f.write('#---------------------------------------------------------------\\n')\n",
    "\n",
    "f.write('GeomodellerTask {\\n')\n",
    "f.write('    ReadAndImport3dData {\\n')\n",
    "f.write('        contact_csv_file: \"./output/contacts_clean.csv\"\\n')\n",
    "f.write('        foliation_csv_file: \"./output/orientations_clean.csv\"\\n')\n",
    "f.write('        operation: Import_default; # make the most intelligent decision in the context.. if a named formation, add to it etc.\\n')\n",
    "f.write('        contact_header_linestoSkip: 1;\\n')\n",
    "f.write('        foliation_header_linestoSkip: 1;\\n')\n",
    "f.write('        fault_limit_header_linestoSkip: 1;\\n')\n",
    "f.write('        spatial_location_error: 1;\\n')\n",
    "f.write('        vertical_location_error: 1;\\n')\n",
    "#f.write('        Treat_Tag_As_Text_Only: true;\\n')\n",
    "f.write('    }\\n')\n",
    "f.write('}\\n')\n"
   ]
  },
  {
   "cell_type": "markdown",
   "metadata": {},
   "source": [
    "### Create Fault Orientations and Contacts"
   ]
  },
  {
   "cell_type": "code",
   "execution_count": 8,
   "metadata": {
    "ExecuteTime": {
     "end_time": "2019-10-31T05:37:04.105087Z",
     "start_time": "2019-10-31T05:37:04.088132Z"
    }
   },
   "outputs": [
    {
     "data": {
      "text/plain": [
       "2"
      ]
     },
     "execution_count": 8,
     "metadata": {},
     "output_type": "execute_result"
    }
   ],
   "source": [
    "f.write('GeomodellerTask {\\n')\n",
    "f.write('    ReadAndImport3dData {\\n')\n",
    "f.write('        operation: CreateFault;\\n')\n",
    "f.write('        contact_csv_file: \"./output/faults.csv\"\\n')\n",
    "f.write('        foliation_csv_file: \"./output/faults_orientations.csv\"\\n')\n",
    "f.write('        limits_csv_file: \"./output/fault_dimensions.csv\"\\n')\n",
    "f.write('        contact_header_linestoSkip: 1;\\n')\n",
    "f.write('        foliation_header_linestoSkip: 1;\\n')\n",
    "f.write('        fault_limit_header_linestoSkip: 1;\\n')\n",
    "f.write('        spatial_location_error: 1;\\n')\n",
    "f.write('        vertical_location_error: 1;\\n')\n",
    "f.write('    }\\n')\n",
    "f.write('}\\n')\n"
   ]
  },
  {
   "cell_type": "markdown",
   "metadata": {},
   "source": [
    "### Create Fault/Fault Relationships"
   ]
  },
  {
   "cell_type": "code",
   "execution_count": 9,
   "metadata": {
    "ExecuteTime": {
     "end_time": "2019-10-31T05:37:04.131018Z",
     "start_time": "2019-10-31T05:37:04.109077Z"
    }
   },
   "outputs": [
    {
     "data": {
      "text/plain": [
       "16"
      ]
     },
     "metadata": {},
     "output_type": "display_data"
    },
    {
     "data": {
      "text/plain": [
       "2"
      ]
     },
     "execution_count": 9,
     "metadata": {},
     "output_type": "execute_result"
    }
   ],
   "source": [
    "all_fault_fault=np.genfromtxt(output_path+'fault-fault-relationships.csv',delimiter=',',dtype='U25')\n",
    "nfaults=len(all_fault_fault)\n",
    "display(nfaults)\n",
    "f.write('#---------------------------------------------------------------\\n')\n",
    "f.write('#-----------------------Link faults with faults ----------------\\n')\n",
    "f.write('#---------------------------------------------------------------\\n')\n",
    "f.write('GeomodellerTask {\\n')\n",
    "f.write('    LinkFaultsWithFaults {\\n')\n",
    "\n",
    "for i in range(1,nfaults):\n",
    "    for j in range(1,nfaults):\n",
    "        if(all_fault_fault[i,j]==str(1)):\n",
    "            ostr='        FaultStopsOnFaults{ fault: \"Fault_'+all_fault_fault[0,j]+'\"; stopson: \"Fault_'+all_fault_fault[i,0]+'\"}\\n'\n",
    "            f.write(ostr)\n",
    "\n",
    "f.write('    }\\n')\n",
    "f.write('}\\n')\n",
    "            \n",
    "    "
   ]
  },
  {
   "cell_type": "markdown",
   "metadata": {},
   "source": [
    "### Create Fault/Series Relationships"
   ]
  },
  {
   "cell_type": "code",
   "execution_count": 10,
   "metadata": {
    "ExecuteTime": {
     "end_time": "2019-10-31T05:37:04.161936Z",
     "start_time": "2019-10-31T05:37:04.135007Z"
    }
   },
   "outputs": [
    {
     "data": {
      "text/plain": [
       "2"
      ]
     },
     "execution_count": 10,
     "metadata": {},
     "output_type": "execute_result"
    }
   ],
   "source": [
    "all_fault_group=np.genfromtxt(output_path+'group-fault-relationships.csv',delimiter=',',dtype='U25')\n",
    "ngroups=len(all_fault_group)\n",
    "all_fault_group=np.transpose(all_fault_group)\n",
    "nfaults=len(all_fault_group)\n",
    "\n",
    "f.write('#---------------------------------------------------------------\\n')\n",
    "f.write('#-----------------------Link series with faults ----------------\\n')\n",
    "f.write('#---------------------------------------------------------------\\n')\n",
    "f.write('GeomodellerTask {\\n')\n",
    "f.write('    LinkFaultsWithSeries {\\n')\n",
    "\n",
    "for i in range(1,nfaults):\n",
    "    first=True\n",
    "    for j in range(1,ngroups):\n",
    "        if(all_fault_group[i,j]==str(1)):\n",
    "            if(first):\n",
    "                ostr='    FaultSeriesLinks{ fault: \"'+all_fault_group[i,0]+'\"; series: ['\n",
    "                f.write(ostr)\n",
    "                ostr='\"'+all_fault_group[0,j]+'\"'\n",
    "                f.write(ostr)\n",
    "                first=False\n",
    "            else:\n",
    "                ostr=', \"'+all_fault_group[0,j]+'\"'\n",
    "                f.write(ostr)\n",
    "    if(not first):\n",
    "        ostr=']}\\n'\n",
    "        f.write(ostr)\n",
    "\n",
    "f.write('    }\\n')\n",
    "f.write('}\\n')\n"
   ]
  },
  {
   "cell_type": "markdown",
   "metadata": {
    "ExecuteTime": {
     "end_time": "2019-10-24T12:35:47.248142Z",
     "start_time": "2019-10-24T12:35:47.235175Z"
    }
   },
   "source": [
    "### Finalise Model"
   ]
  },
  {
   "cell_type": "code",
   "execution_count": 11,
   "metadata": {
    "ExecuteTime": {
     "end_time": "2019-10-31T05:37:04.187869Z",
     "start_time": "2019-10-31T05:37:04.165926Z"
    }
   },
   "outputs": [
    {
     "data": {
      "text/plain": [
       "2"
      ]
     },
     "execution_count": 11,
     "metadata": {},
     "output_type": "execute_result"
    }
   ],
   "source": [
    "f.write('#---------------------------------------------------------------\\n')\n",
    "f.write('#----------------------------Compute Model----------------------\\n')\n",
    "f.write('#---------------------------------------------------------------\\n')\n",
    "f.write('\\n')\n",
    "f.write('GeomodellerTask {\\n')\n",
    "f.write('    ComputeModel {\\n')\n",
    "f.write('        SeriesList {\\n')\n",
    "f.write('            node: \"All\"\\n')\n",
    "f.write('        }\\n')\n",
    "f.write('        SectionList {\\n')\n",
    "f.write('            node: \"All\"\\n')\n",
    "f.write('        }\\n')\n",
    "f.write('        Extents {\\n')\n",
    "f.write('            xmin: 500000\\n')\n",
    "f.write('            ymin: 7455500\\n')\n",
    "f.write('            zmin: -3000\\n')\n",
    "f.write('            xmax: 603000\\n')\n",
    "f.write('            ymax: 7568000\\n')\n",
    "f.write('            zmax: 1000\\n')\n",
    "f.write('        }\\n')\n",
    "f.write('        radius: 10.0\\n')\n",
    "f.write('    }\\n')\n",
    "f.write('}\\n')\n",
    "f.write('#---------------------------------------------------------------\\n')\n",
    "f.write('#-----------------------Add geophysical Properties--------------\\n')\n",
    "f.write('#---------------------------------------------------------------\\n')\n",
    "f.write('\\n')\n",
    "f.write('\\n')\n",
    "f.write('\\n')\n",
    "f.write('#---------------------------------------------------------------\\n')\n",
    "f.write('#--------------------------Export Lithology Voxet---------------\\n')\n",
    "f.write('#---------------------------------------------------------------\\n')\n",
    "f.write('GeomodellerTask {\\n')\n",
    "f.write('    SaveLithologyVoxet {\\n')\n",
    "f.write('        nx: 100\\n')\n",
    "f.write('        ny: 100\\n')\n",
    "f.write('        nz: 400\\n')\n",
    "f.write('        LithologyVoxetFileStub: \"./Litho_Voxet/LithoVoxet.vo\"\\n')\n",
    "f.write('    }\\n')\n",
    "f.write('}\\n')\n",
    "f.write('#---------------------------------------------------------------\\n')\n",
    "f.write('#--------------------------Save As Model------------------------\\n')\n",
    "f.write('#---------------------------------------------------------------\\n')\n",
    "f.write('\\n')\n",
    "f.write('GeomodellerTask {\\n')\n",
    "f.write('    SaveProjectAs {\\n')\n",
    "f.write('        filename: \"./Models_Final/Models_UWA.xml\"\\n')\n",
    "f.write('    }\\n')\n",
    "f.write('}\\n')\n"
   ]
  },
  {
   "cell_type": "code",
   "execution_count": 12,
   "metadata": {
    "ExecuteTime": {
     "end_time": "2019-10-31T05:37:04.196842Z",
     "start_time": "2019-10-31T05:37:04.191856Z"
    }
   },
   "outputs": [],
   "source": [
    "f.close()"
   ]
  },
  {
   "cell_type": "code",
   "execution_count": null,
   "metadata": {},
   "outputs": [],
   "source": []
  }
 ],
 "metadata": {
  "hide_input": false,
  "kernelspec": {
   "display_name": "Python 3",
   "language": "python",
   "name": "python3"
  },
  "language_info": {
   "codemirror_mode": {
    "name": "ipython",
    "version": 3
   },
   "file_extension": ".py",
   "mimetype": "text/x-python",
   "name": "python",
   "nbconvert_exporter": "python",
   "pygments_lexer": "ipython3",
   "version": "3.7.3"
  }
 },
 "nbformat": 4,
 "nbformat_minor": 2
}
