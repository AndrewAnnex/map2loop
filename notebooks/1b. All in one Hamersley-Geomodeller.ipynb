{
 "cells": [
  {
   "cell_type": "markdown",
   "metadata": {},
   "source": [
    "## map2loop: From geology layers to outputs to various 3D modelling programs- Hamersley example (Geomodeller)\n",
    "\n",
    "This notebook reads in three layers from  local or remote sources:  geology polygons, orientation data and fault polylines; and calculates the topological relationships between the different features. Requires compiled cpp code from Vitaliy Ogarko\n",
    "\n",
    "This all gets fed into successive tolopogical and geometric transfroms that end up feeding into geomodeller to make a 3D model \n",
    "<img src='../graphics/map_sm.png'>"
   ]
  },
  {
   "cell_type": "code",
   "execution_count": 1,
   "metadata": {
    "ExecuteTime": {
     "end_time": "2020-03-02T05:06:43.089185Z",
     "start_time": "2020-03-02T05:06:24.093303Z"
    },
    "pycharm": {
     "is_executing": false
    },
    "scrolled": false
   },
   "outputs": [
    {
     "name": "stdout",
     "output_type": "stream",
     "text": [
      "Current Working Directory \n",
      "*** C:\\Program Files\\PostgreSQL\\11\\gdal-data\n",
      "is dir: True\n",
      "is file: True\n",
      "is readable: True\n",
      "C:\\\\Users\\\\00073294\\\\AppData\\\\Local\\\\Continuum\\\\anaconda3\\\\Lib\\\\site-packages\\\\pyproj\\\\proj_dir\\\\share\\\\proj\n",
      "C:\\Users\\00073294\\Dropbox\\1_Jupyter_notebooks\\map2loop\\notebooks\n"
     ]
    }
   ],
   "source": [
    "import geopandas as gpd\n",
    "import pandas as pd\n",
    "import numpy as np\n",
    "import os\n",
    "import sys\n",
    "import stat\n",
    "import functools \n",
    "import operator  \n",
    "import matplotlib\n",
    "import networkx as nx\n",
    "import rasterio\n",
    "from shapely.geometry import Polygon\n",
    "from map2loop import m2l_utils\n",
    "from map2loop import m2l_topology\n",
    "from map2loop import m2l_geometry\n",
    "from map2loop import m2l_interpolation\n",
    "from map2loop import m2l_export\n",
    "import time\n",
    "%matplotlib inline\n",
    "t0 = time.time()\n",
    "\n",
    "#newwd=\"C:\\\\Users\\\\00073294\\Dropbox\\\\loop_minex\\\\map2model\\\\\"\n",
    "#os.chdir(newwd)\n",
    "print(\"Current Working Directory \" )\n",
    "\n",
    "gdal_data = os.environ['GDAL_DATA']\n",
    "print(\"***\",gdal_data)\n",
    "print('is dir: ' + str(os.path.isdir(gdal_data)))\n",
    "gcs_csv = os.path.join(gdal_data, 'gcs.csv')\n",
    "print('is file: ' + str(os.path.isfile(gcs_csv)))\n",
    "st = os.stat(gcs_csv)\n",
    "print('is readable: ' + str(bool(st.st_mode & stat.S_IRGRP)))\n",
    "os.environ['PROJ_LIB']=r\"C:\\\\Users\\\\00073294\\\\AppData\\\\Local\\\\Continuum\\\\anaconda3\\\\Lib\\\\site-packages\\\\pyproj\\\\proj_dir\\\\share\\\\proj\"\n",
    "print(os.getenv('PROJ_LIB'))\n",
    "print(os.getcwd())"
   ]
  },
  {
   "cell_type": "markdown",
   "metadata": {},
   "source": [
    "## Create bounding box based on inputs"
   ]
  },
  {
   "cell_type": "code",
   "execution_count": 2,
   "metadata": {
    "ExecuteTime": {
     "end_time": "2020-03-02T05:06:43.133104Z",
     "start_time": "2020-03-02T05:06:43.093090Z"
    },
    "scrolled": true
   },
   "outputs": [
    {
     "name": "stdout",
     "output_type": "stream",
     "text": [
      "Default parameters loaded from ../test_data3/m2l_config.py:\n",
      "#ROI\n",
      "\n",
      "step_out=0.1   #padding arounf dtm to ensure reprojected dtm covers target area (in degrees)\n",
      "inset=0      #unused??\n",
      "\n",
      "minx=500057  #region of interest coordinates in metre-based system (or non-degree system)\n",
      "maxx=603028\n",
      "miny=7455348\n",
      "maxy=7567953\n",
      "model_top=1200\n",
      "model_base=-8200\n",
      "\n",
      "#PATHS\n",
      "\n",
      "local_paths=True       #flag to use local or WFS source for data inputs (True = local)\n",
      "\n",
      "test_data_path='../test_data3/'\n",
      "\n",
      "geology_file='hams2_geol.shp'   #input geology file (if local)\n",
      "fault_file='GEOS_GEOLOGY_LINEARSTRUCTURE_500K_GSD.shp' #input fault file (if local)\n",
      "structure_file='hams2_structure.shp' #input bedding orientation file (if local)\n",
      "mindep_file='mindeps_2018.shp' #input mineral deposit file (if local)\n",
      "\n",
      "#CRS\n",
      "\n",
      "src_crs = {'init': 'EPSG:4326'}  # coordinate reference system for imported dtms (geodetic lat/long WGS84)\n",
      "dst_crs = {'init': 'EPSG:28350'} # coordinate system for data\n",
      "\n",
      "#CODES AND LABELS \n",
      "# these refer to specific fields (codes) in GIS layer or database that contain the info needed for these calcs and text substrings (labels) in the contents of these fields\n",
      "c_l= {\n",
      "#Orientations\n",
      "  \"d\": \"DIP\",                  #field that contains dip information\n",
      "  \"dd\": \"DIP_DIR\",             #field that contains dip direction information\n",
      "  \"sf\": 'FEATURE',             #field that contains information on type of structure\n",
      "  \"bedding\": 'Bed',            #text to search for in field defined by sf code to show that this is a bedding measurement\n",
      "#Stratigraphy\n",
      "  \"g\": 'GROUP_',               #field that contains coarser stratigraphic coding\n",
      "  \"c\": 'CODE',                 #field that contains finer stratigraphic coding\n",
      "  \"ds\": 'DESCRIPTN',           #field that contains information about lithology\n",
      "  \"u\": 'UNITNAME',             #field that contains alternate stratigraphic coding (not used??)\n",
      "  \"r1\": 'ROCKTYPE1',           #field that contains  extra lithology information\n",
      "  \"r2\": 'ROCKTYPE2',           #field that contains even more lithology information\n",
      "  \"sill\": 'sill',              #text to search for in field defined by ds code to show that this is a sill\n",
      "  \"intrusive\": 'intrusive',    #text to search for in field defined by ds code to show that this is an intrusion\n",
      "  \"volcanic\": 'volcanic',      #text to search for in field defined by ds code to show that this is an intrusion\n",
      "#Mineral Deposits\n",
      "  \"msc\": 'SITE_CODE',          #field that contains site code of deposit\n",
      "  \"msn\": 'SHORT_NAME',         #field that contains short name of deposit\n",
      "  \"mst\": 'SITE_TYPE_',         #field that contains site type of deposit\n",
      "  \"mtc\": 'TARGET_COM',         #field that contains target commodity of deposit\n",
      "  \"mscm\": 'SITE_COMMO',        #field that contains site commodity of deposit\n",
      "  \"mcom\": 'COMMODITY_',        #field that contains commodity group of deposit\n",
      "  \"minf\": 'Infrastructure',    #text to search for in field defined by mst code that shows site to ignore\n",
      "#Timing\n",
      "  \"min\": 'MIN_AGE_MA',         #field that contains minimum age of unit defined by ccode\n",
      "  \"max\": 'MAX_AGE_MA',         #field that contains maximum age of unit defined by ccode\n",
      "#faults and folds\n",
      "  \"f\": 'FEATURE',              #field that contains information on type of structure\n",
      "  \"fault\": 'Fault',            #text to search for in field defined by f code to show that this is a fault\n",
      "  \"fold\": 'Fold axial trace',  #text to search for in field defined by f code to show that this is a fold axial trace\n",
      "  \"n\": 'NAME',                 #field that contains information on name of fault (not used??)\n",
      "  \"t\": 'TYPE',                 #field that contains information on type of fold\n",
      "  \"syn\": 'syncline',           #text to search for in field defined by t to show that this is a syncline\n",
      "#ids\n",
      "  \"o\": 'OBJECTID',             #field that contains unique id of geometry object\n",
      "  \"gi\": 'GEOPNT_ID'            #field that contains unique id of structure point\n",
      "}\n",
      "\n",
      "#DECIMATION\n",
      "\n",
      "orientation_decimate=0  #store every nth orientation (in object order) 0 = save all\n",
      "contact_decimate=10     #store every nth contact point (in object order) 0 = save all\n",
      "fault_decimate=5        #store every nth fault point (in object order) 0 = save all\n",
      "fold_decimate=5         #store every nth fold axial trace point (in object order) 0 = save all\n",
      "\n",
      "#INTERPOLATION\n",
      "\n",
      "gridx=50                #x grid dimensions (no of points, not distance) for interpolations\n",
      "gridy=50                #x grid dimensions (no of points, not distance) for interpolations\n",
      "scheme='scipy_rbf'      #interpolation scheme\n",
      "dist_buffer=5           #buffer distance for clipping points by faults (in metres or same units as dst_crs)\n",
      "intrusion_mode=0        # 1 all intrusions exluded from basal contacts, 0 only sills\n",
      "use_interpolations=False    # flag to use interpolated orientations or not.\n",
      "\n",
      "#ASSUMPTIONS\n",
      "\n",
      "pluton_dip=45           #surface dip of pluton contacts\n",
      "pluton_form='domes'     #saucers: \\__+_+__/  batholith: +/       \\+   domes: /  +  + \\  pendant: +\\_____/+\n",
      "fault_dip=90            #surface dip of faults\n",
      "\n",
      "#DERIVED AND FIXED PATHS\n",
      "\n",
      "m2m_cpp_path='../m2m_cpp/'\n",
      "\n",
      "graph_path=test_data_path+'graph/'\n",
      "tmp_path=test_data_path+'tmp/'\n",
      "data_path=test_data_path+'data/'\n",
      "dtm_path=test_data_path+'dtm/'\n",
      "output_path=test_data_path+'output/'\n",
      "vtk_path=test_data_path+'vtk/'\n",
      "\n",
      "fault_file=data_path+fault_file\n",
      "structure_file=data_path+structure_file\n",
      "geology_file=data_path+geology_file\n",
      "mindep_file=data_path+mindep_file\n",
      "\n",
      "fault_file_csv=fault_file.replace(\".shp\",\".csv\").replace(\"/data/\",\"/tmp/\")\n",
      "structure_file_csv=structure_file.replace(\".shp\",\".csv\").replace(\"/data/\",\"/tmp/\")\n",
      "geology_file_csv=geology_file.replace(\".shp\",\".csv\").replace(\"/data/\",\"/tmp/\")\n",
      "mindep_file_csv=mindep_file.replace(\".shp\",\".csv\").replace(\"/data/\",\"/tmp/\")\n",
      "\n",
      "strat_graph_file=test_data_path+'graph/graph_strat_NONE.gml'\n",
      "\n",
      "dtm_file=dtm_path+'dtm.tif'\n",
      "dtm_reproj_file=dtm_path+'dtm_rp.tif'\n",
      "\n",
      "if(not os.path.isdir(test_data_path)):\n",
      "   os.mkdir(test_data_path)\n",
      "if(not os.path.isdir(tmp_path)):\n",
      "   os.mkdir(tmp_path)\n",
      "if(not os.path.isdir(output_path)):\n",
      "   os.mkdir(output_path)\n",
      "if(not os.path.isdir(dtm_path)):\n",
      "   os.mkdir(dtm_path)\n",
      "if(not os.path.isdir(vtk_path)):\n",
      "   os.mkdir(vtk_path)\n",
      "if(not os.path.isdir(graph_path)):\n",
      "   os.mkdir(graph_path)\n",
      "\n",
      "print('Default parameters loaded from '+test_data_path+'m2l_config.py:')\n",
      "with open(test_data_path+'m2l_config.py', 'r') as myfile:\n",
      "  data = myfile.read()\n",
      "  print(data)\n",
      "  myfile.close()\n",
      "\n",
      "print('\\nModify these parameters in the cell below')\n",
      "\n",
      "Modify these parameters in the cell below\n",
      "C:\\Users\\00073294\\Dropbox\\1_Jupyter_notebooks\\map2loop\\test_data3\n"
     ]
    }
   ],
   "source": [
    "test_data_name='test_data3'\n",
    "\n",
    "test_data_path='../'+test_data_name+'/'\n",
    "\n",
    "os.chdir(test_data_path)\n",
    "%run -i \"m2l_config.py\"\n",
    "#%run -i \"m2l_config_remote.py\"\n",
    "print(os.getcwd())\n",
    "\n",
    "bbox2=str(minx)+\",\"+str(miny)+\",\"+str(maxx)+\",\"+str(maxy)\n",
    "lat_point_list = [miny, miny, maxy, maxy, maxy]\n",
    "lon_point_list = [minx, maxx, maxx, minx, minx]\n",
    "bbox_geom = Polygon(zip(lon_point_list, lat_point_list))\n",
    "polygon = gpd.GeoDataFrame(index=[0], crs=dst_crs, geometry=[bbox_geom]) \n",
    "bbox=(minx,miny,maxx,maxy)\n"
   ]
  },
  {
   "cell_type": "code",
   "execution_count": 3,
   "metadata": {
    "ExecuteTime": {
     "end_time": "2020-03-02T05:06:43.146770Z",
     "start_time": "2020-03-02T05:06:43.138960Z"
    }
   },
   "outputs": [],
   "source": [
    "\n",
    "fold_decimate=2         \n",
    "\n",
    "contact_decimate=5\n",
    "\n",
    "use_interpolations=True       #use interpolated dips/contacts as additional constraints\n",
    "\n",
    "use_fat=True                   #use fold axial trace orientation hints\n",
    "\n",
    "pluton_form='domes'\n",
    "\n",
    "fault_dip=90\n",
    "\n",
    "min_fault_length=5000\n",
    "\n",
    "compute_etc=False\n",
    "\n",
    "#local_paths=False"
   ]
  },
  {
   "cell_type": "markdown",
   "metadata": {},
   "source": [
    "## First we test to see if we have access to the online data we need\n"
   ]
  },
  {
   "cell_type": "code",
   "execution_count": 4,
   "metadata": {
    "ExecuteTime": {
     "end_time": "2020-03-02T05:06:44.034929Z",
     "start_time": "2020-03-02T05:06:43.152624Z"
    }
   },
   "outputs": [
    {
     "name": "stdout",
     "output_type": "stream",
     "text": [
      "available: geo.loop-gis.org\n",
      "available: pae-paha.pacioos.hawaii.edu\n"
     ]
    }
   ],
   "source": [
    "loopwfs=m2l_utils.have_access(\"geo.loop-gis.org\")\n",
    "hawaii=m2l_utils.have_access(\"pae-paha.pacioos.hawaii.edu\")\n",
    "\n",
    "if(not (loopwfs & hawaii)):\n",
    "    local_paths=True\n",
    "    net=False\n",
    "    print('using local paths')\n",
    "else:\n",
    "    net=True"
   ]
  },
  {
   "cell_type": "markdown",
   "metadata": {},
   "source": [
    "## Optional WFS source\n",
    "  \n",
    "WFS brings in field names as lower case, so need to redefine codes too"
   ]
  },
  {
   "cell_type": "code",
   "execution_count": 5,
   "metadata": {
    "ExecuteTime": {
     "end_time": "2020-03-02T05:06:44.055422Z",
     "start_time": "2020-03-02T05:06:44.039810Z"
    }
   },
   "outputs": [],
   "source": [
    "if((not local_paths) and net):\n",
    "    structure_file='http://geo.loop-gis.org/geoserver/loop/wfs?service=WFS&version=1.1.0&request=GetFeature&typeName=warox_points_f5011&bbox='+bbox2+'&srs=EPSG:28350'\n",
    "    fault_file='http://geo.loop-gis.org/geoserver/loop/wfs?service=WFS&version=1.1.0&request=GetFeature&typeName=linear_500k&bbox='+bbox2+'&srs=EPSG:28350'\n",
    "    geology_file='http://geo.loop-gis.org/geoserver/loop/wfs?service=WFS&version=1.0.0&request=GetFeature&typeName=loop:geol_500k&bbox='+bbox2+'&srs=EPSG:28350'\n",
    "\n",
    "    c_l= {\n",
    "    #Orientations\n",
    "      \"d\": \"dip\",                  #field that contains dip information\n",
    "      \"dd\": \"dip_dir\",             #field that contains dip direction information\n",
    "      \"sf\": 'feature',             #field that contains information on type of structure\n",
    "      \"bedding\": 'Bed',            #text to search for in field defined by sfcode to show that this is a bedding measurement\n",
    "    #Stratigraphy\n",
    "      \"g\": 'group_',               #field that contains coarser stratigraphic coding\n",
    "      \"c\": 'code',                 #field that contains finer stratigraphic coding\n",
    "      \"ds\": 'descriptn',           #field that contains information about lithology\n",
    "      \"u\": 'unitname',             #field that contains alternate stratigraphic coding (not used??)\n",
    "      \"r1\": 'rocktype1',           #field that contains  extra lithology information\n",
    "      \"r2\": 'rocktype2',           #field that contains even more lithology information\n",
    "      \"sill\": 'sill',              #text to search for in field defined by dscode to show that this is a sill\n",
    "      \"intrusive\": 'intrusive',    #text to search for in field defined by dscode to show that this is an intrusion\n",
    "      \"volcanic\": 'volcanic',      #text to search for in field defined by dscode to show that this is an intrusion\n",
    "    #Mineral Deposits\n",
    "      \"msc\": 'SITE_CODE',          #field that contains site code of deposit\n",
    "      \"msn\": 'SHORT_NAME',         #field that contains short name of deposit\n",
    "      \"mst\": 'SITE_TYPE_',         #field that contains site type of deposit\n",
    "      \"mtc\": 'TARGET_COM',         #field that contains target commodity of deposit\n",
    "      \"mscm\": 'SITE_COMMO',        #field that contains site commodity of deposit\n",
    "      \"mcom\": 'COMMODITY_',        #field that contains commodity group of deposit\n",
    "      \"minf\": 'Infrastructure',    #text to search for in field defined by mst code that shows site to ignore\n",
    "    #Timing\n",
    "      \"min\": 'min_age_ma',         #field that contains minimum age of unit defined by ccode\n",
    "      \"max\": 'max_age_ma',         #field that contains maximum age of unit defined by ccode\n",
    "    #faults and folds\n",
    "      \"f\": 'feature',              #field that contains information on type of structure\n",
    "      \"fault\": 'Fault',            #text to search for in field defined by fcode to show that this is a fault\n",
    "      \"fold\": 'Fold axial trace',  #text to search for in field defined by fcode to show that this is a fold axial trace\n",
    "      \"n\": 'name',                 #field that contains information on name of fault (not used??)\n",
    "      \"t\": 'type',                 #field that contains information on type of fold\n",
    "      \"syn\": 'syncline',           #text to search for in field defined by t to show that this is a syncline\n",
    "    #ids\n",
    "      \"o\": 'objectid',             #field that contains unique id of geometry object\n",
    "      \"gi\": 'geopnt_id'            #field that contains unique id of structure point\n",
    "    }"
   ]
  },
  {
   "cell_type": "markdown",
   "metadata": {},
   "source": [
    "## Plot geology polygons and bounding box"
   ]
  },
  {
   "cell_type": "code",
   "execution_count": 6,
   "metadata": {
    "ExecuteTime": {
     "end_time": "2020-03-02T05:06:45.675582Z",
     "start_time": "2020-03-02T05:06:44.059327Z"
    }
   },
   "outputs": [
    {
     "name": "stdout",
     "output_type": "stream",
     "text": [
      "../test_data3/data/hams2_geol.shp\n"
     ]
    },
    {
     "data": {
      "text/plain": [
       "<matplotlib.axes._subplots.AxesSubplot at 0x241f4adf588>"
      ]
     },
     "execution_count": 6,
     "metadata": {},
     "output_type": "execute_result"
    },
    {
     "data": {
      "image/png": "[encoded data removed]",
      "text/plain": [
       "<Figure size 720x720 with 1 Axes>"
      ]
     },
     "metadata": {
      "needs_background": "light"
     },
     "output_type": "display_data"
    }
   ],
   "source": [
    "print(geology_file)\n",
    "geology_ll = gpd.read_file(geology_file,bbox=bbox)\n",
    "\n",
    "base=geology_ll.plot(column=c_l['c'],figsize=(10,10),edgecolor='#000000',linewidth=0.2)\n",
    "polygon.plot(ax=base, color='none',edgecolor='black')\n"
   ]
  },
  {
   "cell_type": "markdown",
   "metadata": {},
   "source": [
    "## Save geology to file as WKT"
   ]
  },
  {
   "cell_type": "code",
   "execution_count": 7,
   "metadata": {
    "ExecuteTime": {
     "end_time": "2020-03-02T05:06:47.013683Z",
     "start_time": "2020-03-02T05:06:45.679489Z"
    }
   },
   "outputs": [
    {
     "name": "stdout",
     "output_type": "stream",
     "text": [
      "186  polygons\n"
     ]
    }
   ],
   "source": [
    "sub_geol = geology_ll[['geometry', c_l['o'],c_l['c'],c_l['g'],c_l['u'],c_l['min'],c_l['max'],c_l['ds'],c_l['r1'],c_l['r2']]]\n",
    "m2l_topology.save_geol_wkt(sub_geol,geology_file_csv, c_l)"
   ]
  },
  {
   "cell_type": "markdown",
   "metadata": {},
   "source": [
    "## Save mineral deposits to file as WKT\n",
    "This is not needed by map2loop to build 3D models, but is used by map2model to calculate mineral deposit/topology analyses."
   ]
  },
  {
   "cell_type": "code",
   "execution_count": 8,
   "metadata": {
    "ExecuteTime": {
     "end_time": "2020-03-02T05:06:48.681661Z",
     "start_time": "2020-03-02T05:06:47.020511Z"
    }
   },
   "outputs": [
    {
     "name": "stdout",
     "output_type": "stream",
     "text": [
      "410  points\n"
     ]
    },
    {
     "data": {
      "text/plain": [
       "<matplotlib.axes._subplots.AxesSubplot at 0x241f4acbcf8>"
      ]
     },
     "execution_count": 8,
     "metadata": {},
     "output_type": "execute_result"
    },
    {
     "data": {
      "image/png": "[encoded data removed]",
      "text/plain": [
       "<Figure size 432x288 with 1 Axes>"
      ]
     },
     "metadata": {
      "needs_background": "light"
     },
     "output_type": "display_data"
    }
   ],
   "source": [
    "mindep = gpd.read_file(mindep_file,bbox=bbox)\n",
    "\n",
    "sub_mindep = mindep[['geometry', c_l['msc'],c_l['msn'],c_l['mst'],c_l['mtc'],c_l['mscm'],c_l['mcom']]]\n",
    "m2l_topology.save_mindep_wkt(sub_mindep,mindep_file_csv, c_l)\n",
    "\n",
    "base=sub_mindep.plot()\n",
    "polygon.plot(ax=base, color='none',edgecolor='black')\n"
   ]
  },
  {
   "cell_type": "markdown",
   "metadata": {},
   "source": [
    "## Read and save WAROX point data as WKT"
   ]
  },
  {
   "cell_type": "code",
   "execution_count": 9,
   "metadata": {
    "ExecuteTime": {
     "end_time": "2020-03-02T05:06:49.454657Z",
     "start_time": "2020-03-02T05:06:48.686544Z"
    }
   },
   "outputs": [
    {
     "name": "stdout",
     "output_type": "stream",
     "text": [
      "121  points\n"
     ]
    },
    {
     "data": {
      "text/plain": [
       "<matplotlib.axes._subplots.AxesSubplot at 0x241f6d847b8>"
      ]
     },
     "execution_count": 9,
     "metadata": {},
     "output_type": "execute_result"
    },
    {
     "data": {
      "image/png": "[encoded data removed]",
      "text/plain": [
       "<Figure size 432x288 with 1 Axes>"
      ]
     },
     "metadata": {
      "needs_background": "light"
     },
     "output_type": "display_data"
    }
   ],
   "source": [
    "warox = gpd.read_file(structure_file,bbox=bbox)\n",
    "\n",
    "sub_pts = warox[['geometry', c_l['gi'],c_l['d'],c_l['dd']]]\n",
    "\n",
    "m2l_topology.save_structure_wkt(sub_pts,structure_file_csv,c_l)\n",
    "\n",
    "base=sub_pts.plot()\n",
    "polygon.plot(ax=base, color='none',edgecolor='black')\n"
   ]
  },
  {
   "cell_type": "markdown",
   "metadata": {},
   "source": [
    "## Plot faults and bounding box"
   ]
  },
  {
   "cell_type": "code",
   "execution_count": 10,
   "metadata": {
    "ExecuteTime": {
     "end_time": "2020-03-02T05:06:50.180797Z",
     "start_time": "2020-03-02T05:06:49.458560Z"
    }
   },
   "outputs": [
    {
     "data": {
      "text/plain": [
       "<matplotlib.axes._subplots.AxesSubplot at 0x241f6d991d0>"
      ]
     },
     "execution_count": 10,
     "metadata": {},
     "output_type": "execute_result"
    },
    {
     "data": {
      "image/png": "[encoded data removed]",
      "text/plain": [
       "<Figure size 720x720 with 1 Axes>"
      ]
     },
     "metadata": {
      "needs_background": "light"
     },
     "output_type": "display_data"
    }
   ],
   "source": [
    "lines_ll=gpd.read_file(fault_file,bbox=bbox)\n",
    "\n",
    "base2=lines_ll.plot(cmap='rainbow',column=c_l['f'],figsize=(10,10),linewidth=0.4)\n",
    "polygon.plot(ax=base2, color='none',edgecolor='black')\n"
   ]
  },
  {
   "cell_type": "markdown",
   "metadata": {},
   "source": [
    "## Save faults to file as WKT"
   ]
  },
  {
   "cell_type": "code",
   "execution_count": 11,
   "metadata": {
    "ExecuteTime": {
     "end_time": "2020-03-02T05:06:50.425781Z",
     "start_time": "2020-03-02T05:06:50.184701Z"
    }
   },
   "outputs": [
    {
     "name": "stdout",
     "output_type": "stream",
     "text": [
      "134  polylines\n"
     ]
    }
   ],
   "source": [
    "sub_lines = lines_ll[['geometry', c_l['o'],c_l['f']]]\n",
    "m2l_topology.save_faults_wkt(sub_lines,fault_file_csv,c_l)"
   ]
  },
  {
   "cell_type": "markdown",
   "metadata": {},
   "source": [
    "## Create map2model input file"
   ]
  },
  {
   "cell_type": "code",
   "execution_count": 12,
   "metadata": {
    "ExecuteTime": {
     "end_time": "2020-03-02T05:06:50.444317Z",
     "start_time": "2020-03-02T05:06:50.430654Z"
    }
   },
   "outputs": [],
   "source": [
    "m2l_topology.save_Parfile(m2m_cpp_path,c_l,graph_path,geology_file_csv,fault_file_csv,structure_file_csv,minx,maxx,miny,maxy,500.0,'Fe,Cu,Au,NONE')\n"
   ]
  },
  {
   "cell_type": "markdown",
   "metadata": {},
   "source": [
    "## Calculate topology"
   ]
  },
  {
   "cell_type": "code",
   "execution_count": 18,
   "metadata": {
    "ExecuteTime": {
     "end_time": "2020-03-02T05:09:50.467472Z",
     "start_time": "2020-03-02T05:09:45.829522Z"
    },
    "scrolled": true
   },
   "outputs": [
    {
     "name": "stdout",
     "output_type": "stream",
     "text": [
      "Windows\n",
      "C:\\Users\\00073294\\Dropbox\\1_Jupyter_notebooks\\map2loop\\m2m_cpp\n"
     ]
    }
   ],
   "source": [
    "import subprocess\n",
    "import platform\n",
    "os.chdir(m2m_cpp_path)\n",
    "print(os.getcwd())\n",
    "\n",
    "if(platform.system()=='Windows'):\n",
    "    subprocess.run([\"map2model.exe\", \"Parfile\"], capture_output=True)\n",
    "else:\n",
    "    subprocess.run([\"./map2model\", \"Parfile\"], capture_output=True)\n"
   ]
  },
  {
   "cell_type": "markdown",
   "metadata": {},
   "source": [
    "## Simple network graph of the geology with legend"
   ]
  },
  {
   "cell_type": "code",
   "execution_count": null,
   "metadata": {
    "ExecuteTime": {
     "end_time": "2020-02-17T05:56:40.559606Z",
     "start_time": "2020-02-17T05:56:39.011744Z"
    },
    "scrolled": false
   },
   "outputs": [],
   "source": [
    "G=nx.read_gml(strat_graph_file,label='id')\n",
    "selected_nodes = [n for n,v in G.nodes(data=True) if n >=0]\n",
    "nx.draw_networkx(G, pos=nx.kamada_kawai_layout(G), arrows=True, nodelist=selected_nodes)\n",
    "\n",
    "nlist=list(G.nodes.data('LabelGraphics'))\n",
    "nlist.sort()\n",
    "for no in nlist:\n",
    "    if(no[0]>=0):\n",
    "        elem=str(no[1]).replace(\"{'text':\",\"\").replace(\", 'fontSize': 14}\",\"\")\n",
    "        #second=elem.split(\":\").replace(\"'\",\"\")\n",
    "        print(no[0],\" \",elem)"
   ]
  },
  {
   "cell_type": "markdown",
   "metadata": {},
   "source": [
    "## Detailed Topology via dot or gml format files\n",
    "For a more detailed look we can open up the online version of <b>yEd</b> <a href=\"https://www.yworks.com/yed-live/\" >https://www.yworks.com/yed-live/</a>  and load in the *.dot file that we will now create or dowload the <a href=\"https://www.yworks.com/products/yed/download\">yEd program</a> and look at the *.gml files in the <b>output</b> directory"
   ]
  },
  {
   "cell_type": "markdown",
   "metadata": {},
   "source": [
    "from networkx.drawing.nx_pydot import write_dot\n",
    "\n",
    "import filer,gfiler\n",
    "\n",
    "filepath=filer.gui_fname().decode('UTF-8')\n",
    "write_dot(G,filepath)"
   ]
  },
  {
   "cell_type": "markdown",
   "metadata": {},
   "source": [
    "http://localhost:8888/notebooks/Dropbox/1_Jupyter_notebooks/map2loop/notebooks/2.%20map2loop_after_topology.ipynb"
   ]
  },
  {
   "cell_type": "markdown",
   "metadata": {
    "scrolled": false
   },
   "source": [
    "## Process topography, stratigraphy, fold axial traces and faults\n",
    "\n",
    "### Takes GML file produced by topology code, combines with geology polygons, structure points and dtm to create 3D model in gempy.<br><br>\n",
    "\n",
    "Limitations:  no dykes, no sills. Sills require us to assign a unique surface to each instance of a sill (sill between units A and B needs to be different from sill of same age and strat codes as one found between E and F). Dykes via cokriging are really hard without just cookie cutting them in (but that is not our problem!). We are not checking for onlap relationships, which can perhaps been seen by having lots of units from one series adjacent to the youngest surface of the older series. Could also think about interpreting these as faults to introduce conceptual uncertainty. All mistakes belong to Mark Jessell, topology code that feeds this system by Vitaliy Ogarko.<br><br>\n",
    "\n",
    "Geology layer needs to have some unique strat code or text, some group code or text to function<br>\n",
    "Structure layer needs dip/dip direction<br>\n",
    "\n",
    "<font color='red'>Currently mostly hardwired to GSWA 500K map so needs work...</font>\n"
   ]
  },
  {
   "cell_type": "code",
   "execution_count": null,
   "metadata": {
    "ExecuteTime": {
     "end_time": "2020-02-16T10:07:10.403955Z",
     "start_time": "2020-02-16T10:07:10.395967Z"
    }
   },
   "outputs": [],
   "source": [
    "os.chdir('../map2loop')\n",
    "\n",
    "print(os.getcwd())"
   ]
  },
  {
   "cell_type": "code",
   "execution_count": null,
   "metadata": {
    "ExecuteTime": {
     "end_time": "2020-02-16T10:07:10.419935Z",
     "start_time": "2020-02-16T10:07:10.407950Z"
    }
   },
   "outputs": [],
   "source": [
    "#from IPython.core.display import display, HTML\n",
    "#display(HTML(\"<style>.container { width:80% !important; }</style>\"))\n",
    "\n",
    "sys.path.insert(0,\"../..\")\n",
    "print(os.getcwd())\n",
    "\n",
    "\n",
    "#print(os.getcwd())\n",
    "#os.environ[\"PROJ_LIB\"] = r\"C:\\Users\\00073294\\AppData\\Local\\Continuum\\anaconda3\\Lib\\site-packages\\pyproj\\proj_dir\\share\\proj\"\n"
   ]
  },
  {
   "cell_type": "markdown",
   "metadata": {},
   "source": [
    "## Next we define an area of interest and some other basic stuff"
   ]
  },
  {
   "cell_type": "code",
   "execution_count": null,
   "metadata": {
    "ExecuteTime": {
     "end_time": "2020-02-16T10:07:10.443902Z",
     "start_time": "2020-02-16T10:07:10.423929Z"
    },
    "scrolled": false
   },
   "outputs": [],
   "source": [
    "print(os.getcwd())\n",
    "#test_data_path='../test_data3/'\n",
    "\n",
    "\n",
    "#%run -i \"../test_data3/m2l_config.py\"\n",
    "\n",
    "bbox2=str(minx)+\",\"+str(miny)+\",\"+str(maxx)+\",\"+str(maxy)\n",
    "lat_point_list = [miny, miny, maxy, maxy, maxy]\n",
    "lon_point_list = [minx, maxx, maxx, minx, minx]\n",
    "bbox_geom = Polygon(zip(lon_point_list, lat_point_list))\n",
    "polygon = gpd.GeoDataFrame(index=[0], crs=dst_crs, geometry=[bbox_geom]) \n",
    "bbox=(minx,miny,maxx,maxy)\n",
    "\n",
    "step_out=0.045 #add (in degrees) so edge pixel from dtm reprojection are not found\n",
    "\n",
    "\n",
    "#contact_decimate=5"
   ]
  },
  {
   "cell_type": "markdown",
   "metadata": {
    "scrolled": false
   },
   "source": [
    "## Download and reproject the appropriate SRTM data\n",
    "mj: Getting this from GA, but could also get from Hawaii"
   ]
  },
  {
   "cell_type": "code",
   "execution_count": null,
   "metadata": {
    "ExecuteTime": {
     "end_time": "2020-02-16T10:07:10.895300Z",
     "start_time": "2020-02-16T10:07:10.447897Z"
    }
   },
   "outputs": [],
   "source": [
    "polygon_ll=polygon.to_crs(src_crs)\n",
    "\n",
    "minlong=polygon_ll.total_bounds[0]-step_out\n",
    "maxlong=polygon_ll.total_bounds[2]+step_out\n",
    "minlat=polygon_ll.total_bounds[1]-step_out\n",
    "maxlat=polygon_ll.total_bounds[3]+step_out\n",
    "\n",
    "print(minlong,maxlong,minlat,maxlat)\n",
    "if((not local_paths) and net):     \n",
    "    m2l_utils.get_dtm(dtm_file, minlong,maxlong,minlat,maxlat)\n",
    "    geom_rp=m2l_utils.reproject_dtm(dtm_file,dtm_reproj_file,src_crs,dst_crs)\n",
    "\n"
   ]
  },
  {
   "cell_type": "markdown",
   "metadata": {
    "scrolled": false
   },
   "source": [
    "## Load stratigraphy graph and create list of series (aka groups)\n",
    "mj: The choice of what constitutes basic unit and what a group of units is hard-wired at the moment, but could be altered to any pair. Not even sure we need two levels but it seemed like a good idea at the time. Note that this needs the arcgis plugin version of the topology code (for now) as it seperates the different sub graphs. Text outputs list alternate topologies for series and surfaces, which if confirmed by comapring max-min ages will be a nice source of uncertainty."
   ]
  },
  {
   "cell_type": "code",
   "execution_count": null,
   "metadata": {
    "ExecuteTime": {
     "end_time": "2020-02-16T10:07:16.730783Z",
     "start_time": "2020-02-16T10:07:10.899296Z"
    },
    "scrolled": true
   },
   "outputs": [],
   "source": [
    "groups,glabels,G = m2l_topology.get_series(strat_graph_file,'id')\n",
    "m2l_topology.save_units(G,tmp_path,glabels)"
   ]
  },
  {
   "cell_type": "markdown",
   "metadata": {
    "scrolled": false
   },
   "source": [
    "## Load geology & structure data\n",
    "Currently loading from local files, but could load geology from WFS server at GSWA EXCEPT that the WFS online map has less fields that the zipped shapefiles. Go figure. We don't use fault layer at the moment (except for Vitaliy's topology code) but same logic applies in terms of where to get it from. Already have fault/strat relationships and once we have fault/fault relationships will start to include faults in models."
   ]
  },
  {
   "cell_type": "code",
   "execution_count": null,
   "metadata": {
    "ExecuteTime": {
     "end_time": "2020-02-16T10:07:18.514855Z",
     "start_time": "2020-02-16T10:07:16.736031Z"
    }
   },
   "outputs": [],
   "source": [
    "# Extract point data from structure & geology layers for modelling\n",
    "##First we readin the structure and map from shapefiles, or wherever...\n",
    "\n",
    "bbox=(minx,miny,maxx,maxy)\n",
    "geology = gpd.read_file(geology_file,bbox=bbox)\n",
    "\n",
    "\n",
    "structure = gpd.read_file(structure_file,bbox=bbox)\n",
    "structure.crs=dst_crs\n",
    "print(fault_file)\n",
    "faults = gpd.read_file(fault_file,bbox=bbox)\n",
    "faults.crs=dst_crs\n",
    "#display(faults)\n",
    "sub_pts = structure[['geometry',c_l['d'],c_l['dd'],c_l['sf']]] \n",
    "\n",
    "base=geology.plot(column=c_l['c'],figsize=(10,10),edgecolor='#000000',linewidth=0.2)\n",
    "sub_pts.plot(ax=base,edgecolor='black')\n",
    "faults.plot(ax=base, column=c_l['f'],edgecolor='black')"
   ]
  },
  {
   "cell_type": "markdown",
   "metadata": {
    "scrolled": false
   },
   "source": [
    "## Clip geology, faults, structures and map geology to structures"
   ]
  },
  {
   "cell_type": "code",
   "execution_count": null,
   "metadata": {
    "ExecuteTime": {
     "end_time": "2020-02-16T10:07:26.946071Z",
     "start_time": "2020-02-16T10:07:18.519415Z"
    }
   },
   "outputs": [],
   "source": [
    "geology = m2l_utils.explode(geology)\n",
    "geology.crs = dst_crs\n",
    "pd.set_option('display.max_columns', None)\n",
    "pd.set_option('display.max_rows',None)\n",
    "structure_code = gpd.sjoin(sub_pts, geology, how=\"left\", op=\"within\")\n",
    "\n",
    "y_point_list = [miny, miny, maxy, maxy, miny]\n",
    "x_point_list = [minx, maxx, maxx, minx, minx]\n",
    "\n",
    "bbox_geom = Polygon(zip(x_point_list, y_point_list))\n",
    "\n",
    "polygo = gpd.GeoDataFrame(index=[0], crs=dst_crs, geometry=[bbox_geom]) \n",
    "#display(polygo.geometry)\n",
    "is_bed=structure_code[c_l['sf']].str.contains(c_l['bedding'], regex=False) \n",
    "    \n",
    "all_beds = structure_code[is_bed]\n",
    "#display(sfcode)\n",
    "all_folds=faults[faults[c_l['f']].str.contains(c_l['fold'])]\n",
    "folds_clip=m2l_utils.clip_shp(all_folds,polygo)\n",
    "folds_clip.to_file(tmp_path+'folds_clip.shp')\n",
    "\n",
    "\n",
    "all_faults=faults[faults[c_l['f']].str.contains(c_l['fault'])]\n",
    "\n",
    "\n",
    "\n",
    "#display(structure_code)\n",
    "geol_clip=m2l_utils.clip_shp(geology, polygo)\n",
    "faults_clip=m2l_utils.clip_shp(all_faults,polygo)\n",
    "#display(faults_clip)\n",
    "structure_clip = m2l_utils.clip_shp(all_beds, polygo)\n",
    "\n",
    "base = geol_clip.plot(column=c_l['c'],figsize=(7,7),edgecolor='#000000',linewidth=0.2)\n",
    "faults_clip.plot(ax=base, column=c_l['t'],edgecolor='black')\n",
    "structure_clip.plot(ax=base, column=c_l['c'],edgecolor='black')\n",
    "\n",
    "\n",
    "if(c_l['dd']=='strike'):\n",
    "    structure_clip['azimuth2'] = structure_clip.apply(lambda row: row[c_l['dd']]+90.0, axis = 1)\n",
    "    c_l['dd']='azimuth2'\n",
    "    \n",
    "    \n",
    "geol_clip.to_file(tmp_path+'geol_clip.shp')\n",
    "faults_clip.to_file(tmp_path+'faults_clip.shp')\n",
    "structure_clip.to_file(tmp_path+'structure_clip.shp')\n"
   ]
  },
  {
   "cell_type": "markdown",
   "metadata": {},
   "source": [
    "## Create possible stratigraphy sets per group\n",
    "mj: <font color='red'>Uses first of each possible set of toplogies per unit and per group, which is arbitrary. </font>On the other hand we are not checking relative ages again to see if this helps reduce ambiguity, which I think it would."
   ]
  },
  {
   "cell_type": "code",
   "execution_count": null,
   "metadata": {
    "ExecuteTime": {
     "end_time": "2020-02-16T10:07:28.261032Z",
     "start_time": "2020-02-16T10:07:26.947530Z"
    },
    "scrolled": false
   },
   "outputs": [],
   "source": [
    "m2l_topology.save_group(G,tmp_path,glabels,geol_clip,c_l)"
   ]
  },
  {
   "cell_type": "markdown",
   "metadata": {
    "scrolled": false
   },
   "source": [
    "## Export orientation data in csv  format\n",
    "mj: Orientation data needs calculated height as file does not provide it, taken from SRTM data already downloaded. To calculate polarity <font color='red'>(WHICH WE DON'T DO YET)</font> we can calculate the dot product of the dip direction of a bedding plane and the vector to that points nearest basal contact node, if  abs(acos(dot product))>90  then right way up :\n",
    "\n",
    "<img src='../graphics/polarity.png'>\n",
    "\n",
    "Added code to not save intrusion orientation data as they won't have associated surfaces if sill..."
   ]
  },
  {
   "cell_type": "code",
   "execution_count": null,
   "metadata": {
    "ExecuteTime": {
     "end_time": "2020-02-16T10:07:28.560630Z",
     "start_time": "2020-02-16T10:07:28.273017Z"
    }
   },
   "outputs": [],
   "source": [
    "dtm = rasterio.open(dtm_reproj_file)\n",
    "m2l_geometry.save_orientations(structure_clip,output_path,c_l,orientation_decimate,dtm)\n"
   ]
  },
  {
   "cell_type": "markdown",
   "metadata": {
    "scrolled": false
   },
   "source": [
    "## Find those series that don't have any orientation or contact point data  then create arbitrary point for series with no orientation data\n",
    "Not sure if gempy needs this but geomodeller does. Currently just gives a point dipping 45 degrees to North, but could use dip direction normal to basal surface)"
   ]
  },
  {
   "cell_type": "code",
   "execution_count": null,
   "metadata": {
    "ExecuteTime": {
     "end_time": "2020-02-16T10:07:29.576765Z",
     "start_time": "2020-02-16T10:07:28.564625Z"
    },
    "scrolled": false
   },
   "outputs": [],
   "source": [
    "m2l_geometry.create_orientations( tmp_path, output_path, dtm,geol_clip,structure_clip,c_l)"
   ]
  },
  {
   "cell_type": "markdown",
   "metadata": {
    "scrolled": false
   },
   "source": [
    "## Export contact information subset of each polygon to gempy format\n",
    "mj: Orientation data needs calculated height as file does not provide it, taken from SRTM data already downloaded. Need to reduce number of points whilst retaining useful info (Ranee's job!)'\n",
    "To calculate which are the basal units contact for a polygon find the polygons which are older than the selected polygon, in the example below the central polygon has relative age 23 so its basal contact is with the polygons whose ages are 26 & 28. If there are no older units for a polygon it has no basal content. We keep every nth node based on the decimate term (simple count along polyline). gempy seems to need at least two points per surface, so we always take the first two points.\n",
    "\n",
    "\n",
    "<img src='../graphics/base.png'>"
   ]
  },
  {
   "cell_type": "code",
   "execution_count": null,
   "metadata": {
    "ExecuteTime": {
     "end_time": "2020-02-16T10:07:56.719480Z",
     "start_time": "2020-02-16T10:07:29.580760Z"
    },
    "scrolled": true
   },
   "outputs": [],
   "source": [
    "ls_dict,ls_dict_decimate=m2l_geometry.save_basal_contacts(tmp_path,dtm,geol_clip,contact_decimate,c_l,intrusion_mode)"
   ]
  },
  {
   "cell_type": "markdown",
   "metadata": {},
   "source": [
    "## Remove all basal contacts that are defined by faults and save to shapefile (no decimation)"
   ]
  },
  {
   "cell_type": "code",
   "execution_count": null,
   "metadata": {
    "ExecuteTime": {
     "end_time": "2020-02-16T10:07:56.826197Z",
     "start_time": "2020-02-16T10:07:56.729455Z"
    }
   },
   "outputs": [],
   "source": [
    "display(ls_dict)"
   ]
  },
  {
   "cell_type": "code",
   "execution_count": null,
   "metadata": {
    "ExecuteTime": {
     "end_time": "2020-02-16T10:08:01.794995Z",
     "start_time": "2020-02-16T10:07:56.832179Z"
    }
   },
   "outputs": [],
   "source": [
    "m2l_geometry.save_basal_no_faults(tmp_path+'basal_contacts.shp',tmp_path+'faults_clip.shp',ls_dict,10,c_l,dst_crs)"
   ]
  },
  {
   "cell_type": "markdown",
   "metadata": {},
   "source": [
    "## Remove faults from decimated basal contacts as save as csv file"
   ]
  },
  {
   "cell_type": "code",
   "execution_count": null,
   "metadata": {
    "ExecuteTime": {
     "end_time": "2020-02-16T10:08:07.238059Z",
     "start_time": "2020-02-16T10:08:01.801975Z"
    }
   },
   "outputs": [],
   "source": [
    "contacts=gpd.read_file(tmp_path+'basal_contacts.shp')\n",
    "\n",
    "m2l_geometry.save_basal_contacts_csv(contacts,output_path,dtm,contact_decimate,c_l)\n",
    "\n",
    "#m2l_geometry.save_contacts_with_faults_removed(tmp_path+'faults_clip.shp',output_path,10,ls_dict,ls_dict_decimate,c_l,dst_crs,dtm)"
   ]
  },
  {
   "cell_type": "markdown",
   "metadata": {},
   "source": [
    "## Process fault geometry\n",
    "Save Faults as decimated points and representative orientation  \n",
    "Then, for each  fault string:\n",
    "- incementally advance along polyline every at each inter-node (no point in doing more?)\n",
    "- find local stratigraphy 10m to left and right of fault\n",
    "  \n",
    "Once full fault has been traversed:\n",
    "- Find list of contacts left \n",
    "- Find equivalent contacts on right\n",
    "- use interpolated orientations to estimate minimum true offset assuming vertical displacement and store \n",
    "- if no equivalent found, flag as domain fault and find min strat offset for contact, use cumulative minimum thickness estimate and store with flag (not implemented)\n",
    "- estimate median & sd of minimum fault offset and store with flag (not implemented)\n",
    "\n",
    "Local Orientations\n",
    "Since much of the code is the same, we benefit by calculating local orientation data either side of fault so that geomodeller/gempy have satisfied fault compartment orientation data## Save fault as contact info and and orientation info make vertical (for the moment)"
   ]
  },
  {
   "cell_type": "code",
   "execution_count": null,
   "metadata": {
    "ExecuteTime": {
     "end_time": "2020-02-16T10:10:46.848097Z",
     "start_time": "2020-02-16T10:08:07.241166Z"
    }
   },
   "outputs": [],
   "source": [
    "m2l_geometry.save_faults(tmp_path+'faults_clip.shp',output_path,dtm,c_l,fault_decimate,min_fault_length,fault_dip)\n",
    "\n",
    "use_gcode=('Hamersley Group','Fortescue Group','Wyloo Group','Shingle Creek Group','Turee Creek Group' ) \n",
    "use_gcode2=('Hamersley_Group','Fortescue_Group','Wyloo_Group','Shingle_Creek_Group','Turee_Creek_Group' ) \n",
    "\n",
    "m2l_interpolation.process_fault_throw_and_near_orientations(tmp_path,output_path,dtm_reproj_file,c_l,use_gcode,use_gcode2,dst_crs,bbox,scheme)\n",
    "\n"
   ]
  },
  {
   "cell_type": "markdown",
   "metadata": {},
   "source": [
    "## Process plutons\n",
    "\n",
    "For each instruve but not sill polygon, find older neighbours and store decimated contact points. Also store dipping contact orientations (user defined, just because) with four possible sub-surface configurations:\n",
    "\n",
    "<b>saucers: \\\\_+++_/ <br>\n",
    "batholiths: +++/__ __ _\\\\+++  <br> \n",
    "domes: /‾+++‾\\\\ <br>\n",
    "pendants: +++\\\\_  _/+++ <br>\n",
    "</b>\n",
    "  \n",
    "Saves out orientations and contact points, as well as updated group level stratigraphic column.<br>\n"
   ]
  },
  {
   "cell_type": "code",
   "execution_count": null,
   "metadata": {
    "ExecuteTime": {
     "end_time": "2020-02-16T10:10:54.772272Z",
     "start_time": "2020-02-16T10:10:46.853351Z"
    }
   },
   "outputs": [],
   "source": [
    "bbox=(minx,miny,maxx,maxy)\n",
    "\n",
    "pluton_dip=str(pluton_dip)\n",
    "\n",
    "dist_buffer=10\n",
    "dtm = rasterio.open(dtm_reproj_file)\n",
    "m2l_geometry.process_plutons(tmp_path,output_path,geol_clip,local_paths,dtm,pluton_form,pluton_dip,contact_decimate,c_l)\n"
   ]
  },
  {
   "cell_type": "markdown",
   "metadata": {},
   "source": [
    "## Extract faults and basal contacts of groups from seismic section"
   ]
  },
  {
   "cell_type": "code",
   "execution_count": null,
   "metadata": {
    "ExecuteTime": {
     "end_time": "2020-02-16T10:10:55.816609Z",
     "start_time": "2020-02-16T10:10:54.776263Z"
    },
    "scrolled": true
   },
   "outputs": [],
   "source": [
    "seismic_line_file=data_path+'seismic_line_10GA-CP1_rev.shp'   #input geology file (if local)\n",
    "seismic_line = gpd.read_file(seismic_line_file) #import map\n",
    "seismic_line.plot(figsize=(10,10),edgecolor='#000000',linewidth=0.2) #display map\n",
    "display(seismic_line)\n",
    "\n",
    "\n",
    "seismic_bbox_file=data_path+'seismic_bbox.shp'   #input geology file (if local)\n",
    "seismic_bbox = gpd.read_file(seismic_bbox_file) #import map\n",
    "seismic_bbox.set_index('POSITION',inplace=True)\n",
    "\n",
    "seismic_interp_file=data_path+'seismic_interp.shp'   #input geology file (if local)\n",
    "seismic_interp = gpd.read_file(seismic_interp_file) #import map\n",
    "seismic_interp.plot(column='FEATURE',figsize=(10,10),edgecolor='#000000',linewidth=0.5) #display map\n",
    "display(seismic_interp)\n",
    "\n",
    "dtm_reproj_file=dtm_path+'dtm_rp.tif'\n",
    "dtm = rasterio.open(dtm_reproj_file)\n"
   ]
  },
  {
   "cell_type": "code",
   "execution_count": null,
   "metadata": {
    "ExecuteTime": {
     "end_time": "2020-02-16T10:10:58.140281Z",
     "start_time": "2020-02-16T10:10:55.820598Z"
    }
   },
   "outputs": [],
   "source": [
    "surface_cut=2000\n",
    "\n",
    "m2l_geometry.extract_section(tmp_path,output_path,seismic_line,seismic_bbox,seismic_interp,dtm,surface_cut)\n",
    "\n",
    "contacts=pd.read_csv(output_path+'contacts4.csv',\",\")\n",
    "seismic_contacts=pd.read_csv(output_path+'seismic_base.csv',\",\")\n",
    "all_contacts=pd.concat([contacts,seismic_contacts],sort=False)\n",
    "all_contacts.to_csv (output_path+'contacts4.csv', index = None, header=True)\n",
    "\n",
    "faults=pd.read_csv(output_path+'faults.csv',\",\")\n",
    "seismic_faults=pd.read_csv(output_path+'seismic_faults.csv',\",\")\n",
    "all_faults=pd.concat([faults,seismic_faults],sort=False)\n",
    "all_faults.to_csv (output_path+'faults.csv', index = None, header=True)\n",
    "\n",
    "\n"
   ]
  },
  {
   "cell_type": "markdown",
   "metadata": {},
   "source": [
    "## Interpolates a regular grid of orientations from an  shapefile of arbitrarily-located points and saves out four csv files of l,m & n direction cosines and dip dip direction data\n",
    "\n",
    "Can choose between various RBF and IDW options   \n",
    "  \n",
    "The purpose of these interpolations and associated code is to help in three cases:\n",
    "- Providing estimated dips and contacts in fault-bounded domains where no structural data are available\n",
    "- Needed to estimate true thickness of formations\n",
    "- Possibly useful for poulating parts of maps where little structural data is available"
   ]
  },
  {
   "cell_type": "code",
   "execution_count": null,
   "metadata": {
    "ExecuteTime": {
     "end_time": "2020-02-16T10:10:58.155745Z",
     "start_time": "2020-02-16T10:10:58.140281Z"
    }
   },
   "outputs": [],
   "source": [
    "use_gcode=('Hamersley Group','Fortescue Group','Wyloo Group','Shingle Creek Group','Turee Creek Group' ) ################# MOVE UP   #########################\n",
    "structure_file=tmp_path+'structure_clip.shp'\n",
    "bbox=(minx+inset,miny+inset,maxx-inset,maxy-inset)"
   ]
  },
  {
   "cell_type": "code",
   "execution_count": null,
   "metadata": {
    "ExecuteTime": {
     "end_time": "2020-02-16T10:10:58.169709Z",
     "start_time": "2020-02-16T10:10:58.159738Z"
    }
   },
   "outputs": [],
   "source": [
    "print(c_l['g'])\n",
    "print(use_gcode)"
   ]
  },
  {
   "cell_type": "code",
   "execution_count": null,
   "metadata": {
    "ExecuteTime": {
     "end_time": "2020-02-16T10:11:00.416423Z",
     "start_time": "2020-02-16T10:10:58.174696Z"
    }
   },
   "outputs": [],
   "source": [
    "m2l_interpolation.interpolate_orientations(structure_file,tmp_path,bbox,c_l,use_gcode,scheme,gridx,gridy,False)"
   ]
  },
  {
   "cell_type": "markdown",
   "metadata": {},
   "source": [
    "## Interpolates a regular grid from a shapefile of from contacts and saves out three csv files of l & m direction cosines and strike data\n",
    "\n",
    "Can choose between various RBF and IDW options  \n",
    "\n",
    "<font face color='red'>Best with basal contacts only, using Notebook #1 as this avoids intrusive  and fault contacts being considered</font>"
   ]
  },
  {
   "cell_type": "code",
   "execution_count": null,
   "metadata": {
    "ExecuteTime": {
     "end_time": "2020-02-16T10:11:00.432378Z",
     "start_time": "2020-02-16T10:11:00.421409Z"
    }
   },
   "outputs": [],
   "source": [
    "geology_file=tmp_path+'basal_contacts.shp'\n",
    "\n",
    "dtm = rasterio.open(dtm_reproj_file)\n",
    "use_gcode=('Hamersley_Group','Fortescue_Group','Wyloo_Group','Shingle_Creek_Group','Turee_Creek_Group' ) ################# MOVE UP   #########################\n"
   ]
  },
  {
   "cell_type": "code",
   "execution_count": null,
   "metadata": {
    "ExecuteTime": {
     "end_time": "2020-02-16T10:12:18.280708Z",
     "start_time": "2020-02-16T10:11:00.437364Z"
    }
   },
   "outputs": [],
   "source": [
    "contact_decimate=2\n",
    "null_scheme='null'\n",
    "\n",
    "m2l_interpolation.save_contact_vectors(geology_file,tmp_path,dtm,bbox,c_l,null_scheme,contact_decimate)\n",
    "\n",
    "m2l_interpolation.interpolate_contacts(geology_file,tmp_path,dtm,bbox,c_l,use_gcode,scheme,gridx,gridy,False)\n"
   ]
  },
  {
   "cell_type": "markdown",
   "metadata": {},
   "source": [
    "## Combines rbf of contact orientations with rbf of dip/dipdir measurements\n",
    "\n",
    "Uses normalised direction cosines **(l,m,n)**:  \n",
    "- **l,m** from RBF of basal contact orientations  \n",
    "- **signs of l & m** from misorientation with RBF of orientation data and  \n",
    "- **n** from RBF of orientation data  \n",
    "  \n",
    "May be useful for adding data where no orientations are available (e.g. in fault bounded domains) and for calculating true thickness of layers. Assumes a 2D plane of data, but if 3D RBF was calulated and projected contact info was used it should apply with topography too. "
   ]
  },
  {
   "cell_type": "code",
   "execution_count": null,
   "metadata": {
    "ExecuteTime": {
     "end_time": "2020-02-16T10:12:18.537024Z",
     "start_time": "2020-02-16T10:12:18.284695Z"
    }
   },
   "outputs": [],
   "source": [
    "geology_file=tmp_path+'geol_clip.shp'\n",
    "combo_file=tmp_path+'combo.csv'\n",
    "\n",
    "lc=np.loadtxt(tmp_path+'interpolation_contacts_l.csv',skiprows =1,delimiter =',',dtype=float)\n",
    "mc=np.loadtxt(tmp_path+'interpolation_contacts_m.csv',skiprows =1,delimiter =',',dtype=float)\n",
    "lo=np.loadtxt(tmp_path+'interpolation_l.csv',skiprows =1,delimiter =',',dtype=float)\n",
    "mo=np.loadtxt(tmp_path+'interpolation_m.csv',skiprows =1,delimiter =',',dtype=float)\n",
    "no=np.loadtxt(tmp_path+'interpolation_n.csv',skiprows =1,delimiter =',',dtype=float)\n",
    "xy=np.loadtxt(tmp_path+'interpolation_'+scheme+'.csv',skiprows =1,delimiter =',',dtype=float)"
   ]
  },
  {
   "cell_type": "code",
   "execution_count": null,
   "metadata": {
    "ExecuteTime": {
     "end_time": "2020-02-16T10:12:25.188877Z",
     "start_time": "2020-02-16T10:12:18.541010Z"
    }
   },
   "outputs": [],
   "source": [
    "m2l_interpolation.join_contacts_and_orientations(combo_file,geology_file,tmp_path,dtm_reproj_file,c_l,lo,mo,no,lc,mc,xy,dst_crs,bbox,False)\n"
   ]
  },
  {
   "cell_type": "markdown",
   "metadata": {},
   "source": [
    "## Estimate formation thickness and normalised formation thickness"
   ]
  },
  {
   "cell_type": "code",
   "execution_count": null,
   "metadata": {
    "ExecuteTime": {
     "end_time": "2020-02-16T10:17:19.493787Z",
     "start_time": "2020-02-16T10:12:25.193864Z"
    }
   },
   "outputs": [],
   "source": [
    "buffer =5000\n",
    "max_thickness_allowed=10000\n",
    "\n",
    "m2l_geometry.calc_thickness(tmp_path,output_path,buffer,max_thickness_allowed,c_l)\n",
    "\n",
    "m2l_geometry.normalise_thickness(output_path)"
   ]
  },
  {
   "cell_type": "markdown",
   "metadata": {},
   "source": [
    "## Creates fold axial trace points"
   ]
  },
  {
   "cell_type": "code",
   "execution_count": null,
   "metadata": {
    "ExecuteTime": {
     "end_time": "2020-02-16T10:17:29.104408Z",
     "start_time": "2020-02-16T10:17:19.498773Z"
    }
   },
   "outputs": [],
   "source": [
    "m2l_geometry.save_fold_axial_traces(tmp_path+'folds_clip.shp',output_path,dtm,c_l,fold_decimate)\n",
    "\n",
    "#Save fold axial trace near-hinge orientations\n",
    "fat_step=750         # how much to step out normal to fold axial trace\n",
    "close_dip=20.0       #dip to assign to all new orientations\n",
    "   \n",
    "m2l_geometry.save_fold_axial_traces_orientations(tmp_path+'folds_clip.shp',output_path,tmp_path,dtm,c_l,dst_crs,fold_decimate,fat_step,close_dip)\n"
   ]
  },
  {
   "cell_type": "markdown",
   "metadata": {},
   "source": [
    "## Preprocess data to ensure it meets modelling requirements"
   ]
  },
  {
   "cell_type": "code",
   "execution_count": null,
   "metadata": {
    "ExecuteTime": {
     "end_time": "2020-02-16T10:17:55.523890Z",
     "start_time": "2020-02-16T10:17:29.108396Z"
    },
    "scrolled": true
   },
   "outputs": [],
   "source": [
    "if(local_paths): ###############FUDGE#############\n",
    "    use_gcode=('Hamersley_Group','Fortescue_Group','Turee_Creek_Group','A_mgn_PRK',  'A_mgn_PMI' ) ################# MOVE UP   #########################\n",
    "    #use_gcode=('Hamersley_Group','Fortescue_Group','Wyloo_Group','Shingle_Creek_Group','Turee_Creek_Group','A_mgn_PRK',  'A_mgn_PMI' ) ################# MOVE UP   #########################\n",
    "else:\n",
    "    use_gcode=('Hamersley_Group','Fortescue_Group','Wyloo_Group','Shingle_Creek_Group','Turee_Creek_Group','A_mgn_PMI',  'A_mgn_PRK' ) ################# MOVE UP   #########################\n",
    "\n",
    "\n",
    "print('only processing',use_gcode)\n",
    "\n",
    "#inputs=('invented_orientations','interpolated_orientations','intrusive_orientations','fat_orientations','near_fault_orientations')\n",
    "#inputs=('invented_orientations','interpolated_orientations','intrusive_orientations','fat_orientations','near_fault_orientations')\n",
    "inputs=('invented_orientations','intrusive_orientations','fat_orientations','near_fault_orientations')\n",
    "\n",
    "m2l_geometry.tidy_data(output_path,tmp_path,use_gcode,use_interpolations,use_fat,pluton_form,inputs)"
   ]
  },
  {
   "cell_type": "markdown",
   "metadata": {},
   "source": [
    "## Analyse fault-fault topology"
   ]
  },
  {
   "cell_type": "code",
   "execution_count": null,
   "metadata": {
    "ExecuteTime": {
     "end_time": "2020-02-16T10:17:57.178990Z",
     "start_time": "2020-02-16T10:17:55.523890Z"
    }
   },
   "outputs": [],
   "source": [
    "m2l_topology.parse_fault_relationships(graph_path,tmp_path,output_path)"
   ]
  },
  {
   "cell_type": "markdown",
   "metadata": {
    "scrolled": false
   },
   "source": [
    "# loop2gemodeller test \n",
    "\n"
   ]
  },
  {
   "cell_type": "code",
   "execution_count": null,
   "metadata": {
    "ExecuteTime": {
     "end_time": "2020-02-16T10:18:25.638267Z",
     "start_time": "2020-02-16T10:17:57.183976Z"
    }
   },
   "outputs": [],
   "source": [
    "save_faults=True\n",
    "compute_etc=True\n",
    "m2l_export.loop2geomodeller(test_data_path,tmp_path,output_path,'./dtm/dtm_rp.tif',bbox,save_faults,compute_etc)\n",
    "t1 = time.time()\n"
   ]
  },
  {
   "cell_type": "code",
   "execution_count": null,
   "metadata": {
    "ExecuteTime": {
     "end_time": "2020-02-16T10:18:56.537741Z",
     "start_time": "2020-02-16T10:18:25.638267Z"
    }
   },
   "outputs": [],
   "source": [
    "os.chdir(test_data_path)\n",
    "%system geomodellerbatch.exe -batch m2l.taskfile\n",
    "t2 = time.time()"
   ]
  },
  {
   "cell_type": "code",
   "execution_count": null,
   "metadata": {
    "ExecuteTime": {
     "end_time": "2020-02-16T10:18:56.548319Z",
     "start_time": "2020-02-16T10:18:56.537741Z"
    }
   },
   "outputs": [],
   "source": [
    "#%system geomodellerbatch.exe -batch m2l_compute.taskfile\n",
    "t3 = time.time()"
   ]
  },
  {
   "cell_type": "code",
   "execution_count": null,
   "metadata": {
    "ExecuteTime": {
     "end_time": "2020-02-16T10:18:58.621956Z",
     "start_time": "2020-02-16T10:18:56.553306Z"
    }
   },
   "outputs": [],
   "source": [
    "#import winsound\n",
    "#duration = 500  # milliseconds\n",
    "#freq = 1100  # Hz\n",
    "#winsound.Beep(freq, duration)\n",
    "#winsound.Beep(freq, duration)\n",
    "#duration=999\n",
    "#winsound.Beep(freq, duration)\n"
   ]
  },
  {
   "cell_type": "code",
   "execution_count": null,
   "metadata": {
    "ExecuteTime": {
     "end_time": "2020-02-16T10:18:58.635284Z",
     "start_time": "2020-02-16T10:18:58.621956Z"
    }
   },
   "outputs": [],
   "source": [
    "print(\"m2l\",(t1-t0)/60.0,\"batch process\",(t2-t1)/60.0,\"batch calculate\",(t3-t2)/60.0,\"minutes\")"
   ]
  }
 ],
 "metadata": {
  "hide_input": false,
  "kernelspec": {
   "display_name": "Python 3",
   "language": "python",
   "name": "python3"
  },
  "language_info": {
   "codemirror_mode": {
    "name": "ipython",
    "version": 3
   },
   "file_extension": ".py",
   "mimetype": "text/x-python",
   "name": "python",
   "nbconvert_exporter": "python",
   "pygments_lexer": "ipython3",
   "version": "3.7.3"
  },
  "toc": {
   "base_numbering": 1,
   "nav_menu": {},
   "number_sections": true,
   "sideBar": true,
   "skip_h1_title": false,
   "title_cell": "Table of Contents",
   "title_sidebar": "Contents",
   "toc_cell": true,
   "toc_position": {},
   "toc_section_display": true,
   "toc_window_display": false
  }
 },
 "nbformat": 4,
 "nbformat_minor": 2
}
