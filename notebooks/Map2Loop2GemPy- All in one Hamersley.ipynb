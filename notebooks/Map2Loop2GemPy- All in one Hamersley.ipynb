{
 "cells": [
  {
   "cell_type": "markdown",
   "metadata": {},
   "source": [
    "## map2loop: From geology layers to outputs to various 3D modelling programs- Hamersley example-gempy\n",
    "\n",
    "This notebook reads in three layers from  local or remote sources:  geology polygons, orientation data and fault and fold axial trace  polylines; and calculates the topological relationships between the different features. Requires compiled cpp code from Vitaliy Ogarko\n",
    "\n",
    "This all gets fed into successive tolopogical and geometric transfroms that end up feeding into gempy to make a 3D model \n",
    "\n",
    "<img src='../graphics/map_sm.png'>"
   ]
  },
  {
   "cell_type": "code",
   "execution_count": null,
   "metadata": {
    "ExecuteTime": {
     "end_time": "2020-01-21T04:04:46.794283Z",
     "start_time": "2020-01-21T04:04:33.080953Z"
    },
    "pycharm": {
     "is_executing": false
    }
   },
   "outputs": [],
   "source": [
    "import sys, os\n",
    "sys.path.append(\"../../..\")\n",
    "os.environ['CUDA_LAUNCH_BLOCKING'] = '1'\n",
    "os.environ[\"THEANO_FLAGS\"] = \"mode=FAST_RUN,device=cuda\"\n",
    "\n",
    "sys.path.append('../')\n",
    "sys.path.append('../../gempy/')\n",
    "\n",
    "from map2loop import m2l_export\n",
    "import gempy as gp\n",
    "%matplotlib inline\n",
    "\n",
    "#newwd=\"C:\\\\Users\\\\00073294\\Dropbox\\\\loop_minex\\\\map2model\\\\\"\n",
    "#os.chdir(newwd)\n",
    "# print(\"Current Working Directory \" )\n",
    "# #gdal_data = os.environ['GDAL_DATA']\n",
    "# print(\"***\",gdal_data)\n",
    "# print('is dir: ' + str(os.path.isdir(gdal_data)))\n",
    "# gcs_csv = os.path.join(gdal_data, 'gcs.csv')\n",
    "# print('is file: ' + str(os.path.isfile(gcs_csv)))\n",
    "# st = os.stat(gcs_csv)\n",
    "# print('is readable: ' + str(bool(st.st_mode & stat.S_IRGRP)))\n",
    "# print(os.getenv('PROJ_LIB'))\n",
    "# print(os.getcwd())\n",
    "\n",
    "\n",
    "#m2l_utils.v()"
   ]
  },
  {
   "cell_type": "markdown",
   "metadata": {},
   "source": [
    "## Create bounding box based on inputs"
   ]
  },
  {
   "cell_type": "markdown",
   "metadata": {
    "scrolled": false
   },
   "source": [
    "## Now we define the basic model and load the orientation and lithological information\n",
    "mj: We inset the model dimensions as once reprojects the edge pixels of the topography are undefined. Probably doesn't need to be that extreme (unit is metres). Could use parameter <b>maxtopo</b> to "
   ]
  },
  {
   "cell_type": "code",
   "execution_count": null,
   "metadata": {},
   "outputs": [],
   "source": [
    "bbox=(500057, 7455348, 603028, 7567953)\n",
    "model_top=1200\n",
    "model_base=-2000\n",
    "\n",
    "test_data_name='test_data3'\n",
    "output_path = '../test_data3/output/'"
   ]
  },
  {
   "cell_type": "code",
   "execution_count": null,
   "metadata": {},
   "outputs": [],
   "source": [
    "test_data_name='test_data3'\n",
    "test_data_path='../'+test_data_name+'/'\n",
    "\n",
    "os.chdir(test_data_path)\n",
    "%run -i \"m2l_config.py\"\n",
    "\n",
    "geo_model = gp.create_model(test_data_name) \n",
    "\n",
    "# If depth coordinates are much smaller than XY the whole system of equations becomes very unstable. Until\n",
    "# I fix it properly in gempy this is a handcrafted hack\n",
    "ve = (bbox[0] - bbox[2]) / (model_base - model_top) / 2"
   ]
  },
  {
   "cell_type": "code",
   "execution_count": null,
   "metadata": {},
   "outputs": [],
   "source": [
    "bbox=(500057, 7455348, 603028, 7567953)\n",
    "model_top=1200\n",
    "model_base=-2000"
   ]
  },
  {
   "cell_type": "code",
   "execution_count": null,
   "metadata": {},
   "outputs": [],
   "source": [
    "geo_model = m2l_export.loop2gempy(test_data_name,tmp_path,vtk_path,output_path+'orientations_clean.csv',\n",
    "                                  output_path+'contacts_clean.csv',tmp_path+'groups_clean.csv',\n",
    "                                  bbox, model_base, model_top,  vtk=True, dtm_reproj_file=dtm_reproj_file)"
   ]
  },
  {
   "cell_type": "code",
   "execution_count": null,
   "metadata": {},
   "outputs": [],
   "source": [
    "gp.plot.plot_map(geo_model, show_data=False, contour_lines=False)"
   ]
  },
  {
   "cell_type": "code",
   "execution_count": null,
   "metadata": {},
   "outputs": [],
   "source": [
    "gp.plot.plot_3D(geo_model, render_data=False)"
   ]
  },
  {
   "cell_type": "code",
   "execution_count": null,
   "metadata": {},
   "outputs": [],
   "source": []
  }
 ],
 "metadata": {
  "hide_input": false,
  "kernelspec": {
   "display_name": "Python 3",
   "language": "python",
   "name": "python3"
  },
  "language_info": {
   "codemirror_mode": {
    "name": "ipython",
    "version": 3
   },
   "file_extension": ".py",
   "mimetype": "text/x-python",
   "name": "python",
   "nbconvert_exporter": "python",
   "pygments_lexer": "ipython3",
   "version": "3.7.3"
  },
  "toc": {
   "base_numbering": 1,
   "nav_menu": {},
   "number_sections": true,
   "sideBar": true,
   "skip_h1_title": false,
   "title_cell": "Table of Contents",
   "title_sidebar": "Contents",
   "toc_cell": true,
   "toc_position": {},
   "toc_section_display": true,
   "toc_window_display": false
  }
 },
 "nbformat": 4,
 "nbformat_minor": 2
}
