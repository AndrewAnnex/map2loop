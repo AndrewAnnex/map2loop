{
 "cells": [
  {
   "cell_type": "markdown",
   "metadata": {},
   "source": [
    "## 3-point problem\n",
    "\n",
    "thanks to: https://github.com/tpubben/StructureCalculations/blob/master/strike_dip.py \n",
    "https://www.tjscientific.com/2017/08/16/computationally-calculating-strike-and-dip-from-3-points/ and\n",
    "https://www.tjscientific.com/2017/08/16/python-script-to-calculate-strike-and-dip/ "
   ]
  },
  {
   "cell_type": "code",
   "execution_count": 3,
   "metadata": {
    "ExecuteTime": {
     "end_time": "2020-02-24T08:30:44.633748Z",
     "start_time": "2020-02-24T08:30:44.611808Z"
    }
   },
   "outputs": [],
   "source": [
    "import math\n",
    "\n",
    "# The appropriate input for this function is a list of tuples in the format\n",
    "# [(x1, y1, z1), (x2, y2, z2), (x3, y3, z3)]\n",
    "def calc_strikedip(pts):\n",
    "    ptA, ptB, ptC = pts[0], pts[1], pts[2]\n",
    "    x1, y1, z1 = float(ptA[0]), float(ptA[1]), float(ptA[2])\n",
    "    x2, y2, z2 = float(ptB[0]), float(ptB[1]), float(ptB[2])\n",
    "    x3, y3, z3 = float(ptC[0]), float(ptC[1]), float(ptC[2])\n",
    "\n",
    "\n",
    "    u1 = float(((y1 - y2) * (z3 - z2) - (y3 - y2) * (z1 - z2)))\n",
    "    u2 = float((-((x1 - x2) * (z3 - z2) - (x3 - x2) * (z1 - z2))))\n",
    "    u3 = float(((x1 - x2) * (y3 - y2) - (x3 - x2) * (y1 - y2)))\n",
    "\n",
    "    '''\n",
    "    Calculate pseudo eastings and northings from origin\n",
    "    these are actually coordinates of a new point that represents\n",
    "    the normal from the plane's origin defined as (0,0,0).\n",
    "    \n",
    "    If the z value (u3) is above the plane we first reverse the easting\n",
    "    then we check if the z value (u3) is below the plane, if so\n",
    "    we reverse the northing. \n",
    "    \n",
    "    This is to satisfy the right hand rule in geology where dip is always\n",
    "    to the right if looking down strike. \n",
    "    '''\n",
    "    if u3 < 0:\n",
    "        easting = u2\n",
    "    else:\n",
    "        easting = -u2\n",
    "\n",
    "    if u3 > 0:\n",
    "        northing = u1\n",
    "    else:\n",
    "        northing = -u1\n",
    "    \n",
    "    if easting >= 0:\n",
    "        partA_strike = math.pow(easting, 2) + math.pow(northing, 2)\n",
    "        strike = math.degrees(math.acos(northing / math.sqrt(partA_strike)))\n",
    "    else:\n",
    "        partA_strike = northing / math.sqrt(math.pow(easting, 2) + math.pow(northing, 2))\n",
    "        strike = math.degrees(2 * math.pi - math.acos(partA_strike))\n",
    "\n",
    "    # determine dip\n",
    "    part1_dip = math.sqrt(math.pow(u2, 2) + math.pow(u1, 2))\n",
    "    part2_dip = math.sqrt(math.pow(u1,2) + math.pow(u2,2) + math.pow(u3,2))\n",
    "    dip = math.degrees(math.asin(part1_dip / part2_dip))\n",
    "\n",
    "    return strike, dip"
   ]
  },
  {
   "cell_type": "code",
   "execution_count": 9,
   "metadata": {
    "ExecuteTime": {
     "end_time": "2020-02-24T08:33:18.806863Z",
     "start_time": "2020-02-24T08:33:18.797884Z"
    }
   },
   "outputs": [
    {
     "name": "stdout",
     "output_type": "stream",
     "text": [
      "strike: 315.0 dip: 54.73561031724535 dip direction: 45.0\n"
     ]
    }
   ],
   "source": [
    "pts=[(0, 1, 0), (1, 0, 0), (1, 1, -1)]\n",
    "strike,dip=calc_strikedip(pts)\n",
    "print('strike:',strike,'dip:',dip, 'dip direction:',math.fmod(strike+90,360))"
   ]
  },
  {
   "cell_type": "code",
   "execution_count": null,
   "metadata": {},
   "outputs": [],
   "source": []
  }
 ],
 "metadata": {
  "hide_input": false,
  "kernelspec": {
   "display_name": "Python 3",
   "language": "python",
   "name": "python3"
  },
  "language_info": {
   "codemirror_mode": {
    "name": "ipython",
    "version": 3
   },
   "file_extension": ".py",
   "mimetype": "text/x-python",
   "name": "python",
   "nbconvert_exporter": "python",
   "pygments_lexer": "ipython3",
   "version": "3.7.3"
  }
 },
 "nbformat": 4,
 "nbformat_minor": 2
}
