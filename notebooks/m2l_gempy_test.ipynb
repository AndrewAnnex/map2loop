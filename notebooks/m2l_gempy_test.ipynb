{
 "cells": [
  {
   "cell_type": "markdown",
   "metadata": {
    "scrolled": false
   },
   "source": [
    "# gempy test \n",
    "\n",
    "\n",
    "## Convert stratigraphy GML to time-sorted groups and units\n",
    "\n",
    "<font face color='red'><b>RUN the \"map2model_after_topology\" notebook first!!<b></font>\n",
    "\n",
    "Takes GML file produced by topology code, geology polygons, structure points and dtm to create 3D model.<br><br>\n",
    "Limitations: no faults yet, no plutons yet, no dykes, no sills. Faults and plutons will come soon, sills require us to assign a unique surface to each instance of a sill (sill between units A and B needs to be different from sill of same age and strat codes as one found between E and F). Dykes via cokriging are really hard without just cookie cutting them in (but that is not our problem!). We are not checking for onlap relationships, which can perhaps been seen by having lots of units from one series adjacent to the youngest surface of the older series. Could also think about interpreting these as faults to introduce conceptual uncertainty.\n",
    "\n",
    "<font face color='red'>The way this loads data to gempy is not right, so all the units end up in one series... but it gives the basic idea </font>\n"
   ]
  },
  {
   "cell_type": "code",
   "execution_count": null,
   "metadata": {},
   "outputs": [],
   "source": [
    "import matplotlib\n",
    "import networkx as nx\n",
    "import numpy as np\n",
    "import matplotlib.pyplot as plt\n",
    "from urllib.request import urlopen\n",
    "import numpy as np\n",
    "from matplotlib.pyplot import imshow\n",
    "from matplotlib import pyplot as plt\n",
    "import os\n",
    "import rasterio\n",
    "from rasterio.transform import from_origin\n",
    "from rasterio import features\n",
    "%matplotlib inline\n",
    "import sys, os\n",
    "print(os.getcwd())\n",
    "\n",
    "os.chdir('../map2loop')\n",
    "import m2l_utils\n",
    "print(os.getcwd())\n",
    "os.chdir('../')\n"
   ]
  },
  {
   "cell_type": "markdown",
   "metadata": {
    "scrolled": false
   },
   "source": [
    "## Now we define the basic model and load the orientation and lithological information\n",
    "mj: We inset the model dimensions as once reprojects the edge pixels of the topography are undefined. Probably doesn't need to be that extreme (unit is metres). Could use parameter <b>maxtopo</b> to "
   ]
  },
  {
   "cell_type": "code",
   "execution_count": null,
   "metadata": {},
   "outputs": [],
   "source": [
    "import gempy as gp\n",
    "import numpy as np\n",
    "import matplotlib.pyplot as plt\n",
    "import os\n",
    "geo_model = gp.create_model('gp_test')\n",
    "\n",
    "gp.init_data(geo_model, extent=[502536, 600652, 7.458e6, 7.56e6, -3000, 1200],\n",
    "    resolution = (50,50,50), \n",
    "      #path_o = './test_data/output/hams2_orientations.txt',\n",
    "      path_o = './test_data/output/both_orientations.txt',\n",
    "      path_i = './test_data/output/hams2_contacts4.txt', default_values=True); #%%"
   ]
  },
  {
   "cell_type": "markdown",
   "metadata": {
    "scrolled": false
   },
   "source": [
    "## Show example lithological points"
   ]
  },
  {
   "cell_type": "code",
   "execution_count": null,
   "metadata": {},
   "outputs": [],
   "source": [
    "gp.get_data(geo_model, 'surface_points').head()"
   ]
  },
  {
   "cell_type": "markdown",
   "metadata": {
    "scrolled": false
   },
   "source": [
    "## Show example orientations"
   ]
  },
  {
   "cell_type": "code",
   "execution_count": null,
   "metadata": {},
   "outputs": [],
   "source": [
    "gp.get_data(geo_model, 'orientations').head()"
   ]
  },
  {
   "cell_type": "markdown",
   "metadata": {
    "scrolled": false
   },
   "source": [
    "## Plot some of this data"
   ]
  },
  {
   "cell_type": "code",
   "execution_count": null,
   "metadata": {},
   "outputs": [],
   "source": [
    "%matplotlib inline\n",
    "gp.plot.plot_data(geo_model, direction='z');"
   ]
  },
  {
   "cell_type": "markdown",
   "metadata": {
    "scrolled": false
   },
   "source": [
    "## Load reprojected topgraphy to model"
   ]
  },
  {
   "cell_type": "code",
   "execution_count": null,
   "metadata": {},
   "outputs": [],
   "source": [
    "fp = './test_data/dtm/hams2_dtm_rp.tif'\n",
    "geo_model.set_topography(source='gdal',filepath=fp)\n",
    "\n",
    "## Load stratigraphic Series\n",
    "\n",
    "f=open('./test_data/tmp/hams2_groups.txt',\"r\")\n",
    "contents =f.readlines()\n",
    "f.close\n",
    "\n",
    "\n",
    "faults = gp.Faults()\n",
    "series = gp.Series(faults)\n",
    "series.df\n",
    "\n",
    "ngroups=int(contents[0][0])\n",
    "groups=[]\n",
    "\n",
    "for i in range (1,int(ngroups)+1):\n",
    "    groups.append(contents[i].replace(\"\\n\",\"\"))\n",
    "    series.add_series(contents[i].replace(\"\\n\",\"\"))\n",
    "\n",
    "series.delete_series('Default series')\n",
    "\n",
    "series"
   ]
  },
  {
   "cell_type": "markdown",
   "metadata": {
    "scrolled": false
   },
   "source": [
    "## Load surfaces and assign to series"
   ]
  },
  {
   "cell_type": "code",
   "execution_count": null,
   "metadata": {},
   "outputs": [],
   "source": [
    "surfaces = gp.Surfaces(series)\n",
    "\n",
    "\n",
    "for i in range(0,ngroups):\n",
    "    f=open('./test_data/tmp/'+groups[i]+'.txt',\"r\")\n",
    "    contents =f.readlines()\n",
    "    nformations=str(contents[0])\n",
    "    nformations=nformations.split(\" \")\n",
    "    nformations=int(nformations[1].replace(\"\\n\",\"\"))\n",
    "\n",
    "    for j in range (1,int(nformations)+1):\n",
    "        surfaces.add_surface(contents[j].replace(\"\\n\",\"\"))\n",
    "        d={groups[i]:contents[j].replace(\"\\n\",\"\")}\n",
    "        surfaces.map_series({groups[i]:(contents[j].replace(\"\\n\",\"\"))}) #working but no gps\n",
    "        #gp.map_series_to_surfaces(geo_model, {groups[0]:(contents[j].replace(\"\\n\",\"\"))},#XXXXXXXXXXXXXXXXXXXXXXXXXXXXXXXXXX<<<<\n",
    "              #  set_series=True, remove_unused_series=True)\n",
    "    f.close\n",
    "\n",
    "surfaces"
   ]
  },
  {
   "cell_type": "markdown",
   "metadata": {
    "scrolled": false
   },
   "source": [
    "## Set Interpolation Data"
   ]
  },
  {
   "cell_type": "code",
   "execution_count": null,
   "metadata": {},
   "outputs": [],
   "source": [
    "\n",
    "id_only_one_bool = geo_model.surface_points.df['id'].value_counts() == 1\n",
    "id_only_one = id_only_one_bool.index[id_only_one_bool]\n",
    "single_vals = geo_model.surface_points.df[geo_model.surface_points.df['id'].isin(id_only_one)]\n",
    "for idx, vals in single_vals.iterrows():\n",
    "    geo_model.add_surface_points(vals['X'], vals['Y'], vals['Z'], vals['surface'])\n",
    "    \n",
    "geo_model.update_structure()\n"
   ]
  },
  {
   "cell_type": "code",
   "execution_count": null,
   "metadata": {},
   "outputs": [],
   "source": [
    "gp.set_interpolation_data(geo_model,\n",
    "                          compile_theano=True,\n",
    "                          theano_optimizer='fast_compile',\n",
    "                          verbose=[])"
   ]
  },
  {
   "cell_type": "markdown",
   "metadata": {
    "scrolled": false
   },
   "source": [
    "## Provide summary data on model"
   ]
  },
  {
   "cell_type": "code",
   "execution_count": null,
   "metadata": {},
   "outputs": [],
   "source": [
    "geo_model.additional_data.structure_data"
   ]
  },
  {
   "cell_type": "markdown",
   "metadata": {
    "scrolled": false
   },
   "source": [
    "## Calculate Model"
   ]
  },
  {
   "cell_type": "code",
   "execution_count": null,
   "metadata": {},
   "outputs": [],
   "source": [
    "\n",
    "\n",
    "gp.compute_model(geo_model)"
   ]
  },
  {
   "cell_type": "markdown",
   "metadata": {
    "scrolled": false
   },
   "source": [
    "## Extract surfaces to visualize in 3D renderers"
   ]
  },
  {
   "cell_type": "code",
   "execution_count": null,
   "metadata": {},
   "outputs": [],
   "source": [
    "gp.plot.plot_section(geo_model, 49, direction='z', show_data=False)"
   ]
  },
  {
   "cell_type": "code",
   "execution_count": null,
   "metadata": {},
   "outputs": [],
   "source": [
    "ver , sim = gp.get_surfaces(geo_model)"
   ]
  },
  {
   "cell_type": "markdown",
   "metadata": {
    "scrolled": false
   },
   "source": [
    "## Visualise model"
   ]
  },
  {
   "cell_type": "code",
   "execution_count": null,
   "metadata": {},
   "outputs": [],
   "source": [
    "gp.plot.plot_3D(geo_model)"
   ]
  },
  {
   "cell_type": "markdown",
   "metadata": {
    "scrolled": false
   },
   "source": [
    "## Export model to vtk files"
   ]
  },
  {
   "cell_type": "markdown",
   "metadata": {
    "scrolled": false
   },
   "source": [
    "from gempy import plot\n",
    "gp.plot.export_to_vtk(geo_model, path='.\\\\vtk\\\\', name=mname+'.vtk', voxels=False, block=None, surfaces=True)"
   ]
  },
  {
   "cell_type": "code",
   "execution_count": null,
   "metadata": {},
   "outputs": [],
   "source": []
  },
  {
   "cell_type": "code",
   "execution_count": null,
   "metadata": {},
   "outputs": [],
   "source": []
  }
 ],
 "metadata": {
  "kernelspec": {
   "display_name": "Python 3",
   "language": "python",
   "name": "python3"
  },
  "language_info": {
   "codemirror_mode": {
    "name": "ipython",
    "version": 3
   },
   "file_extension": ".py",
   "mimetype": "text/x-python",
   "name": "python",
   "nbconvert_exporter": "python",
   "pygments_lexer": "ipython3",
   "version": "3.7.3"
  }
 },
 "nbformat": 4,
 "nbformat_minor": 2
}
