{
 "cells": [
  {
   "cell_type": "markdown",
   "metadata": {},
   "source": [
    "## Plotting Steronets\n",
    "\n",
    "Thanks to https://github.com/joferkington/mplstereonet\n",
    "\n",
    "See https://nbviewer.jupyter.org/github/ondrolexa/apsg/blob/master/examples/apsg_tutorial.ipynb for an alternative with other nice things...\n",
    "\n",
    "or http://geopytool.com/installation-expert.html for this plus some geochem plots"
   ]
  },
  {
   "cell_type": "code",
   "execution_count": null,
   "metadata": {
    "ExecuteTime": {
     "end_time": "2020-03-18T09:36:33.614250Z",
     "start_time": "2020-03-18T09:36:33.277682Z"
    }
   },
   "outputs": [],
   "source": [
    "import matplotlib.pyplot as plt\n",
    "import mplstereonet\n",
    "%matplotlib inline\n",
    "\n",
    "fig = plt.figure()\n",
    "ax = fig.add_subplot(111, projection='stereonet')\n",
    "\n",
    "\n",
    "ddir=135\n",
    "strike, dip = (ddir-90, 20)\n",
    "ax.plane(strike, dip, 'g-', linewidth=2)\n",
    "ax.pole(strike, dip, 'g^', markersize=18)\n",
    "ax.rake(strike, dip, -25)\n",
    "ax.grid()\n",
    "\n",
    "plt.show()"
   ]
  },
  {
   "cell_type": "code",
   "execution_count": null,
   "metadata": {
    "ExecuteTime": {
     "end_time": "2020-02-26T04:19:12.517179Z",
     "start_time": "2020-02-26T04:19:11.321838Z"
    }
   },
   "outputs": [],
   "source": [
    "import matplotlib.pyplot as plt\n",
    "import numpy as np\n",
    "import mplstereonet\n",
    "\n",
    "fig, ax = mplstereonet.subplots()\n",
    "\n",
    "strike, dip = 90, 80\n",
    "num = 10\n",
    "strikes = strike + 10 * np.random.randn(num)\n",
    "dips = dip + 10 * np.random.randn(num)\n",
    "\n",
    "cax = ax.density_contourf(strikes, dips, measurement='poles')\n",
    "\n",
    "ax.pole(strikes, dips)\n",
    "ax.grid(True)\n",
    "fig.colorbar(cax)\n",
    "\n",
    "plt.show()"
   ]
  },
  {
   "cell_type": "code",
   "execution_count": null,
   "metadata": {
    "ExecuteTime": {
     "end_time": "2020-02-24T08:50:21.778101Z",
     "start_time": "2020-02-24T08:50:21.747184Z"
    }
   },
   "outputs": [],
   "source": [
    "\"\"\"\n",
    "Basic quadrant, strike/dip, and rake parsing.\n",
    "`mplstereonet` expects measurements to follow the\n",
    "\"right-hand-rule\" (RHR) to indicate dip direction.\n",
    "If you have a set of measurements that don't necessarily follow the RHR, there\n",
    "are a number of parsing and standardization functions in `mplstereonet` to\n",
    "correct for this.\n",
    "\"\"\"\n",
    "import mplstereonet\n",
    "\n",
    "print('Parse quadrant azimuth measurements')\n",
    "for original in ['N30E', 'E30N', 'W10S', 'N 10 W']:\n",
    "    azi = mplstereonet.parse_quadrant_measurement(original)\n",
    "    print('\"{}\" --> {:.1f}'.format(original, azi))\n",
    "\n",
    "print('\\nParse quadrant strike/dip measurements.')\n",
    "print('Note that the output follows the right-hand-rule.')\n",
    "\n",
    "def parse_sd(original, seperator):\n",
    "    strike, dip = mplstereonet.parse_strike_dip(*original.split(seperator))\n",
    "    print('\"{}\" --> Strike: {:.1f}, Dip: {:.1f}'.format(original, strike, dip))\n",
    "\n",
    "parse_sd('215/10', '/')\n",
    "parse_sd('215/10E', '/')\n",
    "parse_sd('215/10NW', '/')\n",
    "parse_sd('N30E/45NW', '/')\n",
    "parse_sd('E10N\\t20 N', '\\t')\n",
    "parse_sd('W30N/46.7 S', '/')\n",
    "\n",
    "print(\"\\nSimilarly, you can parse rake measurements that don't follow the RHR.\")\n",
    "\n",
    "def split_rake(original, sep1=None, sep2=None):\n",
    "    components = original.split(sep1)\n",
    "    if len(components) == 3:\n",
    "        return components\n",
    "    strike, rest = components\n",
    "    dip, rake = rest.split(sep2)\n",
    "    return strike, dip, rake\n",
    "\n",
    "def display_rake(original, sep1, sep2=None):\n",
    "    components = split_rake(original, sep1, sep2)\n",
    "    strike, dip, rake = mplstereonet.parse_rake(*components)\n",
    "    template = '\"{}\" --> Strike: {:.1f}, Dip: {:.1f}, Rake: {:.1f}'\n",
    "    print(template.format(original, strike, dip, rake))\n",
    "\n",
    "original = 'N30E/45NW 10NE'\n",
    "display_rake(original, '/')\n",
    "\n",
    "original = '210 45\\t30N'\n",
    "display_rake(original, None)\n",
    "\n",
    "original = 'N30E/45NW raking 10SW'\n",
    "display_rake(original, '/', 'raking')"
   ]
  },
  {
   "cell_type": "code",
   "execution_count": null,
   "metadata": {
    "ExecuteTime": {
     "end_time": "2020-03-18T10:52:47.686672Z",
     "start_time": "2020-03-18T10:52:47.670718Z"
    }
   },
   "outputs": [],
   "source": [
    "import pandas as pd\n",
    "orientations=pd.read_csv('../test_data3/output/orientations.csv',\",\")"
   ]
  },
  {
   "cell_type": "code",
   "execution_count": null,
   "metadata": {
    "ExecuteTime": {
     "end_time": "2020-03-18T10:52:47.702629Z",
     "start_time": "2020-03-18T10:52:47.692658Z"
    }
   },
   "outputs": [],
   "source": [
    "display(orientations[\"azimuth\"].values)"
   ]
  },
  {
   "cell_type": "code",
   "execution_count": null,
   "metadata": {
    "ExecuteTime": {
     "end_time": "2020-03-18T10:52:48.485252Z",
     "start_time": "2020-03-18T10:52:48.478274Z"
    }
   },
   "outputs": [],
   "source": [
    "display(orientations[\"dip\"].values)"
   ]
  },
  {
   "cell_type": "code",
   "execution_count": null,
   "metadata": {
    "ExecuteTime": {
     "end_time": "2020-03-18T13:01:46.828552Z",
     "start_time": "2020-03-18T13:01:41.786222Z"
    },
    "scrolled": false
   },
   "outputs": [],
   "source": [
    "import matplotlib.pyplot as plt\n",
    "import numpy as np\n",
    "import mplstereonet\n",
    "import random\n",
    "\n",
    "all_sorts=pd.read_csv('../test_data3/tmp/all_sorts_clean.csv',\",\")\n",
    "formations=all_sorts['code']\n",
    "#display(formations)\n",
    "groups=all_sorts['group'].unique()\n",
    "#display(groups)\n",
    "y=0\n",
    "for fm in formations:\n",
    "    orientations2=orientations[orientations[\"formation\"]==fm]\n",
    "    if(len(orientations2)>0):\n",
    "        fig, ax = mplstereonet.subplots()\n",
    "        y=y+10\n",
    "        strikes = orientations2[\"azimuth\"].values -90\n",
    "        dips = orientations2[\"dip\"].values\n",
    "        \n",
    "        #cax = ax.density_contourf(strikes, dips, measurement='poles')\n",
    "        r=random.random()\n",
    "        b=random.random()\n",
    "        g=random.random()\n",
    "        print(fm,\"observations n=\",len(orientations2),r,b,g)\n",
    "        ax.pole(strikes, dips, markersize=4, color=(r,b,g))\n",
    "        ax.grid(True)\n",
    "        #fig.colorbar(cax)\n",
    "        text = ax.text(1200, 600, fm, color=(r,b,g))\n",
    "\n",
    "        plt.show()\n",
    "\n"
   ]
  },
  {
   "cell_type": "code",
   "execution_count": null,
   "metadata": {
    "ExecuteTime": {
     "end_time": "2020-03-18T09:37:23.384640Z",
     "start_time": "2020-03-18T09:37:23.377659Z"
    }
   },
   "outputs": [],
   "source": [
    "display(orientations2[\"azimuth\"].values)"
   ]
  },
  {
   "cell_type": "code",
   "execution_count": null,
   "metadata": {
    "ExecuteTime": {
     "end_time": "2020-03-18T09:37:23.888172Z",
     "start_time": "2020-03-18T09:37:23.882187Z"
    }
   },
   "outputs": [],
   "source": [
    "display(orientations2[\"dip\"].values)"
   ]
  },
  {
   "cell_type": "markdown",
   "metadata": {},
   "source": [
    "## check accruacy of plot strike vs azimuth!!"
   ]
  },
  {
   "cell_type": "code",
   "execution_count": null,
   "metadata": {},
   "outputs": [],
   "source": []
  }
 ],
 "metadata": {
  "hide_input": false,
  "kernelspec": {
   "display_name": "Python 3",
   "language": "python",
   "name": "python3"
  },
  "language_info": {
   "codemirror_mode": {
    "name": "ipython",
    "version": 3
   },
   "file_extension": ".py",
   "mimetype": "text/x-python",
   "name": "python",
   "nbconvert_exporter": "python",
   "pygments_lexer": "ipython3",
   "version": "3.7.3"
  }
 },
 "nbformat": 4,
 "nbformat_minor": 2
}
