{
 "cells": [
  {
   "cell_type": "code",
   "execution_count": null,
   "metadata": {
    "ExecuteTime": {
     "end_time": "2019-11-01T08:12:35.536619Z",
     "start_time": "2019-11-01T08:12:29.428974Z"
    }
   },
   "outputs": [],
   "source": [
    "from LoopStructural import GeologicalModel\n",
    "from LoopStructural.visualisation import LavaVuModelViewer\n",
    "# import other libraries\n",
    "import pandas as pd\n",
    "import numpy as np\n",
    "from scipy.interpolate import Rbf\n",
    "import matplotlib.pyplot as plt\n",
    "from scipy.optimize import curve_fit\n",
    "import lavavu\n",
    "%load_ext autoreload"
   ]
  },
  {
   "cell_type": "markdown",
   "metadata": {},
   "source": [
    "### Load and process the data\n",
    "We need to create a dataset that has the following columns: **type, X, Y, Z**, val, strike, dip, polarity, nx, ny, nz.\n",
    "The bold columns are required and the unbold ones are optional.\n",
    "\n",
    "Val should be the relative scalar field value of the contacts from a reference horizon. If the base of a series is 0, val should be the accumulated thickness. \n",
    "\n",
    "In this example we will build the scalar field for one series. The order and names of the different units in the series components were extracted map2loop topology analysis and are for now hardcoded.  "
   ]
  },
  {
   "cell_type": "code",
   "execution_count": null,
   "metadata": {
    "ExecuteTime": {
     "end_time": "2019-11-01T08:12:35.568534Z",
     "start_time": "2019-11-01T08:12:35.539612Z"
    }
   },
   "outputs": [],
   "source": [
    "df = pd.read_csv('../test_data3/output/formation_thicknesses.csv')"
   ]
  },
  {
   "cell_type": "code",
   "execution_count": null,
   "metadata": {
    "ExecuteTime": {
     "end_time": "2019-11-01T08:12:35.619403Z",
     "start_time": "2019-11-01T08:12:35.572522Z"
    }
   },
   "outputs": [],
   "source": [
    "thickness = {}\n",
    "for f in df['formation'].unique():\n",
    "    thickness[f] = np.mean(df[df['formation']==f]['thickness'])\n",
    "\n",
    "display(thickness)"
   ]
  },
  {
   "cell_type": "code",
   "execution_count": null,
   "metadata": {
    "ExecuteTime": {
     "end_time": "2019-11-01T08:12:35.629372Z",
     "start_time": "2019-11-01T08:12:35.622391Z"
    }
   },
   "outputs": [],
   "source": [
    "order = ['P__TKa_xs_k','P__TKo_stq','P__TKk_sf','P__TK_s',\n",
    "'A_HAu_xsl_ci',\n",
    "'A_HAd_kd',\n",
    "'A_HAm_cib',\n",
    "'A_FOj_xs_b',\n",
    "'A_FO_xo_a',\n",
    "'A_FO_od',\n",
    "'A_FOu_bbo',\n",
    "'A_FOp_bs',\n",
    "'A_FOo_bbo',\n",
    "'A_FOh_xs_f',\n",
    "'A_FOr_b']"
   ]
  },
  {
   "cell_type": "code",
   "execution_count": null,
   "metadata": {
    "ExecuteTime": {
     "end_time": "2019-11-01T08:12:35.642335Z",
     "start_time": "2019-11-01T08:12:35.632364Z"
    }
   },
   "outputs": [],
   "source": [
    "strat_val = {}\n",
    "val = 0\n",
    "for o in order:\n",
    "    if o in thickness:\n",
    "        strat_val[o] = val\n",
    "        val+=thickness[o]\n",
    "        \n",
    "display(strat_val)"
   ]
  },
  {
   "cell_type": "markdown",
   "metadata": {},
   "source": [
    "Now add the stratigraphic value calculated by accumulating the thickness to the contacts dataset."
   ]
  },
  {
   "cell_type": "code",
   "execution_count": null,
   "metadata": {
    "ExecuteTime": {
     "end_time": "2019-11-01T08:12:35.664276Z",
     "start_time": "2019-11-01T08:12:35.645327Z"
    }
   },
   "outputs": [],
   "source": [
    "orientations = pd.read_csv('../test_data3/output/orientations.csv')\n",
    "contacts = pd.read_csv('../test_data3/output/contacts4.csv')"
   ]
  },
  {
   "cell_type": "code",
   "execution_count": null,
   "metadata": {
    "ExecuteTime": {
     "end_time": "2019-11-01T08:12:35.847785Z",
     "start_time": "2019-11-01T08:12:35.667269Z"
    }
   },
   "outputs": [],
   "source": [
    "# orientations = orientations.rename(columns={\"formation\":\"type\"})\n",
    "# contacts = contacts.rename(columns={\"formation\":\"formatype\"})\n",
    "contacts['val'] = np.nan \n",
    "\n",
    "for o in strat_val:\n",
    "    contacts.loc[contacts['formation']==o,'val'] = strat_val[o]\n",
    "data = pd.concat([orientations,contacts],sort=False)\n",
    "data['type'] = np.nan\n",
    "for o in order:\n",
    "    data.loc[data['formation']==o,'type'] = 's0'\n",
    "data "
   ]
  },
  {
   "cell_type": "code",
   "execution_count": null,
   "metadata": {
    "ExecuteTime": {
     "end_time": "2019-11-01T08:12:35.956496Z",
     "start_time": "2019-11-01T08:12:35.851781Z"
    }
   },
   "outputs": [],
   "source": [
    "from pyamg import solve\n",
    "def solve_pyamg(A,B):\n",
    "    return solve(A,B,verb=False,tol=1e-8)\n"
   ]
  },
  {
   "cell_type": "markdown",
   "metadata": {},
   "source": [
    "## Set up loop structural geological model"
   ]
  },
  {
   "cell_type": "code",
   "execution_count": null,
   "metadata": {
    "ExecuteTime": {
     "end_time": "2019-11-01T08:12:35.969463Z",
     "start_time": "2019-11-01T08:12:35.959488Z"
    }
   },
   "outputs": [],
   "source": [
    "boundary_points = np.zeros((2,3))\n",
    "boundary_points[0,0] = 500000.0000000026#origin[0]#-1000#-10 #np.min(coords[:,0])-10\n",
    "boundary_points[0,1] = 7454093.693147668#origin[1]#-1000#-10 #np.min(coords[:,1])\n",
    "boundary_points[0,2] = -20000#origin[2]#-4500#-5000#0#-40#minz\n",
    "boundary_points[1,0] = 605065.8521#maximum[0]#10000#10000 #np.max(coords[:,0])\n",
    "boundary_points[1,1] = 7567173.042479938#maximum[1]#10000#12000 #np.max(coords[:,1])\n",
    "boundary_points[1,2] = 500#maximum[2]#500#500#-50000#-minz*0.1"
   ]
  },
  {
   "cell_type": "code",
   "execution_count": null,
   "metadata": {
    "ExecuteTime": {
     "end_time": "2019-11-01T08:16:54.187920Z",
     "start_time": "2019-11-01T08:12:35.973450Z"
    }
   },
   "outputs": [],
   "source": [
    "model = GeologicalModel(boundary_points[0,:],boundary_points[1,:])\n",
    "model.set_model_data(data)\n",
    "strati = model.create_and_add_conformable_foliation('s0', #identifier in data frame\n",
    "                                                    interpolatortype=\"FDI\", #which interpolator to use\n",
    "                                                    nelements=400000, # how many tetras/voxels\n",
    "                                                    buffer=0.1, # how much to extend nterpolation around box\n",
    "                                                    solver='external',\n",
    "                                                    external=solve_pyamg\n",
    "                                                   )"
   ]
  },
  {
   "cell_type": "code",
   "execution_count": null,
   "metadata": {
    "ExecuteTime": {
     "end_time": "2019-11-01T08:16:58.920270Z",
     "start_time": "2019-11-01T08:16:54.189889Z"
    }
   },
   "outputs": [],
   "source": [
    "viewer = LavaVuModelViewer()\n",
    "viewer.add_data(strati)\n",
    "viewer.add_isosurface(strati,\n",
    "#                       nslices=10,\n",
    "                      slices= strat_val.values(),\n",
    "#                     voxet={'bounding_box':boundary_points,'nsteps':(100,100,50)},\n",
    "                      paint_with=strati,\n",
    "                      cmap='tab20'\n",
    "\n",
    "                     )\n",
    "viewer.add_scalar_field(model.bounding_box,(100,100,100),\n",
    "                          'scalar',\n",
    "#                             norm=True,\n",
    "                         paint_with=strati,\n",
    "                         cmap='tab20')\n",
    "viewer.set_viewer_rotation([-53.8190803527832, -17.1993350982666, -2.1576387882232666])\n",
    "viewer.save(\"fdi_surfaces.png\")\n",
    "viewer.interactive()"
   ]
  },
  {
   "cell_type": "code",
   "execution_count": null,
   "metadata": {},
   "outputs": [],
   "source": []
  }
 ],
 "metadata": {
  "hide_input": false,
  "kernelspec": {
   "display_name": "Python 3",
   "language": "python",
   "name": "python3"
  },
  "language_info": {
   "codemirror_mode": {
    "name": "ipython",
    "version": 3
   },
   "file_extension": ".py",
   "mimetype": "text/x-python",
   "name": "python",
   "nbconvert_exporter": "python",
   "pygments_lexer": "ipython3",
   "version": "3.7.3"
  },
  "varInspector": {
   "cols": {
    "lenName": 16,
    "lenType": 16,
    "lenVar": 40
   },
   "kernels_config": {
    "python": {
     "delete_cmd_postfix": "",
     "delete_cmd_prefix": "del ",
     "library": "var_list.py",
     "varRefreshCmd": "print(var_dic_list())"
    },
    "r": {
     "delete_cmd_postfix": ") ",
     "delete_cmd_prefix": "rm(",
     "library": "var_list.r",
     "varRefreshCmd": "cat(var_dic_list()) "
    }
   },
   "types_to_exclude": [
    "module",
    "function",
    "builtin_function_or_method",
    "instance",
    "_Feature"
   ],
   "window_display": false
  }
 },
 "nbformat": 4,
 "nbformat_minor": 2
}
