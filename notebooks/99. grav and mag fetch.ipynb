{
 "cells": [
  {
   "cell_type": "markdown",
   "metadata": {},
   "source": [
    "## map2loop: Fetching grav/mag grids (modified from example in geophys_utils by Alex Ip)\n",
    "https://github.com/GeoscienceAustralia/geophys_utils"
   ]
  },
  {
   "cell_type": "code",
   "execution_count": null,
   "metadata": {
    "pycharm": {
     "is_executing": false
    }
   },
   "outputs": [],
   "source": [
    "%matplotlib inline"
   ]
  },
  {
   "cell_type": "code",
   "execution_count": null,
   "metadata": {
    "pycharm": {
     "is_executing": false
    }
   },
   "outputs": [],
   "source": [
    "import os\n",
    "import netCDF4\n",
    "import numpy as np\n",
    "from geophys_utils import NetCDFGridUtils\n",
    "from geophys_utils import get_netcdf_edge_points, points2convex_hull\n",
    "import matplotlib.pyplot as plt"
   ]
  },
  {
   "cell_type": "code",
   "execution_count": null,
   "metadata": {
    "pycharm": {
     "is_executing": false
    }
   },
   "outputs": [],
   "source": [
    "minlong=117 # should back calc from metre system\n",
    "maxlong=118\n",
    "minlat=-23\n",
    "maxlat=-22\n"
   ]
  },
  {
   "cell_type": "code",
   "execution_count": null,
   "metadata": {
    "pycharm": {
     "is_executing": false
    }
   },
   "outputs": [],
   "source": [
    "# Open mag tmi vrtp netCDF4 Dataset\n",
    "mnetcdf_path = \"http://dapds00.nci.org.au/thredds/dodsC/rr2/national_geophysical_compilations/magmap_v6_2015_VRTP/magmap_v6_2015_VRTP.nc\"\n",
    "\n",
    "mnetcdf_dataset = netCDF4.Dataset(mnetcdf_path, 'r')\n",
    "print(type(mnetcdf_dataset))\n",
    "max_bytes = 500000000\n",
    "\n",
    "mnetcdf_grid_utils = NetCDFGridUtils(mnetcdf_dataset)\n",
    "#netcdf_grid_utils.__dict__\n",
    "mnetcdf_dataset.variables.keys()"
   ]
  },
  {
   "cell_type": "code",
   "execution_count": null,
   "metadata": {
    "pycharm": {
     "is_executing": false
    }
   },
   "outputs": [],
   "source": [
    "lats = mnetcdf_dataset.variables['lat'][:]\n",
    "lons = mnetcdf_dataset.variables['lon'][:]\n",
    "latselect = np.logical_and(lats>minlat,lats<maxlat)\n",
    "lonselect = np.logical_and(lons>minlong,lons<maxlong)\n",
    "\n",
    "mdata = mnetcdf_dataset.variables['mag_tmi_rtp_anomaly'][latselect,lonselect]\n",
    "print(mdata.shape)\n"
   ]
  },
  {
   "cell_type": "code",
   "execution_count": null,
   "metadata": {
    "pycharm": {
     "is_executing": false
    }
   },
   "outputs": [],
   "source": [
    "# Open grav netCDF4 Dataset\n",
    "\n",
    "gnetcdf_path = \"http://dapds00.nci.org.au/thredds/dodsC/rr2/national_geophysical_compilations/IR_gravity_anomaly_Australia_V1/IR_gravity_anomaly_Australia_V1.nc\"\n",
    "gnetcdf_dataset = netCDF4.Dataset(gnetcdf_path, 'r')\n",
    "print(type(gnetcdf_dataset))\n",
    "max_bytes = 500000000\n",
    "\n",
    "gnetcdf_grid_utils = NetCDFGridUtils(gnetcdf_dataset)\n",
    "#netcdf_grid_utils.__dict__\n",
    "gnetcdf_dataset.variables.keys()"
   ]
  },
  {
   "cell_type": "code",
   "execution_count": null,
   "metadata": {
    "pycharm": {
     "is_executing": false
    }
   },
   "outputs": [],
   "source": [
    "lats = gnetcdf_dataset.variables['lat'][:]\n",
    "lons = gnetcdf_dataset.variables['lon'][:]\n",
    "latselect = np.logical_and(lats>minlat,lats<maxlat)\n",
    "lonselect = np.logical_and(lons>minlong,lons<maxlong)\n",
    "\n",
    "\n",
    "gdata = gnetcdf_dataset.variables['grav_ir_anomaly'][latselect,lonselect]\n",
    "print(gdata.shape)\n",
    "\n",
    "fig, ax = plt.subplots(1,2,figsize=(13, 13))\n",
    "fig.tight_layout()\n",
    "\n",
    "ax[0].title.set_text('Mag TMI vRTP' )\n",
    "ax[1].title.set_text('Grav')\n",
    "\n",
    "ax[0].imshow(mdata[::],cmap='YlGnBu');\n",
    "ax[1].imshow(gdata[::],cmap='gist_rainbow');\n",
    "plt.show()"
   ]
  },
  {
   "cell_type": "code",
   "execution_count": null,
   "metadata": {},
   "outputs": [],
   "source": []
  }
 ],
 "metadata": {
  "anaconda-cloud": {},
  "kernelspec": {
   "display_name": "Python 3",
   "language": "python",
   "name": "python3"
  },
  "language_info": {
   "codemirror_mode": {
    "name": "ipython",
    "version": 3
   },
   "file_extension": ".py",
   "mimetype": "text/x-python",
   "name": "python",
   "nbconvert_exporter": "python",
   "pygments_lexer": "ipython3",
   "version": "3.7.3"
  }
 },
 "nbformat": 4,
 "nbformat_minor": 1
}
