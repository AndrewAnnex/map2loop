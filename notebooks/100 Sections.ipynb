{
 "cells": [
  {
   "cell_type": "markdown",
   "metadata": {},
   "source": [
    "## Import sections and convert"
   ]
  },
  {
   "cell_type": "code",
   "execution_count": null,
   "metadata": {
    "ExecuteTime": {
     "end_time": "2020-02-17T01:43:27.699809Z",
     "start_time": "2020-02-17T01:43:27.686842Z"
    }
   },
   "outputs": [],
   "source": [
    "import geopandas as gpd\n",
    "import pandas as pd\n",
    "import rasterio\n",
    "from shapely.geometry import shape, Polygon, LineString, Point\n",
    "from shapely.ops import nearest_points\n",
    "from math import acos, degrees, sqrt\n",
    "from map2loop import m2l_utils\n",
    "%matplotlib inline\n"
   ]
  },
  {
   "cell_type": "code",
   "execution_count": null,
   "metadata": {
    "ExecuteTime": {
     "end_time": "2020-02-17T00:51:35.340752Z",
     "start_time": "2020-02-17T00:51:34.456958Z"
    }
   },
   "outputs": [],
   "source": [
    "seismic_line_file='../test_data3/data/seismic_line_10GA-CP1_rev.shp'   #input geology file (if local)\n",
    "\n",
    "seismic_line = gpd.read_file(seismic_line_file) #import map\n",
    "\n",
    "seismic_line.plot(figsize=(10,10),edgecolor='#000000',linewidth=0.2) #display map\n",
    "display(seismic_line)\n"
   ]
  },
  {
   "cell_type": "code",
   "execution_count": null,
   "metadata": {
    "ExecuteTime": {
     "end_time": "2020-02-17T00:51:35.694848Z",
     "start_time": "2020-02-17T00:51:35.344738Z"
    }
   },
   "outputs": [],
   "source": [
    "seismic_bbox_file='../test_data3/data/seismic_bbox.shp'   #input geology file (if local)\n",
    "\n",
    "seismic_bbox = gpd.read_file(seismic_bbox_file) #import map\n",
    "\n",
    "seismic_bbox.plot(figsize=(10,10),edgecolor='#000000',linewidth=0.2) #display map\n",
    "seismic_bbox.set_index('POSITION',inplace=True)\n",
    "display(seismic_bbox,seismic_bbox.loc['BR'])"
   ]
  },
  {
   "cell_type": "code",
   "execution_count": null,
   "metadata": {
    "ExecuteTime": {
     "end_time": "2020-02-20T09:49:10.387569Z",
     "start_time": "2020-02-20T09:49:10.007579Z"
    }
   },
   "outputs": [],
   "source": [
    "seismic_interp_file='../test_data3/data/seismic_interp.shp'   #input geology file (if local)\n",
    "\n",
    "seismic_interp = gpd.read_file(seismic_interp_file) #import map\n",
    "\n",
    "seismic_interp.plot(column='FEATURE',figsize=(10,10),edgecolor='#000000',linewidth=0.5) #display map\n",
    "display(seismic_interp)"
   ]
  },
  {
   "cell_type": "code",
   "execution_count": null,
   "metadata": {
    "ExecuteTime": {
     "end_time": "2020-02-17T00:51:36.140610Z",
     "start_time": "2020-02-17T00:51:36.111687Z"
    }
   },
   "outputs": [],
   "source": [
    "dtm_reproj_file='../test_data3/dtm/dtm_rp.tif'\n",
    "dtm = rasterio.open(dtm_reproj_file)\n"
   ]
  },
  {
   "cell_type": "markdown",
   "metadata": {},
   "source": [
    "def to convert section x,y to real_world x,y,z based on dtm & seismic line m2l_section.section2model()\n",
    "parse section geodataframe and save fault location info below buffer depth m2l_section.process_faults()\n",
    "parse section geodataframe and save basal contact location info below buffer depth m2l_section.process_strat()\n",
    "parse section geodataframe and process fault-fault topology and fault-strat topology and strat topology m2l_section.process_topology()\n",
    "\n"
   ]
  },
  {
   "cell_type": "code",
   "execution_count": null,
   "metadata": {
    "ExecuteTime": {
     "end_time": "2020-02-17T00:51:36.176516Z",
     "start_time": "2020-02-17T00:51:36.145596Z"
    }
   },
   "outputs": [],
   "source": [
    "def bboxscale(seismic_bbox):\n",
    "    xscale=seismic_bbox.loc['TR'].geometry.x-seismic_bbox.loc['TL'].geometry.x\n",
    "    yscale=seismic_bbox.loc['TR'].geometry.y-seismic_bbox.loc['BR'].geometry.y\n",
    "    return(xscale,yscale)\n",
    "\n",
    "xscale,yscale=bboxscale(seismic_bbox)\n",
    "\n",
    "print(xscale,yscale)"
   ]
  },
  {
   "cell_type": "code",
   "execution_count": null,
   "metadata": {
    "ExecuteTime": {
     "end_time": "2020-02-17T00:51:36.197457Z",
     "start_time": "2020-02-17T00:51:36.179537Z"
    }
   },
   "outputs": [],
   "source": [
    "def section2model(seismic_line,seismic_bbox,sx,sy):\n",
    "    sx1=(sx-seismic_bbox.loc['TL'].geometry.x)/(seismic_bbox.loc['TR'].geometry.x-seismic_bbox.loc['TL'].geometry.x)\n",
    "    sy1=(sy-seismic_bbox.loc['TR'].geometry.y)\n",
    "    for indx,lines in seismic_line.iterrows():\n",
    "        s_ls=LineString(lines.geometry)\n",
    "        full_dist=s_ls.length\n",
    "        break\n",
    "        \n",
    "    for indx,lines in seismic_line.iterrows():\n",
    "        s_ls=LineString(lines.geometry)\n",
    "        first=True\n",
    "        cdist=0\n",
    "        for seg in s_ls.coords:        \n",
    "            if(not first):\n",
    "                dist=m2l_utils.ptsdist(seg[0],seg[1],lsegx,lsegy)\n",
    "                cdist=cdist+dist\n",
    "                norm_dist=cdist/full_dist\n",
    "                if(sx1>last_norm_dist and sx1<norm_dist):\n",
    "                    local_norm=((sx1-last_norm_dist)/(norm_dist-last_norm_dist))\n",
    "                    mx=lsegx+((seg[0]-lsegx)*local_norm)\n",
    "                    my=lsegy+((seg[1]-lsegy)*local_norm)\n",
    "                    return(mx,my)\n",
    "                lsegx=seg[0]\n",
    "                lsegy=seg[1]\n",
    "                last_norm_dist=norm_dist\n",
    "            else:\n",
    "                first=False\n",
    "                lsegx=seg[0]\n",
    "                lsegy=seg[1]\n",
    "                last_norm_dist=0\n",
    "        return(-999,-999)\n"
   ]
  },
  {
   "cell_type": "code",
   "execution_count": null,
   "metadata": {
    "ExecuteTime": {
     "end_time": "2020-02-17T00:51:36.216409Z",
     "start_time": "2020-02-17T00:51:36.203442Z"
    }
   },
   "outputs": [],
   "source": [
    "sx,sy=1730.227349563404, -751.33526691666\n",
    "\n",
    "mx,my=section2model(seismic_line,seismic_bbox,sx,sy)\n",
    "print(mx,my)"
   ]
  },
  {
   "cell_type": "code",
   "execution_count": null,
   "metadata": {
    "ExecuteTime": {
     "end_time": "2020-02-17T00:51:36.253311Z",
     "start_time": "2020-02-17T00:51:36.223394Z"
    }
   },
   "outputs": [],
   "source": [
    "def extract_section(tmp_path,output_path,seismic_line,seismic_bbox,seismic_interp,dtm,surface_cut):\n",
    "    fault_clip_file=tmp_path+'faults_clip.shp'   \n",
    "    faults = gpd.read_file(fault_clip_file) #import faults    \n",
    "    all_sorts=pd.read_csv(tmp_path+'all_sorts2.csv',\",\")\n",
    "    sf=open(output_path+'seismic_faults.csv',\"w\")\n",
    "    sf.write('X,Y,Z,formation\\n')\n",
    "    sb=open(output_path+'seismic_base.csv',\"w\")\n",
    "    sb.write('X,Y,Z,formation\\n')\n",
    "    for indx,interps in seismic_interp.iterrows():\n",
    "        i_ls=LineString(interps.geometry)\n",
    "        for seg in i_ls.coords:\n",
    "            mx,my=section2model(seismic_line,seismic_bbox,seg[0],seg[1])\n",
    "            if( mx != -999 and  my != -999):\n",
    "                mz=seismic_bbox.loc['BR']['DEPTH']*(seismic_bbox.loc['TR'].geometry.y-seg[1])/(seismic_bbox.loc['TR'].geometry.y-seismic_bbox.loc['BR'].geometry.y)\n",
    "                locations=[(mx,my)]\n",
    "                height= m2l_utils.value_from_raster(dtm,locations)\n",
    "                if(not height==-999 and mz>surface_cut):\n",
    "                    mz2=-mz+float(height)\n",
    "                    #print(mx,my,mz,height,mz2)\n",
    "                    if(str(interps['IDENT'])=='None'):\n",
    "                        ident='None'\n",
    "                    else:\n",
    "                        ident=str(interps['IDENT'])\n",
    "                    if('Base' in interps['FEATURE']):\n",
    "                        maxfm=0\n",
    "                        maxname=''\n",
    "                        for indx,formation in all_sorts.iterrows():\n",
    "                            if(formation['group'] in interps['IDENT'] and formation['index in group']>maxfm):\n",
    "                                maxfm=formation['index in group']\n",
    "                                maxname=formation['code']\n",
    "                        ostr=str(mx)+','+str(my)+','+str(mz2)+','+maxname+'\\n'\n",
    "                        sb.write(ostr)\n",
    "                    else:\n",
    "                        for indx,aflt in faults.iterrows():\n",
    "                            if(not str(aflt['NAME'])=='None' and not ident == 'None'):\n",
    "                                fname=aflt['NAME'].replace(\" \",\"_\")\n",
    "                                if(fname in interps['IDENT'] ):\n",
    "                                    fault_id='Fault_'+str(aflt['OBJECTID'])\n",
    "                                    ostr=str(mx)+','+str(my)+','+str(mz2)+','+fault_id+'\\n'\n",
    "                                    sf.write(ostr)\n",
    "                                    break\n",
    "    sf.close()\n",
    "    sb.close()\n"
   ]
  },
  {
   "cell_type": "code",
   "execution_count": null,
   "metadata": {
    "ExecuteTime": {
     "end_time": "2020-02-17T00:52:15.775580Z",
     "start_time": "2020-02-17T00:52:13.798870Z"
    }
   },
   "outputs": [],
   "source": [
    "tmp_path='../test_data3/tmp/'\n",
    "output_path='../test_data3/output/'\n",
    "\n",
    "extract_section(tmp_path,output_path,seismic_line,seismic_bbox,seismic_interp,dtm,2000)"
   ]
  },
  {
   "cell_type": "code",
   "execution_count": null,
   "metadata": {
    "ExecuteTime": {
     "end_time": "2020-02-17T00:52:16.831862Z",
     "start_time": "2020-02-17T00:52:16.796950Z"
    }
   },
   "outputs": [],
   "source": [
    "all_sorts=pd.read_csv('../test_data3/tmp/all_sorts2.csv',\",\")\n",
    "display(all_sorts)"
   ]
  },
  {
   "cell_type": "code",
   "execution_count": null,
   "metadata": {
    "ExecuteTime": {
     "end_time": "2020-02-17T00:52:18.156317Z",
     "start_time": "2020-02-17T00:52:18.138364Z"
    }
   },
   "outputs": [],
   "source": [
    "maxfm=0\n",
    "maxname=''\n",
    "for indx,formation in all_sorts.iterrows():\n",
    "    if(formation['group'] in 'Fortescue_Group' and formation['index in group']>maxfm):\n",
    "        maxfm=formation['index in group']\n",
    "        maxname=formation['code']\n",
    "print('base fm =',maxfm,maxname)"
   ]
  },
  {
   "cell_type": "code",
   "execution_count": null,
   "metadata": {
    "ExecuteTime": {
     "end_time": "2020-02-17T00:52:19.186606Z",
     "start_time": "2020-02-17T00:52:18.982107Z"
    }
   },
   "outputs": [],
   "source": [
    "fault_clip_file='../test_data3/tmp/faults_clip.shp'   \n",
    "\n",
    "faults = gpd.read_file(fault_clip_file) #import faults\n",
    "display(faults)"
   ]
  },
  {
   "cell_type": "code",
   "execution_count": null,
   "metadata": {
    "ExecuteTime": {
     "end_time": "2020-02-17T00:52:20.141089Z",
     "start_time": "2020-02-17T00:52:20.118146Z"
    }
   },
   "outputs": [],
   "source": [
    "for indx,aflt in faults.iterrows():\n",
    "    if(not str(aflt['NAME'])=='None'):\n",
    "        fname=aflt['NAME'].replace(\" \",\"_\")\n",
    "        if(fname in 'Coppin_Fault' ):\n",
    "            fault_id='Fault_'+str(aflt['OBJECTID'])\n",
    "            print(fname,fault_id)\n",
    "            break"
   ]
  },
  {
   "cell_type": "code",
   "execution_count": null,
   "metadata": {
    "ExecuteTime": {
     "end_time": "2020-02-17T05:33:14.267375Z",
     "start_time": "2020-02-17T05:33:13.010214Z"
    }
   },
   "outputs": [],
   "source": [
    "fault_orientation_file=output_path+'fault_orientations.csv'\n",
    "fault_clip_file=tmp_path+'faults_clip.shp'\n",
    "\n",
    "def assign_fault_dips(seismic_interp_file,fault_clip_file,fault_orientation_file,seismic_bbox):\n",
    "    fault_orientations=pd.read_csv(fault_orientation_file,\",\")\n",
    "    fault_orientations.set_index('formation',inplace=True)\n",
    "    #display(fault_orientations)\n",
    "    faults = gpd.read_file(fault_clip_file) #import faults    \n",
    "    interps = gpd.read_file(seismic_interp_file) #import interps\n",
    "    \n",
    "    for ind,interps in interps.iterrows():\n",
    "        if('Fault' in interps['FEATURE'] and 'None' in str(interps['IDENT'])):\n",
    "            #display(interps)\n",
    "            i_ls=LineString(interps.geometry)\n",
    "            pts=len(interps.geometry.coords)\n",
    "            if(interps.geometry.coords[0][1]<interps.geometry.coords[pts-1][1]):\n",
    "                shallowestx=interps.geometry.coords[pts-1][0]\n",
    "                shallowesty=interps.geometry.coords[pts-1][1]\n",
    "                nshallowestx=interps.geometry.coords[pts-2][0]\n",
    "                nshallowesty=interps.geometry.coords[pts-2][1]\n",
    "            else:\n",
    "                shallowestx=interps.geometry.coords[0][0]\n",
    "                shallowesty=interps.geometry.coords[0][1]\n",
    "                nshallowestx=interps.geometry.coords[1][0]\n",
    "                nshallowesty=interps.geometry.coords[1][1]\n",
    "            print(ind)    \n",
    "            smx,smy=section2model(seismic_line,seismic_bbox,shallowestx,shallowesty)\n",
    "            if( smx != -999 and smy != -999):\n",
    "                nsmx,nsmy=section2model(seismic_line,seismic_bbox,nshallowestx,nshallowesty)\n",
    "                smz=-seismic_bbox.loc['BR']['DEPTH']*(seismic_bbox.loc['TR'].geometry.y-shallowesty)/(seismic_bbox.loc['TR'].geometry.y-seismic_bbox.loc['BR'].geometry.y)\n",
    "                nsmz=-seismic_bbox.loc['BR']['DEPTH']*(seismic_bbox.loc['TR'].geometry.y-nshallowesty)/(seismic_bbox.loc['TR'].geometry.y-seismic_bbox.loc['BR'].geometry.y)\n",
    "                #print(shallowestx,shallowesty,nshallowestx,nshallowesty,smx,smy,smz,nsmx,nsmy,nsmz)\n",
    "\n",
    "                dx=sqrt(((smx-nsmx)*(smx-nsmx))+((smy-nsmy)*(smy-nsmy)))\n",
    "                dy=smz-nsmz\n",
    "                fl,fm=m2l_utils.pts2dircos(0,0,dx,dy)\n",
    "                dip=-(90-degrees(acos(fm)))\n",
    "                #print('dip',fl,fm,-dip)\n",
    "\n",
    "                closest=1e9\n",
    "                close_indx=-1\n",
    "                ipt=Point((smx,smy))\n",
    "                for indx,aflt in faults.iterrows():\n",
    "                    close=nearest_points(aflt.geometry, ipt)\n",
    "                    #print(close[0].x,close[0].y,close[1].x,close[1].y)\n",
    "                    dist=m2l_utils.ptsdist(close[0].x,close[0].y,close[1].x,close[1].y)\n",
    "                    if( 'Fault_'+str(aflt['OBJECTID']) in fault_orientations.index):\n",
    "                        fid='Fault_'+str(aflt['OBJECTID'])\n",
    "                        ddir=fault_orientations.loc[fid]['DipDirection']\n",
    "                        tracel,tracem=m2l_utils.pts2dircos(smx,smy,nsmx,nsmy)\n",
    "                        fl,fm,fn=m2l_utils.ddd2dircos(90.0,ddir)\n",
    "                        angle=degrees(acos((tracel*fm)+(-tracem*fl))) #swap because dip direction\n",
    "                        #print(fid,angle,tracel,tracem,fl,fm)\n",
    "                        if(dist<closest and dist < 10000 and angle>40 and angle < 140 ):\n",
    "                            closest=dist\n",
    "                            close_indx=indx\n",
    "                            angle_max=angle\n",
    "                            ddirmax=ddir\n",
    "                            fidmax=fid\n",
    "                if(angle > 90):\n",
    "                    dipdir=ddirmax\n",
    "                else:\n",
    "                    dipdir=ddirmax+180\n",
    "                #print(fidmax,smx,smy,close_indx,closest,faults.iloc[close_indx]['OBJECTID'],angle,ddirmax,dipdir)\n",
    "                print(fidmax,dipdir,dip)\n",
    "            \n",
    "            # figure out if correct yup\n",
    "            # understand >90 values gone\n",
    "            # loop thorugh fault_orientations to find closest fault:\n",
    "            #          assign fault dip to nearest fault that CUTS line at HIGH ANGLE!!! \n",
    "            #          but local angle hard to estimate from global\n",
    "            # loop through fault_orientations:\n",
    "            #          write out new fault_orientations file with updated orientation \n",
    "            # NOT WORKING #########   (with test of dip directon wrt to fault string ordering)\n",
    "            # basically matching surface ruptures to seismic faults is really hard, even when they are both named!\n",
    "\n",
    "assign_fault_dips(seismic_interp_file,fault_clip_file,fault_orientation_file,seismic_bbox)            "
   ]
  },
  {
   "cell_type": "code",
   "execution_count": null,
   "metadata": {},
   "outputs": [],
   "source": []
  },
  {
   "cell_type": "code",
   "execution_count": null,
   "metadata": {},
   "outputs": [],
   "source": []
  }
 ],
 "metadata": {
  "hide_input": false,
  "kernelspec": {
   "display_name": "Python 3",
   "language": "python",
   "name": "python3"
  },
  "language_info": {
   "codemirror_mode": {
    "name": "ipython",
    "version": 3
   },
   "file_extension": ".py",
   "mimetype": "text/x-python",
   "name": "python",
   "nbconvert_exporter": "python",
   "pygments_lexer": "ipython3",
   "version": "3.7.3"
  }
 },
 "nbformat": 4,
 "nbformat_minor": 2
}
