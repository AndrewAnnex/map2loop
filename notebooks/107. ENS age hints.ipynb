{
 "cells": [
  {
   "cell_type": "markdown",
   "metadata": {},
   "source": [
    "## Test code to scrape stratigraphic ordering from GSWA ENS website"
   ]
  },
  {
   "cell_type": "code",
   "execution_count": null,
   "metadata": {
    "ExecuteTime": {
     "end_time": "2020-03-18T07:06:04.235472Z",
     "start_time": "2020-03-18T07:06:04.229490Z"
    }
   },
   "outputs": [],
   "source": [
    "import pandas as pd\n",
    "import geopandas as gpd\n",
    "from urllib.request import urlopen\n",
    "\n",
    "%matplotlib inline"
   ]
  },
  {
   "cell_type": "code",
   "execution_count": null,
   "metadata": {
    "ExecuteTime": {
     "end_time": "2020-03-18T07:06:06.148457Z",
     "start_time": "2020-03-18T07:06:05.902019Z"
    }
   },
   "outputs": [],
   "source": [
    "ens_file='../test_data3/data/LITHSTRAT_clean.csv'   #input ens file \n",
    "ens=pd.read_csv(ens_file,sep=',')\n",
    "unique_ens=ens['GEOLCODE'].unique()\n",
    "ens.set_index('GEOLCODE',  inplace = True)\n",
    "display(ens)\n",
    "print(unique_ens)"
   ]
  },
  {
   "cell_type": "code",
   "execution_count": null,
   "metadata": {
    "ExecuteTime": {
     "end_time": "2020-03-18T07:06:11.995537Z",
     "start_time": "2020-03-18T07:06:11.624530Z"
    }
   },
   "outputs": [],
   "source": [
    "geology_file='../test_data3/data/hams2_geol.shp'\n",
    "geology = gpd.read_file(geology_file)"
   ]
  },
  {
   "cell_type": "code",
   "execution_count": null,
   "metadata": {
    "ExecuteTime": {
     "end_time": "2020-03-18T07:06:13.948406Z",
     "start_time": "2020-03-18T07:06:13.942411Z"
    }
   },
   "outputs": [],
   "source": [
    "codes=geology['CODE'].unique()\n",
    "display(codes)"
   ]
  },
  {
   "cell_type": "code",
   "execution_count": null,
   "metadata": {
    "ExecuteTime": {
     "end_time": "2020-03-18T07:07:23.972508Z",
     "start_time": "2020-03-18T07:06:16.193394Z"
    },
    "scrolled": false
   },
   "outputs": [],
   "source": [
    "code_hint=open('../test_data3/data/code_age_hint.csv','w')\n",
    "code_hint.write('hint,code\\n')\n",
    "ens_url='https://reportviewer.dmp.wa.gov.au/reportviewer/Default.aspx?reportPath=/ENS/Lithstrat%20Report&UnitNo='\n",
    "for code in codes:\n",
    "    if( code in unique_ens):\n",
    "        full_url=ens_url+str(int(ens.loc[code]['PARENT_LITHSTRATNO']))\n",
    "        #print()\n",
    "        print(code,full_url)\n",
    "        f = urlopen(full_url)\n",
    "        for line in f:\n",
    "            decoded_line = line.decode(\"utf-8\")\n",
    "            if('Child units' in decoded_line):\n",
    "                data=decoded_line.split('GEOLCODE=')\n",
    "                #print(len(data))\n",
    "                for iota in range(2,len(data)):\n",
    "                    thecode=data[iota].split('&amp;')\n",
    "                    #if(thecode[0] in codes):\n",
    "                    code_hint.write(str((iota-2)/100)+','+thecode[0]+'\\n')\n",
    "    else:\n",
    "        code_hint.write('0'+','+code+'\\n')\n",
    "    \n",
    "        \n",
    "code_hint.close()\n"
   ]
  },
  {
   "cell_type": "code",
   "execution_count": null,
   "metadata": {
    "ExecuteTime": {
     "end_time": "2020-03-18T07:07:34.097815Z",
     "start_time": "2020-03-18T07:07:34.034983Z"
    }
   },
   "outputs": [],
   "source": [
    "code_hint_file='../test_data3/data/code_age_hint.csv'   #input code_hint file \n",
    "code_hints=pd.read_csv(code_hint_file,sep=',')\n",
    "code_hints.drop_duplicates(inplace = True)\n",
    "code_hints.set_index('code',  inplace = True)\n",
    "\n",
    "display(code_hints) \n",
    "\n"
   ]
  },
  {
   "cell_type": "code",
   "execution_count": null,
   "metadata": {},
   "outputs": [],
   "source": []
  }
 ],
 "metadata": {
  "hide_input": false,
  "kernelspec": {
   "display_name": "Python 3",
   "language": "python",
   "name": "python3"
  },
  "language_info": {
   "codemirror_mode": {
    "name": "ipython",
    "version": 3
   },
   "file_extension": ".py",
   "mimetype": "text/x-python",
   "name": "python",
   "nbconvert_exporter": "python",
   "pygments_lexer": "ipython3",
   "version": "3.7.3"
  }
 },
 "nbformat": 4,
 "nbformat_minor": 2
}
