{
 "cells": [
  {
   "cell_type": "markdown",
   "metadata": {},
   "source": [
    "## 0. Pre-processing of inut data to allow correct selection of field names etc."
   ]
  },
  {
   "cell_type": "code",
   "execution_count": null,
   "metadata": {
    "ExecuteTime": {
     "end_time": "2020-03-25T07:03:07.176526Z",
     "start_time": "2020-03-25T07:03:04.278254Z"
    }
   },
   "outputs": [],
   "source": [
    "import os\n",
    "import ipywidgets as widgets\n",
    "import pandas as pd\n",
    "import geopandas as gpd\n",
    "import matplotlib\n",
    "from shapely.geometry import Polygon\n",
    "%matplotlib inline\n",
    "\n",
    "pd.set_option(\"display.max_columns\", 101)"
   ]
  },
  {
   "cell_type": "code",
   "execution_count": null,
   "metadata": {
    "ExecuteTime": {
     "end_time": "2020-03-25T07:03:07.241353Z",
     "start_time": "2020-03-25T07:03:07.184505Z"
    }
   },
   "outputs": [],
   "source": [
    "test_data_name='test_data3'\n",
    "\n",
    "test_data_path='../'+test_data_name+'/'\n",
    "\n",
    "os.chdir(test_data_path)\n",
    "%run -i \"m2l_config.py\"\n"
   ]
  },
  {
   "cell_type": "code",
   "execution_count": null,
   "metadata": {
    "ExecuteTime": {
     "end_time": "2020-03-25T07:03:09.828456Z",
     "start_time": "2020-03-25T07:03:07.253321Z"
    }
   },
   "outputs": [],
   "source": [
    "bbox=(minx,miny,maxx,maxy)\n",
    "bbox2=str(minx)+\",\"+str(miny)+\",\"+str(maxx)+\",\"+str(maxy)\n",
    "lat_point_list = [miny, miny, maxy, maxy, maxy]\n",
    "lon_point_list = [minx, maxx, maxx, minx, minx]\n",
    "bbox_geom = Polygon(zip(lon_point_list, lat_point_list))\n",
    "polygon = gpd.GeoDataFrame(index=[0], crs=dst_crs, geometry=[bbox_geom]) \n",
    "\n",
    "geology = gpd.read_file(geology_file,bbox=bbox)\n",
    "lines=gpd.read_file(fault_file,bbox=bbox)\n",
    "structures = gpd.read_file(structure_file,bbox=bbox)\n",
    "\n",
    "base=geology.plot(column=c_l['c'],figsize=(10,10),edgecolor='#000000',linewidth=0.2)\n",
    "structures.plot(ax=base, color='none',edgecolor='black')\n",
    "lines.plot(ax=base,cmap='rainbow',column=c_l['f'],figsize=(10,10),linewidth=0.4)\n",
    "polygon.plot(ax=base, color='none',edgecolor='black')\n",
    "\n",
    "\n",
    "\n"
   ]
  },
  {
   "cell_type": "code",
   "execution_count": null,
   "metadata": {
    "ExecuteTime": {
     "end_time": "2020-03-25T07:03:10.074830Z",
     "start_time": "2020-03-25T07:03:09.832449Z"
    }
   },
   "outputs": [],
   "source": [
    "display(geology.head(10))"
   ]
  },
  {
   "cell_type": "code",
   "execution_count": null,
   "metadata": {
    "ExecuteTime": {
     "end_time": "2020-03-25T07:03:10.121706Z",
     "start_time": "2020-03-25T07:03:10.078821Z"
    }
   },
   "outputs": [],
   "source": [
    "display(lines.head(10))"
   ]
  },
  {
   "cell_type": "code",
   "execution_count": null,
   "metadata": {
    "ExecuteTime": {
     "end_time": "2020-03-25T07:03:10.156582Z",
     "start_time": "2020-03-25T07:03:10.125696Z"
    }
   },
   "outputs": [],
   "source": [
    "display(structures.head(10))"
   ]
  },
  {
   "cell_type": "code",
   "execution_count": null,
   "metadata": {
    "ExecuteTime": {
     "end_time": "2020-03-25T07:03:10.165560Z",
     "start_time": "2020-03-25T07:03:10.161566Z"
    }
   },
   "outputs": [],
   "source": [
    "layer=geology"
   ]
  },
  {
   "cell_type": "code",
   "execution_count": null,
   "metadata": {
    "ExecuteTime": {
     "end_time": "2020-03-25T07:03:10.194483Z",
     "start_time": "2020-03-25T07:03:10.172538Z"
    }
   },
   "outputs": [],
   "source": [
    "w=widgets.ToggleButtons(\n",
    "    options=list(layer.columns.values),\n",
    "    description='Field:',\n",
    "    disabled=False,\n",
    "    button_style='', # 'success', 'info', 'warning', 'danger' or ''\n",
    ")\n"
   ]
  },
  {
   "cell_type": "code",
   "execution_count": null,
   "metadata": {
    "ExecuteTime": {
     "end_time": "2020-03-25T07:03:10.224399Z",
     "start_time": "2020-03-25T07:03:10.199466Z"
    }
   },
   "outputs": [],
   "source": [
    "display(w)\n",
    "\n",
    "s=widgets.ToggleButtons(\n",
    "    options=list(geology[w.value].values),\n",
    "    description='Unique Values:',\n",
    "    disabled=False,\n",
    "    button_style='', # 'success', 'info', 'warning', 'danger' or ''\n",
    ")\n"
   ]
  },
  {
   "cell_type": "code",
   "execution_count": null,
   "metadata": {
    "ExecuteTime": {
     "end_time": "2020-03-25T07:03:10.241354Z",
     "start_time": "2020-03-25T07:03:10.229391Z"
    }
   },
   "outputs": [],
   "source": [
    "display(s)\n",
    "print(s.value)"
   ]
  },
  {
   "cell_type": "code",
   "execution_count": null,
   "metadata": {
    "ExecuteTime": {
     "end_time": "2020-03-25T07:03:13.445840Z",
     "start_time": "2020-03-25T07:03:10.247340Z"
    }
   },
   "outputs": [],
   "source": [
    "from shapely.geometry import MultiPoint\n",
    "\n",
    "warox_name='warox_points_3354_28350'\n",
    "\n",
    "structure_file='http://geo.loop-gis.org/geoserver/loop/wfs?service=WFS&version=1.1.0&request=GetFeature&typeName='+warox_name+'&srs=EPSG%3A28350'\n",
    "points = gpd.read_file(structure_file)\n",
    "display(points.total_bounds)\n",
    "\n"
   ]
  },
  {
   "cell_type": "code",
   "execution_count": null,
   "metadata": {
    "ExecuteTime": {
     "end_time": "2020-03-25T07:03:13.455784Z",
     "start_time": "2020-03-25T07:03:13.447805Z"
    }
   },
   "outputs": [],
   "source": [
    "warox_name='for_ham_warox_28350'\n",
    "warox_name='warox_2749_28350'\n",
    "warox_name='warox_points_2954_28350'\n",
    "warox_name='warox_points_3154_28350'\n",
    "warox_name='warox_points_3155_28350'\n",
    "warox_name='warox_points_3156_28350'\n",
    "warox_name='warox_points_3252_28350'\n",
    "warox_name='warox_points_3253_28350'\n",
    "warox_name='warox_points_3254_28350'\n",
    "warox_name='warox_points_3352_28350'\n",
    "warox_name='warox_points_3353_28350'\n",
    "warox_name='warox_points_3354_28350'\n",
    "warox_name='warox_points_3451_28350'\n",
    "warox_name='warox_points_3452_28350'\n",
    "warox_name='warox_points_f5011'\n",
    "warox_name='warox_points_f5105_28350'\n",
    "warox_name='warox_points_f5110_28350'\n",
    "warox_name='warox_points_h5101_28350'\n",
    "warox_name='warox_points_h5109_28350'\n",
    "warox_name='warox_wa_28350'"
   ]
  },
  {
   "cell_type": "code",
   "execution_count": null,
   "metadata": {},
   "outputs": [],
   "source": []
  },
  {
   "cell_type": "code",
   "execution_count": null,
   "metadata": {},
   "outputs": [],
   "source": []
  }
 ],
 "metadata": {
  "hide_input": false,
  "kernelspec": {
   "display_name": "Python 3",
   "language": "python",
   "name": "python3"
  },
  "language_info": {
   "codemirror_mode": {
    "name": "ipython",
    "version": 3
   },
   "file_extension": ".py",
   "mimetype": "text/x-python",
   "name": "python",
   "nbconvert_exporter": "python",
   "pygments_lexer": "ipython3",
   "version": "3.7.3"
  },
  "toc": {
   "base_numbering": 1,
   "nav_menu": {},
   "number_sections": true,
   "sideBar": true,
   "skip_h1_title": false,
   "title_cell": "Table of Contents",
   "title_sidebar": "Contents",
   "toc_cell": true,
   "toc_position": {},
   "toc_section_display": true,
   "toc_window_display": false
  }
 },
 "nbformat": 4,
 "nbformat_minor": 2
}
