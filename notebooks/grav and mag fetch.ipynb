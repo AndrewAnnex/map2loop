{
 "cells": [
  {
   "cell_type": "markdown",
   "metadata": {},
   "source": [
    "## map2loop Fetch grav/mag grids (modified from example in geophys_utils by Alex Ip)\n",
    "https://github.com/GeoscienceAustralia/geophys_utils"
   ]
  },
  {
   "cell_type": "code",
   "execution_count": null,
   "metadata": {},
   "outputs": [],
   "source": [
    "%matplotlib inline"
   ]
  },
  {
   "cell_type": "code",
   "execution_count": null,
   "metadata": {},
   "outputs": [],
   "source": [
    "import os\n",
    "import netCDF4\n",
    "import numpy as np\n",
    "from geophys_utils import NetCDFGridUtils\n",
    "from geophys_utils import get_netcdf_edge_points, points2convex_hull\n",
    "import matplotlib.pyplot as plt"
   ]
  },
  {
   "cell_type": "code",
   "execution_count": null,
   "metadata": {},
   "outputs": [],
   "source": [
    "# Open mag tmi vrtp netCDF4 Dataset\n",
    "netcdf_path = \"http://dapds00.nci.org.au/thredds/dodsC/rr2/national_geophysical_compilations/magmap_v6_2015_VRTP/magmap_v6_2015_VRTP.nc\"\n",
    "\n",
    "netcdf_dataset = netCDF4.Dataset(netcdf_path, 'r')\n",
    "print(type(netcdf_dataset))\n",
    "max_bytes = 500000000\n",
    "\n",
    "netcdf_grid_utils = NetCDFGridUtils(netcdf_dataset)\n",
    "#netcdf_grid_utils.__dict__\n",
    "netcdf_dataset.variables.keys()"
   ]
  },
  {
   "cell_type": "code",
   "execution_count": null,
   "metadata": {},
   "outputs": [],
   "source": [
    "lats = netcdf_dataset.variables['lat'][:]\n",
    "lons = netcdf_dataset.variables['lon'][:]\n",
    "latselect = np.logical_and(lats>-23,lats<-22)\n",
    "lonselect = np.logical_and(lons>117,lons<118)\n",
    "data = netcdf_dataset.variables['mag_tmi_rtp_anomaly'][latselect,lonselect]\n",
    "print(data.shape)\n",
    "\n",
    "plt.contourf(data[::-1],cmap ='Spectral_r') # flip latitudes so they go south -> north\n",
    "plt.show()"
   ]
  },
  {
   "cell_type": "code",
   "execution_count": null,
   "metadata": {},
   "outputs": [],
   "source": [
    "# Open grav netCDF4 Dataset\n",
    "\n",
    "netcdf_path = \"http://dapds00.nci.org.au/thredds/dodsC/rr2/national_geophysical_compilations/IR_gravity_anomaly_Australia_V1/IR_gravity_anomaly_Australia_V1.nc\"\n",
    "netcdf_dataset = netCDF4.Dataset(netcdf_path, 'r')\n",
    "print(type(netcdf_dataset))\n",
    "max_bytes = 500000000\n",
    "\n",
    "netcdf_grid_utils = NetCDFGridUtils(netcdf_dataset)\n",
    "#netcdf_grid_utils.__dict__\n",
    "netcdf_dataset.variables.keys()"
   ]
  },
  {
   "cell_type": "code",
   "execution_count": null,
   "metadata": {},
   "outputs": [],
   "source": [
    "lats = netcdf_dataset.variables['lat'][:]\n",
    "lons = netcdf_dataset.variables['lon'][:]\n",
    "latselect = np.logical_and(lats>-23,lats<-22)\n",
    "lonselect = np.logical_and(lons>117,lons<118)\n",
    "data = netcdf_dataset.variables['grav_ir_anomaly'][latselect,lonselect]\n",
    "print(data.shape)\n",
    "\n",
    "plt.contourf(data[::-1],cmap ='gist_rainbow') # flip latitudes so they go south -> north\n",
    "plt.show()"
   ]
  },
  {
   "cell_type": "code",
   "execution_count": null,
   "metadata": {},
   "outputs": [],
   "source": []
  }
 ],
 "metadata": {
  "anaconda-cloud": {},
  "kernelspec": {
   "display_name": "Python 3",
   "language": "python",
   "name": "python3"
  },
  "language_info": {
   "codemirror_mode": {
    "name": "ipython",
    "version": 3
   },
   "file_extension": ".py",
   "mimetype": "text/x-python",
   "name": "python",
   "nbconvert_exporter": "python",
   "pygments_lexer": "ipython3",
   "version": "3.7.3"
  }
 },
 "nbformat": 4,
 "nbformat_minor": 1
}
