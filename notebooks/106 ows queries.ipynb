{
 "cells": [
  {
   "cell_type": "markdown",
   "metadata": {},
   "source": [
    "## 106 ows queries"
   ]
  },
  {
   "cell_type": "code",
   "execution_count": 18,
   "metadata": {
    "ExecuteTime": {
     "end_time": "2020-02-27T00:47:12.280241Z",
     "start_time": "2020-02-27T00:47:10.268625Z"
    }
   },
   "outputs": [],
   "source": [
    "from owslib.wfs import WebFeatureService\n",
    "from owslib.wms import WebMapService\n",
    "theurl='http://geo.loop-gis.org/geoserver/ows'\n",
    "wfs11 = WebFeatureService(url=theurl, version='1.1.0')\n",
    "wms13 = WebMapService(url=theurl, version='1.3.0')\n"
   ]
  },
  {
   "cell_type": "code",
   "execution_count": 50,
   "metadata": {
    "ExecuteTime": {
     "end_time": "2020-02-27T01:08:28.585421Z",
     "start_time": "2020-02-27T01:08:28.580541Z"
    }
   },
   "outputs": [
    {
     "name": "stdout",
     "output_type": "stream",
     "text": [
      "(115.99272623935559, -23.5235813335408, 120.00170238292081, -20.977329791505035, 'CRS:84')\n",
      "(112.50497203038721, -35.18707886396334, 131.0773498087898, -13.599509495313754, 'CRS:84')\n",
      "(112.55242447172265, -35.08057178619337, 131.01371934869573, -14.02714055228389, 'CRS:84')\n",
      "(119.00240424189712, -24.456232399599667, 119.48359385861902, -24.062253275844554, 'CRS:84')\n",
      "(119.99953107993117, -22.002049467102093, 120.50770244390554, -21.494018137663137, 'CRS:84')\n",
      "(120.99706893783959, -22.007136209399455, 121.50524501944327, -21.48991412582074, 'CRS:84')\n",
      "(121.00188991548269, -21.505171661091488, 121.50790891790577, -20.99036131505468, 'CRS:84')\n",
      "(120.9964884853735, -20.970912286710096, 121.32967090395049, -20.655333484592905, 'CRS:84')\n",
      "(121.51232877896734, -22.975736821697506, 122.01676322478383, -22.48901706986727, 'CRS:84')\n",
      "(121.48879678129481, -22.511272979798328, 122.01202924057553, -21.988716034926128, 'CRS:84')\n",
      "(121.48797183925878, -22.005766081626444, 122.00280633345443, -21.500723157033292, 'CRS:84')\n",
      "(121.99551718719162, -23.01057495652186, 122.5158301257474, -22.4859023298061, 'CRS:84')\n",
      "(121.98595958953406, -22.5107350069525, 122.47923120858681, -22.00034790093875, 'CRS:84')\n",
      "(121.99763086008596, -21.959921364732057, 122.51328731931461, -21.498065207079666, 'CRS:84')\n",
      "(122.5011549725963, -23.475878689933985, 123.02063275603778, -22.984228917745526, 'CRS:84')\n",
      "(122.48632155973446, -23.014092133682176, 123.00953423534939, -22.510310332977276, 'CRS:84')\n",
      "(117.00778128735067, -22.99736869208333, 118.50100368029536, -22.004952563853305, 'CRS:84')\n",
      "(119.98944106318748, -22.009208363321758, 121.49973598683312, -20.97220656029647, 'CRS:84')\n",
      "(121.48879678129481, -23.036571198324122, 122.93332171607989, -21.95894252036849, 'CRS:84')\n",
      "(119.99759970863212, -29.024441457756986, 121.49909525595453, -27.97184671993614, 'CRS:84')\n",
      "(790148.125, 6562635.0, 932656.625, 6676426.5, 'CRS:84')\n",
      "(114.50933506214079, -34.2374951958586, 130.82478560740057, -13.688079505493821, 'CRS:84')\n"
     ]
    }
   ],
   "source": [
    "wms_contents=wms13.contents\n",
    "for layer in wms_contents:\n",
    "    print(wms13[layer].boundingBox)\n"
   ]
  },
  {
   "cell_type": "code",
   "execution_count": 54,
   "metadata": {
    "ExecuteTime": {
     "end_time": "2020-02-27T01:13:59.137733Z",
     "start_time": "2020-02-27T01:13:59.127974Z"
    }
   },
   "outputs": [
    {
     "name": "stdout",
     "output_type": "stream",
     "text": [
      "Layer ID: loop:for_ham_warox_28350\n",
      "Title: for_ham_warox_28350\n",
      "Boundaries: (115.99272623935559, -23.5235813335408, 120.00170238292081, -20.977329791505035) \n",
      "\n",
      "Layer ID: loop:warox_2749_28350\n",
      "Title: warox_2749_28350\n",
      "Boundaries: (119.00240424189712, -24.456232399599667, 119.48359385861902, -24.062253275844554) \n",
      "\n",
      "Layer ID: loop:warox_points_2954_28350\n",
      "Title: warox_points_2954_28350\n",
      "Boundaries: (119.99953107993117, -22.002049467102093, 120.50770244390554, -21.494018137663137) \n",
      "\n",
      "Layer ID: loop:warox_points_3154_28350\n",
      "Title: warox_points_3154_28350\n",
      "Boundaries: (120.99706893783959, -22.007136209399455, 121.50524501944327, -21.48991412582074) \n",
      "\n",
      "Layer ID: loop:warox_points_3155_28350\n",
      "Title: warox_points_3155_28350\n",
      "Boundaries: (121.00188991548269, -21.505171661091488, 121.50790891790577, -20.99036131505468) \n",
      "\n",
      "Layer ID: loop:warox_points_3156_28350\n",
      "Title: warox_points_3156_28350\n",
      "Boundaries: (120.9964884853735, -20.970912286710096, 121.32967090395049, -20.655333484592905) \n",
      "\n",
      "Layer ID: loop:warox_points_3252_28350\n",
      "Title: warox_points_3252_28350\n",
      "Boundaries: (121.51232877896734, -22.975736821697506, 122.01676322478383, -22.48901706986727) \n",
      "\n",
      "Layer ID: loop:warox_points_3253_28350\n",
      "Title: warox_points_3253_28350\n",
      "Boundaries: (121.48879678129481, -22.511272979798328, 122.01202924057553, -21.988716034926128) \n",
      "\n",
      "Layer ID: loop:warox_points_3254_28350\n",
      "Title: warox_points_3254_28350\n",
      "Boundaries: (121.48797183925878, -22.005766081626444, 122.00280633345443, -21.500723157033292) \n",
      "\n",
      "Layer ID: loop:warox_points_3352_28350\n",
      "Title: warox_points_3352_28350\n",
      "Boundaries: (121.99551718719162, -23.01057495652186, 122.5158301257474, -22.4859023298061) \n",
      "\n",
      "Layer ID: loop:warox_points_3353_28350\n",
      "Title: warox_points_3353_28350\n",
      "Boundaries: (121.98595958953406, -22.5107350069525, 122.47923120858681, -22.00034790093875) \n",
      "\n",
      "Layer ID: loop:warox_points_3354_28350\n",
      "Title: warox_points_3354_28350\n",
      "Boundaries: (121.99763086008596, -21.959921364732057, 122.51328731931461, -21.498065207079666) \n",
      "\n",
      "Layer ID: loop:warox_points_3451_28350\n",
      "Title: warox_points_3451_28350\n",
      "Boundaries: (122.5011549725963, -23.475878689933985, 123.02063275603778, -22.984228917745526) \n",
      "\n",
      "Layer ID: loop:warox_points_3452_28350\n",
      "Title: warox_points_3452_28350\n",
      "Boundaries: (122.48632155973446, -23.014092133682176, 123.00953423534939, -22.510310332977276) \n",
      "\n",
      "Layer ID: loop:warox_points_f5011\n",
      "Title: warox_points_f5011\n",
      "Boundaries: (117.00778128735067, -22.99736869208333, 118.50100368029536, -22.004952563853305) \n",
      "\n",
      "Layer ID: loop:warox_points_f5105_28350\n",
      "Title: warox_points_f5105_28350\n",
      "Boundaries: (119.98944106318748, -22.009208363321758, 121.49973598683312, -20.97220656029647) \n",
      "\n",
      "Layer ID: loop:warox_points_f5110_28350\n",
      "Title: warox_points_f5110_28350\n",
      "Boundaries: (121.48879678129481, -23.036571198324122, 122.93332171607989, -21.95894252036849) \n",
      "\n",
      "Layer ID: loop:warox_points_h5101_28350\n",
      "Title: warox_points_h5101_28350\n",
      "Boundaries: (119.99759970863212, -29.024441457756986, 121.49909525595453, -27.97184671993614) \n",
      "\n",
      "Layer ID: loop:warox_points_h5109_28350\n",
      "Title: warox_points_h5109_28350\n",
      "Boundaries: (790148.125, 6562635.0, 932656.625, 6676426.5) \n",
      "\n",
      "Layer ID: loop:warox_wa_28350\n",
      "Title: warox_wa_28350\n",
      "Boundaries: (114.50933506214079, -34.2374951958586, 130.82478560740057, -13.688079505493821) \n",
      "\n"
     ]
    }
   ],
   "source": [
    "sorted_layer_ids=sorted(wfs11.contents.keys())\n",
    "\n",
    "for layerID in sorted_layer_ids:\n",
    "    layer = wfs11[layerID]\n",
    "    if('warox' in layer.title):\n",
    "        print('Layer ID:', layerID)\n",
    "        print('Title:', layer.title)\n",
    "        print('Boundaries:', layer.boundingBoxWGS84, '\\n')\n"
   ]
  },
  {
   "cell_type": "markdown",
   "metadata": {
    "ExecuteTime": {
     "end_time": "2020-02-27T00:49:48.376708Z",
     "start_time": "2020-02-27T00:49:48.371863Z"
    }
   },
   "source": [
    "http://geo.loop-gis.org/geoserver/loop/ows?SERVICE=WFS&REQUEST=GetCapabilities"
   ]
  },
  {
   "cell_type": "code",
   "execution_count": null,
   "metadata": {},
   "outputs": [],
   "source": []
  }
 ],
 "metadata": {
  "hide_input": false,
  "kernelspec": {
   "display_name": "Python 3",
   "language": "python",
   "name": "python3"
  },
  "language_info": {
   "codemirror_mode": {
    "name": "ipython",
    "version": 3
   },
   "file_extension": ".py",
   "mimetype": "text/x-python",
   "name": "python",
   "nbconvert_exporter": "python",
   "pygments_lexer": "ipython3",
   "version": "3.7.3"
  }
 },
 "nbformat": 4,
 "nbformat_minor": 2
}
