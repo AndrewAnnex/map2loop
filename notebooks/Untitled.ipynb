{
 "cells": [
  {
   "cell_type": "markdown",
   "metadata": {},
   "source": [
    "## 5. loop2leapfrog requirements"
   ]
  },
  {
   "cell_type": "markdown",
   "metadata": {},
   "source": [
    "1 dtm as x,y,z  load geotiff and save out as points  \n",
    "2 contacts as polylines (not points) by gp/fm  load basal contacts asnd save out per formation/series  \n",
    "3 orientations by gp/fm  load orinetations and save out per formation/series  \n",
    "4 faults as polylines one for each fault, fault-fault and fault-gp/fm relationships  load faults and save out one per fault  \n"
   ]
  },
  {
   "cell_type": "code",
   "execution_count": null,
   "metadata": {},
   "outputs": [],
   "source": []
  }
 ],
 "metadata": {
  "hide_input": false,
  "kernelspec": {
   "display_name": "Python 3",
   "language": "python",
   "name": "python3"
  },
  "language_info": {
   "codemirror_mode": {
    "name": "ipython",
    "version": 3
   },
   "file_extension": ".py",
   "mimetype": "text/x-python",
   "name": "python",
   "nbconvert_exporter": "python",
   "pygments_lexer": "ipython3",
   "version": "3.7.3"
  }
 },
 "nbformat": 4,
 "nbformat_minor": 2
}
