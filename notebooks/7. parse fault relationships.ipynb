{
 "cells": [
  {
   "cell_type": "markdown",
   "metadata": {},
   "source": [
    "# map2loop:  Extracting fault-fault and fault-strat relationship tables from map2model output"
   ]
  },
  {
   "cell_type": "code",
   "execution_count": 1,
   "metadata": {},
   "outputs": [
    {
     "name": "stdout",
     "output_type": "stream",
     "text": [
      "C:\\Users\\00073294\\Dropbox\\1_Jupyter_notebooks\\map2loop\\notebooks\n"
     ]
    }
   ],
   "source": [
    "import os\n",
    "import numpy as np\n",
    "import pandas as pd\n",
    "#os.chdir('../')\n",
    "\n",
    "print(os.getcwd())"
   ]
  },
  {
   "cell_type": "code",
   "execution_count": 2,
   "metadata": {
    "scrolled": false
   },
   "outputs": [],
   "source": [
    "uf=open('../test_data2/graph/output/unit-fault-intersection.txt','r')\n",
    "contents =uf.readlines()\n",
    "uf.close()\n",
    "\n",
    "all_faults={}\n",
    "unique_list = [] \n",
    "\n",
    "for row in contents:\n",
    "    row=row.replace(\"\\n\",\"\").split(\"{\")\n",
    "    unit=row[0].split(',')\n",
    "    faults=row[1].replace(\"}\",\"\").replace(\" \",\"\").split(\",\")\n",
    "\n",
    "    for f in faults:\n",
    "        if f not in unique_list: \n",
    "            unique_list.append(f) \n",
    "\n",
    "uf=open('../test_data2/output/unit-fault-relationships.csv','w')\n",
    "uf.write('code,'+str(unique_list).replace(\"[\",\"\").replace(\"'\",\"\").replace(\"]\",\"\").replace(\" \",\"\")+'\\n')\n",
    "for row in contents:\n",
    "    row=row.replace(\"\\n\",\"\").split(\"{\")\n",
    "    unit=row[0].split(',')\n",
    "    faults=row[1].replace(\"}\",\"\").replace(\" \",\"\").split(\",\")\n",
    "    ostr=str(unit[1]).replace(\" \",\"\")\n",
    "    for ul in unique_list:\n",
    "        out=[item for item in faults if ul in item]\n",
    "        if(len(out)>0):\n",
    "            ostr=ostr+\",1\"\n",
    "        else:\n",
    "            ostr=ostr+\",0\" \n",
    "    uf.write(ostr+\"\\n\")\n",
    "uf.close()\n",
    "\n"
   ]
  },
  {
   "cell_type": "code",
   "execution_count": 3,
   "metadata": {},
   "outputs": [
    {
     "name": "stdout",
     "output_type": "stream",
     "text": [
      "(6, 105)\n"
     ]
    },
    {
     "data": {
      "text/plain": [
       "array([['A-FO-od', 1, 1, ..., 0, 0, 0],\n",
       "       ['A-FO-xo-a', 0, 0, ..., 0, 0, 0],\n",
       "       ['A-FOh-xs-f', 0, 0, ..., 0, 0, 0],\n",
       "       ...,\n",
       "       ['P_-WYa-st', 0, 0, ..., 0, 0, 0],\n",
       "       ['P_-WYd-kd', 0, 0, ..., 0, 0, 0],\n",
       "       ['P_-WYm-sp', 0, 0, ..., 0, 0, 0]], dtype=object)"
      ]
     },
     "metadata": {},
     "output_type": "display_data"
    }
   ],
   "source": [
    "summary=pd.read_csv('../test_data2/tmp/hams2_all_sorts.csv')\n",
    "summary.set_index(\"code\", inplace=True)\n",
    "\n",
    "uf_rel=pd.read_csv('../test_data2/output/unit-fault-relationships.csv')\n",
    "\n",
    "f=open('../test_data2/tmp/hams2_groups.csv',\"r\")\n",
    "groups =f.readlines()\n",
    "f.close\n",
    "ngroups=groups[0].split(\" \")\n",
    "ngroups=int(ngroups[1])\n",
    "\n",
    "\n",
    "uf_array=uf_rel.to_numpy()\n",
    "gf_array=np.zeros((ngroups,uf_array.shape[1]),dtype='U25')\n",
    "print(gf_array.shape)\n",
    "display(uf_array)"
   ]
  },
  {
   "cell_type": "code",
   "execution_count": 4,
   "metadata": {},
   "outputs": [],
   "source": [
    "#print(summary.index.values)\n",
    "for i in range(1,ngroups+1):\n",
    "    #print(\"---------\",groups[i].replace(\"\\n\",\"\"))\n",
    "    for j in range(0,len(uf_rel)):\n",
    "        #print(\"uf_rel\",uf_rel.iloc[j][0])\n",
    "        if(uf_rel.iloc[j][0] in summary.index.values):\n",
    "            gsummary=summary.loc[uf_rel.iloc[j][0]]\n",
    "            #print(\"sum gp\",gsummary['group'])\n",
    "            if(groups[i].replace(\"\\n\",\"\")==gsummary['group']):\n",
    "                #print(\"yes group\", groups[i].replace(\"\\n\",\"\"),gsummary['group'])\n",
    "                for k in range(1,len(uf_rel.iloc[j])):\n",
    "                    if(uf_rel.iloc[j][k]==1):\n",
    "                        gf_array[i-1,k]='1'\n",
    "                        #print(contents[i].replace(\"\\n\",\"\"),au,uf_rel.columns[k],uf_rel.iloc[j][k])\n",
    "                    else:\n",
    "                        continue\n",
    "                        #print(contents[i].replace(\"\\n\",\"\"),au,uf_rel.columns[k],'nope')\n",
    "            else:\n",
    "                continue\n",
    "                #print(\"not group\", groups[i].replace(\"\\n\",\"\"),gsummary['group'])\n",
    "        else:\n",
    "            continue\n",
    "            #print(\"not found\",uf_rel.iloc[j][0])\n",
    "#display(gf_array)"
   ]
  },
  {
   "cell_type": "code",
   "execution_count": 5,
   "metadata": {},
   "outputs": [],
   "source": [
    "ug=open('../test_data2/output/group-fault-relationships.csv','w')\n",
    "ug.write('group')\n",
    "for k in range(1,len(uf_rel.iloc[0])):\n",
    "    ug.write(','+uf_rel.columns[k])\n",
    "ug.write(\"\\n\")\n",
    "for i in range(1,ngroups+1):\n",
    "    ug.write(groups[i].replace(\"\\n\",\"\"))\n",
    "    for k in range(1,len(uf_rel.iloc[0])):\n",
    "        if(gf_array[i-1,k]=='1'):\n",
    "            ug.write(',1')\n",
    "        else:\n",
    "            ug.write(',0')\n",
    "    ug.write(\"\\n\")\n",
    "\n",
    "ug.close()\n",
    "                   "
   ]
  },
  {
   "cell_type": "code",
   "execution_count": 6,
   "metadata": {},
   "outputs": [],
   "source": [
    "uf=open('../test_data2/graph/output/fault-fault-intersection.txt','r')\n",
    "contents =uf.readlines()\n",
    "uf.close()\n",
    "\n",
    "unique_list = [] \n",
    "\n",
    "for row in contents:\n",
    "    row=row.replace(\"\\n\",\"\").split(\"{\")\n",
    "    fault_1o=row[0].split(',')\n",
    "    fault_1o=fault_1o[1]\n",
    "    faults_2o=row[1].replace(\"(\",\"\").replace(\")\",\"\").replace(\"}\",\"\").split(\",\")\n",
    "\n",
    "    if fault_1o.replace(\" \",\"\") not in unique_list: \n",
    "            unique_list.append(fault_1o.replace(\" \",\"\")) \n",
    "    for i in range (0,len(faults_2o),3):\n",
    "        if faults_2o[i].replace(\" \",\"\") not in unique_list: \n",
    "                unique_list.append(faults_2o[i].replace(\" \",\"\")) \n",
    "#display(unique_list) \n",
    "\n",
    "ff=open('../test_data2/output/fault-fault-relationships.csv','w')\n",
    "ff.write('fault_id')\n",
    "for i in range (0,len(unique_list)):\n",
    "    ff.write(','+unique_list[i])\n",
    "ff.write('\\n')\n",
    "\n",
    "for i in range(0,len(unique_list)): #loop thorugh rows\n",
    "    ff.write(unique_list[i]) \n",
    "    found=False\n",
    "    #for j in range(0,len(unique_list)):\n",
    "    for row in contents: #loop thorugh known intersections\n",
    "        row=row.replace(\"\\n\",\"\").split(\"{\")\n",
    "        fault_1o=row[0].split(',')\n",
    "        fault_1o=fault_1o[1]\n",
    "        faults_2o=row[1].replace(\"(\",\"\").replace(\")\",\"\").replace(\"}\",\"\").split(\",\")\n",
    "\n",
    "        if(unique_list[i].replace(\" \",\"\")==fault_1o.replace(\" \",\"\")): #correct first order fault for this row\n",
    "            found=True\n",
    "            for k in range(0,len(unique_list)): #loop through columns\n",
    "                found2=False\n",
    "                if(k==i): # no self intersections\n",
    "                    ff.write(',0')\n",
    "                else:\n",
    "                    for f2o in range (0,len(faults_2o),3): #loop through second order faults for this row\n",
    "                        if (faults_2o[f2o].replace(\" \",\"\")==unique_list[k].replace(\" \",\"\")):\n",
    "                            ff.write(',1')\n",
    "                            found2=True\n",
    "                            break\n",
    "\n",
    "                if(not found2 and k!=i):\n",
    "                    ff.write(',0') #this is not a second order fault for this row\n",
    "        if(found):\n",
    "            break\n",
    "    if(not found): #this fault is not a first order fault relative to another fault\n",
    "        for i in range (0,len(unique_list)):\n",
    "            ff.write(',0')\n",
    "        \n",
    "    ff.write('\\n')\n",
    "\n",
    "ff.close()"
   ]
  },
  {
   "cell_type": "raw",
   "metadata": {},
   "source": []
  },
  {
   "cell_type": "code",
   "execution_count": null,
   "metadata": {},
   "outputs": [],
   "source": []
  }
 ],
 "metadata": {
  "kernelspec": {
   "display_name": "Python 3",
   "language": "python",
   "name": "python3"
  },
  "language_info": {
   "codemirror_mode": {
    "name": "ipython",
    "version": 3
   },
   "file_extension": ".py",
   "mimetype": "text/x-python",
   "name": "python",
   "nbconvert_exporter": "python",
   "pygments_lexer": "ipython3",
   "version": "3.7.3"
  }
 },
 "nbformat": 4,
 "nbformat_minor": 2
}
