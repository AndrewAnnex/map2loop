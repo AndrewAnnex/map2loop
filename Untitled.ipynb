{
 "cells": [
  {
   "cell_type": "code",
   "execution_count": 1,
   "metadata": {},
   "outputs": [],
   "source": [
    "import pandas as pd\n",
    "from FME.interpolators.piecewiselinear_interpolator import PiecewiseLinearInterpolator as PLI\n",
    "from FME.supports.tet_mesh import TetMesh\n",
    "from FME.modelling.features.geological_feature import GeologicalFeatureInterpolator\n",
    "from FME.visualisation.model_visualisation import LavaVuModelViewer\n",
    "# other necessary libraries\n",
    "import numpy as np\n",
    "import lavavu\n",
    "import os\n",
    "rootdir=r'/home/lgrose/Repositories/map2model/'\n",
    "os.chdir(rootdir)"
   ]
  },
  {
   "cell_type": "code",
   "execution_count": 2,
   "metadata": {},
   "outputs": [],
   "source": [
    "orientations = pd.read_csv(\"/home/lgrose/Repositories/map2model/hams2/gempy/hams2_orientations2.txt\",delimiter=',')\n",
    "contacts = pd.read_csv(\"/home/lgrose/Repositories/map2model/hams2/gempy/hams2_contacts2.txt\",delimiter=',')"
   ]
  },
  {
   "cell_type": "code",
   "execution_count": 3,
   "metadata": {},
   "outputs": [],
   "source": [
    "boundary_points = np.zeros((2,3))\n",
    "minx=500057    #left hams\n",
    "maxx=603028    #right\n",
    "miny=7455348   #bottom\n",
    "maxy=7567953   #top\n",
    "    \n",
    "boundary_points[0,0] = minx-5000\n",
    "boundary_points[0,1] = miny-5000\n",
    "boundary_points[0,2] = -10000\n",
    "boundary_points[1,0] = maxx+5000\n",
    "boundary_points[1,1] = maxy+5000\n",
    "boundary_points[1,2] = 12000"
   ]
  },
  {
   "cell_type": "code",
   "execution_count": 4,
   "metadata": {},
   "outputs": [],
   "source": [
    "mesh = TetMesh()\n",
    "mesh.setup_mesh(boundary_points, n_tetra=40000,)"
   ]
  },
  {
   "cell_type": "code",
   "execution_count": 5,
   "metadata": {},
   "outputs": [],
   "source": [
    "points1 = contacts[contacts['formation']=='A-HAm-cib']\n",
    "points2 = contacts[contacts['formation']=='A-HAd-kd']\n",
    "ori = orientations[orientations['formation']=='A-HAm-cib']"
   ]
  },
  {
   "cell_type": "code",
   "execution_count": 6,
   "metadata": {},
   "outputs": [
    {
     "name": "stdout",
     "output_type": "stream",
     "text": [
      "<FME.supports.tet_mesh.TetMesh object at 0x7f3e0d5a2ef0>\n"
     ]
    }
   ],
   "source": [
    "interpolator = PLI(mesh)\n",
    "stratigraphy_builder = GeologicalFeatureInterpolator(\n",
    "    interpolator=interpolator,\n",
    "    name='stratigraphy')\n",
    "solver = 'lu'\n",
    "for i, r in points1.iterrows():\n",
    "    stratigraphy_builder.add_point([r['X'],r['Y'],r['Z']],0)#xy[0][0],xy[1][0],z],r['value'],itype=r['itype'])\n",
    "# for i, r in points2.iterrows():\n",
    "#     stratigraphy_builder.add_point([r['X'],r['Y'],r['Z']],1)#xy[0][0],xy[1][0],z],r['value'],itype=r['itype'])\n",
    "#     stratigraphy_builder.add_point([r['X'],r['Y'],r['Z']-1000],1)#xy[0][0],xy[1][0],z],r['value'],itype=r['itype'])\n",
    "\n",
    "# for i, r in sections.iterrows():\n",
    "#     stratigraphy_builder.add_point([r['X'],r['Y'],r['Z']],r['Strati'])#xy[0][0],xy[1][0],z],r['value'],itype=r['itype'])\n",
    "for i, r in ori.iterrows():\n",
    "    stratigraphy_builder.add_strike_and_dip([r['X'],r['Y'],r['Z']],r['azimuth']-90,r['dip'])\n",
    "# stratigraphy_builder.add_point([6.1,0.1,1.1],0.)\n",
    "# stratigraphy_builder.add_point([6.1,0.1,2.1],1.)\n",
    "# stratigraphy_builder.add_strike_and_dip([1,1,1],90.,0.)\n",
    "# unique = np.unique(stratigraphy_builder.interpolator.get_control_points()[:,3])\n",
    "z = np.array([0,0,1])\n",
    "stratigraphy_builder.interpolator.add_gradient_orthogonal_constraint(np.arange(0,mesh.n_elements),\n",
    "                                                                    z[None,:],\n",
    "                                                                    w=1)"
   ]
  },
  {
   "cell_type": "code",
   "execution_count": 7,
   "metadata": {},
   "outputs": [],
   "source": [
    "stratigraphy = stratigraphy_builder.build(solver=solver,cgw=0.1,gpw=1)\n"
   ]
  },
  {
   "cell_type": "code",
   "execution_count": 8,
   "metadata": {},
   "outputs": [
    {
     "name": "stdout",
     "output_type": "stream",
     "text": [
      "[-0.94932229 -0.61721568  0.29369445 ...  1.16678054 -0.35690696\n",
      "  0.01171568]\n"
     ]
    }
   ],
   "source": [
    "print(stratigraphy.support.get_node_values())"
   ]
  },
  {
   "cell_type": "raw",
   "metadata": {},
   "source": [
    "viewer = LavaVuModelViewer(background=\"white\")\n",
    "viewer.plot_isosurface(stratigraphy,  colour='blue')\n",
    "# viewer.plot_value_data(stratigraphy.support.interpolator.get_control_points()[:,:3],\n",
    "#                        stratigraphy.support.interpolator.get_control_points()[:,3],\n",
    "#                        'val')\n",
    "# viewer.plot_isosurface(stratigraphy, slices=[30,125,300], colour='red')\n",
    "viewer.plot_vector_data(\n",
    "    stratigraphy.support.interpolator.get_gradient_control()[:,:3],\n",
    "    stratigraphy.support.interpolator.get_gradient_control()[:,3:],\n",
    "    'grad')\n",
    "\n",
    "viewer.interactive()"
   ]
  },
  {
   "cell_type": "code",
   "execution_count": 9,
   "metadata": {},
   "outputs": [
    {
     "data": {
      "text/plain": [
       "(array([1., 0., 0., 1., 2., 0., 1., 5., 1., 2.]),\n",
       " array([-0.61649383, -0.53502736, -0.4535609 , -0.37209444, -0.29062797,\n",
       "        -0.20916151, -0.12769504, -0.04622858,  0.03523789,  0.11670435,\n",
       "         0.19817082]),\n",
       " <a list of 10 Patch objects>)"
      ]
     },
     "execution_count": 9,
     "metadata": {},
     "output_type": "execute_result"
    },
    {
     "data": {
      "image/png": "[encoded data removed]",
      "text/plain": [
       "<Figure size 432x288 with 1 Axes>"
      ]
     },
     "metadata": {
      "needs_background": "light"
     },
     "output_type": "display_data"
    }
   ],
   "source": [
    "import matplotlib.pyplot as plt\n",
    "%matplotlib inline\n",
    "plt.hist(stratigraphy.support.interpolator.get_gradient_control()[:,3])"
   ]
  },
  {
   "cell_type": "code",
   "execution_count": 11,
   "metadata": {},
   "outputs": [],
   "source": [
    "import pyvista as pv"
   ]
  },
  {
   "cell_type": "code",
   "execution_count": 20,
   "metadata": {},
   "outputs": [
    {
     "name": "stdout",
     "output_type": "stream",
     "text": [
      "UnstructuredGrid (0x7f3ddc7b9fa8)\n",
      "  N Cells:\t44614\n",
      "  N Points:\t9746\n",
      "  X Bounds:\t4.951e+05, 6.080e+05\n",
      "  Y Bounds:\t7.450e+06, 7.573e+06\n",
      "  Z Bounds:\t-1.000e+04, 1.200e+04\n",
      "  N Arrays:\t0\n",
      "\n"
     ]
    }
   ],
   "source": [
    "grid = pv.UnstructuredGrid('Test.vtk')\n",
    "print(grid)"
   ]
  },
  {
   "cell_type": "code",
   "execution_count": 21,
   "metadata": {},
   "outputs": [],
   "source": [
    "grid.property = mesh.properties['stratigraphy']"
   ]
  },
  {
   "cell_type": "code",
   "execution_count": 23,
   "metadata": {},
   "outputs": [
    {
     "data": {
      "image/png": "[encoded data removed]",
      "text/plain": [
       "<PIL.Image.Image image mode=RGB size=1024x768 at 0x7F3DDBFDC358>"
      ]
     },
     "metadata": {},
     "output_type": "display_data"
    }
   ],
   "source": [
    "grid.plot()"
   ]
  },
  {
   "cell_type": "code",
   "execution_count": null,
   "metadata": {},
   "outputs": [],
   "source": []
  }
 ],
 "metadata": {
  "kernelspec": {
   "display_name": "Python 3",
   "language": "python",
   "name": "python3"
  },
  "language_info": {
   "codemirror_mode": {
    "name": "ipython",
    "version": 3
   },
   "file_extension": ".py",
   "mimetype": "text/x-python",
   "name": "python",
   "nbconvert_exporter": "python",
   "pygments_lexer": "ipython3",
   "version": "3.6.8"
  }
 },
 "nbformat": 4,
 "nbformat_minor": 2
}
